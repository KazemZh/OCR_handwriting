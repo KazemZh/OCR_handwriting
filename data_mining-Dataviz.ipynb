{
 "cells": [
  {
   "cell_type": "markdown",
   "metadata": {},
   "source": [
    "# Import packages"
   ]
  },
  {
   "cell_type": "code",
   "execution_count": 35,
   "metadata": {},
   "outputs": [],
   "source": [
    "import pandas as pd\n",
    "import numpy as np"
   ]
  },
  {
   "cell_type": "markdown",
   "metadata": {},
   "source": [
    "# Create our DataFrame with Pandas\n",
    "\n",
    "we read the data from the text file (lines.txt) and create a Pandas DataFrame called df, providing the column names as indicated at the top of the file."
   ]
  },
  {
   "cell_type": "code",
   "execution_count": 1,
   "metadata": {},
   "outputs": [
    {
     "data": {
      "text/html": [
       "<div>\n",
       "<style scoped>\n",
       "    .dataframe tbody tr th:only-of-type {\n",
       "        vertical-align: middle;\n",
       "    }\n",
       "\n",
       "    .dataframe tbody tr th {\n",
       "        vertical-align: top;\n",
       "    }\n",
       "\n",
       "    .dataframe thead th {\n",
       "        text-align: right;\n",
       "    }\n",
       "</style>\n",
       "<table border=\"1\" class=\"dataframe\">\n",
       "  <thead>\n",
       "    <tr style=\"text-align: right;\">\n",
       "      <th></th>\n",
       "      <th>line_id</th>\n",
       "      <th>result</th>\n",
       "      <th>graylevel</th>\n",
       "      <th>components</th>\n",
       "      <th>x</th>\n",
       "      <th>y</th>\n",
       "      <th>w</th>\n",
       "      <th>h</th>\n",
       "      <th>transcription</th>\n",
       "    </tr>\n",
       "  </thead>\n",
       "  <tbody>\n",
       "    <tr>\n",
       "      <th>0</th>\n",
       "      <td>a01-000u-00</td>\n",
       "      <td>ok</td>\n",
       "      <td>154</td>\n",
       "      <td>19</td>\n",
       "      <td>408</td>\n",
       "      <td>746</td>\n",
       "      <td>1661</td>\n",
       "      <td>89</td>\n",
       "      <td>A|MOVE|to|stop|Mr.|Gaitskell|from</td>\n",
       "    </tr>\n",
       "    <tr>\n",
       "      <th>1</th>\n",
       "      <td>a01-000u-01</td>\n",
       "      <td>ok</td>\n",
       "      <td>156</td>\n",
       "      <td>19</td>\n",
       "      <td>395</td>\n",
       "      <td>932</td>\n",
       "      <td>1850</td>\n",
       "      <td>105</td>\n",
       "      <td>nominating|any|more|Labour|life|Peers</td>\n",
       "    </tr>\n",
       "    <tr>\n",
       "      <th>2</th>\n",
       "      <td>a01-000u-02</td>\n",
       "      <td>ok</td>\n",
       "      <td>157</td>\n",
       "      <td>16</td>\n",
       "      <td>408</td>\n",
       "      <td>1106</td>\n",
       "      <td>1986</td>\n",
       "      <td>105</td>\n",
       "      <td>is|to|be|made|at|a|meeting|of|Labour</td>\n",
       "    </tr>\n",
       "    <tr>\n",
       "      <th>3</th>\n",
       "      <td>a01-000u-03</td>\n",
       "      <td>err</td>\n",
       "      <td>156</td>\n",
       "      <td>23</td>\n",
       "      <td>430</td>\n",
       "      <td>1290</td>\n",
       "      <td>1883</td>\n",
       "      <td>70</td>\n",
       "      <td>M Ps|tomorrow|.|Mr.|Michael|Foot|has</td>\n",
       "    </tr>\n",
       "    <tr>\n",
       "      <th>4</th>\n",
       "      <td>a01-000u-04</td>\n",
       "      <td>ok</td>\n",
       "      <td>157</td>\n",
       "      <td>20</td>\n",
       "      <td>395</td>\n",
       "      <td>1474</td>\n",
       "      <td>1830</td>\n",
       "      <td>94</td>\n",
       "      <td>put|down|a|resolution|on|the|subject</td>\n",
       "    </tr>\n",
       "  </tbody>\n",
       "</table>\n",
       "</div>"
      ],
      "text/plain": [
       "       line_id result graylevel components    x     y     w    h  \\\n",
       "0  a01-000u-00     ok       154         19  408   746  1661   89   \n",
       "1  a01-000u-01     ok       156         19  395   932  1850  105   \n",
       "2  a01-000u-02     ok       157         16  408  1106  1986  105   \n",
       "3  a01-000u-03    err       156         23  430  1290  1883   70   \n",
       "4  a01-000u-04     ok       157         20  395  1474  1830   94   \n",
       "\n",
       "                           transcription  \n",
       "0      A|MOVE|to|stop|Mr.|Gaitskell|from  \n",
       "1  nominating|any|more|Labour|life|Peers  \n",
       "2   is|to|be|made|at|a|meeting|of|Labour  \n",
       "3   M Ps|tomorrow|.|Mr.|Michael|Foot|has  \n",
       "4   put|down|a|resolution|on|the|subject  "
      ]
     },
     "execution_count": 1,
     "metadata": {},
     "output_type": "execute_result"
    }
   ],
   "source": [
    "data = []\n",
    "with open('lines.txt', 'r') as file:\n",
    "    for line in file:\n",
    "        if line.startswith('#'):\n",
    "            continue  # Skip header lines\n",
    "        parts = line.strip().split()\n",
    "        # Extract the fixed part and the transcription part\n",
    "        fixed_part = parts[:8]\n",
    "        transcription_part = ' '.join(parts[8:])\n",
    "        data.append(fixed_part + [transcription_part])\n",
    "\n",
    "# Create DataFrame\n",
    "df = pd.DataFrame(data, columns=['line_id', 'result', 'graylevel', 'components', 'x', 'y', 'w', 'h', 'transcription'])\n",
    "df.head()\n",
    "\n",
    "\n"
   ]
  },
  {
   "cell_type": "code",
   "execution_count": null,
   "metadata": {},
   "outputs": [],
   "source": []
  }
 ],
 "metadata": {
  "kernelspec": {
   "display_name": "Python 3",
   "language": "python",
   "name": "python3"
  },
  "language_info": {
   "codemirror_mode": {
    "name": "ipython",
    "version": 3
   },
   "file_extension": ".py",
   "mimetype": "text/x-python",
   "name": "python",
   "nbconvert_exporter": "python",
   "pygments_lexer": "ipython3",
   "version": "3.12.1"
  }
 },
 "nbformat": 4,
 "nbformat_minor": 2
}
