{
 "cells": [
  {
   "cell_type": "markdown",
   "metadata": {},
   "source": [
    "The scheme to implement a model with keras:\n",
    "\n",
    "* Architecture of the model\n",
    "* Compiling the model\n",
    "* Training of the model Diagnosis of the training\n",
    "* Evaluation of predictions"
   ]
  },
  {
   "cell_type": "code",
   "execution_count": 1,
   "metadata": {},
   "outputs": [
    {
     "name": "stderr",
     "output_type": "stream",
     "text": [
      "2024-10-14 00:32:01.042115: I tensorflow/core/util/port.cc:153] oneDNN custom operations are on. You may see slightly different numerical results due to floating-point round-off errors from different computation orders. To turn them off, set the environment variable `TF_ENABLE_ONEDNN_OPTS=0`.\n",
      "2024-10-14 00:32:01.044893: I external/local_xla/xla/tsl/cuda/cudart_stub.cc:32] Could not find cuda drivers on your machine, GPU will not be used.\n",
      "2024-10-14 00:32:01.061984: I external/local_xla/xla/tsl/cuda/cudart_stub.cc:32] Could not find cuda drivers on your machine, GPU will not be used.\n",
      "2024-10-14 00:32:01.078265: E external/local_xla/xla/stream_executor/cuda/cuda_fft.cc:485] Unable to register cuFFT factory: Attempting to register factory for plugin cuFFT when one has already been registered\n",
      "2024-10-14 00:32:01.103334: E external/local_xla/xla/stream_executor/cuda/cuda_dnn.cc:8454] Unable to register cuDNN factory: Attempting to register factory for plugin cuDNN when one has already been registered\n",
      "2024-10-14 00:32:01.109055: E external/local_xla/xla/stream_executor/cuda/cuda_blas.cc:1452] Unable to register cuBLAS factory: Attempting to register factory for plugin cuBLAS when one has already been registered\n",
      "2024-10-14 00:32:01.126749: I tensorflow/core/platform/cpu_feature_guard.cc:210] This TensorFlow binary is optimized to use available CPU instructions in performance-critical operations.\n",
      "To enable the following instructions: AVX2 AVX_VNNI FMA, in other operations, rebuild TensorFlow with the appropriate compiler flags.\n",
      "2024-10-14 00:32:03.780670: W tensorflow/compiler/tf2tensorrt/utils/py_utils.cc:38] TF-TRT Warning: Could not find TensorRT\n"
     ]
    }
   ],
   "source": [
    "import pandas as pd\n",
    "import numpy as np\n",
    "import cv2\n",
    "from tensorflow.keras.layers import Input, Dense, Dropout, Flatten, Conv2D, MaxPooling2D\n",
    "from tensorflow.keras.models import Model\n",
    "from tensorflow.keras.utils import to_categorical\n",
    "from tensorflow.keras.callbacks import EarlyStopping, ModelCheckpoint\n",
    "from tensorflow.keras.preprocessing.image import ImageDataGenerator\n",
    "from tensorflow.keras.layers import BatchNormalization\n",
    "from sklearn.model_selection import train_test_split\n",
    "from sklearn.preprocessing import LabelEncoder\n",
    "from sklearn import metrics\n",
    "from sklearn.utils.class_weight import compute_class_weight\n",
    "import matplotlib.pyplot as plt\n",
    "from PIL import Image\n",
    "from tqdm import tqdm\n",
    "import os\n",
    "import matplotlib.cm as cm\n",
    "%matplotlib inline"
   ]
  },
  {
   "cell_type": "markdown",
   "metadata": {},
   "source": [
    "* loading and preprocessing the dataset"
   ]
  },
  {
   "cell_type": "code",
   "execution_count": 2,
   "metadata": {},
   "outputs": [
    {
     "name": "stderr",
     "output_type": "stream",
     "text": [
      "100%|██████████| 115338/115338 [00:03<00:00, 32140.58it/s]\n"
     ]
    },
    {
     "name": "stdout",
     "output_type": "stream",
     "text": [
      "inexistent_or_corrupted 2\n"
     ]
    },
    {
     "data": {
      "text/html": [
       "<div>\n",
       "<style scoped>\n",
       "    .dataframe tbody tr th:only-of-type {\n",
       "        vertical-align: middle;\n",
       "    }\n",
       "\n",
       "    .dataframe tbody tr th {\n",
       "        vertical-align: top;\n",
       "    }\n",
       "\n",
       "    .dataframe thead th {\n",
       "        text-align: right;\n",
       "    }\n",
       "</style>\n",
       "<table border=\"1\" class=\"dataframe\">\n",
       "  <thead>\n",
       "    <tr style=\"text-align: right;\">\n",
       "      <th></th>\n",
       "      <th>line_id</th>\n",
       "      <th>result</th>\n",
       "      <th>graylevel</th>\n",
       "      <th>x</th>\n",
       "      <th>y</th>\n",
       "      <th>w</th>\n",
       "      <th>h</th>\n",
       "      <th>annotation</th>\n",
       "      <th>transcription</th>\n",
       "      <th>image_path</th>\n",
       "    </tr>\n",
       "  </thead>\n",
       "  <tbody>\n",
       "    <tr>\n",
       "      <th>0</th>\n",
       "      <td>a01-000u-00-00</td>\n",
       "      <td>ok</td>\n",
       "      <td>154</td>\n",
       "      <td>408</td>\n",
       "      <td>768</td>\n",
       "      <td>27</td>\n",
       "      <td>51</td>\n",
       "      <td>AT</td>\n",
       "      <td>A</td>\n",
       "      <td>../../../IAM_Words/words/a01/a01-000u/a01-000u...</td>\n",
       "    </tr>\n",
       "    <tr>\n",
       "      <th>1</th>\n",
       "      <td>a01-000u-00-01</td>\n",
       "      <td>ok</td>\n",
       "      <td>154</td>\n",
       "      <td>507</td>\n",
       "      <td>766</td>\n",
       "      <td>213</td>\n",
       "      <td>48</td>\n",
       "      <td>NN</td>\n",
       "      <td>MOVE</td>\n",
       "      <td>../../../IAM_Words/words/a01/a01-000u/a01-000u...</td>\n",
       "    </tr>\n",
       "    <tr>\n",
       "      <th>2</th>\n",
       "      <td>a01-000u-00-02</td>\n",
       "      <td>ok</td>\n",
       "      <td>154</td>\n",
       "      <td>796</td>\n",
       "      <td>764</td>\n",
       "      <td>70</td>\n",
       "      <td>50</td>\n",
       "      <td>TO</td>\n",
       "      <td>to</td>\n",
       "      <td>../../../IAM_Words/words/a01/a01-000u/a01-000u...</td>\n",
       "    </tr>\n",
       "    <tr>\n",
       "      <th>3</th>\n",
       "      <td>a01-000u-00-03</td>\n",
       "      <td>ok</td>\n",
       "      <td>154</td>\n",
       "      <td>919</td>\n",
       "      <td>757</td>\n",
       "      <td>166</td>\n",
       "      <td>78</td>\n",
       "      <td>VB</td>\n",
       "      <td>stop</td>\n",
       "      <td>../../../IAM_Words/words/a01/a01-000u/a01-000u...</td>\n",
       "    </tr>\n",
       "    <tr>\n",
       "      <th>4</th>\n",
       "      <td>a01-000u-00-04</td>\n",
       "      <td>ok</td>\n",
       "      <td>154</td>\n",
       "      <td>1185</td>\n",
       "      <td>754</td>\n",
       "      <td>126</td>\n",
       "      <td>61</td>\n",
       "      <td>NPT</td>\n",
       "      <td>Mr.</td>\n",
       "      <td>../../../IAM_Words/words/a01/a01-000u/a01-000u...</td>\n",
       "    </tr>\n",
       "  </tbody>\n",
       "</table>\n",
       "</div>"
      ],
      "text/plain": [
       "          line_id result graylevel     x    y    w   h annotation  \\\n",
       "0  a01-000u-00-00     ok       154   408  768   27  51         AT   \n",
       "1  a01-000u-00-01     ok       154   507  766  213  48         NN   \n",
       "2  a01-000u-00-02     ok       154   796  764   70  50         TO   \n",
       "3  a01-000u-00-03     ok       154   919  757  166  78         VB   \n",
       "4  a01-000u-00-04     ok       154  1185  754  126  61        NPT   \n",
       "\n",
       "  transcription                                         image_path  \n",
       "0             A  ../../../IAM_Words/words/a01/a01-000u/a01-000u...  \n",
       "1          MOVE  ../../../IAM_Words/words/a01/a01-000u/a01-000u...  \n",
       "2            to  ../../../IAM_Words/words/a01/a01-000u/a01-000u...  \n",
       "3          stop  ../../../IAM_Words/words/a01/a01-000u/a01-000u...  \n",
       "4           Mr.  ../../../IAM_Words/words/a01/a01-000u/a01-000u...  "
      ]
     },
     "metadata": {},
     "output_type": "display_data"
    }
   ],
   "source": [
    "dataset_path = '../../../IAM_Words/words'  # Update the path as necessary\n",
    "data = []\n",
    "words = open(\"../ascii/words.txt\", \"r\").readlines()\n",
    "inexistent_or_corrupted= 0\n",
    "\n",
    "for line in tqdm(words):\n",
    "    if line.startswith(\"#\"):\n",
    "        continue\n",
    "    parts = line.strip().split()\n",
    "    fixed_part = parts[:8]\n",
    "    transcription_part = ' '.join(parts[8:])\n",
    "\n",
    "    line_split = line.split(\" \")\n",
    "    folder_parts = line_split[0].split('-')\n",
    "    folder1 = folder_parts[0]\n",
    "    folder2 = folder_parts[0] + '-' + folder_parts[1]\n",
    "    file_name = line_split[0] + \".png\"\n",
    "    label = line_split[-1].rstrip('\\n')\n",
    "    rel_path = os.path.join(dataset_path, folder1, folder2, file_name)\n",
    "\n",
    "    if os.path.exists(rel_path) and os.path.getsize(rel_path) > 0:\n",
    "        data.append(fixed_part + [transcription_part, rel_path])\n",
    "    else:\n",
    "        inexistent_or_corrupted += 1\n",
    "\n",
    "print('inexistent_or_corrupted', inexistent_or_corrupted)\n",
    "df = pd.DataFrame(data, columns=['line_id', 'result', 'graylevel', 'x', 'y', 'w', 'h', 'annotation', 'transcription', 'image_path'])\n",
    "display(df.head())"
   ]
  },
  {
   "cell_type": "markdown",
   "metadata": {},
   "source": [
    "* check transcription distribution and remove transcriptions with fewer than 2 samples\n",
    "* add Label Encoding"
   ]
  },
  {
   "cell_type": "code",
   "execution_count": 3,
   "metadata": {},
   "outputs": [
    {
     "name": "stdout",
     "output_type": "stream",
     "text": [
      "Transcription distribution before filtering:\n",
      "transcription\n",
      "the           5826\n",
      ",             5570\n",
      ".             4984\n",
      "of            3192\n",
      "to            2651\n",
      "              ... \n",
      "dimensions       1\n",
      "painting         1\n",
      "cutters          1\n",
      "Parana           1\n",
      "hullo            1\n",
      "Name: count, Length: 13550, dtype: int64\n",
      "Transcription distribution after filtering:\n",
      "transcription\n",
      "the          5826\n",
      ",            5570\n",
      ".            4984\n",
      "of           3192\n",
      "to           2651\n",
      "             ... \n",
      "specified       2\n",
      "palm            2\n",
      "smoothing       2\n",
      "gate            2\n",
      "doorman         2\n",
      "Name: count, Length: 6360, dtype: int64\n",
      "<class 'pandas.core.frame.DataFrame'>\n",
      "RangeIndex: 108128 entries, 0 to 108127\n",
      "Data columns (total 11 columns):\n",
      " #   Column                 Non-Null Count   Dtype \n",
      "---  ------                 --------------   ----- \n",
      " 0   line_id                108128 non-null  object\n",
      " 1   result                 108128 non-null  object\n",
      " 2   graylevel              108128 non-null  object\n",
      " 3   x                      108128 non-null  object\n",
      " 4   y                      108128 non-null  object\n",
      " 5   w                      108128 non-null  object\n",
      " 6   h                      108128 non-null  object\n",
      " 7   annotation             108128 non-null  object\n",
      " 8   transcription          108128 non-null  object\n",
      " 9   image_path             108128 non-null  object\n",
      " 10  transcription_encoded  108128 non-null  int64 \n",
      "dtypes: int64(1), object(10)\n",
      "memory usage: 9.1+ MB\n"
     ]
    },
    {
     "data": {
      "text/plain": [
       "None"
      ]
     },
     "metadata": {},
     "output_type": "display_data"
    },
    {
     "data": {
      "text/html": [
       "<div>\n",
       "<style scoped>\n",
       "    .dataframe tbody tr th:only-of-type {\n",
       "        vertical-align: middle;\n",
       "    }\n",
       "\n",
       "    .dataframe tbody tr th {\n",
       "        vertical-align: top;\n",
       "    }\n",
       "\n",
       "    .dataframe thead th {\n",
       "        text-align: right;\n",
       "    }\n",
       "</style>\n",
       "<table border=\"1\" class=\"dataframe\">\n",
       "  <thead>\n",
       "    <tr style=\"text-align: right;\">\n",
       "      <th></th>\n",
       "      <th>line_id</th>\n",
       "      <th>result</th>\n",
       "      <th>graylevel</th>\n",
       "      <th>x</th>\n",
       "      <th>y</th>\n",
       "      <th>w</th>\n",
       "      <th>h</th>\n",
       "      <th>annotation</th>\n",
       "      <th>transcription</th>\n",
       "      <th>image_path</th>\n",
       "      <th>transcription_encoded</th>\n",
       "    </tr>\n",
       "  </thead>\n",
       "  <tbody>\n",
       "    <tr>\n",
       "      <th>0</th>\n",
       "      <td>a01-000u-00-00</td>\n",
       "      <td>ok</td>\n",
       "      <td>154</td>\n",
       "      <td>408</td>\n",
       "      <td>768</td>\n",
       "      <td>27</td>\n",
       "      <td>51</td>\n",
       "      <td>AT</td>\n",
       "      <td>A</td>\n",
       "      <td>../../../IAM_Words/words/a01/a01-000u/a01-000u...</td>\n",
       "      <td>116</td>\n",
       "    </tr>\n",
       "    <tr>\n",
       "      <th>1</th>\n",
       "      <td>a01-000u-00-01</td>\n",
       "      <td>ok</td>\n",
       "      <td>154</td>\n",
       "      <td>507</td>\n",
       "      <td>766</td>\n",
       "      <td>213</td>\n",
       "      <td>48</td>\n",
       "      <td>NN</td>\n",
       "      <td>MOVE</td>\n",
       "      <td>../../../IAM_Words/words/a01/a01-000u/a01-000u...</td>\n",
       "      <td>850</td>\n",
       "    </tr>\n",
       "    <tr>\n",
       "      <th>2</th>\n",
       "      <td>a01-000u-00-02</td>\n",
       "      <td>ok</td>\n",
       "      <td>154</td>\n",
       "      <td>796</td>\n",
       "      <td>764</td>\n",
       "      <td>70</td>\n",
       "      <td>50</td>\n",
       "      <td>TO</td>\n",
       "      <td>to</td>\n",
       "      <td>../../../IAM_Words/words/a01/a01-000u/a01-000u...</td>\n",
       "      <td>5884</td>\n",
       "    </tr>\n",
       "    <tr>\n",
       "      <th>3</th>\n",
       "      <td>a01-000u-00-03</td>\n",
       "      <td>ok</td>\n",
       "      <td>154</td>\n",
       "      <td>919</td>\n",
       "      <td>757</td>\n",
       "      <td>166</td>\n",
       "      <td>78</td>\n",
       "      <td>VB</td>\n",
       "      <td>stop</td>\n",
       "      <td>../../../IAM_Words/words/a01/a01-000u/a01-000u...</td>\n",
       "      <td>5573</td>\n",
       "    </tr>\n",
       "    <tr>\n",
       "      <th>4</th>\n",
       "      <td>a01-000u-00-04</td>\n",
       "      <td>ok</td>\n",
       "      <td>154</td>\n",
       "      <td>1185</td>\n",
       "      <td>754</td>\n",
       "      <td>126</td>\n",
       "      <td>61</td>\n",
       "      <td>NPT</td>\n",
       "      <td>Mr.</td>\n",
       "      <td>../../../IAM_Words/words/a01/a01-000u/a01-000u...</td>\n",
       "      <td>930</td>\n",
       "    </tr>\n",
       "  </tbody>\n",
       "</table>\n",
       "</div>"
      ],
      "text/plain": [
       "          line_id result graylevel     x    y    w   h annotation  \\\n",
       "0  a01-000u-00-00     ok       154   408  768   27  51         AT   \n",
       "1  a01-000u-00-01     ok       154   507  766  213  48         NN   \n",
       "2  a01-000u-00-02     ok       154   796  764   70  50         TO   \n",
       "3  a01-000u-00-03     ok       154   919  757  166  78         VB   \n",
       "4  a01-000u-00-04     ok       154  1185  754  126  61        NPT   \n",
       "\n",
       "  transcription                                         image_path  \\\n",
       "0             A  ../../../IAM_Words/words/a01/a01-000u/a01-000u...   \n",
       "1          MOVE  ../../../IAM_Words/words/a01/a01-000u/a01-000u...   \n",
       "2            to  ../../../IAM_Words/words/a01/a01-000u/a01-000u...   \n",
       "3          stop  ../../../IAM_Words/words/a01/a01-000u/a01-000u...   \n",
       "4           Mr.  ../../../IAM_Words/words/a01/a01-000u/a01-000u...   \n",
       "\n",
       "   transcription_encoded  \n",
       "0                    116  \n",
       "1                    850  \n",
       "2                   5884  \n",
       "3                   5573  \n",
       "4                    930  "
      ]
     },
     "metadata": {},
     "output_type": "display_data"
    }
   ],
   "source": [
    "# Check transcription distribution\n",
    "print(\"Transcription distribution before filtering:\")\n",
    "print(df['transcription'].value_counts())\n",
    "\n",
    "# Remove transcription with fewer than 2 samples\n",
    "min_samples = 2\n",
    "class_counts = df['transcription'].value_counts()\n",
    "classes_to_keep = class_counts[class_counts >= min_samples].index\n",
    "df_filtered = df[df['transcription'].isin(classes_to_keep)].copy()\n",
    "# reset index after manipulation\n",
    "df_filtered.reset_index(drop=True, inplace=True)\n",
    "\n",
    "# Check transcription distribution after filtering\n",
    "print(\"Transcription distribution after filtering:\")\n",
    "print(df_filtered['transcription'].value_counts())\n",
    "\n",
    "le = LabelEncoder()\n",
    "df_filtered['transcription_encoded'] = None\n",
    "df_filtered['transcription_encoded'] = le.fit_transform(df_filtered['transcription'])\n",
    "\n",
    "display(df_filtered.info())\n",
    "display(df_filtered.head())"
   ]
  },
  {
   "cell_type": "markdown",
   "metadata": {},
   "source": [
    "* preparing image data"
   ]
  },
  {
   "cell_type": "code",
   "execution_count": 4,
   "metadata": {},
   "outputs": [
    {
     "name": "stdout",
     "output_type": "stream",
     "text": [
      "Min: 0.000, Max: 1.000\n",
      "X and Y have the same length  True\n"
     ]
    },
    {
     "data": {
      "text/plain": [
       "\"\\nX, Y = [], []\\nwidth, height = 28, 28\\nfor index, row in df_filtered.iterrows():\\n    gray_image = cv2.cvtColor(cv2.imread(row['image_path']), cv2.COLOR_BGR2GRAY)\\n    image = cv2.resize(gray_image, (width, height))\\n    X.append(np.array(image)) \\n    Y.append(row['transcription_encoded'])\""
      ]
     },
     "execution_count": 4,
     "metadata": {},
     "output_type": "execute_result"
    }
   ],
   "source": [
    "X, Y = [], []\n",
    "width, height = 28, 28  # Resize to 28x28\n",
    "\n",
    "for index, row in df_filtered.iterrows():\n",
    "    # print(image.mode)\n",
    "    image = Image.open(row['image_path']).convert('L').resize((width, height))\n",
    "    X.append(np.array(image))\n",
    "    Y.append(row['transcription_encoded'])\n",
    "\n",
    "X = np.array(X) / 255.0  # Normalize images\n",
    "print('Min: %.3f, Max: %.3f' % (X.min(), X.max()))\n",
    "Y = np.array(Y)\n",
    "\n",
    "print('X and Y have the same length ',len(X) == len(Y))\n",
    "'''\n",
    "X, Y = [], []\n",
    "width, height = 28, 28\n",
    "for index, row in df_filtered.iterrows():\n",
    "    gray_image = cv2.cvtColor(cv2.imread(row['image_path']), cv2.COLOR_BGR2GRAY)\n",
    "    image = cv2.resize(gray_image, (width, height))\n",
    "    X.append(np.array(image)) \n",
    "    Y.append(row['transcription_encoded'])'''\n"
   ]
  },
  {
   "cell_type": "markdown",
   "metadata": {},
   "source": [
    "* Train and testing split (70/30)"
   ]
  },
  {
   "cell_type": "code",
   "execution_count": 5,
   "metadata": {},
   "outputs": [],
   "source": [
    "\n",
    "X_train, X_test, Y_train, Y_test = train_test_split(X, Y, test_size=0.3, random_state=42, stratify=Y)\n"
   ]
  },
  {
   "cell_type": "code",
   "execution_count": 6,
   "metadata": {},
   "outputs": [
    {
     "name": "stdout",
     "output_type": "stream",
     "text": [
      "translation = off\n"
     ]
    },
    {
     "data": {
      "image/png": "[encoded data removed]",
      "text/plain": [
       "<Figure size 640x480 with 1 Axes>"
      ]
     },
     "metadata": {},
     "output_type": "display_data"
    }
   ],
   "source": [
    "#Display a random image from the dataset (take any number from the random state)\n",
    "\n",
    "idx = df_filtered.loc[df_filtered['transcription_encoded'] == Y_train[0]].index[0]\n",
    "print('translation =', df_filtered['transcription'].iloc[idx])\n",
    "plt.imshow(X_train[0])\n",
    "plt.show()"
   ]
  },
  {
   "cell_type": "markdown",
   "metadata": {},
   "source": [
    "* transforming data into 4-dimensional array (images, width, height, depth)\n",
    "* One-hot encoding for labels"
   ]
  },
  {
   "cell_type": "code",
   "execution_count": 7,
   "metadata": {},
   "outputs": [
    {
     "data": {
      "text/plain": [
       "(6360,)"
      ]
     },
     "metadata": {},
     "output_type": "display_data"
    },
    {
     "data": {
      "text/plain": [
       "(75689, 6360)"
      ]
     },
     "metadata": {},
     "output_type": "display_data"
    },
    {
     "data": {
      "text/plain": [
       "4335"
      ]
     },
     "metadata": {},
     "output_type": "display_data"
    },
    {
     "data": {
      "text/plain": [
       "6360"
      ]
     },
     "metadata": {},
     "output_type": "display_data"
    }
   ],
   "source": [
    "# Reshape for CNN\n",
    "X_train = X_train.reshape((-1, 28, 28, 1))  # Adjust channels to 3 for RGB\n",
    "X_test = X_test.reshape((-1, 28, 28, 1))\n",
    "\n",
    "# Compute class weights to improve class balance\n",
    "'''\n",
    "class_weights = compute_class_weight(\n",
    " class_weight='balanced',\n",
    " classes=np.unique(Y_train),\n",
    " y=Y_train)\n",
    "\n",
    "class_weights_dict = dict(zip(np.unique(Y_train), class_weights))\n",
    "\n",
    "'''\n",
    "\n",
    "# calculates class weights manually based on class distribution\n",
    "class_counts = np.unique(Y_train, return_counts=True)[1]\n",
    "max_count = np.max(class_counts)\n",
    "smooth_factor = 1e-6\n",
    "\n",
    "class_weights_manual = class_counts / max_count\n",
    "class_weights_manual += smooth_factor\n",
    "\n",
    "class_weights_dict_manual = {label: weight / np.sum(class_weights_manual) for label, weight in zip(np.unique(Y_train), class_weights_manual)}\n",
    "\n",
    "# One-hot encoding for labels\n",
    "num_classes = max(len(np.unique(Y_train)), len(np.unique(Y_test)))\n",
    "y_train = to_categorical(Y_train, num_classes=num_classes)\n",
    "y_test = to_categorical(Y_test, num_classes=num_classes)\n",
    "\n",
    "# check if one hot encoding was successful\n",
    "display(np.unique(Y_train).shape)\n",
    "display(y_train.shape)\n",
    "display(np.argmax(y_train))\n",
    "display(len(np.unique(Y_train)))"
   ]
  },
  {
   "cell_type": "markdown",
   "metadata": {},
   "source": [
    "* Data Generator - slightly shifting images without producing overly disorted images"
   ]
  },
  {
   "cell_type": "code",
   "execution_count": 8,
   "metadata": {},
   "outputs": [],
   "source": [
    "train_datagen = ImageDataGenerator(\n",
    "    width_shift_range = 0.1,\n",
    "    height_shift_range = 0.1,\n",
    "    rotation_range = 5)\n",
    "\n",
    "test_datagen = ImageDataGenerator()\n",
    "\n",
    "train_dataset = train_datagen.flow(X_train,y_train, batch_size = 64)\n",
    "test_dataset = test_datagen.flow(X_test, y_test, batch_size = 64)"
   ]
  },
  {
   "cell_type": "markdown",
   "metadata": {},
   "source": [
    "* Implementing Callbacks\n",
    "* EarlyStopping: stops training when monitored metrics stop improving (like validation accuracy) therefore preventing overfitting and saving computational recources\n",
    "* ModelCheckpoint: saving the best-performing model according to monitored metric\n",
    "* Worth exploring: ReduceLROnPlateau, LearningRateScheduler\n"
   ]
  },
  {
   "cell_type": "code",
   "execution_count": 9,
   "metadata": {},
   "outputs": [],
   "source": [
    "early_stopping = EarlyStopping(\n",
    "                                patience=20, # Wait 20 epochs before application\n",
    "                                min_delta = 0.01, # if after 5 epochs the loss function does not vary by 1%, \n",
    "                                                  # either upwards or downwards, we stop.\n",
    "                                verbose=1, # Show at which epoch we stop\n",
    "                                mode = 'min',\n",
    "                                monitor='val_accuracy') # monitoring val_accuracy\n",
    "\n",
    "model_checkpoint = ModelCheckpoint(\n",
    "                                    monitor=\"val_accuracy\",\n",
    "                                    save_best_only=\"True\",\n",
    "                                    mode=\"max\",\n",
    "                                    filepath=\"../model_checkpoint/CNN.keras\"\n",
    "                                    )"
   ]
  },
  {
   "cell_type": "markdown",
   "metadata": {},
   "source": [
    "* LeNet Architecture\n",
    "\n",
    "* Creating and Training the model"
   ]
  },
  {
   "cell_type": "code",
   "execution_count": 10,
   "metadata": {},
   "outputs": [
    {
     "name": "stdout",
     "output_type": "stream",
     "text": [
      "Epoch 1/50\n"
     ]
    },
    {
     "name": "stderr",
     "output_type": "stream",
     "text": [
      "/home/cloud/Documents/MachineLearningEngineer_Datascientest/project/OCR/OCR2/OCR_handwriting/OCR2_env/lib64/python3.12/site-packages/keras/src/trainers/data_adapters/py_dataset_adapter.py:122: UserWarning: Your `PyDataset` class should call `super().__init__(**kwargs)` in its constructor. `**kwargs` can include `workers`, `use_multiprocessing`, `max_queue_size`. Do not pass these arguments to `fit()`, as they will be ignored.\n",
      "  self._warn_if_super_not_called()\n"
     ]
    },
    {
     "name": "stdout",
     "output_type": "stream",
     "text": [
      "\u001b[1m1183/1183\u001b[0m \u001b[32m━━━━━━━━━━━━━━━━━━━━\u001b[0m\u001b[37m\u001b[0m \u001b[1m168s\u001b[0m 136ms/step - accuracy: 0.2118 - loss: 0.0186 - val_accuracy: 0.1959 - val_loss: 7.5467\n",
      "Epoch 2/50\n",
      "\u001b[1m1183/1183\u001b[0m \u001b[32m━━━━━━━━━━━━━━━━━━━━\u001b[0m\u001b[37m\u001b[0m \u001b[1m151s\u001b[0m 127ms/step - accuracy: 0.2857 - loss: 0.0097 - val_accuracy: 0.2263 - val_loss: 7.6723\n",
      "Epoch 3/50\n",
      "\u001b[1m1183/1183\u001b[0m \u001b[32m━━━━━━━━━━━━━━━━━━━━\u001b[0m\u001b[37m\u001b[0m \u001b[1m154s\u001b[0m 129ms/step - accuracy: 0.3089 - loss: 0.0085 - val_accuracy: 0.3133 - val_loss: 5.2294\n",
      "Epoch 4/50\n",
      "\u001b[1m1183/1183\u001b[0m \u001b[32m━━━━━━━━━━━━━━━━━━━━\u001b[0m\u001b[37m\u001b[0m \u001b[1m157s\u001b[0m 132ms/step - accuracy: 0.3240 - loss: 0.0077 - val_accuracy: 0.2136 - val_loss: 6.3547\n",
      "Epoch 5/50\n",
      "\u001b[1m1183/1183\u001b[0m \u001b[32m━━━━━━━━━━━━━━━━━━━━\u001b[0m\u001b[37m\u001b[0m \u001b[1m166s\u001b[0m 140ms/step - accuracy: 0.3312 - loss: 0.0073 - val_accuracy: 0.2626 - val_loss: 8.2077\n",
      "Epoch 6/50\n",
      "\u001b[1m1183/1183\u001b[0m \u001b[32m━━━━━━━━━━━━━━━━━━━━\u001b[0m\u001b[37m\u001b[0m \u001b[1m162s\u001b[0m 137ms/step - accuracy: 0.3452 - loss: 0.0070 - val_accuracy: 0.3220 - val_loss: 5.4617\n",
      "Epoch 7/50\n",
      "\u001b[1m1183/1183\u001b[0m \u001b[32m━━━━━━━━━━━━━━━━━━━━\u001b[0m\u001b[37m\u001b[0m \u001b[1m173s\u001b[0m 146ms/step - accuracy: 0.3509 - loss: 0.0067 - val_accuracy: 0.3329 - val_loss: 5.6510\n",
      "Epoch 8/50\n",
      "\u001b[1m1183/1183\u001b[0m \u001b[32m━━━━━━━━━━━━━━━━━━━━\u001b[0m\u001b[37m\u001b[0m \u001b[1m128s\u001b[0m 108ms/step - accuracy: 0.3573 - loss: 0.0064 - val_accuracy: 0.1658 - val_loss: 8.1837\n",
      "Epoch 9/50\n",
      "\u001b[1m1183/1183\u001b[0m \u001b[32m━━━━━━━━━━━━━━━━━━━━\u001b[0m\u001b[37m\u001b[0m \u001b[1m119s\u001b[0m 100ms/step - accuracy: 0.3628 - loss: 0.0064 - val_accuracy: 0.3393 - val_loss: 4.8281\n",
      "Epoch 10/50\n",
      "\u001b[1m1183/1183\u001b[0m \u001b[32m━━━━━━━━━━━━━━━━━━━━\u001b[0m\u001b[37m\u001b[0m \u001b[1m116s\u001b[0m 98ms/step - accuracy: 0.3675 - loss: 0.0061 - val_accuracy: 0.2612 - val_loss: 6.6688\n",
      "Epoch 11/50\n",
      "\u001b[1m1183/1183\u001b[0m \u001b[32m━━━━━━━━━━━━━━━━━━━━\u001b[0m\u001b[37m\u001b[0m \u001b[1m121s\u001b[0m 102ms/step - accuracy: 0.3690 - loss: 0.0061 - val_accuracy: 0.3686 - val_loss: 4.5376\n",
      "Epoch 12/50\n",
      "\u001b[1m1183/1183\u001b[0m \u001b[32m━━━━━━━━━━━━━━━━━━━━\u001b[0m\u001b[37m\u001b[0m \u001b[1m121s\u001b[0m 102ms/step - accuracy: 0.3792 - loss: 0.0059 - val_accuracy: 0.3416 - val_loss: 5.1265\n",
      "Epoch 13/50\n",
      "\u001b[1m1183/1183\u001b[0m \u001b[32m━━━━━━━━━━━━━━━━━━━━\u001b[0m\u001b[37m\u001b[0m \u001b[1m122s\u001b[0m 103ms/step - accuracy: 0.3817 - loss: 0.0057 - val_accuracy: 0.3436 - val_loss: 4.6729\n",
      "Epoch 14/50\n",
      "\u001b[1m1183/1183\u001b[0m \u001b[32m━━━━━━━━━━━━━━━━━━━━\u001b[0m\u001b[37m\u001b[0m \u001b[1m121s\u001b[0m 102ms/step - accuracy: 0.3875 - loss: 0.0056 - val_accuracy: 0.2861 - val_loss: 5.6205\n",
      "Epoch 15/50\n",
      "\u001b[1m1183/1183\u001b[0m \u001b[32m━━━━━━━━━━━━━━━━━━━━\u001b[0m\u001b[37m\u001b[0m \u001b[1m122s\u001b[0m 103ms/step - accuracy: 0.3878 - loss: 0.0055 - val_accuracy: 0.3707 - val_loss: 4.5188\n",
      "Epoch 16/50\n",
      "\u001b[1m1183/1183\u001b[0m \u001b[32m━━━━━━━━━━━━━━━━━━━━\u001b[0m\u001b[37m\u001b[0m \u001b[1m123s\u001b[0m 104ms/step - accuracy: 0.3949 - loss: 0.0053 - val_accuracy: 0.4140 - val_loss: 4.0996\n",
      "Epoch 17/50\n",
      "\u001b[1m1183/1183\u001b[0m \u001b[32m━━━━━━━━━━━━━━━━━━━━\u001b[0m\u001b[37m\u001b[0m \u001b[1m122s\u001b[0m 103ms/step - accuracy: 0.3942 - loss: 0.0051 - val_accuracy: 0.4084 - val_loss: 3.9766\n",
      "Epoch 18/50\n",
      "\u001b[1m1183/1183\u001b[0m \u001b[32m━━━━━━━━━━━━━━━━━━━━\u001b[0m\u001b[37m\u001b[0m \u001b[1m124s\u001b[0m 105ms/step - accuracy: 0.3950 - loss: 0.0053 - val_accuracy: 0.4031 - val_loss: 4.1991\n",
      "Epoch 19/50\n",
      "\u001b[1m1183/1183\u001b[0m \u001b[32m━━━━━━━━━━━━━━━━━━━━\u001b[0m\u001b[37m\u001b[0m \u001b[1m111s\u001b[0m 94ms/step - accuracy: 0.4003 - loss: 0.0052 - val_accuracy: 0.3695 - val_loss: 4.5869\n",
      "Epoch 20/50\n",
      "\u001b[1m1183/1183\u001b[0m \u001b[32m━━━━━━━━━━━━━━━━━━━━\u001b[0m\u001b[37m\u001b[0m \u001b[1m111s\u001b[0m 94ms/step - accuracy: 0.4039 - loss: 0.0051 - val_accuracy: 0.4282 - val_loss: 3.8757\n",
      "Epoch 21/50\n",
      "\u001b[1m1183/1183\u001b[0m \u001b[32m━━━━━━━━━━━━━━━━━━━━\u001b[0m\u001b[37m\u001b[0m \u001b[1m113s\u001b[0m 95ms/step - accuracy: 0.4067 - loss: 0.0050 - val_accuracy: 0.3578 - val_loss: 5.1516\n",
      "Epoch 22/50\n",
      "\u001b[1m1183/1183\u001b[0m \u001b[32m━━━━━━━━━━━━━━━━━━━━\u001b[0m\u001b[37m\u001b[0m \u001b[1m114s\u001b[0m 96ms/step - accuracy: 0.4074 - loss: 0.0049 - val_accuracy: 0.3600 - val_loss: 5.5814\n",
      "Epoch 23/50\n",
      "\u001b[1m1183/1183\u001b[0m \u001b[32m━━━━━━━━━━━━━━━━━━━━\u001b[0m\u001b[37m\u001b[0m \u001b[1m116s\u001b[0m 98ms/step - accuracy: 0.4041 - loss: 0.0050 - val_accuracy: 0.3672 - val_loss: 4.3907\n",
      "Epoch 24/50\n",
      "\u001b[1m1183/1183\u001b[0m \u001b[32m━━━━━━━━━━━━━━━━━━━━\u001b[0m\u001b[37m\u001b[0m \u001b[1m115s\u001b[0m 97ms/step - accuracy: 0.4085 - loss: 0.0048 - val_accuracy: 0.3936 - val_loss: 4.4338\n",
      "Epoch 25/50\n",
      "\u001b[1m1183/1183\u001b[0m \u001b[32m━━━━━━━━━━━━━━━━━━━━\u001b[0m\u001b[37m\u001b[0m \u001b[1m117s\u001b[0m 99ms/step - accuracy: 0.4111 - loss: 0.0049 - val_accuracy: 0.4018 - val_loss: 4.2342\n",
      "Epoch 26/50\n",
      "\u001b[1m1183/1183\u001b[0m \u001b[32m━━━━━━━━━━━━━━━━━━━━\u001b[0m\u001b[37m\u001b[0m \u001b[1m117s\u001b[0m 99ms/step - accuracy: 0.4138 - loss: 0.0048 - val_accuracy: 0.3560 - val_loss: 4.7986\n",
      "Epoch 27/50\n",
      "\u001b[1m1183/1183\u001b[0m \u001b[32m━━━━━━━━━━━━━━━━━━━━\u001b[0m\u001b[37m\u001b[0m \u001b[1m115s\u001b[0m 97ms/step - accuracy: 0.4179 - loss: 0.0047 - val_accuracy: 0.3442 - val_loss: 4.6170\n",
      "Epoch 28/50\n",
      "\u001b[1m1183/1183\u001b[0m \u001b[32m━━━━━━━━━━━━━━━━━━━━\u001b[0m\u001b[37m\u001b[0m \u001b[1m115s\u001b[0m 97ms/step - accuracy: 0.4165 - loss: 0.0048 - val_accuracy: 0.3392 - val_loss: 4.6641\n",
      "Epoch 28: early stopping\n"
     ]
    }
   ],
   "source": [
    "# Updated LeNet Model\n",
    "inputs = Input(shape=(28, 28, 1), name=\"Input\")\n",
    "\n",
    "# First convolutional layer\n",
    "conv_1 = Conv2D(filters=64, kernel_size=(5, 5), padding='valid', activation='relu')(inputs)\n",
    "conv_1 = BatchNormalization()(conv_1)\n",
    "pool_1 = MaxPooling2D(pool_size=(2, 2))(conv_1)\n",
    "\n",
    "# Second convolutional layer\n",
    "conv_2 = Conv2D(filters=128, kernel_size=(3, 3), padding='valid', activation='relu')(pool_1)\n",
    "conv_2 = BatchNormalization()(conv_2)\n",
    "pool_2 = MaxPooling2D(pool_size=(2, 2))(conv_2)\n",
    "\n",
    "# Additional convolutional layer\n",
    "conv_3 = Conv2D(filters=256, kernel_size=(3, 3), padding='valid', activation='relu')(pool_2)\n",
    "conv_3 = BatchNormalization()(conv_3)\n",
    "pool_3 = MaxPooling2D(pool_size=(2, 2))(conv_3)\n",
    "\n",
    "# Dropout layer\n",
    "dropout = Dropout(rate=0.3)(pool_3)\n",
    "\n",
    "# Flatten and dense layers\n",
    "flatten = Flatten()(dropout)\n",
    "dense_1 = Dense(units=128, activation='relu')(flatten)\n",
    "dense_2 = Dense(units=6360, activation='softmax')(dense_1)  # Output layer\n",
    "\n",
    "# Compile model\n",
    "lenet = Model(inputs=inputs, outputs=dense_2)\n",
    "lenet.compile(loss='categorical_crossentropy', optimizer='adam', metrics=['accuracy'])\n",
    "\n",
    "# Fit model with callbacks\n",
    "'''training_history_lenet = lenet.fit(\n",
    "    train_dataset,\n",
    "    steps_per_epoch=X_train.shape[0] // batch_size,\n",
    "    validation_data=test_dataset,\n",
    "    epochs=50,  # Increased epochs\n",
    "    callbacks=[early_stopping, model_checkpoint],  # Added learning rate scheduler\n",
    "    verbose=True\n",
    ")'''\n",
    "\n",
    "training_history_lenet = lenet.fit(train_dataset,\n",
    "                                epochs=50,\n",
    "                                verbose=1,\n",
    "                                class_weight=class_weights_dict_manual,\n",
    "                                validation_data=test_dataset,\n",
    "                                callbacks=[early_stopping, model_checkpoint])\n"
   ]
  },
  {
   "cell_type": "markdown",
   "metadata": {},
   "source": [
    "* Performance of the CNN model\n",
    "\n",
    "* Plot of evolution of accuracies throughout the training"
   ]
  },
  {
   "cell_type": "code",
   "execution_count": 11,
   "metadata": {},
   "outputs": [
    {
     "data": {
      "image/png": "[encoded data removed]",
      "text/plain": [
       "<Figure size 640x480 with 1 Axes>"
      ]
     },
     "metadata": {},
     "output_type": "display_data"
    }
   ],
   "source": [
    "train_acc_len = training_history_lenet.history['accuracy']\n",
    "val_acc_len = training_history_lenet.history['val_accuracy']\n",
    "\n",
    "# Training sample accuracy curve\n",
    "plt.plot(train_acc_len, label='Training Accuracy')\n",
    "# Test sample accuracy curve\n",
    "plt.plot(val_acc_len, label='Validation Accuracy')\n",
    "# Axis labels\n",
    "plt.xlabel('Epochs')\n",
    "plt.ylabel('Accuracy')\n",
    "plt.legend()\n",
    "plt.show()"
   ]
  },
  {
   "cell_type": "markdown",
   "metadata": {},
   "source": [
    "* displaying detailed evaluative report of model's performance"
   ]
  },
  {
   "cell_type": "code",
   "execution_count": 12,
   "metadata": {},
   "outputs": [
    {
     "name": "stdout",
     "output_type": "stream",
     "text": [
      "\u001b[1m1014/1014\u001b[0m \u001b[32m━━━━━━━━━━━━━━━━━━━━\u001b[0m\u001b[37m\u001b[0m \u001b[1m13s\u001b[0m 13ms/step\n",
      "Mean Precision: 0.30\n",
      "Mean Recall: 0.34\n",
      "Mean F1-Score: 0.27\n"
     ]
    },
    {
     "name": "stderr",
     "output_type": "stream",
     "text": [
      "/home/cloud/Documents/MachineLearningEngineer_Datascientest/project/OCR/OCR2/OCR_handwriting/OCR2_env/lib64/python3.12/site-packages/sklearn/metrics/_classification.py:1531: UndefinedMetricWarning: Precision is ill-defined and being set to 0.0 in labels with no predicted samples. Use `zero_division` parameter to control this behavior.\n",
      "  _warn_prf(average, modifier, f\"{metric.capitalize()} is\", len(result))\n",
      "/home/cloud/Documents/MachineLearningEngineer_Datascientest/project/OCR/OCR2/OCR_handwriting/OCR2_env/lib64/python3.12/site-packages/sklearn/metrics/_classification.py:1531: UndefinedMetricWarning: Precision is ill-defined and being set to 0.0 in labels with no predicted samples. Use `zero_division` parameter to control this behavior.\n",
      "  _warn_prf(average, modifier, f\"{metric.capitalize()} is\", len(result))\n",
      "/home/cloud/Documents/MachineLearningEngineer_Datascientest/project/OCR/OCR2/OCR_handwriting/OCR2_env/lib64/python3.12/site-packages/sklearn/metrics/_classification.py:1531: UndefinedMetricWarning: Precision is ill-defined and being set to 0.0 in labels with no predicted samples. Use `zero_division` parameter to control this behavior.\n",
      "  _warn_prf(average, modifier, f\"{metric.capitalize()} is\", len(result))\n"
     ]
    }
   ],
   "source": [
    "test_pred = lenet.predict(X_test)\n",
    "test_pred_class = test_pred.argmax(axis = 1)\n",
    "y_test_class = y_test.argmax(axis = 1)\n",
    "\n",
    "#print(metrics.classification_report(y_test_class, test_pred_class))\n",
    "report = metrics.classification_report(y_test_class, test_pred_class, output_dict=True)\n",
    "\n",
    "# Extracting mean values\n",
    "mean_precision = report['weighted avg']['precision']\n",
    "mean_recall = report['weighted avg']['recall']\n",
    "mean_f1_score = report['weighted avg']['f1-score']\n",
    "\n",
    "# Output the mean values\n",
    "print(f'Mean Precision: {mean_precision:.2f}')\n",
    "print(f'Mean Recall: {mean_recall:.2f}')\n",
    "print(f'Mean F1-Score: {mean_f1_score:.2f}')"
   ]
  },
  {
   "cell_type": "markdown",
   "metadata": {},
   "source": [
    "* displaying confusion matrix between y_test_class and test_pred_class"
   ]
  },
  {
   "cell_type": "code",
   "execution_count": 13,
   "metadata": {},
   "outputs": [
    {
     "name": "stdout",
     "output_type": "stream",
     "text": [
      "[[  9   4   0 ...   0   0   0]\n",
      " [  0 358   0 ...   0   0   0]\n",
      " [  0   1   8 ...   0   0   0]\n",
      " ...\n",
      " [  0   0   1 ...   0   0   0]\n",
      " [  0   0   1 ...   0   0   0]\n",
      " [  0   0   0 ...   0   0   0]]\n"
     ]
    }
   ],
   "source": [
    "cnf_matrix = metrics.confusion_matrix(y_test_class, test_pred_class)\n",
    "print(cnf_matrix)"
   ]
  },
  {
   "cell_type": "markdown",
   "metadata": {},
   "source": [
    "* displaying random images that the model got wrong"
   ]
  },
  {
   "cell_type": "code",
   "execution_count": 14,
   "metadata": {},
   "outputs": [
    {
     "data": {
      "image/png": "[encoded data removed]",
      "text/plain": [
       "<Figure size 640x480 with 3 Axes>"
      ]
     },
     "metadata": {},
     "output_type": "display_data"
    }
   ],
   "source": [
    "# Create mapping from class indices to transcriptions\n",
    "class_mapping = {index: transcription for index, transcription in enumerate(pd.Series(Y).unique())}\n",
    "\n",
    "# Handling error indexes\n",
    "error_indexes = [i for i in range(len(test_pred)) if test_pred_class[i] != y_test_class[i]]\n",
    "\n",
    "if len(error_indexes) > 0:\n",
    "    j = 1\n",
    "    for i in np.random.choice(error_indexes, size=min(3, len(error_indexes)), replace=False):\n",
    "        img = X_test[i]\n",
    "        plt.subplot(1, 3, j)\n",
    "        plt.axis('off')\n",
    "        plt.imshow(img, cmap=cm.binary)\n",
    "        true_transcription = df_filtered.loc[df_filtered['transcription_encoded'] == Y_test[i], 'transcription'].iloc[0]\n",
    "        predicted_transcription = df_filtered.loc[df_filtered['transcription_encoded'] == test_pred_class[i], 'transcription'].iloc[0]\n",
    "        confidence = str(round(test_pred[i][test_pred_class[i]], 2))\n",
    "\n",
    "        plt.title(f'True: {true_transcription}\\nPred: {predicted_transcription}\\nConf: {confidence}')\n",
    "        j += 1\n",
    "    plt.show()\n",
    "else:\n",
    "    print(\"No errors in predictions.\")\n",
    "              "
   ]
  }
 ],
 "metadata": {
  "kernelspec": {
   "display_name": "OCR2_env",
   "language": "python",
   "name": "python3"
  },
  "language_info": {
   "codemirror_mode": {
    "name": "ipython",
    "version": 3
   },
   "file_extension": ".py",
   "mimetype": "text/x-python",
   "name": "python",
   "nbconvert_exporter": "python",
   "pygments_lexer": "ipython3",
   "version": "3.12.6"
  }
 },
 "nbformat": 4,
 "nbformat_minor": 2
}
