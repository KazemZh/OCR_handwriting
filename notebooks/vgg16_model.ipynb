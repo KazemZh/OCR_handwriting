{
 "cells": [
  {
   "cell_type": "markdown",
   "metadata": {},
   "source": [
    "# Training a Deep Learning Model for Handwriting Recognition using VGG16 (CNN)\n",
    "\n",
    "## Overview\n",
    "This Jupyter notebook demonstrates how to train a Convolutional Neural Network (CNN) for recognizing handwritten words using the **VGG16** architecture. The objective is to apply deep learning techniques, particularly using **Computer Vision (CV)** methods, to accurately recognize and classify words written by hand.\n",
    "\n",
    "### The scheme to implement a model with keras:\n",
    "\n",
    "* Architecture of the model\n",
    "* Compiling the model\n",
    "* Training of the model Diagnosis of the training\n",
    "* Evaluation of predictions\n"
   ]
  },
  {
   "cell_type": "markdown",
   "metadata": {},
   "source": [
    "## Importing Required Libraries\n",
    "\n",
    "In this section, we import all the necessary libraries and modules. These libraries are used for tasks like data manipulation, image processing, deep learning model creation, and evaluation. The imports are organized based on their functionality.\n"
   ]
  },
  {
   "cell_type": "code",
   "execution_count": 1,
   "metadata": {},
   "outputs": [
    {
     "name": "stdout",
     "output_type": "stream",
     "text": [
      "WARNING:tensorflow:From C:\\Users\\Besitzer\\AppData\\Local\\Packages\\PythonSoftwareFoundation.Python.3.11_qbz5n2kfra8p0\\LocalCache\\local-packages\\Python311\\site-packages\\keras\\src\\losses.py:2976: The name tf.losses.sparse_softmax_cross_entropy is deprecated. Please use tf.compat.v1.losses.sparse_softmax_cross_entropy instead.\n",
      "\n"
     ]
    }
   ],
   "source": [
    "# Data Manipulation and Utilities\n",
    "import pandas as pd\n",
    "import numpy as np\n",
    "from tqdm import tqdm  # For displaying progress bars\n",
    "import os\n",
    "\n",
    "# Image Processing\n",
    "import cv2\n",
    "from PIL import Image\n",
    "\n",
    "# TensorFlow and Keras - Deep Learning Libraries\n",
    "from tensorflow.keras.layers import Input, Dense, Dropout, GlobalAveragePooling2D\n",
    "from tensorflow.keras.models import Model, Sequential\n",
    "from tensorflow.keras.optimizers import Adam\n",
    "from tensorflow.keras.utils import to_categorical\n",
    "from tensorflow.keras.callbacks import EarlyStopping, ModelCheckpoint\n",
    "from tensorflow.keras.preprocessing.image import ImageDataGenerator\n",
    "from tensorflow.keras.applications.vgg16 import VGG16, preprocess_input\n",
    "from tensorflow.keras import backend as K\n",
    "from tensorflow.keras.preprocessing import image\n",
    "from tensorflow.keras.models import load_model\n",
    "\n",
    "\n",
    "# Machine Learning Utilities\n",
    "from sklearn.model_selection import train_test_split\n",
    "from sklearn.preprocessing import LabelEncoder\n",
    "from sklearn import metrics\n",
    "\n",
    "# Plotting and Visualization\n",
    "import matplotlib.pyplot as plt\n",
    "import matplotlib.cm as cm\n",
    "import seaborn as sns\n",
    "import plotly.express as px\n",
    "import plotly.graph_objects as go\n",
    "from plotly.subplots import make_subplots\n",
    "import itertools\n",
    "\n",
    "\n",
    "# NLP Utility to Import Stopwords Listimport nltk\n",
    "import nltk\n",
    "from nltk.corpus import stopwords\n",
    "\n",
    "\n",
    "\n",
    "# Inline Plotting for Jupyter Notebook\n",
    "%matplotlib inline"
   ]
  },
  {
   "cell_type": "markdown",
   "metadata": {},
   "source": [
    "## Loading and Preprocessing Dataset\n",
    "\n",
    "In this section, we load the handwritten text dataset from a specified directory and create a structured dataset that combines image paths with their corresponding transcription labels. We also verify the availability of image files to filter out corrupted or missing entries.\n",
    "\n",
    "- **Dataset Path**: We define the root path to the image dataset.\n",
    "- **Word Transcriptions**: We read the `words.txt` file, which contains metadata about the handwritten samples, including file names and corresponding transcriptions.\n",
    "- **Data Integrity Check**: We ensure that all referenced images exist and are not corrupted. Invalid entries are counted.\n"
   ]
  },
  {
   "cell_type": "code",
   "execution_count": 2,
   "metadata": {},
   "outputs": [
    {
     "name": "stderr",
     "output_type": "stream",
     "text": [
      "100%|██████████| 115338/115338 [00:13<00:00, 8631.81it/s] \n"
     ]
    },
    {
     "name": "stdout",
     "output_type": "stream",
     "text": [
      "Number of inexistent or corrupted files: 2\n"
     ]
    },
    {
     "data": {
      "text/html": [
       "<div>\n",
       "<style scoped>\n",
       "    .dataframe tbody tr th:only-of-type {\n",
       "        vertical-align: middle;\n",
       "    }\n",
       "\n",
       "    .dataframe tbody tr th {\n",
       "        vertical-align: top;\n",
       "    }\n",
       "\n",
       "    .dataframe thead th {\n",
       "        text-align: right;\n",
       "    }\n",
       "</style>\n",
       "<table border=\"1\" class=\"dataframe\">\n",
       "  <thead>\n",
       "    <tr style=\"text-align: right;\">\n",
       "      <th></th>\n",
       "      <th>line_id</th>\n",
       "      <th>result</th>\n",
       "      <th>graylevel</th>\n",
       "      <th>x</th>\n",
       "      <th>y</th>\n",
       "      <th>w</th>\n",
       "      <th>h</th>\n",
       "      <th>annotation</th>\n",
       "      <th>transcription</th>\n",
       "      <th>image_path</th>\n",
       "    </tr>\n",
       "  </thead>\n",
       "  <tbody>\n",
       "    <tr>\n",
       "      <th>0</th>\n",
       "      <td>a01-000u-00-00</td>\n",
       "      <td>ok</td>\n",
       "      <td>154</td>\n",
       "      <td>408</td>\n",
       "      <td>768</td>\n",
       "      <td>27</td>\n",
       "      <td>51</td>\n",
       "      <td>AT</td>\n",
       "      <td>A</td>\n",
       "      <td>../../words\\a01\\a01-000u\\a01-000u-00-00.png</td>\n",
       "    </tr>\n",
       "    <tr>\n",
       "      <th>1</th>\n",
       "      <td>a01-000u-00-01</td>\n",
       "      <td>ok</td>\n",
       "      <td>154</td>\n",
       "      <td>507</td>\n",
       "      <td>766</td>\n",
       "      <td>213</td>\n",
       "      <td>48</td>\n",
       "      <td>NN</td>\n",
       "      <td>MOVE</td>\n",
       "      <td>../../words\\a01\\a01-000u\\a01-000u-00-01.png</td>\n",
       "    </tr>\n",
       "    <tr>\n",
       "      <th>2</th>\n",
       "      <td>a01-000u-00-02</td>\n",
       "      <td>ok</td>\n",
       "      <td>154</td>\n",
       "      <td>796</td>\n",
       "      <td>764</td>\n",
       "      <td>70</td>\n",
       "      <td>50</td>\n",
       "      <td>TO</td>\n",
       "      <td>to</td>\n",
       "      <td>../../words\\a01\\a01-000u\\a01-000u-00-02.png</td>\n",
       "    </tr>\n",
       "    <tr>\n",
       "      <th>3</th>\n",
       "      <td>a01-000u-00-03</td>\n",
       "      <td>ok</td>\n",
       "      <td>154</td>\n",
       "      <td>919</td>\n",
       "      <td>757</td>\n",
       "      <td>166</td>\n",
       "      <td>78</td>\n",
       "      <td>VB</td>\n",
       "      <td>stop</td>\n",
       "      <td>../../words\\a01\\a01-000u\\a01-000u-00-03.png</td>\n",
       "    </tr>\n",
       "    <tr>\n",
       "      <th>4</th>\n",
       "      <td>a01-000u-00-04</td>\n",
       "      <td>ok</td>\n",
       "      <td>154</td>\n",
       "      <td>1185</td>\n",
       "      <td>754</td>\n",
       "      <td>126</td>\n",
       "      <td>61</td>\n",
       "      <td>NPT</td>\n",
       "      <td>Mr.</td>\n",
       "      <td>../../words\\a01\\a01-000u\\a01-000u-00-04.png</td>\n",
       "    </tr>\n",
       "  </tbody>\n",
       "</table>\n",
       "</div>"
      ],
      "text/plain": [
       "          line_id result graylevel     x    y    w   h annotation  \\\n",
       "0  a01-000u-00-00     ok       154   408  768   27  51         AT   \n",
       "1  a01-000u-00-01     ok       154   507  766  213  48         NN   \n",
       "2  a01-000u-00-02     ok       154   796  764   70  50         TO   \n",
       "3  a01-000u-00-03     ok       154   919  757  166  78         VB   \n",
       "4  a01-000u-00-04     ok       154  1185  754  126  61        NPT   \n",
       "\n",
       "  transcription                                   image_path  \n",
       "0             A  ../../words\\a01\\a01-000u\\a01-000u-00-00.png  \n",
       "1          MOVE  ../../words\\a01\\a01-000u\\a01-000u-00-01.png  \n",
       "2            to  ../../words\\a01\\a01-000u\\a01-000u-00-02.png  \n",
       "3          stop  ../../words\\a01\\a01-000u\\a01-000u-00-03.png  \n",
       "4           Mr.  ../../words\\a01\\a01-000u\\a01-000u-00-04.png  "
      ]
     },
     "metadata": {},
     "output_type": "display_data"
    }
   ],
   "source": [
    "# Define the dataset path\n",
    "dataset_path = '../../words'  # Update this path based on your specific directory structure\n",
    "\n",
    "# Initialize data list and load transcription file\n",
    "data = []  # List to store dataset information\n",
    "words = open(\"../ascii/words.txt\", \"r\").readlines()  # Read the words.txt file which contains metadata for each image\n",
    "inexistent_or_corrupted = 0  # Counter for inexistent or corrupted image files\n",
    "\n",
    "# Iterate over each line of the metadata file\n",
    "for line in tqdm(words):\n",
    "    if line.startswith(\"#\"):  # Skip header lines that start with '#'\n",
    "        continue\n",
    "\n",
    "    # Split the line into different components\n",
    "    parts = line.strip().split()\n",
    "    fixed_part = parts[:8]  # Extract fixed part of the metadata (e.g., ID, coordinates, etc.)\n",
    "    transcription_part = ' '.join(parts[8:])  # Extract the transcription part (actual word)\n",
    "\n",
    "    # Construct folder paths and image file names\n",
    "    line_split = line.split(\" \")\n",
    "    folder_parts = line_split[0].split('-')\n",
    "    folder1 = folder_parts[0]\n",
    "    folder2 = folder_parts[0] + '-' + folder_parts[1]\n",
    "    file_name = line_split[0] + \".png\"\n",
    "    label = line_split[-1].rstrip('\\n')\n",
    "\n",
    "    # Construct the relative path for the image\n",
    "    rel_path = os.path.join(dataset_path, folder1, folder2, file_name)\n",
    "\n",
    "    # Check if the image exists and is not corrupted (file size > 0)\n",
    "    if os.path.exists(rel_path) and os.path.getsize(rel_path) > 0:\n",
    "        # Append metadata and image path to data list\n",
    "        data.append(fixed_part + [transcription_part, rel_path])\n",
    "    else:\n",
    "        # Increment counter if image is missing or corrupted\n",
    "        inexistent_or_corrupted += 1\n",
    "\n",
    "# Print the count of inexistent or corrupted images\n",
    "print('Number of inexistent or corrupted files:', inexistent_or_corrupted)\n",
    "\n",
    "# Create a DataFrame from the collected data\n",
    "df = pd.DataFrame(data, columns=['line_id', 'result', 'graylevel', 'x', 'y', 'w', 'h', 'annotation', 'transcription', 'image_path'])\n",
    "display(df.head())  # Display the first few rows of the DataFrame\n"
   ]
  },
  {
   "cell_type": "markdown",
   "metadata": {},
   "source": [
    "## Interactive Visualization of Transcription Frequency Distribution\n",
    "\n",
    "Before applying any filtering, it is helpful to visualize the distribution of transcription frequencies. This plot provides insights into the number of times each transcription appears in the dataset, helping us understand which classes might be overrepresented or underrepresented.\n",
    "\n",
    "This plot includes several interactive features:\n",
    "- **Hover Tooltips**: Hover over the data points to see detailed information.\n",
    "- **Zoom Options**: Use mouse controls to zoom in and out of specific areas of the plot.\n",
    "- **Toggle Axis Type**: The plot has buttons to toggle between linear and log scales for both axes, making it easier to explore the distribution."
   ]
  },
  {
   "cell_type": "code",
   "execution_count": 3,
   "metadata": {},
   "outputs": [
    {
     "data": {
      "application/vnd.plotly.v1+json": {
       "config": {
        "plotlyServerURL": "https://plot.ly"
       },
       "data": [
        {
         "hoverinfo": "x+y",
         "marker": {
          "color": "red",
          "size": 6
         },
         "mode": "markers+lines",
         "name": "Frequency of Transcriptions",
         "type": "scatter",
         "x": [
          1,
          2,
          3,
          4,
          5,
          6,
          7,
          8,
          9,
          10,
          11,
          12,
          13,
          14,
          15,
          16,
          17,
          18,
          19,
          20,
          21,
          22,
          23,
          24,
          25,
          26,
          27,
          28,
          29,
          30,
          31,
          32,
          33,
          34,
          35,
          36,
          37,
          38,
          39,
          40,
          41,
          42,
          43,
          44,
          45,
          46,
          47,
          48,
          49,
          50,
          51,
          52,
          53,
          54,
          55,
          56,
          57,
          58,
          59,
          61,
          63,
          64,
          65,
          66,
          67,
          68,
          70,
          71,
          72,
          74,
          75,
          76,
          78,
          79,
          80,
          82,
          83,
          84,
          85,
          86,
          87,
          89,
          91,
          92,
          93,
          94,
          96,
          97,
          98,
          100,
          102,
          105,
          108,
          112,
          113,
          116,
          119,
          120,
          121,
          122,
          123,
          133,
          135,
          138,
          139,
          140,
          141,
          143,
          144,
          145,
          149,
          151,
          153,
          154,
          161,
          162,
          163,
          165,
          166,
          170,
          173,
          174,
          178,
          181,
          188,
          200,
          203,
          204,
          207,
          212,
          214,
          226,
          244,
          248,
          253,
          256,
          258,
          259,
          260,
          263,
          268,
          269,
          270,
          276,
          306,
          321,
          333,
          346,
          352,
          353,
          367,
          373,
          383,
          384,
          401,
          410,
          419,
          422,
          425,
          479,
          490,
          563,
          626,
          697,
          702,
          703,
          709,
          723,
          733,
          743,
          837,
          840,
          885,
          982,
          1127,
          1135,
          1599,
          1802,
          2264,
          2475,
          2651,
          3192,
          4984,
          5570,
          5826
         ],
         "y": [
          7190,
          2103,
          1076,
          608,
          396,
          323,
          240,
          187,
          139,
          109,
          87,
          85,
          76,
          52,
          60,
          58,
          72,
          42,
          42,
          37,
          34,
          22,
          24,
          24,
          14,
          21,
          18,
          14,
          11,
          9,
          17,
          12,
          12,
          10,
          9,
          11,
          5,
          7,
          7,
          8,
          5,
          3,
          3,
          10,
          8,
          5,
          13,
          7,
          8,
          2,
          6,
          3,
          6,
          4,
          3,
          7,
          4,
          3,
          4,
          1,
          4,
          2,
          1,
          2,
          1,
          1,
          2,
          2,
          3,
          1,
          5,
          2,
          3,
          2,
          3,
          2,
          1,
          1,
          1,
          5,
          2,
          1,
          1,
          1,
          1,
          4,
          3,
          3,
          4,
          2,
          1,
          2,
          1,
          1,
          1,
          1,
          1,
          2,
          2,
          1,
          2,
          1,
          1,
          1,
          1,
          1,
          1,
          3,
          2,
          2,
          1,
          1,
          1,
          1,
          1,
          1,
          1,
          1,
          1,
          2,
          1,
          1,
          1,
          1,
          1,
          1,
          1,
          2,
          2,
          1,
          1,
          1,
          2,
          1,
          1,
          1,
          1,
          1,
          1,
          1,
          1,
          1,
          1,
          1,
          1,
          1,
          1,
          1,
          1,
          1,
          1,
          1,
          1,
          1,
          1,
          1,
          1,
          1,
          1,
          1,
          1,
          1,
          1,
          1,
          1,
          1,
          1,
          1,
          1,
          2,
          1,
          1,
          1,
          1,
          1,
          1,
          1,
          1,
          1,
          1,
          1,
          1,
          1,
          1,
          1
         ]
        }
       ],
       "layout": {
        "hovermode": "closest",
        "template": {
         "data": {
          "bar": [
           {
            "error_x": {
             "color": "#2a3f5f"
            },
            "error_y": {
             "color": "#2a3f5f"
            },
            "marker": {
             "line": {
              "color": "#E5ECF6",
              "width": 0.5
             },
             "pattern": {
              "fillmode": "overlay",
              "size": 10,
              "solidity": 0.2
             }
            },
            "type": "bar"
           }
          ],
          "barpolar": [
           {
            "marker": {
             "line": {
              "color": "#E5ECF6",
              "width": 0.5
             },
             "pattern": {
              "fillmode": "overlay",
              "size": 10,
              "solidity": 0.2
             }
            },
            "type": "barpolar"
           }
          ],
          "carpet": [
           {
            "aaxis": {
             "endlinecolor": "#2a3f5f",
             "gridcolor": "white",
             "linecolor": "white",
             "minorgridcolor": "white",
             "startlinecolor": "#2a3f5f"
            },
            "baxis": {
             "endlinecolor": "#2a3f5f",
             "gridcolor": "white",
             "linecolor": "white",
             "minorgridcolor": "white",
             "startlinecolor": "#2a3f5f"
            },
            "type": "carpet"
           }
          ],
          "choropleth": [
           {
            "colorbar": {
             "outlinewidth": 0,
             "ticks": ""
            },
            "type": "choropleth"
           }
          ],
          "contour": [
           {
            "colorbar": {
             "outlinewidth": 0,
             "ticks": ""
            },
            "colorscale": [
             [
              0,
              "#0d0887"
             ],
             [
              0.1111111111111111,
              "#46039f"
             ],
             [
              0.2222222222222222,
              "#7201a8"
             ],
             [
              0.3333333333333333,
              "#9c179e"
             ],
             [
              0.4444444444444444,
              "#bd3786"
             ],
             [
              0.5555555555555556,
              "#d8576b"
             ],
             [
              0.6666666666666666,
              "#ed7953"
             ],
             [
              0.7777777777777778,
              "#fb9f3a"
             ],
             [
              0.8888888888888888,
              "#fdca26"
             ],
             [
              1,
              "#f0f921"
             ]
            ],
            "type": "contour"
           }
          ],
          "contourcarpet": [
           {
            "colorbar": {
             "outlinewidth": 0,
             "ticks": ""
            },
            "type": "contourcarpet"
           }
          ],
          "heatmap": [
           {
            "colorbar": {
             "outlinewidth": 0,
             "ticks": ""
            },
            "colorscale": [
             [
              0,
              "#0d0887"
             ],
             [
              0.1111111111111111,
              "#46039f"
             ],
             [
              0.2222222222222222,
              "#7201a8"
             ],
             [
              0.3333333333333333,
              "#9c179e"
             ],
             [
              0.4444444444444444,
              "#bd3786"
             ],
             [
              0.5555555555555556,
              "#d8576b"
             ],
             [
              0.6666666666666666,
              "#ed7953"
             ],
             [
              0.7777777777777778,
              "#fb9f3a"
             ],
             [
              0.8888888888888888,
              "#fdca26"
             ],
             [
              1,
              "#f0f921"
             ]
            ],
            "type": "heatmap"
           }
          ],
          "heatmapgl": [
           {
            "colorbar": {
             "outlinewidth": 0,
             "ticks": ""
            },
            "colorscale": [
             [
              0,
              "#0d0887"
             ],
             [
              0.1111111111111111,
              "#46039f"
             ],
             [
              0.2222222222222222,
              "#7201a8"
             ],
             [
              0.3333333333333333,
              "#9c179e"
             ],
             [
              0.4444444444444444,
              "#bd3786"
             ],
             [
              0.5555555555555556,
              "#d8576b"
             ],
             [
              0.6666666666666666,
              "#ed7953"
             ],
             [
              0.7777777777777778,
              "#fb9f3a"
             ],
             [
              0.8888888888888888,
              "#fdca26"
             ],
             [
              1,
              "#f0f921"
             ]
            ],
            "type": "heatmapgl"
           }
          ],
          "histogram": [
           {
            "marker": {
             "pattern": {
              "fillmode": "overlay",
              "size": 10,
              "solidity": 0.2
             }
            },
            "type": "histogram"
           }
          ],
          "histogram2d": [
           {
            "colorbar": {
             "outlinewidth": 0,
             "ticks": ""
            },
            "colorscale": [
             [
              0,
              "#0d0887"
             ],
             [
              0.1111111111111111,
              "#46039f"
             ],
             [
              0.2222222222222222,
              "#7201a8"
             ],
             [
              0.3333333333333333,
              "#9c179e"
             ],
             [
              0.4444444444444444,
              "#bd3786"
             ],
             [
              0.5555555555555556,
              "#d8576b"
             ],
             [
              0.6666666666666666,
              "#ed7953"
             ],
             [
              0.7777777777777778,
              "#fb9f3a"
             ],
             [
              0.8888888888888888,
              "#fdca26"
             ],
             [
              1,
              "#f0f921"
             ]
            ],
            "type": "histogram2d"
           }
          ],
          "histogram2dcontour": [
           {
            "colorbar": {
             "outlinewidth": 0,
             "ticks": ""
            },
            "colorscale": [
             [
              0,
              "#0d0887"
             ],
             [
              0.1111111111111111,
              "#46039f"
             ],
             [
              0.2222222222222222,
              "#7201a8"
             ],
             [
              0.3333333333333333,
              "#9c179e"
             ],
             [
              0.4444444444444444,
              "#bd3786"
             ],
             [
              0.5555555555555556,
              "#d8576b"
             ],
             [
              0.6666666666666666,
              "#ed7953"
             ],
             [
              0.7777777777777778,
              "#fb9f3a"
             ],
             [
              0.8888888888888888,
              "#fdca26"
             ],
             [
              1,
              "#f0f921"
             ]
            ],
            "type": "histogram2dcontour"
           }
          ],
          "mesh3d": [
           {
            "colorbar": {
             "outlinewidth": 0,
             "ticks": ""
            },
            "type": "mesh3d"
           }
          ],
          "parcoords": [
           {
            "line": {
             "colorbar": {
              "outlinewidth": 0,
              "ticks": ""
             }
            },
            "type": "parcoords"
           }
          ],
          "pie": [
           {
            "automargin": true,
            "type": "pie"
           }
          ],
          "scatter": [
           {
            "fillpattern": {
             "fillmode": "overlay",
             "size": 10,
             "solidity": 0.2
            },
            "type": "scatter"
           }
          ],
          "scatter3d": [
           {
            "line": {
             "colorbar": {
              "outlinewidth": 0,
              "ticks": ""
             }
            },
            "marker": {
             "colorbar": {
              "outlinewidth": 0,
              "ticks": ""
             }
            },
            "type": "scatter3d"
           }
          ],
          "scattercarpet": [
           {
            "marker": {
             "colorbar": {
              "outlinewidth": 0,
              "ticks": ""
             }
            },
            "type": "scattercarpet"
           }
          ],
          "scattergeo": [
           {
            "marker": {
             "colorbar": {
              "outlinewidth": 0,
              "ticks": ""
             }
            },
            "type": "scattergeo"
           }
          ],
          "scattergl": [
           {
            "marker": {
             "colorbar": {
              "outlinewidth": 0,
              "ticks": ""
             }
            },
            "type": "scattergl"
           }
          ],
          "scattermapbox": [
           {
            "marker": {
             "colorbar": {
              "outlinewidth": 0,
              "ticks": ""
             }
            },
            "type": "scattermapbox"
           }
          ],
          "scatterpolar": [
           {
            "marker": {
             "colorbar": {
              "outlinewidth": 0,
              "ticks": ""
             }
            },
            "type": "scatterpolar"
           }
          ],
          "scatterpolargl": [
           {
            "marker": {
             "colorbar": {
              "outlinewidth": 0,
              "ticks": ""
             }
            },
            "type": "scatterpolargl"
           }
          ],
          "scatterternary": [
           {
            "marker": {
             "colorbar": {
              "outlinewidth": 0,
              "ticks": ""
             }
            },
            "type": "scatterternary"
           }
          ],
          "surface": [
           {
            "colorbar": {
             "outlinewidth": 0,
             "ticks": ""
            },
            "colorscale": [
             [
              0,
              "#0d0887"
             ],
             [
              0.1111111111111111,
              "#46039f"
             ],
             [
              0.2222222222222222,
              "#7201a8"
             ],
             [
              0.3333333333333333,
              "#9c179e"
             ],
             [
              0.4444444444444444,
              "#bd3786"
             ],
             [
              0.5555555555555556,
              "#d8576b"
             ],
             [
              0.6666666666666666,
              "#ed7953"
             ],
             [
              0.7777777777777778,
              "#fb9f3a"
             ],
             [
              0.8888888888888888,
              "#fdca26"
             ],
             [
              1,
              "#f0f921"
             ]
            ],
            "type": "surface"
           }
          ],
          "table": [
           {
            "cells": {
             "fill": {
              "color": "#EBF0F8"
             },
             "line": {
              "color": "white"
             }
            },
            "header": {
             "fill": {
              "color": "#C8D4E3"
             },
             "line": {
              "color": "white"
             }
            },
            "type": "table"
           }
          ]
         },
         "layout": {
          "annotationdefaults": {
           "arrowcolor": "#2a3f5f",
           "arrowhead": 0,
           "arrowwidth": 1
          },
          "autotypenumbers": "strict",
          "coloraxis": {
           "colorbar": {
            "outlinewidth": 0,
            "ticks": ""
           }
          },
          "colorscale": {
           "diverging": [
            [
             0,
             "#8e0152"
            ],
            [
             0.1,
             "#c51b7d"
            ],
            [
             0.2,
             "#de77ae"
            ],
            [
             0.3,
             "#f1b6da"
            ],
            [
             0.4,
             "#fde0ef"
            ],
            [
             0.5,
             "#f7f7f7"
            ],
            [
             0.6,
             "#e6f5d0"
            ],
            [
             0.7,
             "#b8e186"
            ],
            [
             0.8,
             "#7fbc41"
            ],
            [
             0.9,
             "#4d9221"
            ],
            [
             1,
             "#276419"
            ]
           ],
           "sequential": [
            [
             0,
             "#0d0887"
            ],
            [
             0.1111111111111111,
             "#46039f"
            ],
            [
             0.2222222222222222,
             "#7201a8"
            ],
            [
             0.3333333333333333,
             "#9c179e"
            ],
            [
             0.4444444444444444,
             "#bd3786"
            ],
            [
             0.5555555555555556,
             "#d8576b"
            ],
            [
             0.6666666666666666,
             "#ed7953"
            ],
            [
             0.7777777777777778,
             "#fb9f3a"
            ],
            [
             0.8888888888888888,
             "#fdca26"
            ],
            [
             1,
             "#f0f921"
            ]
           ],
           "sequentialminus": [
            [
             0,
             "#0d0887"
            ],
            [
             0.1111111111111111,
             "#46039f"
            ],
            [
             0.2222222222222222,
             "#7201a8"
            ],
            [
             0.3333333333333333,
             "#9c179e"
            ],
            [
             0.4444444444444444,
             "#bd3786"
            ],
            [
             0.5555555555555556,
             "#d8576b"
            ],
            [
             0.6666666666666666,
             "#ed7953"
            ],
            [
             0.7777777777777778,
             "#fb9f3a"
            ],
            [
             0.8888888888888888,
             "#fdca26"
            ],
            [
             1,
             "#f0f921"
            ]
           ]
          },
          "colorway": [
           "#636efa",
           "#EF553B",
           "#00cc96",
           "#ab63fa",
           "#FFA15A",
           "#19d3f3",
           "#FF6692",
           "#B6E880",
           "#FF97FF",
           "#FECB52"
          ],
          "font": {
           "color": "#2a3f5f"
          },
          "geo": {
           "bgcolor": "white",
           "lakecolor": "white",
           "landcolor": "#E5ECF6",
           "showlakes": true,
           "showland": true,
           "subunitcolor": "white"
          },
          "hoverlabel": {
           "align": "left"
          },
          "hovermode": "closest",
          "mapbox": {
           "style": "light"
          },
          "paper_bgcolor": "white",
          "plot_bgcolor": "#E5ECF6",
          "polar": {
           "angularaxis": {
            "gridcolor": "white",
            "linecolor": "white",
            "ticks": ""
           },
           "bgcolor": "#E5ECF6",
           "radialaxis": {
            "gridcolor": "white",
            "linecolor": "white",
            "ticks": ""
           }
          },
          "scene": {
           "xaxis": {
            "backgroundcolor": "#E5ECF6",
            "gridcolor": "white",
            "gridwidth": 2,
            "linecolor": "white",
            "showbackground": true,
            "ticks": "",
            "zerolinecolor": "white"
           },
           "yaxis": {
            "backgroundcolor": "#E5ECF6",
            "gridcolor": "white",
            "gridwidth": 2,
            "linecolor": "white",
            "showbackground": true,
            "ticks": "",
            "zerolinecolor": "white"
           },
           "zaxis": {
            "backgroundcolor": "#E5ECF6",
            "gridcolor": "white",
            "gridwidth": 2,
            "linecolor": "white",
            "showbackground": true,
            "ticks": "",
            "zerolinecolor": "white"
           }
          },
          "shapedefaults": {
           "line": {
            "color": "#2a3f5f"
           }
          },
          "ternary": {
           "aaxis": {
            "gridcolor": "white",
            "linecolor": "white",
            "ticks": ""
           },
           "baxis": {
            "gridcolor": "white",
            "linecolor": "white",
            "ticks": ""
           },
           "bgcolor": "#E5ECF6",
           "caxis": {
            "gridcolor": "white",
            "linecolor": "white",
            "ticks": ""
           }
          },
          "title": {
           "x": 0.05
          },
          "xaxis": {
           "automargin": true,
           "gridcolor": "white",
           "linecolor": "white",
           "ticks": "",
           "title": {
            "standoff": 15
           },
           "zerolinecolor": "white",
           "zerolinewidth": 2
          },
          "yaxis": {
           "automargin": true,
           "gridcolor": "white",
           "linecolor": "white",
           "ticks": "",
           "title": {
            "standoff": 15
           },
           "zerolinecolor": "white",
           "zerolinewidth": 2
          }
         }
        },
        "title": {
         "text": "Frequency of Repetitions of Transcriptions"
        },
        "updatemenus": [
         {
          "buttons": [
           {
            "args": [
             {
              "xaxis.type": "log",
              "yaxis.type": "log"
             }
            ],
            "label": "Log-Log Scale",
            "method": "relayout"
           },
           {
            "args": [
             {
              "xaxis.type": "linear",
              "yaxis.type": "linear"
             }
            ],
            "label": "Linear Scale",
            "method": "relayout"
           },
           {
            "args": [
             {
              "xaxis.type": "log",
              "yaxis.type": "linear"
             }
            ],
            "label": "Log X - Linear Y",
            "method": "relayout"
           },
           {
            "args": [
             {
              "xaxis.type": "linear",
              "yaxis.type": "log"
             }
            ],
            "label": "Linear X - Log Y",
            "method": "relayout"
           }
          ],
          "direction": "left",
          "pad": {
           "r": 10,
           "t": 10
          },
          "showactive": true,
          "type": "buttons",
          "x": 0.11,
          "xanchor": "left",
          "y": 1.15,
          "yanchor": "top"
         }
        ],
        "xaxis": {
         "title": {
          "text": "Number of Occurrences of Transcription"
         },
         "type": "log"
        },
        "yaxis": {
         "title": {
          "text": "Frequency (Count of Transcriptions)"
         },
         "type": "log"
        }
       }
      }
     },
     "metadata": {},
     "output_type": "display_data"
    }
   ],
   "source": [
    "# Prepare the data for Plotly\n",
    "transcription_counts = df['transcription'].value_counts()\n",
    "frequency_counts = transcription_counts.value_counts().sort_index()\n",
    "\n",
    "# Create a figure using Plotly\n",
    "fig = go.Figure()\n",
    "\n",
    "# Add scatter trace for the data points\n",
    "fig.add_trace(go.Scatter(\n",
    "    x=frequency_counts.index, \n",
    "    y=frequency_counts.values, \n",
    "    mode='markers+lines',\n",
    "    marker=dict(size=6, color='red'),\n",
    "    name='Frequency of Transcriptions',\n",
    "    hoverinfo='x+y'\n",
    "))\n",
    "\n",
    "# Update axis labels and title\n",
    "fig.update_layout(\n",
    "    title='Frequency of Repetitions of Transcriptions',\n",
    "    xaxis=dict(\n",
    "        title='Number of Occurrences of Transcription',\n",
    "        type='log',  # Initially set to log scale\n",
    "    ),\n",
    "    yaxis=dict(\n",
    "        title='Frequency (Count of Transcriptions)',\n",
    "        type='log',  # Initially set to log scale\n",
    "    ),\n",
    "    xaxis_title='Number of Occurrences of Transcription',\n",
    "    yaxis_title='Frequency (Count of Transcriptions)',\n",
    "    hovermode='closest'\n",
    ")\n",
    "\n",
    "# Add buttons to switch between log and linear scales\n",
    "fig.update_layout(\n",
    "    updatemenus=[\n",
    "        dict(\n",
    "            type=\"buttons\",\n",
    "            direction=\"left\",\n",
    "            buttons=list([\n",
    "                dict(\n",
    "                    args=[{\"xaxis.type\": \"log\", \"yaxis.type\": \"log\"}],\n",
    "                    label=\"Log-Log Scale\",\n",
    "                    method=\"relayout\"\n",
    "                ),\n",
    "                dict(\n",
    "                    args=[{\"xaxis.type\": \"linear\", \"yaxis.type\": \"linear\"}],\n",
    "                    label=\"Linear Scale\",\n",
    "                    method=\"relayout\"\n",
    "                ),\n",
    "                dict(\n",
    "                    args=[{\"xaxis.type\": \"log\", \"yaxis.type\": \"linear\"}],\n",
    "                    label=\"Log X - Linear Y\",\n",
    "                    method=\"relayout\"\n",
    "                ),\n",
    "                dict(\n",
    "                    args=[{\"xaxis.type\": \"linear\", \"yaxis.type\": \"log\"}],\n",
    "                    label=\"Linear X - Log Y\",\n",
    "                    method=\"relayout\"\n",
    "                )\n",
    "            ]),\n",
    "            pad={\"r\": 10, \"t\": 10},\n",
    "            showactive=True,\n",
    "            x=0.11,\n",
    "            xanchor=\"left\",\n",
    "            y=1.15,\n",
    "            yanchor=\"top\"\n",
    "        ),\n",
    "    ]\n",
    ")\n",
    "\n",
    "# Show the plot\n",
    "fig.show()\n"
   ]
  },
  {
   "cell_type": "markdown",
   "metadata": {},
   "source": [
    "## Filtering Transcriptions by Frequency\n",
    "\n",
    "To improve the quality and balance of the dataset, we filter the transcriptions based on their frequency. Transcriptions that occur either too frequently or too rarely can lead to imbalance or overfitting during model training. In this section, we:\n",
    "\n",
    "1. Set a range for transcription frequency.\n",
    "2. Filter the dataset to keep only transcriptions that fall within the desired range.\n",
    "3. Reset the index to ensure the filtered DataFrame has a clean, continuous index.\n",
    "4. Print the unique transcriptions in the filtered dataset to verify the diversity."
   ]
  },
  {
   "cell_type": "code",
   "execution_count": 4,
   "metadata": {},
   "outputs": [
    {
     "name": "stdout",
     "output_type": "stream",
     "text": [
      "['A' 'any' 'made' 'may' 'some' 'into' 'now' 'up' 'two' ')' ':' 'We' 'what'\n",
      " 'do' 'if' 'them' 'But' 'told' 'no' 'about' 'these' 'can' 'over' 'And'\n",
      " 'than' 'new' 'This' 'other' 'first' 'people' 'my' 'when' 'In' 'much'\n",
      " 'could' 'being' 'time' 'man' 'very' 'its' 'like' 'only' 'well' 'You'\n",
      " '...' \"'s\" 'me']\n"
     ]
    }
   ],
   "source": [
    "# Set the minimum and maximum sample counts for filtering transcriptions\n",
    "min_samples = 100  # Minimum number of occurrences for a transcription to be included\n",
    "max_samples = 200  # Maximum number of occurrences for a transcription to be included\n",
    "\n",
    "# Filter transcriptions based on the specified count thresholds\n",
    "class_counts = df['transcription'].value_counts()  # Get the count of each transcription\n",
    "classes_to_keep = class_counts[(class_counts >= min_samples) & (class_counts <= max_samples)].index  # Identify transcriptions to retain\n",
    "df_filtered = df[df['transcription'].isin(classes_to_keep)].copy()  # Create a filtered DataFrame containing only the selected transcriptions\n",
    "\n",
    "# Reset index after filtering to ensure a clean, continuous index\n",
    "df_filtered.reset_index(drop=True, inplace=True)\n",
    "\n",
    "# Print unique transcriptions remaining in the filtered dataset\n",
    "print(df_filtered['transcription'].unique())  # Helps to verify the diversity of retained transcriptions\n"
   ]
  },
  {
   "cell_type": "markdown",
   "metadata": {},
   "source": [
    "## Removing Stopwords and Specific Unwanted Transcriptions\n",
    "\n",
    "To further clean the dataset, we remove common stopwords and specific unwanted symbols or suffixes. Stopwords are words that carry little meaning, such as 'and', 'the', or 'of', which can add noise to the model training process. Additionally, certain symbols or suffixes are removed to make the data more consistent and useful for training.\n",
    "\n",
    "### Steps:\n",
    "1. **Download Stopwords**:  \n",
    "   Use NLTK to download the standard list of English stopwords, which are words that are generally not useful for model training.\n",
    "2. **Remove Specific Unwanted Transcriptions**:  \n",
    "   Update the set of stopwords with specific unwanted symbols, such as `')'`, `':'`, `'...'`, and `\"'s\"`, to further clean the dataset.\n",
    "3. **Filter Out Unwanted Transcriptions**:  \n",
    "   Remove all transcriptions from the dataset that match any of the stopwords or unwanted symbols. This step helps ensure that only meaningful transcriptions are retained."
   ]
  },
  {
   "cell_type": "code",
   "execution_count": 5,
   "metadata": {},
   "outputs": [
    {
     "name": "stdout",
     "output_type": "stream",
     "text": [
      "Number of remained unique values:  20\n",
      "Remained unique values:  ['A' 'made' 'may' 'two' 'We' 'But' 'told' 'And' 'new' 'This' 'first'\n",
      " 'people' 'In' 'much' 'could' 'time' 'man' 'like' 'well' 'You']\n"
     ]
    },
    {
     "name": "stderr",
     "output_type": "stream",
     "text": [
      "[nltk_data] Downloading package stopwords to\n",
      "[nltk_data]     C:\\Users\\Besitzer\\AppData\\Roaming\\nltk_data...\n",
      "[nltk_data]   Package stopwords is already up-to-date!\n"
     ]
    }
   ],
   "source": [
    "# Download stopwords list from NLTK\n",
    "nltk.download('stopwords')\n",
    "\n",
    "# Create a set of English stopwords\n",
    "stop_words = set(stopwords.words('english'))\n",
    "\n",
    "# Remove specific unwanted transcriptions by adding symbols to the stopwords set\n",
    "stop_words.update([')', ':', '...', \"'s\"])  # Adding symbols and suffixes to the stopwords set for further cleaning\n",
    "\n",
    "# Filter out transcriptions that are in the stopwords list\n",
    "df_filtered = df_filtered[~df_filtered['transcription'].isin(stop_words)]  # Remove transcriptions that match stopwords\n",
    "\n",
    "# Print the number of unique transcriptions remaining in the filtered dataset\n",
    "print('Number of remained unique values: ', df_filtered['transcription'].nunique())  # Display the count of unique values to verify filtering\n",
    "\n",
    "# Print the unique transcriptions remaining in the dataset\n",
    "print('Remained unique values: ', df_filtered['transcription'].unique())  # Display the remaining unique transcriptions for verification"
   ]
  },
  {
   "cell_type": "markdown",
   "metadata": {},
   "source": [
    "## Interactive Visualization of Transcription Counts\n",
    "\n",
    "In this section, we create a bar plot to visualize the distribution of transcriptions in the filtered dataset. Understanding the frequency of each transcription helps us identify any remaining imbalance in the dataset and assess the need for further processing.\n",
    "\n",
    "- **Plotting Frequency Distribution**: We plot the count of each transcription using a bar chart to observe the frequency distribution. This allows us to visually confirm that the dataset is reasonably balanced."
   ]
  },
  {
   "cell_type": "code",
   "execution_count": 6,
   "metadata": {},
   "outputs": [
    {
     "data": {
      "application/vnd.plotly.v1+json": {
       "config": {
        "plotlyServerURL": "https://plot.ly"
       },
       "data": [
        {
         "alignmentgroup": "True",
         "hovertemplate": "Transcription=%{x}<br>Count=%{y}<extra></extra>",
         "legendgroup": "",
         "marker": {
          "color": "#636efa",
          "pattern": {
           "shape": ""
          }
         },
         "name": "",
         "offsetgroup": "",
         "orientation": "v",
         "showlegend": false,
         "textposition": "auto",
         "type": "bar",
         "x": [
          "But",
          "In",
          "A",
          "may",
          "first",
          "man",
          "could",
          "time",
          "new",
          "like",
          "two",
          "This",
          "much",
          "made",
          "And",
          "people",
          "You",
          "well",
          "We",
          "told"
         ],
         "xaxis": "x",
         "y": [
          174,
          173,
          166,
          162,
          153,
          151,
          144,
          143,
          139,
          135,
          133,
          123,
          122,
          121,
          120,
          113,
          105,
          102,
          100,
          100
         ],
         "yaxis": "y"
        }
       ],
       "layout": {
        "barmode": "relative",
        "legend": {
         "tracegroupgap": 0
        },
        "template": {
         "data": {
          "bar": [
           {
            "error_x": {
             "color": "#2a3f5f"
            },
            "error_y": {
             "color": "#2a3f5f"
            },
            "marker": {
             "line": {
              "color": "white",
              "width": 0.5
             },
             "pattern": {
              "fillmode": "overlay",
              "size": 10,
              "solidity": 0.2
             }
            },
            "type": "bar"
           }
          ],
          "barpolar": [
           {
            "marker": {
             "line": {
              "color": "white",
              "width": 0.5
             },
             "pattern": {
              "fillmode": "overlay",
              "size": 10,
              "solidity": 0.2
             }
            },
            "type": "barpolar"
           }
          ],
          "carpet": [
           {
            "aaxis": {
             "endlinecolor": "#2a3f5f",
             "gridcolor": "#C8D4E3",
             "linecolor": "#C8D4E3",
             "minorgridcolor": "#C8D4E3",
             "startlinecolor": "#2a3f5f"
            },
            "baxis": {
             "endlinecolor": "#2a3f5f",
             "gridcolor": "#C8D4E3",
             "linecolor": "#C8D4E3",
             "minorgridcolor": "#C8D4E3",
             "startlinecolor": "#2a3f5f"
            },
            "type": "carpet"
           }
          ],
          "choropleth": [
           {
            "colorbar": {
             "outlinewidth": 0,
             "ticks": ""
            },
            "type": "choropleth"
           }
          ],
          "contour": [
           {
            "colorbar": {
             "outlinewidth": 0,
             "ticks": ""
            },
            "colorscale": [
             [
              0,
              "#0d0887"
             ],
             [
              0.1111111111111111,
              "#46039f"
             ],
             [
              0.2222222222222222,
              "#7201a8"
             ],
             [
              0.3333333333333333,
              "#9c179e"
             ],
             [
              0.4444444444444444,
              "#bd3786"
             ],
             [
              0.5555555555555556,
              "#d8576b"
             ],
             [
              0.6666666666666666,
              "#ed7953"
             ],
             [
              0.7777777777777778,
              "#fb9f3a"
             ],
             [
              0.8888888888888888,
              "#fdca26"
             ],
             [
              1,
              "#f0f921"
             ]
            ],
            "type": "contour"
           }
          ],
          "contourcarpet": [
           {
            "colorbar": {
             "outlinewidth": 0,
             "ticks": ""
            },
            "type": "contourcarpet"
           }
          ],
          "heatmap": [
           {
            "colorbar": {
             "outlinewidth": 0,
             "ticks": ""
            },
            "colorscale": [
             [
              0,
              "#0d0887"
             ],
             [
              0.1111111111111111,
              "#46039f"
             ],
             [
              0.2222222222222222,
              "#7201a8"
             ],
             [
              0.3333333333333333,
              "#9c179e"
             ],
             [
              0.4444444444444444,
              "#bd3786"
             ],
             [
              0.5555555555555556,
              "#d8576b"
             ],
             [
              0.6666666666666666,
              "#ed7953"
             ],
             [
              0.7777777777777778,
              "#fb9f3a"
             ],
             [
              0.8888888888888888,
              "#fdca26"
             ],
             [
              1,
              "#f0f921"
             ]
            ],
            "type": "heatmap"
           }
          ],
          "heatmapgl": [
           {
            "colorbar": {
             "outlinewidth": 0,
             "ticks": ""
            },
            "colorscale": [
             [
              0,
              "#0d0887"
             ],
             [
              0.1111111111111111,
              "#46039f"
             ],
             [
              0.2222222222222222,
              "#7201a8"
             ],
             [
              0.3333333333333333,
              "#9c179e"
             ],
             [
              0.4444444444444444,
              "#bd3786"
             ],
             [
              0.5555555555555556,
              "#d8576b"
             ],
             [
              0.6666666666666666,
              "#ed7953"
             ],
             [
              0.7777777777777778,
              "#fb9f3a"
             ],
             [
              0.8888888888888888,
              "#fdca26"
             ],
             [
              1,
              "#f0f921"
             ]
            ],
            "type": "heatmapgl"
           }
          ],
          "histogram": [
           {
            "marker": {
             "pattern": {
              "fillmode": "overlay",
              "size": 10,
              "solidity": 0.2
             }
            },
            "type": "histogram"
           }
          ],
          "histogram2d": [
           {
            "colorbar": {
             "outlinewidth": 0,
             "ticks": ""
            },
            "colorscale": [
             [
              0,
              "#0d0887"
             ],
             [
              0.1111111111111111,
              "#46039f"
             ],
             [
              0.2222222222222222,
              "#7201a8"
             ],
             [
              0.3333333333333333,
              "#9c179e"
             ],
             [
              0.4444444444444444,
              "#bd3786"
             ],
             [
              0.5555555555555556,
              "#d8576b"
             ],
             [
              0.6666666666666666,
              "#ed7953"
             ],
             [
              0.7777777777777778,
              "#fb9f3a"
             ],
             [
              0.8888888888888888,
              "#fdca26"
             ],
             [
              1,
              "#f0f921"
             ]
            ],
            "type": "histogram2d"
           }
          ],
          "histogram2dcontour": [
           {
            "colorbar": {
             "outlinewidth": 0,
             "ticks": ""
            },
            "colorscale": [
             [
              0,
              "#0d0887"
             ],
             [
              0.1111111111111111,
              "#46039f"
             ],
             [
              0.2222222222222222,
              "#7201a8"
             ],
             [
              0.3333333333333333,
              "#9c179e"
             ],
             [
              0.4444444444444444,
              "#bd3786"
             ],
             [
              0.5555555555555556,
              "#d8576b"
             ],
             [
              0.6666666666666666,
              "#ed7953"
             ],
             [
              0.7777777777777778,
              "#fb9f3a"
             ],
             [
              0.8888888888888888,
              "#fdca26"
             ],
             [
              1,
              "#f0f921"
             ]
            ],
            "type": "histogram2dcontour"
           }
          ],
          "mesh3d": [
           {
            "colorbar": {
             "outlinewidth": 0,
             "ticks": ""
            },
            "type": "mesh3d"
           }
          ],
          "parcoords": [
           {
            "line": {
             "colorbar": {
              "outlinewidth": 0,
              "ticks": ""
             }
            },
            "type": "parcoords"
           }
          ],
          "pie": [
           {
            "automargin": true,
            "type": "pie"
           }
          ],
          "scatter": [
           {
            "fillpattern": {
             "fillmode": "overlay",
             "size": 10,
             "solidity": 0.2
            },
            "type": "scatter"
           }
          ],
          "scatter3d": [
           {
            "line": {
             "colorbar": {
              "outlinewidth": 0,
              "ticks": ""
             }
            },
            "marker": {
             "colorbar": {
              "outlinewidth": 0,
              "ticks": ""
             }
            },
            "type": "scatter3d"
           }
          ],
          "scattercarpet": [
           {
            "marker": {
             "colorbar": {
              "outlinewidth": 0,
              "ticks": ""
             }
            },
            "type": "scattercarpet"
           }
          ],
          "scattergeo": [
           {
            "marker": {
             "colorbar": {
              "outlinewidth": 0,
              "ticks": ""
             }
            },
            "type": "scattergeo"
           }
          ],
          "scattergl": [
           {
            "marker": {
             "colorbar": {
              "outlinewidth": 0,
              "ticks": ""
             }
            },
            "type": "scattergl"
           }
          ],
          "scattermapbox": [
           {
            "marker": {
             "colorbar": {
              "outlinewidth": 0,
              "ticks": ""
             }
            },
            "type": "scattermapbox"
           }
          ],
          "scatterpolar": [
           {
            "marker": {
             "colorbar": {
              "outlinewidth": 0,
              "ticks": ""
             }
            },
            "type": "scatterpolar"
           }
          ],
          "scatterpolargl": [
           {
            "marker": {
             "colorbar": {
              "outlinewidth": 0,
              "ticks": ""
             }
            },
            "type": "scatterpolargl"
           }
          ],
          "scatterternary": [
           {
            "marker": {
             "colorbar": {
              "outlinewidth": 0,
              "ticks": ""
             }
            },
            "type": "scatterternary"
           }
          ],
          "surface": [
           {
            "colorbar": {
             "outlinewidth": 0,
             "ticks": ""
            },
            "colorscale": [
             [
              0,
              "#0d0887"
             ],
             [
              0.1111111111111111,
              "#46039f"
             ],
             [
              0.2222222222222222,
              "#7201a8"
             ],
             [
              0.3333333333333333,
              "#9c179e"
             ],
             [
              0.4444444444444444,
              "#bd3786"
             ],
             [
              0.5555555555555556,
              "#d8576b"
             ],
             [
              0.6666666666666666,
              "#ed7953"
             ],
             [
              0.7777777777777778,
              "#fb9f3a"
             ],
             [
              0.8888888888888888,
              "#fdca26"
             ],
             [
              1,
              "#f0f921"
             ]
            ],
            "type": "surface"
           }
          ],
          "table": [
           {
            "cells": {
             "fill": {
              "color": "#EBF0F8"
             },
             "line": {
              "color": "white"
             }
            },
            "header": {
             "fill": {
              "color": "#C8D4E3"
             },
             "line": {
              "color": "white"
             }
            },
            "type": "table"
           }
          ]
         },
         "layout": {
          "annotationdefaults": {
           "arrowcolor": "#2a3f5f",
           "arrowhead": 0,
           "arrowwidth": 1
          },
          "autotypenumbers": "strict",
          "coloraxis": {
           "colorbar": {
            "outlinewidth": 0,
            "ticks": ""
           }
          },
          "colorscale": {
           "diverging": [
            [
             0,
             "#8e0152"
            ],
            [
             0.1,
             "#c51b7d"
            ],
            [
             0.2,
             "#de77ae"
            ],
            [
             0.3,
             "#f1b6da"
            ],
            [
             0.4,
             "#fde0ef"
            ],
            [
             0.5,
             "#f7f7f7"
            ],
            [
             0.6,
             "#e6f5d0"
            ],
            [
             0.7,
             "#b8e186"
            ],
            [
             0.8,
             "#7fbc41"
            ],
            [
             0.9,
             "#4d9221"
            ],
            [
             1,
             "#276419"
            ]
           ],
           "sequential": [
            [
             0,
             "#0d0887"
            ],
            [
             0.1111111111111111,
             "#46039f"
            ],
            [
             0.2222222222222222,
             "#7201a8"
            ],
            [
             0.3333333333333333,
             "#9c179e"
            ],
            [
             0.4444444444444444,
             "#bd3786"
            ],
            [
             0.5555555555555556,
             "#d8576b"
            ],
            [
             0.6666666666666666,
             "#ed7953"
            ],
            [
             0.7777777777777778,
             "#fb9f3a"
            ],
            [
             0.8888888888888888,
             "#fdca26"
            ],
            [
             1,
             "#f0f921"
            ]
           ],
           "sequentialminus": [
            [
             0,
             "#0d0887"
            ],
            [
             0.1111111111111111,
             "#46039f"
            ],
            [
             0.2222222222222222,
             "#7201a8"
            ],
            [
             0.3333333333333333,
             "#9c179e"
            ],
            [
             0.4444444444444444,
             "#bd3786"
            ],
            [
             0.5555555555555556,
             "#d8576b"
            ],
            [
             0.6666666666666666,
             "#ed7953"
            ],
            [
             0.7777777777777778,
             "#fb9f3a"
            ],
            [
             0.8888888888888888,
             "#fdca26"
            ],
            [
             1,
             "#f0f921"
            ]
           ]
          },
          "colorway": [
           "#636efa",
           "#EF553B",
           "#00cc96",
           "#ab63fa",
           "#FFA15A",
           "#19d3f3",
           "#FF6692",
           "#B6E880",
           "#FF97FF",
           "#FECB52"
          ],
          "font": {
           "color": "#2a3f5f"
          },
          "geo": {
           "bgcolor": "white",
           "lakecolor": "white",
           "landcolor": "white",
           "showlakes": true,
           "showland": true,
           "subunitcolor": "#C8D4E3"
          },
          "hoverlabel": {
           "align": "left"
          },
          "hovermode": "closest",
          "mapbox": {
           "style": "light"
          },
          "paper_bgcolor": "white",
          "plot_bgcolor": "white",
          "polar": {
           "angularaxis": {
            "gridcolor": "#EBF0F8",
            "linecolor": "#EBF0F8",
            "ticks": ""
           },
           "bgcolor": "white",
           "radialaxis": {
            "gridcolor": "#EBF0F8",
            "linecolor": "#EBF0F8",
            "ticks": ""
           }
          },
          "scene": {
           "xaxis": {
            "backgroundcolor": "white",
            "gridcolor": "#DFE8F3",
            "gridwidth": 2,
            "linecolor": "#EBF0F8",
            "showbackground": true,
            "ticks": "",
            "zerolinecolor": "#EBF0F8"
           },
           "yaxis": {
            "backgroundcolor": "white",
            "gridcolor": "#DFE8F3",
            "gridwidth": 2,
            "linecolor": "#EBF0F8",
            "showbackground": true,
            "ticks": "",
            "zerolinecolor": "#EBF0F8"
           },
           "zaxis": {
            "backgroundcolor": "white",
            "gridcolor": "#DFE8F3",
            "gridwidth": 2,
            "linecolor": "#EBF0F8",
            "showbackground": true,
            "ticks": "",
            "zerolinecolor": "#EBF0F8"
           }
          },
          "shapedefaults": {
           "line": {
            "color": "#2a3f5f"
           }
          },
          "ternary": {
           "aaxis": {
            "gridcolor": "#DFE8F3",
            "linecolor": "#A2B1C6",
            "ticks": ""
           },
           "baxis": {
            "gridcolor": "#DFE8F3",
            "linecolor": "#A2B1C6",
            "ticks": ""
           },
           "bgcolor": "white",
           "caxis": {
            "gridcolor": "#DFE8F3",
            "linecolor": "#A2B1C6",
            "ticks": ""
           }
          },
          "title": {
           "x": 0.05
          },
          "xaxis": {
           "automargin": true,
           "gridcolor": "#EBF0F8",
           "linecolor": "#EBF0F8",
           "ticks": "",
           "title": {
            "standoff": 15
           },
           "zerolinecolor": "#EBF0F8",
           "zerolinewidth": 2
          },
          "yaxis": {
           "automargin": true,
           "gridcolor": "#EBF0F8",
           "linecolor": "#EBF0F8",
           "ticks": "",
           "title": {
            "standoff": 15
           },
           "zerolinecolor": "#EBF0F8",
           "zerolinewidth": 2
          }
         }
        },
        "title": {
         "font": {
          "size": 20
         },
         "text": "Counts of Each Transcription",
         "x": 0.5
        },
        "xaxis": {
         "anchor": "y",
         "domain": [
          0,
          1
         ],
         "tickangle": -45,
         "title": {
          "font": {
           "size": 16
          },
          "text": "Transcription"
         }
        },
        "yaxis": {
         "anchor": "x",
         "domain": [
          0,
          1
         ],
         "title": {
          "font": {
           "size": 16
          },
          "text": "Count"
         }
        }
       }
      }
     },
     "metadata": {},
     "output_type": "display_data"
    }
   ],
   "source": [
    "# Create a DataFrame for plotting purposes\n",
    "transcription_counts = df_filtered['transcription'].value_counts().reset_index()\n",
    "transcription_counts.columns = ['Transcription', 'Count']\n",
    "\n",
    "# Create an interactive bar plot using Plotly\n",
    "fig = px.bar(\n",
    "    transcription_counts, \n",
    "    x='Transcription', \n",
    "    y='Count', \n",
    "    title='Counts of Each Transcription',\n",
    "    labels={'Transcription': 'Transcription', 'Count': 'Count'},\n",
    "    hover_data=['Count'],  # Show the count on hover\n",
    "    template='plotly_white'  # Use a clean style for better visuals\n",
    ")\n",
    "\n",
    "# Customize the layout for better visibility\n",
    "fig.update_layout(\n",
    "    xaxis_tickangle=-45,  # Rotate x-axis labels for better readability\n",
    "    title_x=0.5,  # Center the title\n",
    "    title_font_size=20,  # Increase the title font size\n",
    "    xaxis_title_font_size=16,  # Increase x-axis label font size\n",
    "    yaxis_title_font_size=16  # Increase y-axis label font size\n",
    ")\n",
    "\n",
    "# Show the interactive plot\n",
    "fig.show()"
   ]
  },
  {
   "cell_type": "markdown",
   "metadata": {},
   "source": [
    "* preparing image data"
   ]
  },
  {
   "cell_type": "markdown",
   "metadata": {},
   "source": [
    "## Encoding Transcriptions\n",
    "\n",
    "To use categorical data such as transcriptions in a machine learning model, we need to convert them into a numerical format. In this step, we use `LabelEncoder` to transform each unique transcription into a unique integer label. This encoded format makes the labels usable in the deep learning model.\n"
   ]
  },
  {
   "cell_type": "code",
   "execution_count": 7,
   "metadata": {},
   "outputs": [
    {
     "data": {
      "text/html": [
       "<div>\n",
       "<style scoped>\n",
       "    .dataframe tbody tr th:only-of-type {\n",
       "        vertical-align: middle;\n",
       "    }\n",
       "\n",
       "    .dataframe tbody tr th {\n",
       "        vertical-align: top;\n",
       "    }\n",
       "\n",
       "    .dataframe thead th {\n",
       "        text-align: right;\n",
       "    }\n",
       "</style>\n",
       "<table border=\"1\" class=\"dataframe\">\n",
       "  <thead>\n",
       "    <tr style=\"text-align: right;\">\n",
       "      <th></th>\n",
       "      <th>line_id</th>\n",
       "      <th>result</th>\n",
       "      <th>graylevel</th>\n",
       "      <th>x</th>\n",
       "      <th>y</th>\n",
       "      <th>w</th>\n",
       "      <th>h</th>\n",
       "      <th>annotation</th>\n",
       "      <th>transcription</th>\n",
       "      <th>image_path</th>\n",
       "      <th>transcription_encoded</th>\n",
       "    </tr>\n",
       "  </thead>\n",
       "  <tbody>\n",
       "    <tr>\n",
       "      <th>0</th>\n",
       "      <td>a01-000u-00-00</td>\n",
       "      <td>ok</td>\n",
       "      <td>154</td>\n",
       "      <td>408</td>\n",
       "      <td>768</td>\n",
       "      <td>27</td>\n",
       "      <td>51</td>\n",
       "      <td>AT</td>\n",
       "      <td>A</td>\n",
       "      <td>../../words\\a01\\a01-000u\\a01-000u-00-00.png</td>\n",
       "      <td>0</td>\n",
       "    </tr>\n",
       "    <tr>\n",
       "      <th>2</th>\n",
       "      <td>a01-000u-02-03</td>\n",
       "      <td>ok</td>\n",
       "      <td>157</td>\n",
       "      <td>916</td>\n",
       "      <td>1136</td>\n",
       "      <td>281</td>\n",
       "      <td>46</td>\n",
       "      <td>VBN</td>\n",
       "      <td>made</td>\n",
       "      <td>../../words\\a01\\a01-000u\\a01-000u-02-03.png</td>\n",
       "      <td>10</td>\n",
       "    </tr>\n",
       "    <tr>\n",
       "      <th>3</th>\n",
       "      <td>a01-000x-00-00</td>\n",
       "      <td>ok</td>\n",
       "      <td>182</td>\n",
       "      <td>375</td>\n",
       "      <td>767</td>\n",
       "      <td>35</td>\n",
       "      <td>67</td>\n",
       "      <td>AT</td>\n",
       "      <td>A</td>\n",
       "      <td>../../words\\a01\\a01-000x\\a01-000x-00-00.png</td>\n",
       "      <td>0</td>\n",
       "    </tr>\n",
       "    <tr>\n",
       "      <th>5</th>\n",
       "      <td>a01-000x-01-08</td>\n",
       "      <td>ok</td>\n",
       "      <td>181</td>\n",
       "      <td>1649</td>\n",
       "      <td>931</td>\n",
       "      <td>125</td>\n",
       "      <td>77</td>\n",
       "      <td>VBN</td>\n",
       "      <td>made</td>\n",
       "      <td>../../words\\a01\\a01-000x\\a01-000x-01-08.png</td>\n",
       "      <td>10</td>\n",
       "    </tr>\n",
       "    <tr>\n",
       "      <th>6</th>\n",
       "      <td>a01-003-00-02</td>\n",
       "      <td>ok</td>\n",
       "      <td>176</td>\n",
       "      <td>749</td>\n",
       "      <td>945</td>\n",
       "      <td>127</td>\n",
       "      <td>56</td>\n",
       "      <td>MD</td>\n",
       "      <td>may</td>\n",
       "      <td>../../words\\a01\\a01-003\\a01-003-00-02.png</td>\n",
       "      <td>12</td>\n",
       "    </tr>\n",
       "  </tbody>\n",
       "</table>\n",
       "</div>"
      ],
      "text/plain": [
       "          line_id result graylevel     x     y    w   h annotation  \\\n",
       "0  a01-000u-00-00     ok       154   408   768   27  51         AT   \n",
       "2  a01-000u-02-03     ok       157   916  1136  281  46        VBN   \n",
       "3  a01-000x-00-00     ok       182   375   767   35  67         AT   \n",
       "5  a01-000x-01-08     ok       181  1649   931  125  77        VBN   \n",
       "6   a01-003-00-02     ok       176   749   945  127  56         MD   \n",
       "\n",
       "  transcription                                   image_path  \\\n",
       "0             A  ../../words\\a01\\a01-000u\\a01-000u-00-00.png   \n",
       "2          made  ../../words\\a01\\a01-000u\\a01-000u-02-03.png   \n",
       "3             A  ../../words\\a01\\a01-000x\\a01-000x-00-00.png   \n",
       "5          made  ../../words\\a01\\a01-000x\\a01-000x-01-08.png   \n",
       "6           may    ../../words\\a01\\a01-003\\a01-003-00-02.png   \n",
       "\n",
       "   transcription_encoded  \n",
       "0                      0  \n",
       "2                     10  \n",
       "3                      0  \n",
       "5                     10  \n",
       "6                     12  "
      ]
     },
     "metadata": {},
     "output_type": "display_data"
    },
    {
     "name": "stdout",
     "output_type": "stream",
     "text": [
      "Transcription Encoding Mapping:\n",
      "'A' : 0\n",
      "'And' : 1\n",
      "'But' : 2\n",
      "'In' : 3\n",
      "'This' : 4\n",
      "'We' : 5\n",
      "'You' : 6\n",
      "'could' : 7\n",
      "'first' : 8\n",
      "'like' : 9\n",
      "'made' : 10\n",
      "'man' : 11\n",
      "'may' : 12\n",
      "'much' : 13\n",
      "'new' : 14\n",
      "'people' : 15\n",
      "'time' : 16\n",
      "'told' : 17\n",
      "'two' : 18\n",
      "'well' : 19\n"
     ]
    }
   ],
   "source": [
    "# Encode the transcriptions\n",
    "le = LabelEncoder()\n",
    "df_filtered['transcription_encoded'] = le.fit_transform(df_filtered['transcription'])  # Encode transcriptions to numerical values\n",
    "\n",
    "# Display the first few rows of the updated DataFrame to verify encoding\n",
    "display(df_filtered.head())\n",
    "\n",
    "# Create a mapping between transcriptions and their encoded labels\n",
    "transcription_mapping = dict(zip(le.classes_, le.transform(le.classes_)))\n",
    "print(\"Transcription Encoding Mapping:\")\n",
    "for transcription, code in transcription_mapping.items():\n",
    "    print(f\"'{transcription}' : {code}\")\n",
    "\n",
    "\n"
   ]
  },
  {
   "cell_type": "markdown",
   "metadata": {},
   "source": [
    "## Preprocessing Images\n",
    "\n",
    "To prepare the images for model training, we need to process them into a consistent format that our model can use. In this step, we:\n",
    "1. **Load Images**: Convert images to RGB format for uniformity.\n",
    "2. **Resize Images**: Resize them to `(32, 32)` to match the input requirements for our model.\n",
    "3. **Apply Preprocessing**: Use the `preprocess_input()` function from VGG16, which ensures the images are in the correct format for the VGG16 model.\n",
    "\n",
    "We encapsulate this logic in a function for modularity and reusability.\n"
   ]
  },
  {
   "cell_type": "code",
   "execution_count": 10,
   "metadata": {},
   "outputs": [],
   "source": [
    "# Function to preprocess images and extract features and labels\n",
    "def preprocess_images(df, width=32, height=32):\n",
    "    X, Y = [], []\n",
    "    for index, row in df.iterrows():\n",
    "        # Open and preprocess each image\n",
    "        image = Image.open(row['image_path']).convert('RGB').resize((width, height))  # Convert to RGB and resize\n",
    "        image = np.array(image)\n",
    "        image = preprocess_input(image)  # VGG16 preprocessing\n",
    "        X.append(image)\n",
    "        Y.append(row['transcription_encoded'])\n",
    "    return np.array(X), np.array(Y)\n",
    "\n",
    "# Preprocess images and extract features (X) and labels (Y)\n",
    "X, Y = preprocess_images(df_filtered)"
   ]
  },
  {
   "cell_type": "markdown",
   "metadata": {},
   "source": [
    "## Normalizing and Verifying Data\n",
    "\n",
    "After preprocessing, we normalize the pixel values of the images to be between `0` and `1`. This normalization step helps in faster convergence during model training. We also verify the range of values to ensure the normalization is done correctly. Lastly, we check that the number of features (`X`) matches the number of labels (`Y`), ensuring data consistency.\n"
   ]
  },
  {
   "cell_type": "code",
   "execution_count": 11,
   "metadata": {},
   "outputs": [
    {
     "name": "stdout",
     "output_type": "stream",
     "text": [
      "Min: -0.477, Max: 0.592\n",
      "X and Y have the same length:  True\n"
     ]
    }
   ],
   "source": [
    "# Normalize the features and verify\n",
    "X = X / 255.0  # Normalize images to scale pixel values between 0 and 1\n",
    "print('Min: %.3f, Max: %.3f' % (X.min(), X.max()))  # Check normalization range\n",
    "\n",
    "# Verify the length of X and Y\n",
    "print('X and Y have the same length: ', len(X) == len(Y))  # Verify consistency"
   ]
  },
  {
   "cell_type": "markdown",
   "metadata": {},
   "source": [
    "## Splitting the Data into Training and Testing Sets\n",
    "\n",
    "After preprocessing and encoding, we need to split the dataset into training and testing sets to train our model and evaluate its performance. In this step, we use `train_test_split` from Scikit-learn:\n",
    "\n",
    "- **Training Set**: Used to train the deep learning model.\n",
    "- **Testing Set**: Used to evaluate how well the model generalizes to unseen data.\n",
    "\n",
    "We also use stratification to ensure that the class distribution in the training and testing sets is similar, which helps maintain balance between different classes.\n"
   ]
  },
  {
   "cell_type": "code",
   "execution_count": 12,
   "metadata": {},
   "outputs": [],
   "source": [
    "\n",
    "# Split the dataset into training and testing sets\n",
    "X_train, X_test, Y_train, Y_test = train_test_split(\n",
    "    X, Y, \n",
    "    test_size=0.2,  # 20% of the data will be used for testing\n",
    "    random_state=42,  # Set random seed for reproducibility\n",
    "    stratify=Y  # Ensure class distribution remains balanced between train and test sets\n",
    ")\n",
    "\n",
    "# X_train, X_test: Feature sets for training and testing\n",
    "# Y_train, Y_test: Corresponding labels for training and testing\n"
   ]
  },
  {
   "cell_type": "markdown",
   "metadata": {},
   "source": [
    "## Visualizing a Random Sample Image with its Transcription\n",
    "\n",
    "In this step, we visualize a random sample image from the training set along with its corresponding original transcription. This random selection helps in verifying that our preprocessing, encoding, and data preparation steps are working correctly across different samples.\n",
    "\n",
    "### Steps:\n",
    "1. **Select a Random Image**: Randomly select an index from the training set.\n",
    "2. **Find the Original Transcription**: Use the selected index to look up the corresponding transcription from the DataFrame.\n",
    "3. **Display the Image**: Display the randomly selected image and its transcription.\n"
   ]
  },
  {
   "cell_type": "code",
   "execution_count": 13,
   "metadata": {},
   "outputs": [
    {
     "name": "stderr",
     "output_type": "stream",
     "text": [
      "Clipping input data to the valid range for imshow with RGB data ([0..1] for floats or [0..255] for integers).\n"
     ]
    },
    {
     "name": "stdout",
     "output_type": "stream",
     "text": [
      "Translation = In\n"
     ]
    },
    {
     "data": {
      "image/png": "[encoded data removed]",
      "text/plain": [
       "<Figure size 640x480 with 1 Axes>"
      ]
     },
     "metadata": {},
     "output_type": "display_data"
    }
   ],
   "source": [
    "# Display a random sample from the training set\n",
    "random_idx = np.random.randint(len(Y_train))  # Randomly select an index from the training set\n",
    "\n",
    "# Find the corresponding original transcription using the encoded value\n",
    "idx = np.where(df_filtered['transcription_encoded'].values == Y_train[random_idx])[0][0]  # Find the index in the DataFrame corresponding to the encoded label\n",
    "print('Translation =', df_filtered['transcription'].iloc[idx])  # Print the original transcription\n",
    "\n",
    "# Display the randomly selected sample image from the training set\n",
    "plt.imshow(X_train[random_idx], cmap='gray')  # Display the image in grayscale\n",
    "plt.title('Random Sample Image from Training Set')\n",
    "plt.axis('off')  # Hide the axis for better visualization\n",
    "plt.show()\n"
   ]
  },
  {
   "cell_type": "markdown",
   "metadata": {},
   "source": [
    "## Calculating Class Weights Manually\n",
    "\n",
    "To address potential class imbalances in the dataset, we manually calculate class weights. When the dataset has some classes that are much more frequent than others, training the model without compensation may result in poor performance for the minority classes. By using class weights, we assign higher importance to less represented classes to ensure the model learns effectively from all samples.\n",
    "\n",
    "### Steps:\n",
    "1. **Count Class Instances**: Calculate the number of instances for each class in the training set.\n",
    "2. **Normalize Class Weights**: Calculate the relative weight of each class to ensure all weights sum to one. A small smoothing factor is added to avoid division issues.\n",
    "3. **Create Class Weights Dictionary**: Create a dictionary that maps each class label to its corresponding weight, making it easy to pass to the model during training.\n",
    "\n",
    "\n",
    "This step is optional and recommended if there is a noticeable class imbalance."
   ]
  },
  {
   "cell_type": "code",
   "execution_count": 14,
   "metadata": {},
   "outputs": [
    {
     "name": "stdout",
     "output_type": "stream",
     "text": [
      "Class Weights Dictionary (Manual): {0: 0.0620625135166647, 1: 0.04479702028198023, 2: 0.0648623232303973, 3: 0.06439568827810854, 4: 0.04573029018655776, 5: 0.03733086104535992, 6: 0.039197400854515, 7: 0.053663084375466845, 8: 0.05692952904148823, 9: 0.05039663970944547, 10: 0.045263655234269, 11: 0.05646289408919947, 12: 0.06066260865979838, 13: 0.04573029018655776, 14: 0.05179654456631177, 15: 0.042463845520536385, 16: 0.053196449423178076, 17: 0.03733086104535992, 18: 0.04946336980486792, 19: 0.038264130949937455}\n"
     ]
    }
   ],
   "source": [
    "# Calculate the number of instances for each class in the training set\n",
    "class_counts = np.unique(Y_train, return_counts=True)[1]  # Get the count of instances for each class label\n",
    "max_count = np.max(class_counts)  # Find the maximum count to normalize other counts\n",
    "\n",
    "# Smoothing factor to avoid zero weight\n",
    "smooth_factor = 1e-6\n",
    "\n",
    "# Step 2: Calculate class weights manually based on class distribution\n",
    "class_weights_manual = class_counts / max_count  # Calculate normalized weights based on the highest frequency class\n",
    "class_weights_manual += smooth_factor  # Add a small factor to avoid zero weights\n",
    "\n",
    "# Step 3: Create a dictionary of class weights\n",
    "class_weights_dict_manual = {\n",
    "    label: weight / np.sum(class_weights_manual) for label, weight in zip(np.unique(Y_train), class_weights_manual)\n",
    "}  # Normalize weights to ensure the sum is 1\n",
    "\n",
    "# Output the class weights dictionary for reference\n",
    "print(\"Class Weights Dictionary (Manual):\", class_weights_dict_manual)"
   ]
  },
  {
   "cell_type": "markdown",
   "metadata": {},
   "source": [
    "## Data Augmentation with ImageDataGenerator\n",
    "\n",
    "To improve the generalization ability of the model, we apply data augmentation to the training images using `ImageDataGenerator`. Data augmentation helps the model become more robust by introducing variations that make it less likely to overfit the training data.\n",
    "\n",
    "- **Training Data Augmentation**: We apply random transformations, such as width and height shifts, and rotations, to create a more diverse training set.\n",
    "- **Testing Data**: The testing data is not augmented to ensure consistency during model evaluation.\n",
    "\n",
    "### Parameters:\n",
    "- **`width_shift_range`**: Randomly shift images horizontally by up to 10% of their width.\n",
    "- **`height_shift_range`**: Randomly shift images vertically by up to 10% of their height.\n",
    "- **`rotation_range`**: Randomly rotate images within a range of 5 degrees.\n",
    "\n",
    "This step helps create augmented versions of the training data in real-time during model training.\n"
   ]
  },
  {
   "cell_type": "code",
   "execution_count": 15,
   "metadata": {},
   "outputs": [],
   "source": [
    "# Data Augmentation with ImageDataGenerator\n",
    "# Define data augmentation parameters for the training dataset\n",
    "train_datagen = ImageDataGenerator(\n",
    "    width_shift_range=0.1,  # Randomly shift images horizontally by up to 10% of the width\n",
    "    height_shift_range=0.1,  # Randomly shift images vertically by up to 10% of the height\n",
    "    rotation_range=5  # Randomly rotate images within a range of 5 degrees\n",
    ")\n",
    "\n",
    "# For the test dataset, we do not apply augmentation to ensure consistent evaluation\n",
    "test_datagen = ImageDataGenerator()\n",
    "\n",
    "# Create training and testing datasets with specified batch sizes\n",
    "train_dataset = train_datagen.flow(X_train, Y_train, batch_size=64)  # Apply augmentation during training\n",
    "test_dataset = test_datagen.flow(X_test, Y_test, batch_size=64)  # No augmentation applied to test data"
   ]
  },
  {
   "cell_type": "markdown",
   "metadata": {},
   "source": [
    "## Setting Up Early Stopping and Model Checkpoint Callbacks\n",
    "\n",
    "In this step, we define two key callbacks to ensure efficient training of our deep learning model:\n",
    "\n",
    "1. **Early Stopping**: Helps prevent overfitting by stopping the training process when the validation accuracy stops improving after a set number of epochs.\n",
    "2. **Model Checkpoint**: Saves the model with the best performance on the validation set. This allows us to restore the best version of the model during training.\n",
    "\n",
    "### Callback Parameters:\n",
    "- **`patience`**: Defines how many epochs to wait for an improvement before stopping.\n",
    "- **`min_delta`**: Minimum change required in the monitored metric to qualify as an improvement.\n",
    "- **`mode` and `monitor`**: Define whether to monitor for increasing or decreasing values and which metric to track.\n",
    "- **`save_best_only`**: If true, only saves the model when there is an improvement in the monitored metric.\n",
    "\n",
    "Using these callbacks, we can ensure that the model stops training at the optimal point and that the best-performing version of the model is saved.\n",
    "\n"
   ]
  },
  {
   "cell_type": "code",
   "execution_count": 16,
   "metadata": {},
   "outputs": [],
   "source": [
    "# Early Stopping and Model Checkpoint Callbacks\n",
    "\n",
    "# Define EarlyStopping to prevent overfitting\n",
    "early_stopping = EarlyStopping(\n",
    "    patience=30,  # Wait 30 epochs for an improvement in the monitored metric before stopping\n",
    "    min_delta=0.01,  # Minimum change in the monitored metric to be considered an improvement (1% change)\n",
    "    verbose=1,  # Verbose mode to print messages about when training stops\n",
    "    mode='min',  # Mode to minimize the monitored metric ('val_loss' or other decreasing metrics)\n",
    "    monitor='val_accuracy'  # Monitor validation accuracy for early stopping\n",
    ")\n",
    "\n",
    "# Define ModelCheckpoint to save the best version of the model during training\n",
    "model_checkpoint = ModelCheckpoint(\n",
    "    filepath=\"../model_checkpoint/CNN.keras\",  # Filepath to save the model checkpoint\n",
    "    monitor=\"val_accuracy\",  # Monitor validation accuracy to determine the best model\n",
    "    save_best_only=True,  # Save the model only when there is an improvement in validation accuracy\n",
    "    mode=\"max\"  # Mode to maximize the monitored metric\n",
    ")"
   ]
  },
  {
   "cell_type": "markdown",
   "metadata": {},
   "source": [
    "## Building the Custom Model with VGG16 as Base\n",
    "\n",
    "In this step, we build a custom deep learning model using the VGG16 architecture as the base. The VGG16 model is used as a feature extractor, while we add custom layers on top to make it suitable for our specific task.\n",
    "\n",
    "### Steps:\n",
    "1. **Load Pre-trained VGG16 Model**:\n",
    "   - Load the VGG16 model with weights pre-trained on the ImageNet dataset.\n",
    "   - The top layers are excluded (`include_top=False`) to use VGG16 as a feature extractor.\n",
    "2. **Freeze VGG16 Layers**:\n",
    "   - Set all layers in the base model to non-trainable. This prevents the weights of the pre-trained layers from being updated during training.\n",
    "3. **Add Custom Layers**:\n",
    "   - **GlobalAveragePooling2D**: Reduce the dimensionality of the feature maps from VGG16.\n",
    "   - **Dense Layers**: Add fully connected layers to learn the specific patterns of the dataset.\n",
    "   - **Dropout Layers**: Add dropout for regularization, preventing overfitting.\n",
    "4. **Compile the Model**:\n",
    "   - Compile the model with an Adam optimizer and sparse categorical cross-entropy as the loss function.\n",
    "\n",
    "Using VGG16 as a base model allows us to leverage powerful pre-trained features while adding custom layers to adapt the model to our handwritten transcription recognition task.\n"
   ]
  },
  {
   "cell_type": "code",
   "execution_count": 17,
   "metadata": {},
   "outputs": [
    {
     "name": "stdout",
     "output_type": "stream",
     "text": [
      "WARNING:tensorflow:From C:\\Users\\Besitzer\\AppData\\Local\\Packages\\PythonSoftwareFoundation.Python.3.11_qbz5n2kfra8p0\\LocalCache\\local-packages\\Python311\\site-packages\\keras\\src\\backend.py:1398: The name tf.executing_eagerly_outside_functions is deprecated. Please use tf.compat.v1.executing_eagerly_outside_functions instead.\n",
      "\n",
      "WARNING:tensorflow:From C:\\Users\\Besitzer\\AppData\\Local\\Packages\\PythonSoftwareFoundation.Python.3.11_qbz5n2kfra8p0\\LocalCache\\local-packages\\Python311\\site-packages\\keras\\src\\layers\\pooling\\max_pooling2d.py:161: The name tf.nn.max_pool is deprecated. Please use tf.nn.max_pool2d instead.\n",
      "\n",
      "WARNING:tensorflow:From C:\\Users\\Besitzer\\AppData\\Local\\Packages\\PythonSoftwareFoundation.Python.3.11_qbz5n2kfra8p0\\LocalCache\\local-packages\\Python311\\site-packages\\keras\\src\\optimizers\\__init__.py:309: The name tf.train.Optimizer is deprecated. Please use tf.compat.v1.train.Optimizer instead.\n",
      "\n"
     ]
    }
   ],
   "source": [
    "# Building the Custom Model with VGG16 as Base\n",
    "\n",
    "# Step 1: Determine the number of unique classes\n",
    "n_class = len(np.unique(Y))  # Use the number of unique classes as the output size for final layer\n",
    "\n",
    "# Step 2: Load the VGG16 model pre-trained on ImageNet, without the fully connected top layers\n",
    "base_model = VGG16(weights='imagenet', include_top=False, input_shape=(32, 32, 3))  # Use input shape of (32, 32, 3)\n",
    "\n",
    "# Step 3: Freeze all layers in VGG16 to retain pre-trained features\n",
    "for layer in base_model.layers:\n",
    "    layer.trainable = False  # Prevent updating the weights of the pre-trained VGG16 layers\n",
    "\n",
    "# Step 4: Add custom layers to adapt VGG16 to our task\n",
    "model = Sequential([\n",
    "    base_model,  # Base VGG16 model\n",
    "    GlobalAveragePooling2D(),  # Pool the features extracted by VGG16\n",
    "    Dense(1024, activation='relu'),  # First fully connected layer with ReLU activation\n",
    "    Dropout(0.3),  # Dropout layer to prevent overfitting\n",
    "    Dense(512, activation='relu'),  # Second fully connected layer with ReLU activation\n",
    "    Dropout(0.3),  # Dropout layer for further regularization\n",
    "    Dense(n_class, activation='softmax')  # Output layer with softmax activation to classify into 'n_class' categories\n",
    "])\n",
    "\n",
    "# Step 5: Compile the model for training\n",
    "model.compile(\n",
    "    optimizer='adam',  # Adam optimizer for adaptive learning rate\n",
    "    loss='sparse_categorical_crossentropy',  # Use sparse categorical cross-entropy as the loss function\n",
    "    metrics=['accuracy']  # Track accuracy during training\n",
    ")\n"
   ]
  },
  {
   "cell_type": "markdown",
   "metadata": {},
   "source": [
    "## Training the Model\n",
    "\n",
    "In this step, we train our custom deep learning model using the training dataset and validate its performance using the test dataset.\n",
    "\n",
    "### Key Elements:\n",
    "- **Training Dataset**: The augmented training dataset is fed to the model to learn patterns.\n",
    "- **Epochs**: Set to 50, defining the number of times the model will iterate over the training dataset.\n",
    "- **Class Weights**: We provide `class_weights_dict_manual` to help balance the class distribution and improve learning for minority classes.\n",
    "- **Validation Data**: The validation set is used to evaluate the model's performance at each epoch, providing insights into how well the model generalizes.\n",
    "- **Callbacks**: \n",
    "  - **Early Stopping**: Stops training early if validation performance stops improving, preventing overfitting.\n",
    "  - **Model Checkpoint**: Saves the model with the best validation performance for future use.\n"
   ]
  },
  {
   "cell_type": "code",
   "execution_count": 18,
   "metadata": {},
   "outputs": [
    {
     "name": "stdout",
     "output_type": "stream",
     "text": [
      "Epoch 1/50\n",
      "WARNING:tensorflow:From C:\\Users\\Besitzer\\AppData\\Local\\Packages\\PythonSoftwareFoundation.Python.3.11_qbz5n2kfra8p0\\LocalCache\\local-packages\\Python311\\site-packages\\keras\\src\\utils\\tf_utils.py:492: The name tf.ragged.RaggedTensorValue is deprecated. Please use tf.compat.v1.ragged.RaggedTensorValue instead.\n",
      "\n",
      "WARNING:tensorflow:From C:\\Users\\Besitzer\\AppData\\Local\\Packages\\PythonSoftwareFoundation.Python.3.11_qbz5n2kfra8p0\\LocalCache\\local-packages\\Python311\\site-packages\\keras\\src\\engine\\base_layer_utils.py:384: The name tf.executing_eagerly_outside_functions is deprecated. Please use tf.compat.v1.executing_eagerly_outside_functions instead.\n",
      "\n",
      "34/34 [==============================] - 16s 360ms/step - loss: 0.1178 - accuracy: 0.2730 - val_loss: 1.7426 - val_accuracy: 0.4590\n",
      "Epoch 2/50\n",
      "34/34 [==============================] - 11s 313ms/step - loss: 0.0820 - accuracy: 0.4643 - val_loss: 1.3708 - val_accuracy: 0.6063\n",
      "Epoch 3/50\n",
      "34/34 [==============================] - 12s 351ms/step - loss: 0.0689 - accuracy: 0.5506 - val_loss: 1.2133 - val_accuracy: 0.6007\n",
      "Epoch 4/50\n",
      "34/34 [==============================] - 14s 428ms/step - loss: 0.0605 - accuracy: 0.6024 - val_loss: 1.0826 - val_accuracy: 0.6549\n",
      "Epoch 5/50\n",
      "34/34 [==============================] - 14s 400ms/step - loss: 0.0551 - accuracy: 0.6272 - val_loss: 1.0454 - val_accuracy: 0.6716\n",
      "Epoch 6/50\n",
      "34/34 [==============================] - 12s 364ms/step - loss: 0.0520 - accuracy: 0.6538 - val_loss: 1.0064 - val_accuracy: 0.6996\n",
      "Epoch 7/50\n",
      "34/34 [==============================] - 12s 369ms/step - loss: 0.0478 - accuracy: 0.6762 - val_loss: 0.9133 - val_accuracy: 0.7034\n",
      "Epoch 8/50\n",
      "34/34 [==============================] - 14s 411ms/step - loss: 0.0451 - accuracy: 0.6944 - val_loss: 0.8865 - val_accuracy: 0.7108\n",
      "Epoch 9/50\n",
      "34/34 [==============================] - 17s 513ms/step - loss: 0.0446 - accuracy: 0.6981 - val_loss: 0.8903 - val_accuracy: 0.7071\n",
      "Epoch 10/50\n",
      "34/34 [==============================] - 17s 487ms/step - loss: 0.0413 - accuracy: 0.7149 - val_loss: 0.8123 - val_accuracy: 0.7425\n",
      "Epoch 11/50\n",
      "34/34 [==============================] - 13s 380ms/step - loss: 0.0387 - accuracy: 0.7429 - val_loss: 0.8957 - val_accuracy: 0.7071\n",
      "Epoch 12/50\n",
      "34/34 [==============================] - 12s 365ms/step - loss: 0.0397 - accuracy: 0.7345 - val_loss: 0.8181 - val_accuracy: 0.7351\n",
      "Epoch 13/50\n",
      "34/34 [==============================] - 13s 370ms/step - loss: 0.0364 - accuracy: 0.7536 - val_loss: 0.7580 - val_accuracy: 0.7575\n",
      "Epoch 14/50\n",
      "34/34 [==============================] - 12s 353ms/step - loss: 0.0353 - accuracy: 0.7653 - val_loss: 0.8251 - val_accuracy: 0.7425\n",
      "Epoch 15/50\n",
      "34/34 [==============================] - 12s 353ms/step - loss: 0.0335 - accuracy: 0.7690 - val_loss: 0.7794 - val_accuracy: 0.7481\n",
      "Epoch 16/50\n",
      "34/34 [==============================] - 13s 368ms/step - loss: 0.0319 - accuracy: 0.7765 - val_loss: 0.7540 - val_accuracy: 0.7668\n",
      "Epoch 17/50\n",
      "34/34 [==============================] - 12s 370ms/step - loss: 0.0325 - accuracy: 0.7802 - val_loss: 0.7745 - val_accuracy: 0.7425\n",
      "Epoch 18/50\n",
      "34/34 [==============================] - 13s 375ms/step - loss: 0.0311 - accuracy: 0.7909 - val_loss: 0.7341 - val_accuracy: 0.7761\n",
      "Epoch 19/50\n",
      "34/34 [==============================] - 13s 390ms/step - loss: 0.0306 - accuracy: 0.7867 - val_loss: 0.7317 - val_accuracy: 0.7854\n",
      "Epoch 20/50\n",
      "34/34 [==============================] - 12s 354ms/step - loss: 0.0287 - accuracy: 0.8017 - val_loss: 0.8005 - val_accuracy: 0.7705\n",
      "Epoch 21/50\n",
      "34/34 [==============================] - 12s 358ms/step - loss: 0.0296 - accuracy: 0.7942 - val_loss: 0.7141 - val_accuracy: 0.7743\n",
      "Epoch 22/50\n",
      "34/34 [==============================] - 13s 372ms/step - loss: 0.0265 - accuracy: 0.8203 - val_loss: 0.7121 - val_accuracy: 0.7873\n",
      "Epoch 23/50\n",
      "34/34 [==============================] - 12s 367ms/step - loss: 0.0271 - accuracy: 0.8049 - val_loss: 0.7514 - val_accuracy: 0.7724\n",
      "Epoch 24/50\n",
      "34/34 [==============================] - 13s 371ms/step - loss: 0.0267 - accuracy: 0.8180 - val_loss: 0.7166 - val_accuracy: 0.7668\n",
      "Epoch 25/50\n",
      "34/34 [==============================] - 15s 426ms/step - loss: 0.0257 - accuracy: 0.8161 - val_loss: 0.7554 - val_accuracy: 0.7687\n",
      "Epoch 26/50\n",
      "34/34 [==============================] - 13s 386ms/step - loss: 0.0258 - accuracy: 0.8222 - val_loss: 0.6847 - val_accuracy: 0.7743\n",
      "Epoch 27/50\n",
      "34/34 [==============================] - 12s 370ms/step - loss: 0.0242 - accuracy: 0.8343 - val_loss: 0.6821 - val_accuracy: 0.7854\n",
      "Epoch 28/50\n",
      "34/34 [==============================] - 13s 395ms/step - loss: 0.0247 - accuracy: 0.8185 - val_loss: 0.6964 - val_accuracy: 0.7966\n",
      "Epoch 29/50\n",
      "34/34 [==============================] - 13s 386ms/step - loss: 0.0220 - accuracy: 0.8455 - val_loss: 0.7246 - val_accuracy: 0.8004\n",
      "Epoch 30/50\n",
      "34/34 [==============================] - 12s 352ms/step - loss: 0.0227 - accuracy: 0.8292 - val_loss: 0.7260 - val_accuracy: 0.7593\n",
      "Epoch 31/50\n",
      "34/34 [==============================] - 12s 356ms/step - loss: 0.0246 - accuracy: 0.8297 - val_loss: 0.7068 - val_accuracy: 0.7799\n",
      "Epoch 31: early stopping\n"
     ]
    }
   ],
   "source": [
    "#'''\n",
    "# Step 9: Training the Model\n",
    "history = model.fit(\n",
    "    train_dataset,  # Use the training dataset created with data augmentation\n",
    "    epochs=50,  # Train the model for 50 epochs\n",
    "    verbose=1,  # Print detailed output during training for each epoch\n",
    "    class_weight=class_weights_dict_manual,  # Use class weights to address class imbalance\n",
    "    validation_data=test_dataset,  # Use the test dataset for validation at the end of each epoch\n",
    "    callbacks=[early_stopping, model_checkpoint]  # Use early stopping and model checkpoint to manage training\n",
    ")\n",
    "#'''"
   ]
  },
  {
   "cell_type": "markdown",
   "metadata": {},
   "source": [
    "## Saving and Reloading the Trained Model\n",
    "\n",
    "In this step, we save the trained VGG16 model to a file so that it can be easily reloaded in the future without the need to retrain. This is particularly useful when you want to use the model for inference or continue training at a later point.\n",
    "\n",
    "### Steps:\n",
    "1. **Save the Model**: Save the model, including its architecture, weights, and training configuration, using the `.h5` format.\n",
    "2. **Reload the Model (Optional)**: If you want to load the saved model directly instead of training it from scratch, use the `load_model()` function.\n"
   ]
  },
  {
   "cell_type": "code",
   "execution_count": 8,
   "metadata": {},
   "outputs": [
    {
     "name": "stdout",
     "output_type": "stream",
     "text": [
      "WARNING:tensorflow:From C:\\Users\\Besitzer\\AppData\\Local\\Packages\\PythonSoftwareFoundation.Python.3.11_qbz5n2kfra8p0\\LocalCache\\local-packages\\Python311\\site-packages\\keras\\src\\backend.py:1398: The name tf.executing_eagerly_outside_functions is deprecated. Please use tf.compat.v1.executing_eagerly_outside_functions instead.\n",
      "\n",
      "WARNING:tensorflow:From C:\\Users\\Besitzer\\AppData\\Local\\Packages\\PythonSoftwareFoundation.Python.3.11_qbz5n2kfra8p0\\LocalCache\\local-packages\\Python311\\site-packages\\keras\\src\\layers\\pooling\\max_pooling2d.py:161: The name tf.nn.max_pool is deprecated. Please use tf.nn.max_pool2d instead.\n",
      "\n",
      "Model loaded successfully.\n"
     ]
    }
   ],
   "source": [
    "# Saving and Reloading the Trained Model\n",
    "\n",
    "# Save the trained model to an H5 file\n",
    "# This allows you to store the model's architecture, weights, and optimizer state in a single file\n",
    "#model.save(\"vgg16_28_28.h5\")\n",
    "#print(\"Model saved successfully.\")\n",
    "\n",
    "# OPTIONAL: Uncomment the following line to load the trained model without retraining\n",
    "# This is useful for resuming training or for making predictions without retraining from scratch\n",
    "model = load_model(\"vgg16_28_28.h5\")\n",
    "print(\"Model loaded successfully.\")\n"
   ]
  },
  {
   "cell_type": "markdown",
   "metadata": {},
   "source": [
    "## Plotting Training and Validation Accuracy\n",
    "\n",
    "In this step, we plot the training and validation accuracy over the course of training epochs. This visualization helps us assess the model's learning behavior, identify overfitting or underfitting, and determine if additional tuning is required.\n",
    "\n",
    "### Key Points:\n",
    "- **Training Accuracy Curve**: Reflects how well the model fits the training data over time.\n",
    "- **Validation Accuracy Curve**: Indicates how well the model generalizes to unseen data.\n",
    "\n",
    "By comparing these curves, we can identify if the model overfits (e.g., high training accuracy and low validation accuracy) or underfits (e.g., low accuracy for both training and validation)."
   ]
  },
  {
   "cell_type": "code",
   "execution_count": 20,
   "metadata": {},
   "outputs": [
    {
     "data": {
      "image/png": "[encoded data removed]",
      "text/plain": [
       "<Figure size 1000x600 with 1 Axes>"
      ]
     },
     "metadata": {},
     "output_type": "display_data"
    }
   ],
   "source": [
    "#'''\n",
    "# Plotting of Training and Validation Accuracy\n",
    "\n",
    "# Extract accuracy data from the training history\n",
    "train_acc = history.history['accuracy']\n",
    "val_acc = history.history['val_accuracy']\n",
    "\n",
    "# Determine the best epoch based on validation accuracy\n",
    "best_epoch = np.argmax(val_acc)\n",
    "best_val_acc = val_acc[best_epoch]\n",
    "\n",
    "# Plot the training accuracy curve\n",
    "plt.figure(figsize=(10, 6))  # Set the figure size for better visibility\n",
    "plt.plot(train_acc, label='Training Accuracy', color='blue', linewidth=2, linestyle='-')  # Plot with thicker line\n",
    "plt.plot(val_acc, label='Validation Accuracy', color='orange', linewidth=2, linestyle='--')  # Dashed line for validation\n",
    "\n",
    "# Highlight the best validation accuracy point\n",
    "plt.scatter(best_epoch, best_val_acc, color='red', label=f'Best Epoch ({best_epoch + 1})', zorder=5)\n",
    "plt.annotate(f'Max Val Acc: {best_val_acc:.2f}',\n",
    "             (best_epoch, best_val_acc),\n",
    "             textcoords=\"offset points\",\n",
    "             xytext=(0, 10),\n",
    "             ha='center',\n",
    "             fontsize=10,\n",
    "             color='red')\n",
    "\n",
    "# Add labels, legend, and title\n",
    "plt.xlabel('Epochs', fontsize=12)  # Label x-axis with larger font size\n",
    "plt.ylabel('Accuracy', fontsize=12)  # Label y-axis with larger font size\n",
    "plt.title('Training and Validation Accuracy Over Epochs', fontsize=14)  # Add a title with larger font\n",
    "plt.grid(True)  # Add gridlines to improve readability\n",
    "plt.legend(loc='lower right', fontsize=12)  # Position the legend and increase its font size\n",
    "\n",
    "# Show the plot\n",
    "plt.tight_layout()  # Adjust layout to make sure everything fits well\n",
    "plt.show()\n",
    "#'''"
   ]
  },
  {
   "cell_type": "markdown",
   "metadata": {},
   "source": [
    "## Evaluating Model Performance on the Test Set\n",
    "\n",
    "In this step, we evaluate the performance of the trained model on the test dataset by generating predictions and calculating metrics like precision, recall, and F1-score. These metrics provide insight into how well the model performs in distinguishing between the different classes.\n",
    "\n",
    "### Key Metrics:\n",
    "- **Precision**: Measures how many of the predicted positive samples are actually positive.\n",
    "- **Recall**: Measures how many of the actual positive samples were correctly predicted.\n",
    "- **F1-Score**: The harmonic mean of precision and recall, providing a balance between the two.\n",
    "\n",
    "These metrics are calculated as **weighted averages** across all classes, providing an overall view of the model's performance."
   ]
  },
  {
   "cell_type": "code",
   "execution_count": 21,
   "metadata": {},
   "outputs": [
    {
     "name": "stdout",
     "output_type": "stream",
     "text": [
      "17/17 [==============================] - 3s 146ms/step\n",
      "Mean Precision: 0.79\n",
      "Mean Recall: 0.78\n",
      "Mean F1-Score: 0.78\n"
     ]
    }
   ],
   "source": [
    "# valuating Model Performance on the Test Set\n",
    "\n",
    "# Generate predictions for the test dataset\n",
    "test_pred = model.predict(X_test)  # Predict probabilities for each class\n",
    "test_pred_class = test_pred.argmax(axis=1)  # Get the class with the highest probability for each prediction\n",
    "\n",
    "# Extract true labels\n",
    "y_test_class = Y_test  # Since Y_test is already in class label form\n",
    "\n",
    "# Generate a classification report to evaluate model performance\n",
    "report = metrics.classification_report(y_test_class, test_pred_class, output_dict=True)  # Output report as a dictionary\n",
    "\n",
    "# Extracting mean precision, recall, and F1-score from the classification report\n",
    "mean_precision = report['weighted avg']['precision']\n",
    "mean_recall = report['weighted avg']['recall']\n",
    "mean_f1_score = report['weighted avg']['f1-score']\n",
    "\n",
    "# Output the mean values to summarize model performance\n",
    "print(f'Mean Precision: {mean_precision:.2f}')\n",
    "print(f'Mean Recall: {mean_recall:.2f}')\n",
    "print(f'Mean F1-Score: {mean_f1_score:.2f}')\n"
   ]
  },
  {
   "cell_type": "markdown",
   "metadata": {},
   "source": [
    "## Visualizing the Confusion Matrix with Seaborn\n",
    "\n",
    "To better understand the classification results, we visualize the confusion matrix using Seaborn's heatmap. The confusion matrix shows how well the model performed for each class by displaying the counts of true vs. predicted labels.\n",
    "\n",
    "Using Seaborn, we can:\n",
    "- **Visualize Counts with Color Gradient**: The intensity of the color in each cell helps us quickly see where the model is performing well and where it may need improvement.\n",
    "- **Display Annotations**: Each cell displays the exact count, making it easier to interpret the results.\n",
    "\n",
    "The confusion matrix allows us to identify specific classes that the model finds challenging to distinguish.\n"
   ]
  },
  {
   "cell_type": "code",
   "execution_count": 22,
   "metadata": {},
   "outputs": [
    {
     "data": {
      "image/png": "[encoded data removed]",
      "text/plain": [
       "<Figure size 1200x1000 with 2 Axes>"
      ]
     },
     "metadata": {},
     "output_type": "display_data"
    }
   ],
   "source": [
    "# Visualizing the Confusion Matrix with Original Transcriptions\n",
    "\n",
    "# Generate the confusion matrix\n",
    "cnf_matrix = metrics.confusion_matrix(y_test_class, test_pred_class)\n",
    "\n",
    "# Retrieve the original transcriptions for the labels using the LabelEncoder\n",
    "original_labels = le.classes_\n",
    "\n",
    "# Plot the confusion matrix using Seaborn heatmap with original transcription labels\n",
    "plt.figure(figsize=(12, 10))  # Set the figure size for better readability\n",
    "sns.heatmap(cnf_matrix, annot=True, fmt='d', cmap='Blues', \n",
    "            xticklabels=original_labels, yticklabels=original_labels)  # Use original labels for better interpretability\n",
    "\n",
    "# Add labels, title, and layout adjustments\n",
    "plt.xlabel('Predicted Labels', fontsize=12)  # Label for x-axis\n",
    "plt.ylabel('True Labels', fontsize=12)  # Label for y-axis\n",
    "plt.title('Confusion Matrix with Original Transcriptions', fontsize=14)  # Add a title\n",
    "plt.xticks(rotation=45, ha='right')  # Rotate x-axis labels for better readability\n",
    "plt.tight_layout()  # Ensure all elements are visible without overlap\n",
    "\n",
    "# Show the plot\n",
    "plt.show()\n"
   ]
  },
  {
   "cell_type": "markdown",
   "metadata": {},
   "source": [
    "## Visualization of Misclassified Images\n",
    "\n",
    "To gain insights into model performance, we visualize some of the misclassified images from the test dataset. This enhanced visualization allows us to:\n",
    "- **Understand Model Errors**: Identify common errors and which transcriptions the model tends to misclassify.\n",
    "- **Evaluate Confidence**: See how confident the model was when it made incorrect predictions.\n",
    "\n",
    "### Visualization Elements:\n",
    "1. **True vs. Predicted Transcription**: For each misclassified image, we display the true and predicted labels.\n",
    "2. **Confidence Score**: The confidence level of the incorrect prediction is displayed, helping us understand if the model was overconfident about the wrong answer."
   ]
  },
  {
   "cell_type": "code",
   "execution_count": 23,
   "metadata": {},
   "outputs": [
    {
     "name": "stderr",
     "output_type": "stream",
     "text": [
      "Clipping input data to the valid range for imshow with RGB data ([0..1] for floats or [0..255] for integers).\n",
      "Clipping input data to the valid range for imshow with RGB data ([0..1] for floats or [0..255] for integers).\n",
      "Clipping input data to the valid range for imshow with RGB data ([0..1] for floats or [0..255] for integers).\n",
      "Clipping input data to the valid range for imshow with RGB data ([0..1] for floats or [0..255] for integers).\n",
      "Clipping input data to the valid range for imshow with RGB data ([0..1] for floats or [0..255] for integers).\n",
      "Clipping input data to the valid range for imshow with RGB data ([0..1] for floats or [0..255] for integers).\n"
     ]
    },
    {
     "data": {
      "image/png": "[encoded data removed]",
      "text/plain": [
       "<Figure size 1500x1000 with 6 Axes>"
      ]
     },
     "metadata": {},
     "output_type": "display_data"
    }
   ],
   "source": [
    "# Enhanced Visualization of Misclassified Images\n",
    "\n",
    "# Create a mapping from class indices to original transcriptions\n",
    "class_mapping = {index: transcription for index, transcription in enumerate(pd.Series(Y).unique())}\n",
    "\n",
    "# Identify indexes where the model made incorrect predictions\n",
    "error_indexes = [i for i in range(len(test_pred)) if test_pred_class[i] != y_test_class[i]]\n",
    "\n",
    "# Check if there are any misclassifications\n",
    "if len(error_indexes) > 0:\n",
    "    # Determine the number of misclassified images to display (up to 6)\n",
    "    num_images = min(6, len(error_indexes))\n",
    "    \n",
    "    # Set up the plot for displaying misclassified images in a grid layout\n",
    "    plt.figure(figsize=(15, 10))  # Set figure size for better visibility\n",
    "    grid_cols = 3  # Number of columns in the grid\n",
    "    grid_rows = (num_images + grid_cols - 1) // grid_cols  # Number of rows in the grid\n",
    "\n",
    "    for j, i in enumerate(np.random.choice(error_indexes, size=num_images, replace=False)):\n",
    "        img = X_test[i]  # Extract the misclassified image\n",
    "\n",
    "        # Create subplot to display the image in the grid layout\n",
    "        plt.subplot(grid_rows, grid_cols, j + 1)\n",
    "        plt.axis('off')  # Hide axes for better visualization\n",
    "        plt.imshow(img, cmap=cm.binary)  # Display the image in grayscale\n",
    "\n",
    "        # Get the true and predicted transcriptions for the misclassified image\n",
    "        true_transcription = df_filtered.loc[df_filtered['transcription_encoded'] == Y_test[i], 'transcription'].iloc[0]\n",
    "        predicted_transcription = df_filtered.loc[df_filtered['transcription_encoded'] == test_pred_class[i], 'transcription'].iloc[0]\n",
    "        confidence = str(round(test_pred[i][test_pred_class[i]], 2))  # Get the confidence score for the predicted class\n",
    "\n",
    "        # Add a title to each subplot with True label, Predicted label, and Confidence score\n",
    "        plt.title(f'True: {true_transcription}\\nPred: {predicted_transcription}\\nConf: {confidence}',\n",
    "                  fontsize=20, color='darkred')  # Use red color to highlight misclassification\n",
    "    \n",
    "    # Adjust layout to make sure everything is clearly visible\n",
    "    plt.subplots_adjust(hspace=0.5, wspace=0.5)  # Add spacing between images to avoid overlap\n",
    "    plt.suptitle('Misclassified Images - True vs Predicted Labels', fontsize=20, color='black', weight='bold')  # Add a title to the whole plot\n",
    "    plt.tight_layout(rect=[0, 0, 1, 0.95])  # Adjust layout to avoid overlap with the super title\n",
    "    plt.show()\n",
    "else:\n",
    "    print(\"No errors in predictions.\")  # Print if no errors in predictions\n"
   ]
  },
  {
   "cell_type": "markdown",
   "metadata": {},
   "source": [
    "## Predicting on Custom Handwritten Images\n",
    "\n",
    "In this step, we use the trained model to predict handwritten images from a custom folder (`my_handwriting`). We loop through each image, preprocess it, and use the model to predict the transcription.\n",
    "\n",
    "### Steps:\n",
    "1. **Load Images from Folder**: Load each image from the specified folder containing custom handwritten images.\n",
    "2. **Preprocess Images**: Resize and prepare each image for input to the model.\n",
    "3. **Model Prediction**: Predict the transcription for each image and calculate the confidence of the prediction.\n",
    "4. **Store Results**: Store the true label, predicted label, and confidence for each image in a DataFrame for easy visualization.\n",
    "\n",
    "This helps evaluate how well the model performs on new, unseen handwritten images.\n"
   ]
  },
  {
   "cell_type": "code",
   "execution_count": 10,
   "metadata": {},
   "outputs": [
    {
     "name": "stdout",
     "output_type": "stream",
     "text": [
      "1/1 [==============================] - 0s 359ms/step\n",
      "1/1 [==============================] - 0s 87ms/step\n",
      "1/1 [==============================] - 0s 81ms/step\n",
      "1/1 [==============================] - 0s 78ms/step\n",
      "1/1 [==============================] - 0s 89ms/step\n",
      "1/1 [==============================] - 0s 84ms/step\n",
      "1/1 [==============================] - 0s 81ms/step\n",
      "1/1 [==============================] - 0s 80ms/step\n",
      "1/1 [==============================] - 0s 78ms/step\n",
      "1/1 [==============================] - 0s 69ms/step\n",
      "1/1 [==============================] - 0s 83ms/step\n",
      "1/1 [==============================] - 0s 71ms/step\n",
      "1/1 [==============================] - 0s 75ms/step\n",
      "1/1 [==============================] - 0s 85ms/step\n",
      "1/1 [==============================] - 0s 75ms/step\n",
      "1/1 [==============================] - 0s 63ms/step\n",
      "1/1 [==============================] - 0s 86ms/step\n",
      "1/1 [==============================] - 0s 86ms/step\n",
      "1/1 [==============================] - 0s 69ms/step\n",
      "1/1 [==============================] - 0s 67ms/step\n",
      "         Image True Label Predicted Label  Confidence (%)\n",
      "0        A.jpg          A          people          100.00\n",
      "1      And.jpg        And           first           69.44\n",
      "2      But.jpg        But             And           99.68\n",
      "3    could.jpg      could           first          100.00\n",
      "4    first.jpg      first            told           96.97\n",
      "5       In.jpg         In             And          100.00\n",
      "6     like.jpg       like            time          100.00\n",
      "7     made.jpg       made           first          100.00\n",
      "8      man.jpg        man            told          100.00\n",
      "9      may.jpg        may           first          100.00\n",
      "10    much.jpg       much            time          100.00\n",
      "11     new.jpg        new            time          100.00\n",
      "12  people.jpg     people          people          100.00\n",
      "13    This.jpg       This             But           99.96\n",
      "14    time.jpg       time           first          100.00\n",
      "15    told.jpg       told          people           99.99\n",
      "16     two.jpg        two           first          100.00\n",
      "17      We.jpg         We             You          100.00\n",
      "18    well.jpg       well            time          100.00\n",
      "19     you.jpg        you           first          100.00\n"
     ]
    }
   ],
   "source": [
    "# Folder with handwritten images\n",
    "folder_path = '../../my_handwriting'\n",
    "results = []\n",
    "\n",
    "# Loop through each image in the folder\n",
    "for img_name in os.listdir(folder_path):\n",
    "    img_path = os.path.join(folder_path, img_name)\n",
    "    \n",
    "    # Load and preprocess image\n",
    "    img = image.load_img(img_path, target_size=(32, 32))\n",
    "    img_array = image.img_to_array(img)\n",
    "    img_array = np.expand_dims(img_array, axis=0)\n",
    "    img_array = preprocess_input(img_array)\n",
    "    \n",
    "    # Predict\n",
    "    predictions = model.predict(img_array)\n",
    "    predicted_class = np.argmax(predictions)\n",
    "    confidence = round(np.max(predictions) * 100, 2)  # Confidence as percentage\n",
    "    \n",
    "    # Get predicted and true labels\n",
    "    predicted_label = le.inverse_transform([predicted_class])[0]\n",
    "    true_label = img_name.split('.')[0]  # Assuming filename is the word\n",
    "    \n",
    "    # Append result to list\n",
    "    results.append({\n",
    "        'Image': img_name,\n",
    "        'True Label': true_label,\n",
    "        'Predicted Label': predicted_label,\n",
    "        'Confidence (%)': confidence\n",
    "    })\n",
    "\n",
    "# Convert results to DataFrame and display\n",
    "results_df = pd.DataFrame(results)\n",
    "print(results_df)\n",
    "\n"
   ]
  },
  {
   "cell_type": "markdown",
   "metadata": {},
   "source": [
    "## Visualizing Prediction Confidence for Each Handwritten Image\n",
    "\n",
    "To gain further insights into the model's predictions, we plot the confidence level for each handwritten image from the custom dataset. This visualization helps in:\n",
    "\n",
    "1. **Understanding Model Confidence**: See how confident the model was in its predictions for each image.\n",
    "2. **Identifying Correct vs. Incorrect Predictions**: Correct predictions are shown in green, while incorrect ones are shown in red, making it easy to visually distinguish the two.\n",
    "\n",
    "This can help identify images that the model was unsure of and may benefit from further improvements or retraining.\n"
   ]
  },
  {
   "cell_type": "code",
   "execution_count": 11,
   "metadata": {},
   "outputs": [
    {
     "data": {
      "image/png": "[encoded data removed]",
      "text/plain": [
       "<Figure size 1500x800 with 1 Axes>"
      ]
     },
     "metadata": {},
     "output_type": "display_data"
    }
   ],
   "source": [
    "# Plot confidence for each prediction\n",
    "plt.figure(figsize=(15, 8))\n",
    "colors = ['green' if str(row['True Label']) == str(row['Predicted Label']) else 'red' for index, row in results_df.iterrows()]\n",
    "plt.barh(results_df['Image'], results_df['Confidence (%)'], color=colors)\n",
    "plt.xlabel(\"Confidence (%)\")\n",
    "plt.ylabel(\"Image\")\n",
    "plt.title(\"Prediction Confidence for Each Image\")\n",
    "plt.gca().invert_yaxis()  # Flip the y-axis for better readability\n",
    "\n",
    "# Show predicted labels on the bars\n",
    "for index, row in results_df.iterrows():\n",
    "    plt.text(row['Confidence (%)'] + 1, index, f\"{row['Predicted Label']}\", color=\"black\", va=\"center\")\n",
    "\n",
    "plt.show()"
   ]
  },
  {
   "cell_type": "markdown",
   "metadata": {},
   "source": [
    "## Un-Freezing Layers for Fine-Tuning VGG16\n",
    "To make the model more adaptable to our new dataset, we \"un-freeze\" the **last 4 layers** of the VGG16 model. This means that these layers will become trainable, allowing the model to learn features that are more specialized for our particular task. Fine-tuning the final layers while keeping the others frozen is a good way to leverage the generic features learned by VGG16 while adapting it to our data.\n"
   ]
  },
  {
   "cell_type": "code",
   "execution_count": 27,
   "metadata": {},
   "outputs": [],
   "source": [
    "#\"Un-freeze\" the last 4 layers of the vgg16 model\n",
    "for layer in base_model.layers[-4:]:\n",
    "    layer.trainable = True\n",
    "\n",
    "# Add custom layers on top of VGG16\n",
    "model2 = Sequential([\n",
    "    base_model,\n",
    "    GlobalAveragePooling2D(),\n",
    "    Dense(1024, activation='relu'),\n",
    "    Dropout(0.3),\n",
    "    Dense(512, activation='relu'),\n",
    "    Dropout(0.3),\n",
    "    Dense(n_class, activation='softmax')\n",
    "])\n",
    "\n",
    "model2.compile(optimizer='adam', loss='sparse_categorical_crossentropy', metrics=['accuracy'])\n"
   ]
  },
  {
   "cell_type": "markdown",
   "metadata": {},
   "source": [
    "## Training the Updated Model\n"
   ]
  },
  {
   "cell_type": "code",
   "execution_count": 28,
   "metadata": {},
   "outputs": [
    {
     "name": "stdout",
     "output_type": "stream",
     "text": [
      "Epoch 1/50\n",
      "34/34 [==============================] - 25s 676ms/step - loss: 0.1144 - accuracy: 0.2888 - val_loss: 1.6619 - val_accuracy: 0.4478\n",
      "Epoch 2/50\n",
      "34/34 [==============================] - 23s 668ms/step - loss: 0.0655 - accuracy: 0.5268 - val_loss: 1.0248 - val_accuracy: 0.6791\n",
      "Epoch 3/50\n",
      "34/34 [==============================] - 23s 670ms/step - loss: 0.0500 - accuracy: 0.6468 - val_loss: 0.9126 - val_accuracy: 0.6978\n",
      "Epoch 4/50\n",
      "34/34 [==============================] - 23s 675ms/step - loss: 0.0397 - accuracy: 0.7228 - val_loss: 0.7766 - val_accuracy: 0.7724\n",
      "Epoch 5/50\n",
      "34/34 [==============================] - 24s 697ms/step - loss: 0.0330 - accuracy: 0.7704 - val_loss: 0.7100 - val_accuracy: 0.8284\n",
      "Epoch 6/50\n",
      "34/34 [==============================] - 23s 693ms/step - loss: 0.0301 - accuracy: 0.7961 - val_loss: 0.7955 - val_accuracy: 0.7612\n",
      "Epoch 7/50\n",
      "34/34 [==============================] - 23s 676ms/step - loss: 0.0258 - accuracy: 0.8283 - val_loss: 0.6485 - val_accuracy: 0.8078\n",
      "Epoch 8/50\n",
      "34/34 [==============================] - 28s 835ms/step - loss: 0.0226 - accuracy: 0.8521 - val_loss: 0.6967 - val_accuracy: 0.8246\n",
      "Epoch 9/50\n",
      "34/34 [==============================] - 27s 802ms/step - loss: 0.0216 - accuracy: 0.8535 - val_loss: 0.5587 - val_accuracy: 0.8675\n",
      "Epoch 10/50\n",
      "34/34 [==============================] - 25s 726ms/step - loss: 0.0204 - accuracy: 0.8670 - val_loss: 0.6393 - val_accuracy: 0.8228\n",
      "Epoch 11/50\n",
      "34/34 [==============================] - 25s 745ms/step - loss: 0.0213 - accuracy: 0.8651 - val_loss: 0.6461 - val_accuracy: 0.8526\n",
      "Epoch 12/50\n",
      "34/34 [==============================] - 24s 705ms/step - loss: 0.0189 - accuracy: 0.8861 - val_loss: 0.5541 - val_accuracy: 0.8638\n",
      "Epoch 13/50\n",
      "34/34 [==============================] - 27s 789ms/step - loss: 0.0140 - accuracy: 0.9011 - val_loss: 0.5450 - val_accuracy: 0.8675\n",
      "Epoch 14/50\n",
      "34/34 [==============================] - 24s 700ms/step - loss: 0.0157 - accuracy: 0.9085 - val_loss: 0.6401 - val_accuracy: 0.8433\n",
      "Epoch 15/50\n",
      "34/34 [==============================] - 24s 699ms/step - loss: 0.0165 - accuracy: 0.9062 - val_loss: 0.6431 - val_accuracy: 0.8545\n",
      "Epoch 16/50\n",
      "34/34 [==============================] - 24s 704ms/step - loss: 0.0129 - accuracy: 0.9230 - val_loss: 0.6099 - val_accuracy: 0.8582\n",
      "Epoch 17/50\n",
      "34/34 [==============================] - 28s 833ms/step - loss: 0.0136 - accuracy: 0.9099 - val_loss: 0.6443 - val_accuracy: 0.8545\n",
      "Epoch 18/50\n",
      "34/34 [==============================] - 29s 858ms/step - loss: 0.0104 - accuracy: 0.9365 - val_loss: 0.6502 - val_accuracy: 0.8862\n",
      "Epoch 19/50\n",
      "34/34 [==============================] - 28s 837ms/step - loss: 0.0129 - accuracy: 0.9183 - val_loss: 0.7510 - val_accuracy: 0.8377\n",
      "Epoch 20/50\n",
      "34/34 [==============================] - 25s 731ms/step - loss: 0.0118 - accuracy: 0.9244 - val_loss: 0.6735 - val_accuracy: 0.8731\n",
      "Epoch 21/50\n",
      "34/34 [==============================] - 24s 717ms/step - loss: 0.0146 - accuracy: 0.9179 - val_loss: 0.6860 - val_accuracy: 0.8750\n",
      "Epoch 22/50\n",
      "34/34 [==============================] - 23s 687ms/step - loss: 0.0157 - accuracy: 0.9202 - val_loss: 0.4512 - val_accuracy: 0.8787\n",
      "Epoch 23/50\n",
      "34/34 [==============================] - 23s 689ms/step - loss: 0.0110 - accuracy: 0.9333 - val_loss: 0.7239 - val_accuracy: 0.8545\n",
      "Epoch 24/50\n",
      "34/34 [==============================] - 23s 690ms/step - loss: 0.0108 - accuracy: 0.9337 - val_loss: 0.7652 - val_accuracy: 0.8228\n",
      "Epoch 25/50\n",
      "34/34 [==============================] - 23s 683ms/step - loss: 0.0127 - accuracy: 0.9281 - val_loss: 0.6981 - val_accuracy: 0.8601\n",
      "Epoch 26/50\n",
      "34/34 [==============================] - 24s 715ms/step - loss: 0.0089 - accuracy: 0.9459 - val_loss: 0.6115 - val_accuracy: 0.9049\n",
      "Epoch 27/50\n",
      "34/34 [==============================] - 25s 749ms/step - loss: 0.0096 - accuracy: 0.9463 - val_loss: 0.5286 - val_accuracy: 0.8937\n",
      "Epoch 28/50\n",
      "34/34 [==============================] - 24s 704ms/step - loss: 0.0076 - accuracy: 0.9519 - val_loss: 0.7493 - val_accuracy: 0.8582\n",
      "Epoch 29/50\n",
      "34/34 [==============================] - 24s 707ms/step - loss: 0.0120 - accuracy: 0.9342 - val_loss: 0.6401 - val_accuracy: 0.8769\n",
      "Epoch 30/50\n",
      "34/34 [==============================] - 24s 708ms/step - loss: 0.0103 - accuracy: 0.9431 - val_loss: 0.5182 - val_accuracy: 0.8825\n",
      "Epoch 31/50\n",
      "34/34 [==============================] - 24s 705ms/step - loss: 0.0090 - accuracy: 0.9487 - val_loss: 0.5021 - val_accuracy: 0.8974\n",
      "Epoch 31: early stopping\n"
     ]
    }
   ],
   "source": [
    "#'''\n",
    "unfreez_history = model2.fit(\n",
    "    train_dataset,\n",
    "    epochs=50,\n",
    "    verbose=1,\n",
    "    class_weight=class_weights_dict_manual,\n",
    "    validation_data=test_dataset,\n",
    "    callbacks=[early_stopping, model_checkpoint]\n",
    ")\n",
    "#'''"
   ]
  },
  {
   "cell_type": "markdown",
   "metadata": {},
   "source": [
    "## Saving and Reloading the Trained Updated Model"
   ]
  },
  {
   "cell_type": "code",
   "execution_count": 12,
   "metadata": {},
   "outputs": [
    {
     "name": "stdout",
     "output_type": "stream",
     "text": [
      "Model loaded successfully.\n"
     ]
    }
   ],
   "source": [
    "# Saving and Reloading the Trained Model\n",
    "\n",
    "# Save the trained model to an H5 file\n",
    "# This allows you to store the model's architecture, weights, and optimizer state in a single file\n",
    "\n",
    "#model2.save(\"vgg16_28_28_unfreez_last_4.h5\")\n",
    "#print(\"Model saved successfully.\")\n",
    "\n",
    "# OPTIONAL: Uncomment the following line to load the trained model without retraining\n",
    "# This is useful for resuming training or for making predictions without retraining from scratch\n",
    "\n",
    "model2 = load_model(\"vgg16_28_28_unfreez_last_4.h5\")\n",
    "print(\"Model loaded successfully.\")"
   ]
  },
  {
   "cell_type": "markdown",
   "metadata": {},
   "source": [
    "## Plotting Training and Validation Accuracy"
   ]
  },
  {
   "cell_type": "code",
   "execution_count": 30,
   "metadata": {},
   "outputs": [
    {
     "data": {
      "image/png": "[encoded data removed]",
      "text/plain": [
       "<Figure size 1000x600 with 1 Axes>"
      ]
     },
     "metadata": {},
     "output_type": "display_data"
    }
   ],
   "source": [
    "# Plotting of Training and Validation Accuracy\n",
    "\n",
    "# Extract accuracy data from the training history\n",
    "train_acc = unfreez_history.history['accuracy']\n",
    "val_acc = unfreez_history.history['val_accuracy']\n",
    "\n",
    "# Determine the best epoch based on validation accuracy\n",
    "best_epoch = np.argmax(val_acc)\n",
    "best_val_acc = val_acc[best_epoch]\n",
    "\n",
    "# Plot the training accuracy curve\n",
    "plt.figure(figsize=(10, 6))  # Set the figure size for better visibility\n",
    "plt.plot(train_acc, label='Training Accuracy', color='blue', linewidth=2, linestyle='-')  # Plot with thicker line\n",
    "plt.plot(val_acc, label='Validation Accuracy', color='orange', linewidth=2, linestyle='--')  # Dashed line for validation\n",
    "\n",
    "# Highlight the best validation accuracy point\n",
    "plt.scatter(best_epoch, best_val_acc, color='red', label=f'Best Epoch ({best_epoch + 1})', zorder=5)\n",
    "plt.annotate(f'Max Val Acc: {best_val_acc:.2f}',\n",
    "             (best_epoch, best_val_acc),\n",
    "             textcoords=\"offset points\",\n",
    "             xytext=(0, 10),\n",
    "             ha='center',\n",
    "             fontsize=10,\n",
    "             color='red')\n",
    "\n",
    "# Add labels, legend, and title\n",
    "plt.xlabel('Epochs', fontsize=12)  # Label x-axis with larger font size\n",
    "plt.ylabel('Accuracy', fontsize=12)  # Label y-axis with larger font size\n",
    "plt.title('Training and Validation Accuracy Over Epochs', fontsize=14)  # Add a title with larger font\n",
    "plt.grid(True)  # Add gridlines to improve readability\n",
    "plt.legend(loc='lower right', fontsize=12)  # Position the legend and increase its font size\n",
    "\n",
    "# Show the plot\n",
    "plt.tight_layout()  # Adjust layout to make sure everything fits well\n",
    "plt.show()"
   ]
  },
  {
   "cell_type": "markdown",
   "metadata": {},
   "source": [
    "## Evaluating Model Performance on the Test Set"
   ]
  },
  {
   "cell_type": "code",
   "execution_count": 31,
   "metadata": {},
   "outputs": [
    {
     "name": "stdout",
     "output_type": "stream",
     "text": [
      "17/17 [==============================] - 3s 151ms/step\n",
      "Mean Precision: 0.90\n",
      "Mean Recall: 0.90\n",
      "Mean F1-Score: 0.90\n"
     ]
    }
   ],
   "source": [
    "# valuating Model Performance on the Test Set\n",
    "\n",
    "# Generate predictions for the test dataset\n",
    "test_pred = model2.predict(X_test)  # Predict probabilities for each class\n",
    "test_pred_class = test_pred.argmax(axis=1)  # Get the class with the highest probability for each prediction\n",
    "\n",
    "# Extract true labels\n",
    "y_test_class = Y_test  # Since Y_test is already in class label form\n",
    "\n",
    "# Generate a classification report to evaluate model performance\n",
    "report = metrics.classification_report(y_test_class, test_pred_class, output_dict=True)  # Output report as a dictionary\n",
    "\n",
    "# Extracting mean precision, recall, and F1-score from the classification report\n",
    "mean_precision = report['weighted avg']['precision']\n",
    "mean_recall = report['weighted avg']['recall']\n",
    "mean_f1_score = report['weighted avg']['f1-score']\n",
    "\n",
    "# Output the mean values to summarize model performance\n",
    "print(f'Mean Precision: {mean_precision:.2f}')\n",
    "print(f'Mean Recall: {mean_recall:.2f}')\n",
    "print(f'Mean F1-Score: {mean_f1_score:.2f}')"
   ]
  },
  {
   "cell_type": "markdown",
   "metadata": {},
   "source": [
    "## Visualizing the Confusion Matrix with Seaborn"
   ]
  },
  {
   "cell_type": "code",
   "execution_count": 32,
   "metadata": {},
   "outputs": [
    {
     "data": {
      "image/png": "[encoded data removed]",
      "text/plain": [
       "<Figure size 1200x1000 with 2 Axes>"
      ]
     },
     "metadata": {},
     "output_type": "display_data"
    }
   ],
   "source": [
    "# Visualizing the Confusion Matrix with Original Transcriptions\n",
    "\n",
    "# Generate the confusion matrix\n",
    "cnf_matrix = metrics.confusion_matrix(y_test_class, test_pred_class)\n",
    "\n",
    "# Retrieve the original transcriptions for the labels using the LabelEncoder\n",
    "original_labels = le.classes_\n",
    "\n",
    "# Plot the confusion matrix using Seaborn heatmap with original transcription labels\n",
    "plt.figure(figsize=(12, 10))  # Set the figure size for better readability\n",
    "sns.heatmap(cnf_matrix, annot=True, fmt='d', cmap='Blues', \n",
    "            xticklabels=original_labels, yticklabels=original_labels)  # Use original labels for better interpretability\n",
    "\n",
    "# Add labels, title, and layout adjustments\n",
    "plt.xlabel('Predicted Labels', fontsize=12)  # Label for x-axis\n",
    "plt.ylabel('True Labels', fontsize=12)  # Label for y-axis\n",
    "plt.title('Confusion Matrix with Original Transcriptions', fontsize=14)  # Add a title\n",
    "plt.xticks(rotation=45, ha='right')  # Rotate x-axis labels for better readability\n",
    "plt.tight_layout()  # Ensure all elements are visible without overlap\n",
    "\n",
    "# Show the plot\n",
    "plt.show()"
   ]
  },
  {
   "cell_type": "markdown",
   "metadata": {},
   "source": [
    "## Predicting on Custom Handwritten Images"
   ]
  },
  {
   "cell_type": "code",
   "execution_count": 13,
   "metadata": {},
   "outputs": [
    {
     "name": "stdout",
     "output_type": "stream",
     "text": [
      "1/1 [==============================] - 0s 459ms/step\n",
      "1/1 [==============================] - 0s 96ms/step\n",
      "1/1 [==============================] - 0s 85ms/step\n",
      "1/1 [==============================] - 0s 108ms/step\n",
      "1/1 [==============================] - 0s 72ms/step\n",
      "1/1 [==============================] - 0s 72ms/step\n",
      "1/1 [==============================] - 0s 77ms/step\n",
      "1/1 [==============================] - 0s 73ms/step\n",
      "1/1 [==============================] - 0s 62ms/step\n",
      "1/1 [==============================] - 0s 82ms/step\n",
      "1/1 [==============================] - 0s 80ms/step\n",
      "1/1 [==============================] - 0s 63ms/step\n",
      "1/1 [==============================] - 0s 94ms/step\n",
      "1/1 [==============================] - 0s 74ms/step\n",
      "1/1 [==============================] - 0s 72ms/step\n",
      "1/1 [==============================] - 0s 64ms/step\n",
      "1/1 [==============================] - 0s 83ms/step\n",
      "1/1 [==============================] - 0s 64ms/step\n",
      "1/1 [==============================] - 0s 88ms/step\n",
      "1/1 [==============================] - 0s 77ms/step\n",
      "         Image True Label Predicted Label  Confidence (%)\n",
      "0        A.jpg          A          people          100.00\n",
      "1      And.jpg        And             And          100.00\n",
      "2      But.jpg        But           first          100.00\n",
      "3    could.jpg      could           first          100.00\n",
      "4    first.jpg      first             But          100.00\n",
      "5       In.jpg         In              In           99.96\n",
      "6     like.jpg       like          people          100.00\n",
      "7     made.jpg       made           first          100.00\n",
      "8      man.jpg        man          people          100.00\n",
      "9      may.jpg        may             may          100.00\n",
      "10    much.jpg       much          people          100.00\n",
      "11     new.jpg        new          people          100.00\n",
      "12  people.jpg     people          people          100.00\n",
      "13    This.jpg       This            This          100.00\n",
      "14    time.jpg       time          people          100.00\n",
      "15    told.jpg       told           first          100.00\n",
      "16     two.jpg        two          people           89.33\n",
      "17      We.jpg         We            made          100.00\n",
      "18    well.jpg       well            made          100.00\n",
      "19     you.jpg        you             You          100.00\n"
     ]
    }
   ],
   "source": [
    "# Folder with handwritten images\n",
    "folder_path = '../../my_handwriting'\n",
    "results = []\n",
    "\n",
    "# Loop through each image in the folder\n",
    "for img_name in os.listdir(folder_path):\n",
    "    img_path = os.path.join(folder_path, img_name)\n",
    "    \n",
    "    # Load and preprocess image\n",
    "    img = image.load_img(img_path, target_size=(32, 32))\n",
    "    img_array = image.img_to_array(img)\n",
    "    img_array = np.expand_dims(img_array, axis=0)\n",
    "    img_array = preprocess_input(img_array)\n",
    "    \n",
    "    # Predict\n",
    "    predictions = model2.predict(img_array)\n",
    "    predicted_class = np.argmax(predictions)\n",
    "    confidence = round(np.max(predictions) * 100, 2)  # Confidence as percentage\n",
    "    \n",
    "    # Get predicted and true labels\n",
    "    predicted_label = le.inverse_transform([predicted_class])[0]\n",
    "    true_label = img_name.split('.')[0]  # Assuming filename is the word\n",
    "    \n",
    "    # Append result to list\n",
    "    results.append({\n",
    "        'Image': img_name,\n",
    "        'True Label': true_label,\n",
    "        'Predicted Label': predicted_label,\n",
    "        'Confidence (%)': confidence\n",
    "    })\n",
    "\n",
    "# Convert results to DataFrame and display\n",
    "results_df = pd.DataFrame(results)\n",
    "print(results_df)\n",
    "\n"
   ]
  },
  {
   "cell_type": "markdown",
   "metadata": {},
   "source": [
    "## Visualizing Prediction Confidence for Each Handwritten Image"
   ]
  },
  {
   "cell_type": "code",
   "execution_count": 14,
   "metadata": {},
   "outputs": [
    {
     "data": {
      "image/png": "[encoded data removed]",
      "text/plain": [
       "<Figure size 1500x800 with 1 Axes>"
      ]
     },
     "metadata": {},
     "output_type": "display_data"
    }
   ],
   "source": [
    "# Plot confidence for each prediction\n",
    "plt.figure(figsize=(15, 8))\n",
    "colors = ['green' if str(row['True Label']) == str(row['Predicted Label']) else 'red' for index, row in results_df.iterrows()]\n",
    "plt.barh(results_df['Image'], results_df['Confidence (%)'], color=colors)\n",
    "plt.xlabel(\"Confidence (%)\")\n",
    "plt.ylabel(\"Image\")\n",
    "plt.title(\"Prediction Confidence for Each Image\")\n",
    "plt.gca().invert_yaxis()  # Flip the y-axis for better readability\n",
    "\n",
    "# Show predicted labels on the bars\n",
    "for index, row in results_df.iterrows():\n",
    "    plt.text(row['Confidence (%)'] + 1, index, f\"{row['Predicted Label']}\", color=\"black\", va=\"center\")\n",
    "\n",
    "plt.show()"
   ]
  }
 ],
 "metadata": {
  "kernelspec": {
   "display_name": "Python 3",
   "language": "python",
   "name": "python3"
  },
  "language_info": {
   "codemirror_mode": {
    "name": "ipython",
    "version": 3
   },
   "file_extension": ".py",
   "mimetype": "text/x-python",
   "name": "python",
   "nbconvert_exporter": "python",
   "pygments_lexer": "ipython3",
   "version": "3.11.9"
  }
 },
 "nbformat": 4,
 "nbformat_minor": 2
}
