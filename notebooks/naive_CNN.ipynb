{
 "cells": [
  {
   "cell_type": "markdown",
   "metadata": {},
   "source": [
    "The scheme to implement a model with keras:\n",
    "\n",
    "* Architecture of the model\n",
    "* Compiling the model\n",
    "* Training of the model Diagnosis of the training\n",
    "* Evaluation of predictions"
   ]
  },
  {
   "cell_type": "code",
   "execution_count": 13,
   "metadata": {},
   "outputs": [],
   "source": [
    "import pandas as pd\n",
    "import numpy as np\n",
    "from tensorflow.keras.layers import Input, Dense, Dropout, Flatten, Conv2D, MaxPooling2D\n",
    "from tensorflow.keras.models import Model\n",
    "from keras.utils import to_categorical\n",
    "from sklearn.model_selection import train_test_split\n",
    "from sklearn import metrics\n",
    "import matplotlib.pyplot as plt\n",
    "from PIL import Image\n",
    "from tqdm import tqdm\n",
    "import os\n",
    "import matplotlib.cm as cm\n",
    "%matplotlib inline"
   ]
  },
  {
   "cell_type": "markdown",
   "metadata": {},
   "source": [
    "* loading and preprocessing the dataset"
   ]
  },
  {
   "cell_type": "code",
   "execution_count": 2,
   "metadata": {},
   "outputs": [
    {
     "name": "stderr",
     "output_type": "stream",
     "text": [
      "100%|██████████| 115338/115338 [00:01<00:00, 75263.91it/s]\n"
     ]
    },
    {
     "name": "stdout",
     "output_type": "stream",
     "text": [
      "inexistent_or_corrupted 2\n"
     ]
    },
    {
     "data": {
      "text/html": [
       "<div>\n",
       "<style scoped>\n",
       "    .dataframe tbody tr th:only-of-type {\n",
       "        vertical-align: middle;\n",
       "    }\n",
       "\n",
       "    .dataframe tbody tr th {\n",
       "        vertical-align: top;\n",
       "    }\n",
       "\n",
       "    .dataframe thead th {\n",
       "        text-align: right;\n",
       "    }\n",
       "</style>\n",
       "<table border=\"1\" class=\"dataframe\">\n",
       "  <thead>\n",
       "    <tr style=\"text-align: right;\">\n",
       "      <th></th>\n",
       "      <th>line_id</th>\n",
       "      <th>result</th>\n",
       "      <th>graylevel</th>\n",
       "      <th>x</th>\n",
       "      <th>y</th>\n",
       "      <th>w</th>\n",
       "      <th>h</th>\n",
       "      <th>annotation</th>\n",
       "      <th>transcription</th>\n",
       "      <th>image_path</th>\n",
       "    </tr>\n",
       "  </thead>\n",
       "  <tbody>\n",
       "    <tr>\n",
       "      <th>0</th>\n",
       "      <td>a01-000u-00-00</td>\n",
       "      <td>ok</td>\n",
       "      <td>154</td>\n",
       "      <td>408</td>\n",
       "      <td>768</td>\n",
       "      <td>27</td>\n",
       "      <td>51</td>\n",
       "      <td>AT</td>\n",
       "      <td>A</td>\n",
       "      <td>../../../IAM_Words/words/a01/a01-000u/a01-000u...</td>\n",
       "    </tr>\n",
       "    <tr>\n",
       "      <th>1</th>\n",
       "      <td>a01-000u-00-01</td>\n",
       "      <td>ok</td>\n",
       "      <td>154</td>\n",
       "      <td>507</td>\n",
       "      <td>766</td>\n",
       "      <td>213</td>\n",
       "      <td>48</td>\n",
       "      <td>NN</td>\n",
       "      <td>MOVE</td>\n",
       "      <td>../../../IAM_Words/words/a01/a01-000u/a01-000u...</td>\n",
       "    </tr>\n",
       "    <tr>\n",
       "      <th>2</th>\n",
       "      <td>a01-000u-00-02</td>\n",
       "      <td>ok</td>\n",
       "      <td>154</td>\n",
       "      <td>796</td>\n",
       "      <td>764</td>\n",
       "      <td>70</td>\n",
       "      <td>50</td>\n",
       "      <td>TO</td>\n",
       "      <td>to</td>\n",
       "      <td>../../../IAM_Words/words/a01/a01-000u/a01-000u...</td>\n",
       "    </tr>\n",
       "    <tr>\n",
       "      <th>3</th>\n",
       "      <td>a01-000u-00-03</td>\n",
       "      <td>ok</td>\n",
       "      <td>154</td>\n",
       "      <td>919</td>\n",
       "      <td>757</td>\n",
       "      <td>166</td>\n",
       "      <td>78</td>\n",
       "      <td>VB</td>\n",
       "      <td>stop</td>\n",
       "      <td>../../../IAM_Words/words/a01/a01-000u/a01-000u...</td>\n",
       "    </tr>\n",
       "    <tr>\n",
       "      <th>4</th>\n",
       "      <td>a01-000u-00-04</td>\n",
       "      <td>ok</td>\n",
       "      <td>154</td>\n",
       "      <td>1185</td>\n",
       "      <td>754</td>\n",
       "      <td>126</td>\n",
       "      <td>61</td>\n",
       "      <td>NPT</td>\n",
       "      <td>Mr.</td>\n",
       "      <td>../../../IAM_Words/words/a01/a01-000u/a01-000u...</td>\n",
       "    </tr>\n",
       "  </tbody>\n",
       "</table>\n",
       "</div>"
      ],
      "text/plain": [
       "          line_id result graylevel     x    y    w   h annotation  \\\n",
       "0  a01-000u-00-00     ok       154   408  768   27  51         AT   \n",
       "1  a01-000u-00-01     ok       154   507  766  213  48         NN   \n",
       "2  a01-000u-00-02     ok       154   796  764   70  50         TO   \n",
       "3  a01-000u-00-03     ok       154   919  757  166  78         VB   \n",
       "4  a01-000u-00-04     ok       154  1185  754  126  61        NPT   \n",
       "\n",
       "  transcription                                         image_path  \n",
       "0             A  ../../../IAM_Words/words/a01/a01-000u/a01-000u...  \n",
       "1          MOVE  ../../../IAM_Words/words/a01/a01-000u/a01-000u...  \n",
       "2            to  ../../../IAM_Words/words/a01/a01-000u/a01-000u...  \n",
       "3          stop  ../../../IAM_Words/words/a01/a01-000u/a01-000u...  \n",
       "4           Mr.  ../../../IAM_Words/words/a01/a01-000u/a01-000u...  "
      ]
     },
     "metadata": {},
     "output_type": "display_data"
    }
   ],
   "source": [
    "dataset_path = '../../../IAM_Words/words'  # Update the path as necessary\n",
    "data = []\n",
    "words = open(\"../ascii/words.txt\", \"r\").readlines()\n",
    "inexistent_or_corrupted= 0\n",
    "\n",
    "for line in tqdm(words):\n",
    "    if line.startswith(\"#\"):\n",
    "        continue\n",
    "    parts = line.strip().split()\n",
    "    fixed_part = parts[:8]\n",
    "    transcription_part = ' '.join(parts[8:])\n",
    "\n",
    "    line_split = line.split(\" \")\n",
    "    folder_parts = line_split[0].split('-')\n",
    "    folder1 = folder_parts[0]\n",
    "    folder2 = folder_parts[0] + '-' + folder_parts[1]\n",
    "    file_name = line_split[0] + \".png\"\n",
    "    label = line_split[-1].rstrip('\\n')\n",
    "    rel_path = os.path.join(dataset_path, folder1, folder2, file_name)\n",
    "\n",
    "    if os.path.exists(rel_path) and os.path.getsize(rel_path) > 0:\n",
    "        data.append(fixed_part + [transcription_part, rel_path])\n",
    "    else:\n",
    "        inexistent_or_corrupted += 1\n",
    "\n",
    "print('inexistent_or_corrupted', inexistent_or_corrupted)\n",
    "df = pd.DataFrame(data, columns=['line_id', 'result', 'graylevel', 'x', 'y', 'w', 'h', 'annotation', 'transcription', 'image_path'])\n",
    "display(df.head())"
   ]
  },
  {
   "cell_type": "markdown",
   "metadata": {},
   "source": [
    "* check transcription distribution and remove transcriptions with fewer than 2 samples "
   ]
  },
  {
   "cell_type": "code",
   "execution_count": 3,
   "metadata": {},
   "outputs": [
    {
     "name": "stdout",
     "output_type": "stream",
     "text": [
      "Transcription distribution before filtering:\n",
      "transcription\n",
      "the           5826\n",
      ",             5570\n",
      ".             4984\n",
      "of            3192\n",
      "to            2651\n",
      "              ... \n",
      "dimensions       1\n",
      "painting         1\n",
      "cutters          1\n",
      "Parana           1\n",
      "hullo            1\n",
      "Name: count, Length: 13550, dtype: int64\n",
      "Transcription distribution after filtering:\n",
      "transcription\n",
      "the          5826\n",
      ",            5570\n",
      ".            4984\n",
      "of           3192\n",
      "to           2651\n",
      "             ... \n",
      "specified       2\n",
      "palm            2\n",
      "smoothing       2\n",
      "gate            2\n",
      "doorman         2\n",
      "Name: count, Length: 6360, dtype: int64\n"
     ]
    }
   ],
   "source": [
    "# Check transcription distribution\n",
    "print(\"Transcription distribution before filtering:\")\n",
    "print(df['transcription'].value_counts())\n",
    "\n",
    "# Remove transcription with fewer than 2 samples\n",
    "min_samples = 2\n",
    "class_counts = df['transcription'].value_counts()\n",
    "classes_to_keep = class_counts[class_counts >= min_samples].index\n",
    "df_filtered = df[df['transcription'].isin(classes_to_keep)]\n",
    "\n",
    "# Check transcription distribution after filtering\n",
    "print(\"Transcription distribution after filtering:\")\n",
    "print(df_filtered['transcription'].value_counts())"
   ]
  },
  {
   "cell_type": "markdown",
   "metadata": {},
   "source": [
    "* preparing image data"
   ]
  },
  {
   "cell_type": "code",
   "execution_count": 4,
   "metadata": {},
   "outputs": [
    {
     "name": "stdout",
     "output_type": "stream",
     "text": [
      "Min: 0.000, Max: 1.000\n",
      "X and Y have the same length  True\n"
     ]
    }
   ],
   "source": [
    "X, Y = [], []\n",
    "width, height = 28, 28  # Resize to 28x28\n",
    "\n",
    "for index, row in df_filtered.iterrows():\n",
    "    image = Image.open(row['image_path']).convert('RGB').resize((width, height))\n",
    "    X.append(np.array(image))\n",
    "    Y.append(row['transcription'])\n",
    "\n",
    "X = np.array(X) / 255.0  # Normalize images\n",
    "print('Min: %.3f, Max: %.3f' % (X.min(), X.max()))\n",
    "Y = np.array(Y)\n",
    "\n",
    "print('X and Y have the same length ',len(X) == len(Y))\n"
   ]
  },
  {
   "cell_type": "markdown",
   "metadata": {},
   "source": [
    "* Train and testing split (70/30)"
   ]
  },
  {
   "cell_type": "code",
   "execution_count": 5,
   "metadata": {},
   "outputs": [],
   "source": [
    "\n",
    "X_train, X_test, Y_train, Y_test = train_test_split(X, Y, test_size=0.3, random_state=42, stratify=Y)\n"
   ]
  },
  {
   "cell_type": "code",
   "execution_count": 6,
   "metadata": {},
   "outputs": [
    {
     "name": "stdout",
     "output_type": "stream",
     "text": [
      "translation = than\n"
     ]
    },
    {
     "data": {
      "image/png": "[encoded data removed]",
      "text/plain": [
       "<Figure size 640x480 with 1 Axes>"
      ]
     },
     "metadata": {},
     "output_type": "display_data"
    }
   ],
   "source": [
    "#Display a random image from the dataset (take any number from the random state)\n",
    "\n",
    "print('translation =',Y_train[1])\n",
    "plt.imshow(X_train[1])\n",
    "plt.show()"
   ]
  },
  {
   "cell_type": "markdown",
   "metadata": {},
   "source": [
    "* transforming data into 4-dimensional array (images, width, height, depth)\n",
    "* One-hot encoding for labels"
   ]
  },
  {
   "cell_type": "code",
   "execution_count": 7,
   "metadata": {},
   "outputs": [
    {
     "data": {
      "text/plain": [
       "(32439, 28, 28, 3)"
      ]
     },
     "metadata": {},
     "output_type": "display_data"
    },
    {
     "data": {
      "text/plain": [
       "(75689, 28, 28, 3)"
      ]
     },
     "metadata": {},
     "output_type": "display_data"
    }
   ],
   "source": [
    "# Reshape for CNN\n",
    "X_train = X_train.reshape((-1, 28, 28, 3))  # Adjust channels to 3 for RGB\n",
    "X_test = X_test.reshape((-1, 28, 28, 3))\n",
    "\n",
    "# One-hot encoding for labels\n",
    "y_train = pd.get_dummies(Y_train).values\n",
    "y_test = pd.get_dummies(Y_test).values\n",
    "\n",
    "display(X_test.shape)\n",
    "display(X_train.shape)"
   ]
  },
  {
   "cell_type": "markdown",
   "metadata": {},
   "source": [
    "* CNN Architecture\n",
    "\n",
    "* Creating and Training the model"
   ]
  },
  {
   "cell_type": "code",
   "execution_count": 8,
   "metadata": {},
   "outputs": [
    {
     "name": "stdout",
     "output_type": "stream",
     "text": [
      "Epoch 1/15\n",
      "\u001b[1m303/303\u001b[0m \u001b[32m━━━━━━━━━━━━━━━━━━━━\u001b[0m\u001b[37m\u001b[0m \u001b[1m25s\u001b[0m 79ms/step - accuracy: 0.1154 - loss: 6.7115 - val_accuracy: 0.2416 - val_loss: 5.3189\n",
      "Epoch 2/15\n",
      "\u001b[1m303/303\u001b[0m \u001b[32m━━━━━━━━━━━━━━━━━━━━\u001b[0m\u001b[37m\u001b[0m \u001b[1m24s\u001b[0m 80ms/step - accuracy: 0.2725 - loss: 4.9271 - val_accuracy: 0.3220 - val_loss: 4.6703\n",
      "Epoch 3/15\n",
      "\u001b[1m303/303\u001b[0m \u001b[32m━━━━━━━━━━━━━━━━━━━━\u001b[0m\u001b[37m\u001b[0m \u001b[1m25s\u001b[0m 82ms/step - accuracy: 0.3522 - loss: 4.1024 - val_accuracy: 0.3814 - val_loss: 4.2006\n",
      "Epoch 4/15\n",
      "\u001b[1m303/303\u001b[0m \u001b[32m━━━━━━━━━━━━━━━━━━━━\u001b[0m\u001b[37m\u001b[0m \u001b[1m25s\u001b[0m 83ms/step - accuracy: 0.4078 - loss: 3.4639 - val_accuracy: 0.4253 - val_loss: 3.9196\n",
      "Epoch 5/15\n",
      "\u001b[1m303/303\u001b[0m \u001b[32m━━━━━━━━━━━━━━━━━━━━\u001b[0m\u001b[37m\u001b[0m \u001b[1m23s\u001b[0m 77ms/step - accuracy: 0.4560 - loss: 2.8976 - val_accuracy: 0.4432 - val_loss: 3.7809\n",
      "Epoch 6/15\n",
      "\u001b[1m303/303\u001b[0m \u001b[32m━━━━━━━━━━━━━━━━━━━━\u001b[0m\u001b[37m\u001b[0m \u001b[1m23s\u001b[0m 76ms/step - accuracy: 0.4964 - loss: 2.4574 - val_accuracy: 0.4620 - val_loss: 3.8240\n",
      "Epoch 7/15\n",
      "\u001b[1m303/303\u001b[0m \u001b[32m━━━━━━━━━━━━━━━━━━━━\u001b[0m\u001b[37m\u001b[0m \u001b[1m23s\u001b[0m 76ms/step - accuracy: 0.5473 - loss: 2.0693 - val_accuracy: 0.4662 - val_loss: 3.8871\n",
      "Epoch 8/15\n",
      "\u001b[1m303/303\u001b[0m \u001b[32m━━━━━━━━━━━━━━━━━━━━\u001b[0m\u001b[37m\u001b[0m \u001b[1m24s\u001b[0m 79ms/step - accuracy: 0.6024 - loss: 1.7611 - val_accuracy: 0.4767 - val_loss: 3.9972\n",
      "Epoch 9/15\n",
      "\u001b[1m303/303\u001b[0m \u001b[32m━━━━━━━━━━━━━━━━━━━━\u001b[0m\u001b[37m\u001b[0m \u001b[1m21s\u001b[0m 68ms/step - accuracy: 0.6432 - loss: 1.5336 - val_accuracy: 0.4761 - val_loss: 4.1205\n",
      "Epoch 10/15\n",
      "\u001b[1m303/303\u001b[0m \u001b[32m━━━━━━━━━━━━━━━━━━━━\u001b[0m\u001b[37m\u001b[0m \u001b[1m17s\u001b[0m 55ms/step - accuracy: 0.6727 - loss: 1.3877 - val_accuracy: 0.4784 - val_loss: 4.2002\n",
      "Epoch 11/15\n",
      "\u001b[1m303/303\u001b[0m \u001b[32m━━━━━━━━━━━━━━━━━━━━\u001b[0m\u001b[37m\u001b[0m \u001b[1m18s\u001b[0m 59ms/step - accuracy: 0.6988 - loss: 1.2624 - val_accuracy: 0.4836 - val_loss: 4.2170\n",
      "Epoch 12/15\n",
      "\u001b[1m303/303\u001b[0m \u001b[32m━━━━━━━━━━━━━━━━━━━━\u001b[0m\u001b[37m\u001b[0m \u001b[1m17s\u001b[0m 57ms/step - accuracy: 0.7259 - loss: 1.1391 - val_accuracy: 0.4922 - val_loss: 4.4851\n",
      "Epoch 13/15\n",
      "\u001b[1m303/303\u001b[0m \u001b[32m━━━━━━━━━━━━━━━━━━━━\u001b[0m\u001b[37m\u001b[0m \u001b[1m16s\u001b[0m 54ms/step - accuracy: 0.7383 - loss: 1.0885 - val_accuracy: 0.4906 - val_loss: 4.4761\n",
      "Epoch 14/15\n",
      "\u001b[1m303/303\u001b[0m \u001b[32m━━━━━━━━━━━━━━━━━━━━\u001b[0m\u001b[37m\u001b[0m \u001b[1m16s\u001b[0m 53ms/step - accuracy: 0.7488 - loss: 1.0190 - val_accuracy: 0.4931 - val_loss: 4.5855\n",
      "Epoch 15/15\n",
      "\u001b[1m303/303\u001b[0m \u001b[32m━━━━━━━━━━━━━━━━━━━━\u001b[0m\u001b[37m\u001b[0m \u001b[1m16s\u001b[0m 54ms/step - accuracy: 0.7571 - loss: 0.9731 - val_accuracy: 0.4927 - val_loss: 4.5593\n"
     ]
    }
   ],
   "source": [
    "# CNN Model\n",
    "inputs_cnn = Input(shape=(28, 28, 3))  # Adjust shape for RGB\n",
    "x = Conv2D(32, (5, 5), activation='relu')(inputs_cnn)\n",
    "x = MaxPooling2D(pool_size=(2, 2))(x)\n",
    "x = Dropout(0.2)(x)\n",
    "x = Flatten()(x)\n",
    "x = Dense(128, activation='relu')(x)\n",
    "num_classes = y_train.shape[1]  # Number of classes\n",
    "outputs_cnn = Dense(num_classes, activation='softmax')(x)\n",
    "\n",
    "# Compile model\n",
    "model_cnn = Model(inputs=inputs_cnn, outputs=outputs_cnn)\n",
    "model_cnn.compile(loss='categorical_crossentropy', optimizer='adam', metrics=['accuracy'])\n",
    "\n",
    "# Train model\n",
    "training_history_cnn = model_cnn.fit(X_train, y_train, validation_split=0.2, epochs=15, batch_size=200, verbose=1)\n"
   ]
  },
  {
   "cell_type": "markdown",
   "metadata": {},
   "source": [
    "* Performance of the CNN model\n",
    "\n",
    "* Plot of evolution of accuracies throughout the training"
   ]
  },
  {
   "cell_type": "code",
   "execution_count": 9,
   "metadata": {},
   "outputs": [
    {
     "data": {
      "image/png": "[encoded data removed]",
      "text/plain": [
       "<Figure size 640x480 with 1 Axes>"
      ]
     },
     "metadata": {},
     "output_type": "display_data"
    }
   ],
   "source": [
    "train_acc_cnn = training_history_cnn.history['accuracy']\n",
    "val_acc_cnn = training_history_cnn.history['val_accuracy']\n",
    "\n",
    "# Training sample accuracy curve\n",
    "plt.plot(train_acc_cnn, label='Training Accuracy')\n",
    "# Test sample accuracy curve\n",
    "plt.plot(val_acc_cnn, label='Validation Accuracy')\n",
    "# Axis labels\n",
    "plt.xlabel('Epochs')\n",
    "plt.ylabel('Accuracy')\n",
    "plt.legend()\n",
    "plt.show()"
   ]
  },
  {
   "cell_type": "markdown",
   "metadata": {},
   "source": [
    "* displaying detailed evaluative report of model's performance"
   ]
  },
  {
   "cell_type": "code",
   "execution_count": 10,
   "metadata": {},
   "outputs": [
    {
     "name": "stdout",
     "output_type": "stream",
     "text": [
      "\u001b[1m1014/1014\u001b[0m \u001b[32m━━━━━━━━━━━━━━━━━━━━\u001b[0m\u001b[37m\u001b[0m \u001b[1m8s\u001b[0m 8ms/step\n",
      "Mean Precision: 0.10\n",
      "Mean Recall: 0.10\n",
      "Mean F1-Score: 0.10\n"
     ]
    },
    {
     "name": "stderr",
     "output_type": "stream",
     "text": [
      "/home/cloud/Documents/MachineLearningEngineer_Datascientest/project/OCR/OCR2/OCR_handwriting/OCR2_env/lib64/python3.12/site-packages/sklearn/metrics/_classification.py:1531: UndefinedMetricWarning: Precision is ill-defined and being set to 0.0 in labels with no predicted samples. Use `zero_division` parameter to control this behavior.\n",
      "  _warn_prf(average, modifier, f\"{metric.capitalize()} is\", len(result))\n",
      "/home/cloud/Documents/MachineLearningEngineer_Datascientest/project/OCR/OCR2/OCR_handwriting/OCR2_env/lib64/python3.12/site-packages/sklearn/metrics/_classification.py:1531: UndefinedMetricWarning: Recall is ill-defined and being set to 0.0 in labels with no true samples. Use `zero_division` parameter to control this behavior.\n",
      "  _warn_prf(average, modifier, f\"{metric.capitalize()} is\", len(result))\n",
      "/home/cloud/Documents/MachineLearningEngineer_Datascientest/project/OCR/OCR2/OCR_handwriting/OCR2_env/lib64/python3.12/site-packages/sklearn/metrics/_classification.py:1531: UndefinedMetricWarning: Precision is ill-defined and being set to 0.0 in labels with no predicted samples. Use `zero_division` parameter to control this behavior.\n",
      "  _warn_prf(average, modifier, f\"{metric.capitalize()} is\", len(result))\n",
      "/home/cloud/Documents/MachineLearningEngineer_Datascientest/project/OCR/OCR2/OCR_handwriting/OCR2_env/lib64/python3.12/site-packages/sklearn/metrics/_classification.py:1531: UndefinedMetricWarning: Recall is ill-defined and being set to 0.0 in labels with no true samples. Use `zero_division` parameter to control this behavior.\n",
      "  _warn_prf(average, modifier, f\"{metric.capitalize()} is\", len(result))\n",
      "/home/cloud/Documents/MachineLearningEngineer_Datascientest/project/OCR/OCR2/OCR_handwriting/OCR2_env/lib64/python3.12/site-packages/sklearn/metrics/_classification.py:1531: UndefinedMetricWarning: Precision is ill-defined and being set to 0.0 in labels with no predicted samples. Use `zero_division` parameter to control this behavior.\n",
      "  _warn_prf(average, modifier, f\"{metric.capitalize()} is\", len(result))\n",
      "/home/cloud/Documents/MachineLearningEngineer_Datascientest/project/OCR/OCR2/OCR_handwriting/OCR2_env/lib64/python3.12/site-packages/sklearn/metrics/_classification.py:1531: UndefinedMetricWarning: Recall is ill-defined and being set to 0.0 in labels with no true samples. Use `zero_division` parameter to control this behavior.\n",
      "  _warn_prf(average, modifier, f\"{metric.capitalize()} is\", len(result))\n"
     ]
    }
   ],
   "source": [
    "test_pred = model_cnn.predict(X_test)\n",
    "test_pred_class = test_pred.argmax(axis = 1)\n",
    "y_test_class = y_test.argmax(axis = 1)\n",
    "\n",
    "#print(metrics.classification_report(y_test_class, test_pred_class))\n",
    "report = metrics.classification_report(y_test_class, test_pred_class, output_dict=True)\n",
    "\n",
    "# Extracting mean values\n",
    "mean_precision = report['weighted avg']['precision']\n",
    "mean_recall = report['weighted avg']['recall']\n",
    "mean_f1_score = report['weighted avg']['f1-score']\n",
    "\n",
    "# Output the mean values\n",
    "print(f'Mean Precision: {mean_precision:.2f}')\n",
    "print(f'Mean Recall: {mean_recall:.2f}')\n",
    "print(f'Mean F1-Score: {mean_f1_score:.2f}')"
   ]
  },
  {
   "cell_type": "markdown",
   "metadata": {},
   "source": [
    "* displaying confusion matrix between y_test_class and test_pred_class"
   ]
  },
  {
   "cell_type": "code",
   "execution_count": 11,
   "metadata": {},
   "outputs": [
    {
     "name": "stdout",
     "output_type": "stream",
     "text": [
      "[[ 47   3   0 ...   0   0   0]\n",
      " [  1 332   0 ...   0   0   0]\n",
      " [  0   0   4 ...   0   0   0]\n",
      " ...\n",
      " [  0   0   0 ...   0   0   0]\n",
      " [  0   0   0 ...   0   0   0]\n",
      " [  0   0   0 ...   0   0   0]]\n"
     ]
    }
   ],
   "source": [
    "cnf_matrix = metrics.confusion_matrix(y_test_class, test_pred_class)\n",
    "print(cnf_matrix)"
   ]
  },
  {
   "cell_type": "markdown",
   "metadata": {},
   "source": [
    "* displaying random images that the model got wrong"
   ]
  },
  {
   "cell_type": "code",
   "execution_count": 12,
   "metadata": {},
   "outputs": [
    {
     "data": {
      "image/png": "[encoded data removed]",
      "text/plain": [
       "<Figure size 640x480 with 3 Axes>"
      ]
     },
     "metadata": {},
     "output_type": "display_data"
    }
   ],
   "source": [
    "# Create mapping from class indices to transcriptions\n",
    "class_mapping = {index: transcription for index, transcription in enumerate(pd.Series(Y).unique())}\n",
    "\n",
    "# Handling error indexes\n",
    "error_indexes = [i for i in range(len(test_pred)) if test_pred_class[i] != y_test_class[i]]\n",
    "\n",
    "if len(error_indexes) > 0:\n",
    "    j = 1\n",
    "    for i in np.random.choice(error_indexes, size=min(3, len(error_indexes)), replace=False):\n",
    "        img = X_test[i]\n",
    "        plt.subplot(1, 3, j)\n",
    "        plt.axis('off')\n",
    "        plt.imshow(img, cmap=cm.binary)\n",
    "\n",
    "        true_transcription = Y_test[i]  # Get true transcription directly from the original labels\n",
    "        predicted_transcription = class_mapping[test_pred_class[i]]  # Get predicted transcription\n",
    "\n",
    "        plt.title(f'True: {true_transcription}\\nPred: {predicted_transcription}')\n",
    "        j += 1\n",
    "    plt.show()\n",
    "else:\n",
    "    print(\"No errors in predictions.\")"
   ]
  }
 ],
 "metadata": {
  "kernelspec": {
   "display_name": "OCR2_kernel",
   "language": "python",
   "name": "ocr2_kernel"
  },
  "language_info": {
   "codemirror_mode": {
    "name": "ipython",
    "version": 3
   },
   "file_extension": ".py",
   "mimetype": "text/x-python",
   "name": "python",
   "nbconvert_exporter": "python",
   "pygments_lexer": "ipython3",
   "version": "3.12.6"
  }
 },
 "nbformat": 4,
 "nbformat_minor": 2
}
