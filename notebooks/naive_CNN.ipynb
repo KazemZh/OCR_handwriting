{
 "cells": [
  {
   "cell_type": "markdown",
   "metadata": {},
   "source": [
    "The scheme to implement a model with keras:\n",
    "\n",
    "* Architecture of the model\n",
    "* Compiling the model\n",
    "* Training of the model Diagnosis of the training\n",
    "* Evaluation of predictions"
   ]
  },
  {
   "cell_type": "code",
   "execution_count": 17,
   "metadata": {},
   "outputs": [],
   "source": [
    "import pandas as pd\n",
    "import numpy as np\n",
    "import cv2\n",
    "from tensorflow.keras.layers import Input, Dense, Dropout, Flatten, Conv2D, MaxPooling2D\n",
    "from tensorflow.keras.models import Model\n",
    "from tensorflow.keras.utils import to_categorical\n",
    "from tensorflow.keras.callbacks import EarlyStopping, ModelCheckpoint\n",
    "from tensorflow.keras.preprocessing.image import ImageDataGenerator\n",
    "from sklearn.model_selection import train_test_split\n",
    "from sklearn.preprocessing import LabelEncoder\n",
    "from sklearn import metrics\n",
    "from sklearn.utils.class_weight import compute_class_weight\n",
    "import matplotlib.pyplot as plt\n",
    "from PIL import Image\n",
    "from tqdm import tqdm\n",
    "import os\n",
    "import matplotlib.cm as cm\n",
    "%matplotlib inline"
   ]
  },
  {
   "cell_type": "markdown",
   "metadata": {},
   "source": [
    "* loading and preprocessing the dataset"
   ]
  },
  {
   "cell_type": "code",
   "execution_count": 2,
   "metadata": {},
   "outputs": [
    {
     "name": "stderr",
     "output_type": "stream",
     "text": [
      "100%|██████████| 115338/115338 [00:01<00:00, 74707.47it/s]\n"
     ]
    },
    {
     "name": "stdout",
     "output_type": "stream",
     "text": [
      "inexistent_or_corrupted 2\n"
     ]
    },
    {
     "data": {
      "text/html": [
       "<div>\n",
       "<style scoped>\n",
       "    .dataframe tbody tr th:only-of-type {\n",
       "        vertical-align: middle;\n",
       "    }\n",
       "\n",
       "    .dataframe tbody tr th {\n",
       "        vertical-align: top;\n",
       "    }\n",
       "\n",
       "    .dataframe thead th {\n",
       "        text-align: right;\n",
       "    }\n",
       "</style>\n",
       "<table border=\"1\" class=\"dataframe\">\n",
       "  <thead>\n",
       "    <tr style=\"text-align: right;\">\n",
       "      <th></th>\n",
       "      <th>line_id</th>\n",
       "      <th>result</th>\n",
       "      <th>graylevel</th>\n",
       "      <th>x</th>\n",
       "      <th>y</th>\n",
       "      <th>w</th>\n",
       "      <th>h</th>\n",
       "      <th>annotation</th>\n",
       "      <th>transcription</th>\n",
       "      <th>image_path</th>\n",
       "    </tr>\n",
       "  </thead>\n",
       "  <tbody>\n",
       "    <tr>\n",
       "      <th>0</th>\n",
       "      <td>a01-000u-00-00</td>\n",
       "      <td>ok</td>\n",
       "      <td>154</td>\n",
       "      <td>408</td>\n",
       "      <td>768</td>\n",
       "      <td>27</td>\n",
       "      <td>51</td>\n",
       "      <td>AT</td>\n",
       "      <td>A</td>\n",
       "      <td>../../../IAM_Words/words/a01/a01-000u/a01-000u...</td>\n",
       "    </tr>\n",
       "    <tr>\n",
       "      <th>1</th>\n",
       "      <td>a01-000u-00-01</td>\n",
       "      <td>ok</td>\n",
       "      <td>154</td>\n",
       "      <td>507</td>\n",
       "      <td>766</td>\n",
       "      <td>213</td>\n",
       "      <td>48</td>\n",
       "      <td>NN</td>\n",
       "      <td>MOVE</td>\n",
       "      <td>../../../IAM_Words/words/a01/a01-000u/a01-000u...</td>\n",
       "    </tr>\n",
       "    <tr>\n",
       "      <th>2</th>\n",
       "      <td>a01-000u-00-02</td>\n",
       "      <td>ok</td>\n",
       "      <td>154</td>\n",
       "      <td>796</td>\n",
       "      <td>764</td>\n",
       "      <td>70</td>\n",
       "      <td>50</td>\n",
       "      <td>TO</td>\n",
       "      <td>to</td>\n",
       "      <td>../../../IAM_Words/words/a01/a01-000u/a01-000u...</td>\n",
       "    </tr>\n",
       "    <tr>\n",
       "      <th>3</th>\n",
       "      <td>a01-000u-00-03</td>\n",
       "      <td>ok</td>\n",
       "      <td>154</td>\n",
       "      <td>919</td>\n",
       "      <td>757</td>\n",
       "      <td>166</td>\n",
       "      <td>78</td>\n",
       "      <td>VB</td>\n",
       "      <td>stop</td>\n",
       "      <td>../../../IAM_Words/words/a01/a01-000u/a01-000u...</td>\n",
       "    </tr>\n",
       "    <tr>\n",
       "      <th>4</th>\n",
       "      <td>a01-000u-00-04</td>\n",
       "      <td>ok</td>\n",
       "      <td>154</td>\n",
       "      <td>1185</td>\n",
       "      <td>754</td>\n",
       "      <td>126</td>\n",
       "      <td>61</td>\n",
       "      <td>NPT</td>\n",
       "      <td>Mr.</td>\n",
       "      <td>../../../IAM_Words/words/a01/a01-000u/a01-000u...</td>\n",
       "    </tr>\n",
       "  </tbody>\n",
       "</table>\n",
       "</div>"
      ],
      "text/plain": [
       "          line_id result graylevel     x    y    w   h annotation  \\\n",
       "0  a01-000u-00-00     ok       154   408  768   27  51         AT   \n",
       "1  a01-000u-00-01     ok       154   507  766  213  48         NN   \n",
       "2  a01-000u-00-02     ok       154   796  764   70  50         TO   \n",
       "3  a01-000u-00-03     ok       154   919  757  166  78         VB   \n",
       "4  a01-000u-00-04     ok       154  1185  754  126  61        NPT   \n",
       "\n",
       "  transcription                                         image_path  \n",
       "0             A  ../../../IAM_Words/words/a01/a01-000u/a01-000u...  \n",
       "1          MOVE  ../../../IAM_Words/words/a01/a01-000u/a01-000u...  \n",
       "2            to  ../../../IAM_Words/words/a01/a01-000u/a01-000u...  \n",
       "3          stop  ../../../IAM_Words/words/a01/a01-000u/a01-000u...  \n",
       "4           Mr.  ../../../IAM_Words/words/a01/a01-000u/a01-000u...  "
      ]
     },
     "metadata": {},
     "output_type": "display_data"
    }
   ],
   "source": [
    "dataset_path = '../../../IAM_Words/words'  # Update the path as necessary\n",
    "data = []\n",
    "words = open(\"../ascii/words.txt\", \"r\").readlines()\n",
    "inexistent_or_corrupted= 0\n",
    "\n",
    "for line in tqdm(words):\n",
    "    if line.startswith(\"#\"):\n",
    "        continue\n",
    "    parts = line.strip().split()\n",
    "    fixed_part = parts[:8]\n",
    "    transcription_part = ' '.join(parts[8:])\n",
    "\n",
    "    line_split = line.split(\" \")\n",
    "    folder_parts = line_split[0].split('-')\n",
    "    folder1 = folder_parts[0]\n",
    "    folder2 = folder_parts[0] + '-' + folder_parts[1]\n",
    "    file_name = line_split[0] + \".png\"\n",
    "    label = line_split[-1].rstrip('\\n')\n",
    "    rel_path = os.path.join(dataset_path, folder1, folder2, file_name)\n",
    "\n",
    "    if os.path.exists(rel_path) and os.path.getsize(rel_path) > 0:\n",
    "        data.append(fixed_part + [transcription_part, rel_path])\n",
    "    else:\n",
    "        inexistent_or_corrupted += 1\n",
    "\n",
    "print('inexistent_or_corrupted', inexistent_or_corrupted)\n",
    "df = pd.DataFrame(data, columns=['line_id', 'result', 'graylevel', 'x', 'y', 'w', 'h', 'annotation', 'transcription', 'image_path'])\n",
    "display(df.head())"
   ]
  },
  {
   "cell_type": "markdown",
   "metadata": {},
   "source": [
    "* check transcription distribution and remove transcriptions with fewer than 2 samples "
   ]
  },
  {
   "cell_type": "code",
   "execution_count": 3,
   "metadata": {},
   "outputs": [
    {
     "name": "stdout",
     "output_type": "stream",
     "text": [
      "Transcription distribution before filtering:\n",
      "transcription\n",
      "the           5826\n",
      ",             5570\n",
      ".             4984\n",
      "of            3192\n",
      "to            2651\n",
      "              ... \n",
      "dimensions       1\n",
      "painting         1\n",
      "cutters          1\n",
      "Parana           1\n",
      "hullo            1\n",
      "Name: count, Length: 13550, dtype: int64\n",
      "Transcription distribution after filtering:\n",
      "transcription\n",
      "the          5826\n",
      ",            5570\n",
      ".            4984\n",
      "of           3192\n",
      "to           2651\n",
      "             ... \n",
      "specified       2\n",
      "palm            2\n",
      "smoothing       2\n",
      "gate            2\n",
      "doorman         2\n",
      "Name: count, Length: 6360, dtype: int64\n",
      "<class 'pandas.core.frame.DataFrame'>\n",
      "RangeIndex: 108128 entries, 0 to 108127\n",
      "Data columns (total 11 columns):\n",
      " #   Column                 Non-Null Count   Dtype \n",
      "---  ------                 --------------   ----- \n",
      " 0   line_id                108128 non-null  object\n",
      " 1   result                 108128 non-null  object\n",
      " 2   graylevel              108128 non-null  object\n",
      " 3   x                      108128 non-null  object\n",
      " 4   y                      108128 non-null  object\n",
      " 5   w                      108128 non-null  object\n",
      " 6   h                      108128 non-null  object\n",
      " 7   annotation             108128 non-null  object\n",
      " 8   transcription          108128 non-null  object\n",
      " 9   image_path             108128 non-null  object\n",
      " 10  transcription_encoded  108128 non-null  int64 \n",
      "dtypes: int64(1), object(10)\n",
      "memory usage: 9.1+ MB\n"
     ]
    },
    {
     "data": {
      "text/plain": [
       "None"
      ]
     },
     "metadata": {},
     "output_type": "display_data"
    },
    {
     "data": {
      "text/html": [
       "<div>\n",
       "<style scoped>\n",
       "    .dataframe tbody tr th:only-of-type {\n",
       "        vertical-align: middle;\n",
       "    }\n",
       "\n",
       "    .dataframe tbody tr th {\n",
       "        vertical-align: top;\n",
       "    }\n",
       "\n",
       "    .dataframe thead th {\n",
       "        text-align: right;\n",
       "    }\n",
       "</style>\n",
       "<table border=\"1\" class=\"dataframe\">\n",
       "  <thead>\n",
       "    <tr style=\"text-align: right;\">\n",
       "      <th></th>\n",
       "      <th>line_id</th>\n",
       "      <th>result</th>\n",
       "      <th>graylevel</th>\n",
       "      <th>x</th>\n",
       "      <th>y</th>\n",
       "      <th>w</th>\n",
       "      <th>h</th>\n",
       "      <th>annotation</th>\n",
       "      <th>transcription</th>\n",
       "      <th>image_path</th>\n",
       "      <th>transcription_encoded</th>\n",
       "    </tr>\n",
       "  </thead>\n",
       "  <tbody>\n",
       "    <tr>\n",
       "      <th>0</th>\n",
       "      <td>a01-000u-00-00</td>\n",
       "      <td>ok</td>\n",
       "      <td>154</td>\n",
       "      <td>408</td>\n",
       "      <td>768</td>\n",
       "      <td>27</td>\n",
       "      <td>51</td>\n",
       "      <td>AT</td>\n",
       "      <td>A</td>\n",
       "      <td>../../../IAM_Words/words/a01/a01-000u/a01-000u...</td>\n",
       "      <td>116</td>\n",
       "    </tr>\n",
       "    <tr>\n",
       "      <th>1</th>\n",
       "      <td>a01-000u-00-01</td>\n",
       "      <td>ok</td>\n",
       "      <td>154</td>\n",
       "      <td>507</td>\n",
       "      <td>766</td>\n",
       "      <td>213</td>\n",
       "      <td>48</td>\n",
       "      <td>NN</td>\n",
       "      <td>MOVE</td>\n",
       "      <td>../../../IAM_Words/words/a01/a01-000u/a01-000u...</td>\n",
       "      <td>850</td>\n",
       "    </tr>\n",
       "    <tr>\n",
       "      <th>2</th>\n",
       "      <td>a01-000u-00-02</td>\n",
       "      <td>ok</td>\n",
       "      <td>154</td>\n",
       "      <td>796</td>\n",
       "      <td>764</td>\n",
       "      <td>70</td>\n",
       "      <td>50</td>\n",
       "      <td>TO</td>\n",
       "      <td>to</td>\n",
       "      <td>../../../IAM_Words/words/a01/a01-000u/a01-000u...</td>\n",
       "      <td>5884</td>\n",
       "    </tr>\n",
       "    <tr>\n",
       "      <th>3</th>\n",
       "      <td>a01-000u-00-03</td>\n",
       "      <td>ok</td>\n",
       "      <td>154</td>\n",
       "      <td>919</td>\n",
       "      <td>757</td>\n",
       "      <td>166</td>\n",
       "      <td>78</td>\n",
       "      <td>VB</td>\n",
       "      <td>stop</td>\n",
       "      <td>../../../IAM_Words/words/a01/a01-000u/a01-000u...</td>\n",
       "      <td>5573</td>\n",
       "    </tr>\n",
       "    <tr>\n",
       "      <th>4</th>\n",
       "      <td>a01-000u-00-04</td>\n",
       "      <td>ok</td>\n",
       "      <td>154</td>\n",
       "      <td>1185</td>\n",
       "      <td>754</td>\n",
       "      <td>126</td>\n",
       "      <td>61</td>\n",
       "      <td>NPT</td>\n",
       "      <td>Mr.</td>\n",
       "      <td>../../../IAM_Words/words/a01/a01-000u/a01-000u...</td>\n",
       "      <td>930</td>\n",
       "    </tr>\n",
       "  </tbody>\n",
       "</table>\n",
       "</div>"
      ],
      "text/plain": [
       "          line_id result graylevel     x    y    w   h annotation  \\\n",
       "0  a01-000u-00-00     ok       154   408  768   27  51         AT   \n",
       "1  a01-000u-00-01     ok       154   507  766  213  48         NN   \n",
       "2  a01-000u-00-02     ok       154   796  764   70  50         TO   \n",
       "3  a01-000u-00-03     ok       154   919  757  166  78         VB   \n",
       "4  a01-000u-00-04     ok       154  1185  754  126  61        NPT   \n",
       "\n",
       "  transcription                                         image_path  \\\n",
       "0             A  ../../../IAM_Words/words/a01/a01-000u/a01-000u...   \n",
       "1          MOVE  ../../../IAM_Words/words/a01/a01-000u/a01-000u...   \n",
       "2            to  ../../../IAM_Words/words/a01/a01-000u/a01-000u...   \n",
       "3          stop  ../../../IAM_Words/words/a01/a01-000u/a01-000u...   \n",
       "4           Mr.  ../../../IAM_Words/words/a01/a01-000u/a01-000u...   \n",
       "\n",
       "   transcription_encoded  \n",
       "0                    116  \n",
       "1                    850  \n",
       "2                   5884  \n",
       "3                   5573  \n",
       "4                    930  "
      ]
     },
     "metadata": {},
     "output_type": "display_data"
    }
   ],
   "source": [
    "# Check transcription distribution\n",
    "print(\"Transcription distribution before filtering:\")\n",
    "print(df['transcription'].value_counts())\n",
    "\n",
    "# Remove transcription with fewer than 2 samples\n",
    "min_samples = 2\n",
    "class_counts = df['transcription'].value_counts()\n",
    "classes_to_keep = class_counts[class_counts >= min_samples].index\n",
    "df_filtered = df[df['transcription'].isin(classes_to_keep)].copy()\n",
    "# reset index after manipulation\n",
    "df_filtered.reset_index(drop=True, inplace=True)\n",
    "\n",
    "# Check transcription distribution after filtering\n",
    "print(\"Transcription distribution after filtering:\")\n",
    "print(df_filtered['transcription'].value_counts())\n",
    "\n",
    "le = LabelEncoder()\n",
    "df_filtered['transcription_encoded'] = None\n",
    "df_filtered['transcription_encoded'] = le.fit_transform(df_filtered['transcription'])\n",
    "\n",
    "display(df_filtered.info())\n",
    "display(df_filtered.head())"
   ]
  },
  {
   "cell_type": "markdown",
   "metadata": {},
   "source": [
    "* preparing image data"
   ]
  },
  {
   "cell_type": "code",
   "execution_count": 4,
   "metadata": {},
   "outputs": [
    {
     "name": "stdout",
     "output_type": "stream",
     "text": [
      "Min: 0.000, Max: 1.000\n",
      "X and Y have the same length  True\n"
     ]
    },
    {
     "data": {
      "text/plain": [
       "\"\\nX, Y = [], []\\nwidth, height = 28, 28\\nfor index, row in df_filtered.iterrows():\\n    gray_image = cv2.cvtColor(cv2.imread(row['image_path']), cv2.COLOR_BGR2GRAY)\\n    image = cv2.resize(gray_image, (width, height))\\n    X.append(np.array(image)) \\n    Y.append(row['transcription_encoded'])\""
      ]
     },
     "execution_count": 4,
     "metadata": {},
     "output_type": "execute_result"
    }
   ],
   "source": [
    "X, Y = [], []\n",
    "width, height = 28, 28  # Resize to 28x28\n",
    "\n",
    "for index, row in df_filtered.iterrows():\n",
    "    # print(image.mode)\n",
    "    image = Image.open(row['image_path']).convert('L').resize((width, height))\n",
    "    X.append(np.array(image))\n",
    "    Y.append(row['transcription_encoded'])\n",
    "\n",
    "X = np.array(X) / 255.0  # Normalize images\n",
    "print('Min: %.3f, Max: %.3f' % (X.min(), X.max()))\n",
    "Y = np.array(Y)\n",
    "\n",
    "print('X and Y have the same length ',len(X) == len(Y))\n",
    "'''\n",
    "X, Y = [], []\n",
    "width, height = 28, 28\n",
    "for index, row in df_filtered.iterrows():\n",
    "    gray_image = cv2.cvtColor(cv2.imread(row['image_path']), cv2.COLOR_BGR2GRAY)\n",
    "    image = cv2.resize(gray_image, (width, height))\n",
    "    X.append(np.array(image)) \n",
    "    Y.append(row['transcription_encoded'])'''\n"
   ]
  },
  {
   "cell_type": "markdown",
   "metadata": {},
   "source": [
    "* Train and testing split (70/30)"
   ]
  },
  {
   "cell_type": "code",
   "execution_count": 5,
   "metadata": {},
   "outputs": [],
   "source": [
    "\n",
    "X_train, X_test, Y_train, Y_test = train_test_split(X, Y, test_size=0.2, random_state=42, stratify=Y)\n"
   ]
  },
  {
   "cell_type": "code",
   "execution_count": 6,
   "metadata": {},
   "outputs": [
    {
     "name": "stdout",
     "output_type": "stream",
     "text": [
      "translation = '\n"
     ]
    },
    {
     "data": {
      "image/png": "[encoded data removed]",
      "text/plain": [
       "<Figure size 640x480 with 1 Axes>"
      ]
     },
     "metadata": {},
     "output_type": "display_data"
    }
   ],
   "source": [
    "#Display a random image from the dataset (take any number from the random state)\n",
    "\n",
    "idx = df_filtered.loc[df_filtered['transcription_encoded'] == Y_train[0]].index[0]\n",
    "print('translation =', df_filtered['transcription'].iloc[idx])\n",
    "plt.imshow(X_train[0])\n",
    "plt.show()"
   ]
  },
  {
   "cell_type": "markdown",
   "metadata": {},
   "source": [
    "* transforming data into 4-dimensional array (images, width, height, depth)\n",
    "* One-hot encoding for labels"
   ]
  },
  {
   "cell_type": "code",
   "execution_count": 7,
   "metadata": {},
   "outputs": [
    {
     "data": {
      "text/plain": [
       "(6360,)"
      ]
     },
     "metadata": {},
     "output_type": "display_data"
    },
    {
     "data": {
      "text/plain": [
       "(86502, 6360)"
      ]
     },
     "metadata": {},
     "output_type": "display_data"
    },
    {
     "data": {
      "text/plain": [
       "4"
      ]
     },
     "metadata": {},
     "output_type": "display_data"
    },
    {
     "data": {
      "text/plain": [
       "6360"
      ]
     },
     "metadata": {},
     "output_type": "display_data"
    }
   ],
   "source": [
    "# Reshape for CNN\n",
    "X_train = X_train.reshape((-1, 28, 28, 1))\n",
    "X_test = X_test.reshape((-1, 28, 28, 1))\n",
    "\n",
    "# Compute class weights to improve class balance\n",
    "'''\n",
    "class_weights = compute_class_weight(\n",
    " class_weight='balanced',\n",
    " classes=np.unique(Y_train),\n",
    " y=Y_train)\n",
    "\n",
    "class_weights_dict = dict(zip(np.unique(Y_train), class_weights))\n",
    "\n",
    "'''\n",
    "\n",
    "# calculates class weights manually based on class distribution\n",
    "class_counts = np.unique(Y_train, return_counts=True)[1]\n",
    "max_count = np.max(class_counts)\n",
    "smooth_factor = 1e-6\n",
    "\n",
    "class_weights_manual = class_counts / max_count\n",
    "class_weights_manual += smooth_factor\n",
    "\n",
    "class_weights_dict_manual = {label: weight / np.sum(class_weights_manual) for label, weight in zip(np.unique(Y_train), class_weights_manual)}\n",
    "\n",
    "# One-hot encoding for labels\n",
    "num_classes = max(len(np.unique(Y_train)), len(np.unique(Y_test)))\n",
    "y_train = to_categorical(Y_train, num_classes=num_classes)\n",
    "y_test = to_categorical(Y_test, num_classes=num_classes)\n",
    "\n",
    "# check if one hot encoding was successful\n",
    "display(np.unique(Y_train).shape) #\n",
    "display(y_train.shape) #\n",
    "display(np.argmax(y_train)) #\n",
    "display(len(np.unique(Y_train))) #"
   ]
  },
  {
   "cell_type": "markdown",
   "metadata": {},
   "source": [
    "* Data Generator - slightly shifting images without producing overly disorted images"
   ]
  },
  {
   "cell_type": "code",
   "execution_count": 8,
   "metadata": {},
   "outputs": [],
   "source": [
    "train_datagen = ImageDataGenerator(\n",
    "    width_shift_range = 0.1,\n",
    "    height_shift_range = 0.1,\n",
    "    rotation_range = 5)\n",
    "\n",
    "test_datagen = ImageDataGenerator()\n",
    "\n",
    "train_dataset = train_datagen.flow(X_train,y_train, batch_size = 64)\n",
    "test_dataset = test_datagen.flow(X_test, y_test, batch_size = 64)"
   ]
  },
  {
   "cell_type": "markdown",
   "metadata": {},
   "source": [
    "* Implementing Callbacks\n",
    "* EarlyStopping: stops training when monitored metrics stop improving (like validation accuracy) therefore preventing overfitting and saving computational recources\n",
    "* ModelCheckpoint: saving the best-performing model according to monitored metric\n",
    "* Worth exploring: ReduceLROnPlateau, LearningRateScheduler\n"
   ]
  },
  {
   "cell_type": "code",
   "execution_count": 9,
   "metadata": {},
   "outputs": [],
   "source": [
    "early_stopping = EarlyStopping(\n",
    "                                patience=30, # Wait 20 epochs before application\n",
    "                                min_delta = 0.01, # if after 5 epochs the loss function does not vary by 1%, \n",
    "                                                  # either upwards or downwards, we stop.\n",
    "                                verbose=1, # Show at which epoch we stop\n",
    "                                mode = 'min',\n",
    "                                monitor='val_accuracy') # monitoring val_accuracy\n",
    "\n",
    "model_checkpoint = ModelCheckpoint(\n",
    "                                    monitor=\"val_accuracy\",\n",
    "                                    save_best_only=\"True\",\n",
    "                                    mode=\"max\",\n",
    "                                    filepath=\"../model_checkpoint/CNN.keras\"\n",
    "                                    )"
   ]
  },
  {
   "cell_type": "markdown",
   "metadata": {},
   "source": [
    "* CNN Architecture\n",
    "\n",
    "* Creating and Training the model"
   ]
  },
  {
   "cell_type": "code",
   "execution_count": 10,
   "metadata": {},
   "outputs": [
    {
     "name": "stdout",
     "output_type": "stream",
     "text": [
      "Epoch 1/50\n"
     ]
    },
    {
     "name": "stderr",
     "output_type": "stream",
     "text": [
      "/home/cloud/Documents/MachineLearningEngineer_Datascientest/project/OCR/OCR2/OCR_handwriting/OCR2_env/lib64/python3.12/site-packages/keras/src/trainers/data_adapters/py_dataset_adapter.py:122: UserWarning: Your `PyDataset` class should call `super().__init__(**kwargs)` in its constructor. `**kwargs` can include `workers`, `use_multiprocessing`, `max_queue_size`. Do not pass these arguments to `fit()`, as they will be ignored.\n",
      "  self._warn_if_super_not_called()\n"
     ]
    },
    {
     "name": "stdout",
     "output_type": "stream",
     "text": [
      "\u001b[1m1352/1352\u001b[0m \u001b[32m━━━━━━━━━━━━━━━━━━━━\u001b[0m\u001b[37m\u001b[0m \u001b[1m65s\u001b[0m 47ms/step - accuracy: 0.1410 - loss: 0.0257 - val_accuracy: 0.2556 - val_loss: 6.3561\n",
      "Epoch 2/50\n",
      "\u001b[1m1352/1352\u001b[0m \u001b[32m━━━━━━━━━━━━━━━━━━━━\u001b[0m\u001b[37m\u001b[0m \u001b[1m54s\u001b[0m 40ms/step - accuracy: 0.2438 - loss: 0.0119 - val_accuracy: 0.2897 - val_loss: 5.9954\n",
      "Epoch 3/50\n",
      "\u001b[1m1352/1352\u001b[0m \u001b[32m━━━━━━━━━━━━━━━━━━━━\u001b[0m\u001b[37m\u001b[0m \u001b[1m68s\u001b[0m 50ms/step - accuracy: 0.2801 - loss: 0.0098 - val_accuracy: 0.3167 - val_loss: 5.8018\n",
      "Epoch 4/50\n",
      "\u001b[1m1352/1352\u001b[0m \u001b[32m━━━━━━━━━━━━━━━━━━━━\u001b[0m\u001b[37m\u001b[0m \u001b[1m75s\u001b[0m 56ms/step - accuracy: 0.3017 - loss: 0.0086 - val_accuracy: 0.3496 - val_loss: 5.0479\n",
      "Epoch 5/50\n",
      "\u001b[1m1352/1352\u001b[0m \u001b[32m━━━━━━━━━━━━━━━━━━━━\u001b[0m\u001b[37m\u001b[0m \u001b[1m75s\u001b[0m 56ms/step - accuracy: 0.3213 - loss: 0.0081 - val_accuracy: 0.3698 - val_loss: 4.8195\n",
      "Epoch 6/50\n",
      "\u001b[1m1352/1352\u001b[0m \u001b[32m━━━━━━━━━━━━━━━━━━━━\u001b[0m\u001b[37m\u001b[0m \u001b[1m72s\u001b[0m 53ms/step - accuracy: 0.3338 - loss: 0.0075 - val_accuracy: 0.3775 - val_loss: 4.6210\n",
      "Epoch 7/50\n",
      "\u001b[1m1352/1352\u001b[0m \u001b[32m━━━━━━━━━━━━━━━━━━━━\u001b[0m\u001b[37m\u001b[0m \u001b[1m70s\u001b[0m 52ms/step - accuracy: 0.3423 - loss: 0.0073 - val_accuracy: 0.3875 - val_loss: 4.7833\n",
      "Epoch 8/50\n",
      "\u001b[1m1352/1352\u001b[0m \u001b[32m━━━━━━━━━━━━━━━━━━━━\u001b[0m\u001b[37m\u001b[0m \u001b[1m62s\u001b[0m 46ms/step - accuracy: 0.3509 - loss: 0.0071 - val_accuracy: 0.3879 - val_loss: 4.6917\n",
      "Epoch 9/50\n",
      "\u001b[1m1352/1352\u001b[0m \u001b[32m━━━━━━━━━━━━━━━━━━━━\u001b[0m\u001b[37m\u001b[0m \u001b[1m64s\u001b[0m 47ms/step - accuracy: 0.3550 - loss: 0.0069 - val_accuracy: 0.3905 - val_loss: 4.8875\n",
      "Epoch 10/50\n",
      "\u001b[1m1352/1352\u001b[0m \u001b[32m━━━━━━━━━━━━━━━━━━━━\u001b[0m\u001b[37m\u001b[0m \u001b[1m64s\u001b[0m 47ms/step - accuracy: 0.3604 - loss: 0.0067 - val_accuracy: 0.4000 - val_loss: 4.5392\n",
      "Epoch 11/50\n",
      "\u001b[1m1352/1352\u001b[0m \u001b[32m━━━━━━━━━━━━━━━━━━━━\u001b[0m\u001b[37m\u001b[0m \u001b[1m65s\u001b[0m 48ms/step - accuracy: 0.3681 - loss: 0.0066 - val_accuracy: 0.4114 - val_loss: 4.3381\n",
      "Epoch 12/50\n",
      "\u001b[1m1352/1352\u001b[0m \u001b[32m━━━━━━━━━━━━━━━━━━━━\u001b[0m\u001b[37m\u001b[0m \u001b[1m67s\u001b[0m 50ms/step - accuracy: 0.3705 - loss: 0.0065 - val_accuracy: 0.4035 - val_loss: 4.7104\n",
      "Epoch 13/50\n",
      "\u001b[1m1352/1352\u001b[0m \u001b[32m━━━━━━━━━━━━━━━━━━━━\u001b[0m\u001b[37m\u001b[0m \u001b[1m66s\u001b[0m 49ms/step - accuracy: 0.3763 - loss: 0.0062 - val_accuracy: 0.4116 - val_loss: 4.5821\n",
      "Epoch 14/50\n",
      "\u001b[1m1352/1352\u001b[0m \u001b[32m━━━━━━━━━━━━━━━━━━━━\u001b[0m\u001b[37m\u001b[0m \u001b[1m72s\u001b[0m 53ms/step - accuracy: 0.3733 - loss: 0.0063 - val_accuracy: 0.4184 - val_loss: 4.2237\n",
      "Epoch 15/50\n",
      "\u001b[1m1352/1352\u001b[0m \u001b[32m━━━━━━━━━━━━━━━━━━━━\u001b[0m\u001b[37m\u001b[0m \u001b[1m78s\u001b[0m 58ms/step - accuracy: 0.3795 - loss: 0.0062 - val_accuracy: 0.4273 - val_loss: 3.9954\n",
      "Epoch 16/50\n",
      "\u001b[1m1352/1352\u001b[0m \u001b[32m━━━━━━━━━━━━━━━━━━━━\u001b[0m\u001b[37m\u001b[0m \u001b[1m76s\u001b[0m 56ms/step - accuracy: 0.3879 - loss: 0.0060 - val_accuracy: 0.4222 - val_loss: 4.1688\n",
      "Epoch 17/50\n",
      "\u001b[1m1352/1352\u001b[0m \u001b[32m━━━━━━━━━━━━━━━━━━━━\u001b[0m\u001b[37m\u001b[0m \u001b[1m78s\u001b[0m 57ms/step - accuracy: 0.3845 - loss: 0.0059 - val_accuracy: 0.4346 - val_loss: 3.9656\n",
      "Epoch 18/50\n",
      "\u001b[1m1352/1352\u001b[0m \u001b[32m━━━━━━━━━━━━━━━━━━━━\u001b[0m\u001b[37m\u001b[0m \u001b[1m73s\u001b[0m 54ms/step - accuracy: 0.3879 - loss: 0.0059 - val_accuracy: 0.4257 - val_loss: 4.3812\n",
      "Epoch 19/50\n",
      "\u001b[1m1352/1352\u001b[0m \u001b[32m━━━━━━━━━━━━━━━━━━━━\u001b[0m\u001b[37m\u001b[0m \u001b[1m66s\u001b[0m 49ms/step - accuracy: 0.3903 - loss: 0.0059 - val_accuracy: 0.4281 - val_loss: 4.2546\n",
      "Epoch 20/50\n",
      "\u001b[1m1352/1352\u001b[0m \u001b[32m━━━━━━━━━━━━━━━━━━━━\u001b[0m\u001b[37m\u001b[0m \u001b[1m55s\u001b[0m 41ms/step - accuracy: 0.3910 - loss: 0.0058 - val_accuracy: 0.4293 - val_loss: 4.4531\n",
      "Epoch 21/50\n",
      "\u001b[1m1352/1352\u001b[0m \u001b[32m━━━━━━━━━━━━━━━━━━━━\u001b[0m\u001b[37m\u001b[0m \u001b[1m53s\u001b[0m 39ms/step - accuracy: 0.3886 - loss: 0.0060 - val_accuracy: 0.4358 - val_loss: 4.3861\n",
      "Epoch 22/50\n",
      "\u001b[1m1352/1352\u001b[0m \u001b[32m━━━━━━━━━━━━━━━━━━━━\u001b[0m\u001b[37m\u001b[0m \u001b[1m109s\u001b[0m 81ms/step - accuracy: 0.3944 - loss: 0.0057 - val_accuracy: 0.4375 - val_loss: 4.2946\n",
      "Epoch 23/50\n",
      "\u001b[1m1352/1352\u001b[0m \u001b[32m━━━━━━━━━━━━━━━━━━━━\u001b[0m\u001b[37m\u001b[0m \u001b[1m113s\u001b[0m 83ms/step - accuracy: 0.3964 - loss: 0.0057 - val_accuracy: 0.4397 - val_loss: 4.1051\n",
      "Epoch 24/50\n",
      "\u001b[1m1352/1352\u001b[0m \u001b[32m━━━━━━━━━━━━━━━━━━━━\u001b[0m\u001b[37m\u001b[0m \u001b[1m109s\u001b[0m 80ms/step - accuracy: 0.3987 - loss: 0.0057 - val_accuracy: 0.4381 - val_loss: 4.0891\n",
      "Epoch 25/50\n",
      "\u001b[1m1352/1352\u001b[0m \u001b[32m━━━━━━━━━━━━━━━━━━━━\u001b[0m\u001b[37m\u001b[0m \u001b[1m114s\u001b[0m 84ms/step - accuracy: 0.3954 - loss: 0.0057 - val_accuracy: 0.4423 - val_loss: 3.9939\n",
      "Epoch 26/50\n",
      "\u001b[1m1352/1352\u001b[0m \u001b[32m━━━━━━━━━━━━━━━━━━━━\u001b[0m\u001b[37m\u001b[0m \u001b[1m114s\u001b[0m 84ms/step - accuracy: 0.4043 - loss: 0.0054 - val_accuracy: 0.4380 - val_loss: 4.3744\n",
      "Epoch 27/50\n",
      "\u001b[1m1352/1352\u001b[0m \u001b[32m━━━━━━━━━━━━━━━━━━━━\u001b[0m\u001b[37m\u001b[0m \u001b[1m114s\u001b[0m 84ms/step - accuracy: 0.3985 - loss: 0.0056 - val_accuracy: 0.4460 - val_loss: 4.0787\n",
      "Epoch 28/50\n",
      "\u001b[1m1352/1352\u001b[0m \u001b[32m━━━━━━━━━━━━━━━━━━━━\u001b[0m\u001b[37m\u001b[0m \u001b[1m117s\u001b[0m 87ms/step - accuracy: 0.4052 - loss: 0.0055 - val_accuracy: 0.4402 - val_loss: 4.1783\n",
      "Epoch 29/50\n",
      "\u001b[1m1352/1352\u001b[0m \u001b[32m━━━━━━━━━━━━━━━━━━━━\u001b[0m\u001b[37m\u001b[0m \u001b[1m118s\u001b[0m 87ms/step - accuracy: 0.4029 - loss: 0.0055 - val_accuracy: 0.4365 - val_loss: 4.1399\n",
      "Epoch 30/50\n",
      "\u001b[1m1352/1352\u001b[0m \u001b[32m━━━━━━━━━━━━━━━━━━━━\u001b[0m\u001b[37m\u001b[0m \u001b[1m113s\u001b[0m 83ms/step - accuracy: 0.4043 - loss: 0.0054 - val_accuracy: 0.4410 - val_loss: 3.9135\n",
      "Epoch 31/50\n",
      "\u001b[1m1352/1352\u001b[0m \u001b[32m━━━━━━━━━━━━━━━━━━━━\u001b[0m\u001b[37m\u001b[0m \u001b[1m117s\u001b[0m 87ms/step - accuracy: 0.4059 - loss: 0.0054 - val_accuracy: 0.4505 - val_loss: 4.1059\n",
      "Epoch 31: early stopping\n"
     ]
    }
   ],
   "source": [
    "# CNN Model\n",
    "inputs_cnn = Input(shape=(28, 28, 1))  # Adjust shape for RGB\n",
    "x = Conv2D(32, (5, 5), activation='relu')(inputs_cnn)\n",
    "x = MaxPooling2D(pool_size=(2, 2))(x)\n",
    "x = Dropout(0.2)(x)\n",
    "x = Flatten()(x)\n",
    "x = Dense(128, activation='relu')(x)\n",
    "num_classes = y_train.shape[1]  # Number of classes\n",
    "outputs_cnn = Dense(num_classes, activation='softmax')(x)\n",
    "\n",
    "# Compile model\n",
    "model_cnn = Model(inputs=inputs_cnn, outputs=outputs_cnn)\n",
    "model_cnn.compile(loss='categorical_crossentropy', optimizer='adam', metrics=['accuracy'])\n",
    "\n",
    "# Train model\n",
    "'''\n",
    "training_history_cnn = model_cnn.fit(test_dataset,\n",
    "                                     y_train,\n",
    "                                     epochs=50,\n",
    "                                     #batch_size=64, # recommended for ocr project: 32 or 64\n",
    "                                     verbose=1,\n",
    "                                     class_weight=class_weights_dict_manual,\n",
    "                                     validation_data=(X_test, y_test),\n",
    "                                     callbacks=[early_stopping, model_checkpoint])'''\n",
    "\n",
    "training_history_cnn = model_cnn.fit(train_dataset,\n",
    "                                     epochs=50,\n",
    "                                     verbose=1,\n",
    "                                     class_weight=class_weights_dict_manual,\n",
    "                                     validation_data=test_dataset,\n",
    "                                     callbacks=[early_stopping, model_checkpoint])\n"
   ]
  },
  {
   "cell_type": "markdown",
   "metadata": {},
   "source": [
    "* Performance of the CNN model\n",
    "\n",
    "* Plot of evolution of accuracies throughout the training"
   ]
  },
  {
   "cell_type": "code",
   "execution_count": 15,
   "metadata": {},
   "outputs": [
    {
     "data": {
      "image/png": "[encoded data removed]",
      "text/plain": [
       "<Figure size 640x480 with 1 Axes>"
      ]
     },
     "metadata": {},
     "output_type": "display_data"
    }
   ],
   "source": [
    "train_acc_cnn = training_history_cnn.history['accuracy']\n",
    "val_acc_cnn = training_history_cnn.history['val_accuracy']\n",
    "\n",
    "# Training sample accuracy curve\n",
    "plt.plot(train_acc_cnn, label='Training Accuracy')\n",
    "# Test sample accuracy curve\n",
    "plt.plot(val_acc_cnn, label='Validation Accuracy')\n",
    "# Axis labels\n",
    "plt.xlabel('Epochs')\n",
    "plt.ylabel('Accuracy')\n",
    "plt.legend()\n",
    "plt.show()"
   ]
  },
  {
   "cell_type": "markdown",
   "metadata": {},
   "source": [
    "* displaying detailed evaluative report of model's performance"
   ]
  },
  {
   "cell_type": "code",
   "execution_count": 12,
   "metadata": {},
   "outputs": [
    {
     "name": "stdout",
     "output_type": "stream",
     "text": [
      "\u001b[1m676/676\u001b[0m \u001b[32m━━━━━━━━━━━━━━━━━━━━\u001b[0m\u001b[37m\u001b[0m \u001b[1m10s\u001b[0m 15ms/step\n"
     ]
    },
    {
     "name": "stderr",
     "output_type": "stream",
     "text": [
      "/home/cloud/Documents/MachineLearningEngineer_Datascientest/project/OCR/OCR2/OCR_handwriting/OCR2_env/lib64/python3.12/site-packages/sklearn/metrics/_classification.py:1531: UndefinedMetricWarning: Precision is ill-defined and being set to 0.0 in labels with no predicted samples. Use `zero_division` parameter to control this behavior.\n",
      "  _warn_prf(average, modifier, f\"{metric.capitalize()} is\", len(result))\n",
      "/home/cloud/Documents/MachineLearningEngineer_Datascientest/project/OCR/OCR2/OCR_handwriting/OCR2_env/lib64/python3.12/site-packages/sklearn/metrics/_classification.py:1531: UndefinedMetricWarning: Precision is ill-defined and being set to 0.0 in labels with no predicted samples. Use `zero_division` parameter to control this behavior.\n",
      "  _warn_prf(average, modifier, f\"{metric.capitalize()} is\", len(result))\n"
     ]
    },
    {
     "name": "stdout",
     "output_type": "stream",
     "text": [
      "Mean Precision: 0.37\n",
      "Mean Recall: 0.45\n",
      "Mean F1-Score: 0.36\n"
     ]
    },
    {
     "name": "stderr",
     "output_type": "stream",
     "text": [
      "/home/cloud/Documents/MachineLearningEngineer_Datascientest/project/OCR/OCR2/OCR_handwriting/OCR2_env/lib64/python3.12/site-packages/sklearn/metrics/_classification.py:1531: UndefinedMetricWarning: Precision is ill-defined and being set to 0.0 in labels with no predicted samples. Use `zero_division` parameter to control this behavior.\n",
      "  _warn_prf(average, modifier, f\"{metric.capitalize()} is\", len(result))\n"
     ]
    }
   ],
   "source": [
    "test_pred = model_cnn.predict(X_test)\n",
    "test_pred_class = test_pred.argmax(axis = 1)\n",
    "y_test_class = y_test.argmax(axis = 1)\n",
    "\n",
    "#print(metrics.classification_report(y_test_class, test_pred_class))\n",
    "report = metrics.classification_report(y_test_class, test_pred_class, output_dict=True)\n",
    "\n",
    "# Extracting mean values\n",
    "mean_precision = report['weighted avg']['precision']\n",
    "mean_recall = report['weighted avg']['recall']\n",
    "mean_f1_score = report['weighted avg']['f1-score']\n",
    "\n",
    "# Output the mean values\n",
    "print(f'Mean Precision: {mean_precision:.2f}')\n",
    "print(f'Mean Recall: {mean_recall:.2f}')\n",
    "print(f'Mean F1-Score: {mean_f1_score:.2f}')"
   ]
  },
  {
   "cell_type": "markdown",
   "metadata": {},
   "source": [
    "* displaying confusion matrix between y_test_class and test_pred_class"
   ]
  },
  {
   "cell_type": "code",
   "execution_count": 13,
   "metadata": {},
   "outputs": [
    {
     "name": "stdout",
     "output_type": "stream",
     "text": [
      "[[ 32   1   0 ...   0   0   0]\n",
      " [  2 231   0 ...   0   0   0]\n",
      " [  0   0   1 ...   0   0   0]\n",
      " ...\n",
      " [  0   0   0 ...   0   0   0]\n",
      " [  0   0   0 ...   0   0   0]\n",
      " [  0   0   0 ...   0   0   0]]\n"
     ]
    }
   ],
   "source": [
    "cnf_matrix = metrics.confusion_matrix(y_test_class, test_pred_class)\n",
    "print(cnf_matrix)"
   ]
  },
  {
   "cell_type": "markdown",
   "metadata": {},
   "source": [
    "* displaying random images that the model got wrong"
   ]
  },
  {
   "cell_type": "code",
   "execution_count": 16,
   "metadata": {},
   "outputs": [
    {
     "data": {
      "image/png": "[encoded data removed]",
      "text/plain": [
       "<Figure size 640x480 with 3 Axes>"
      ]
     },
     "metadata": {},
     "output_type": "display_data"
    }
   ],
   "source": [
    "# Create mapping from class indices to transcriptions\n",
    "class_mapping = {index: transcription for index, transcription in enumerate(pd.Series(Y).unique())}\n",
    "\n",
    "# Handling error indexes\n",
    "error_indexes = [i for i in range(len(test_pred)) if test_pred_class[i] != y_test_class[i]]\n",
    "\n",
    "if len(error_indexes) > 0:\n",
    "    j = 1\n",
    "    for i in np.random.choice(error_indexes, size=min(3, len(error_indexes)), replace=False):\n",
    "        img = X_test[i]\n",
    "        plt.subplot(1, 3, j)\n",
    "        plt.axis('off')\n",
    "        plt.imshow(img, cmap=cm.binary)\n",
    "        true_transcription = df_filtered.loc[df_filtered['transcription_encoded'] == Y_test[i], 'transcription'].iloc[0]\n",
    "        predicted_transcription = df_filtered.loc[df_filtered['transcription_encoded'] == test_pred_class[i], 'transcription'].iloc[0]\n",
    "        confidence = str(round(test_pred[i][test_pred_class[i]], 2))\n",
    "\n",
    "        plt.title(f'True: {true_transcription}\\nPred: {predicted_transcription}\\nConf: {confidence}')\n",
    "        j += 1\n",
    "    plt.show()\n",
    "else:\n",
    "    print(\"No errors in predictions.\")\n",
    "              "
   ]
  }
 ],
 "metadata": {
  "kernelspec": {
   "display_name": "OCR2_kernel",
   "language": "python",
   "name": "ocr2_kernel"
  },
  "language_info": {
   "codemirror_mode": {
    "name": "ipython",
    "version": 3
   },
   "file_extension": ".py",
   "mimetype": "text/x-python",
   "name": "python",
   "nbconvert_exporter": "python",
   "pygments_lexer": "ipython3",
   "version": "3.12.6"
  }
 },
 "nbformat": 4,
 "nbformat_minor": 2
}
