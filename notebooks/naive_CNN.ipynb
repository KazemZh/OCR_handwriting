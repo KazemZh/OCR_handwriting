{
 "cells": [
  {
   "cell_type": "markdown",
   "metadata": {},
   "source": [
    "The scheme to implement a model with keras:\n",
    "\n",
    "* Architecture of the model\n",
    "* Compiling the model\n",
    "* Training of the model Diagnosis of the training\n",
    "* Evaluation of predictions"
   ]
  },
  {
   "cell_type": "code",
   "execution_count": 9,
   "metadata": {},
   "outputs": [],
   "source": [
    "import pandas as pd\n",
    "import numpy as np\n",
    "from tensorflow.keras.layers import Input, Dense, Dropout, Flatten, Conv2D, MaxPooling2D\n",
    "from tensorflow.keras.models import Model\n",
    "from keras.utils import to_categorical\n",
    "from sklearn.model_selection import train_test_split\n",
    "from sklearn import metrics\n",
    "import matplotlib.pyplot as plt\n",
    "from PIL import Image\n",
    "from tqdm import tqdm\n",
    "import os\n",
    "import matplotlib.cm as cm\n",
    "%matplotlib inline"
   ]
  },
  {
   "cell_type": "markdown",
   "metadata": {},
   "source": [
    "* loading and preprocessing the dataset"
   ]
  },
  {
   "cell_type": "code",
   "execution_count": 10,
   "metadata": {},
   "outputs": [
    {
     "name": "stderr",
     "output_type": "stream",
     "text": [
      "100%|██████████| 115338/115338 [00:00<00:00, 185565.52it/s]\n"
     ]
    },
    {
     "data": {
      "text/html": [
       "<div>\n",
       "<style scoped>\n",
       "    .dataframe tbody tr th:only-of-type {\n",
       "        vertical-align: middle;\n",
       "    }\n",
       "\n",
       "    .dataframe tbody tr th {\n",
       "        vertical-align: top;\n",
       "    }\n",
       "\n",
       "    .dataframe thead th {\n",
       "        text-align: right;\n",
       "    }\n",
       "</style>\n",
       "<table border=\"1\" class=\"dataframe\">\n",
       "  <thead>\n",
       "    <tr style=\"text-align: right;\">\n",
       "      <th></th>\n",
       "      <th>line_id</th>\n",
       "      <th>result</th>\n",
       "      <th>graylevel</th>\n",
       "      <th>x</th>\n",
       "      <th>y</th>\n",
       "      <th>w</th>\n",
       "      <th>h</th>\n",
       "      <th>annotation</th>\n",
       "      <th>transcription</th>\n",
       "      <th>image_path</th>\n",
       "    </tr>\n",
       "  </thead>\n",
       "  <tbody>\n",
       "    <tr>\n",
       "      <th>0</th>\n",
       "      <td>a01-000u-00-00</td>\n",
       "      <td>ok</td>\n",
       "      <td>154</td>\n",
       "      <td>408</td>\n",
       "      <td>768</td>\n",
       "      <td>27</td>\n",
       "      <td>51</td>\n",
       "      <td>AT</td>\n",
       "      <td>A</td>\n",
       "      <td>../../../IAM_Words/words/a01/a01-000u/a01-000u...</td>\n",
       "    </tr>\n",
       "    <tr>\n",
       "      <th>1</th>\n",
       "      <td>a01-000u-00-01</td>\n",
       "      <td>ok</td>\n",
       "      <td>154</td>\n",
       "      <td>507</td>\n",
       "      <td>766</td>\n",
       "      <td>213</td>\n",
       "      <td>48</td>\n",
       "      <td>NN</td>\n",
       "      <td>MOVE</td>\n",
       "      <td>../../../IAM_Words/words/a01/a01-000u/a01-000u...</td>\n",
       "    </tr>\n",
       "    <tr>\n",
       "      <th>2</th>\n",
       "      <td>a01-000u-00-02</td>\n",
       "      <td>ok</td>\n",
       "      <td>154</td>\n",
       "      <td>796</td>\n",
       "      <td>764</td>\n",
       "      <td>70</td>\n",
       "      <td>50</td>\n",
       "      <td>TO</td>\n",
       "      <td>to</td>\n",
       "      <td>../../../IAM_Words/words/a01/a01-000u/a01-000u...</td>\n",
       "    </tr>\n",
       "    <tr>\n",
       "      <th>3</th>\n",
       "      <td>a01-000u-00-03</td>\n",
       "      <td>ok</td>\n",
       "      <td>154</td>\n",
       "      <td>919</td>\n",
       "      <td>757</td>\n",
       "      <td>166</td>\n",
       "      <td>78</td>\n",
       "      <td>VB</td>\n",
       "      <td>stop</td>\n",
       "      <td>../../../IAM_Words/words/a01/a01-000u/a01-000u...</td>\n",
       "    </tr>\n",
       "    <tr>\n",
       "      <th>4</th>\n",
       "      <td>a01-000u-00-04</td>\n",
       "      <td>ok</td>\n",
       "      <td>154</td>\n",
       "      <td>1185</td>\n",
       "      <td>754</td>\n",
       "      <td>126</td>\n",
       "      <td>61</td>\n",
       "      <td>NPT</td>\n",
       "      <td>Mr.</td>\n",
       "      <td>../../../IAM_Words/words/a01/a01-000u/a01-000u...</td>\n",
       "    </tr>\n",
       "  </tbody>\n",
       "</table>\n",
       "</div>"
      ],
      "text/plain": [
       "          line_id result graylevel     x    y    w   h annotation  \\\n",
       "0  a01-000u-00-00     ok       154   408  768   27  51         AT   \n",
       "1  a01-000u-00-01     ok       154   507  766  213  48         NN   \n",
       "2  a01-000u-00-02     ok       154   796  764   70  50         TO   \n",
       "3  a01-000u-00-03     ok       154   919  757  166  78         VB   \n",
       "4  a01-000u-00-04     ok       154  1185  754  126  61        NPT   \n",
       "\n",
       "  transcription                                         image_path  \n",
       "0             A  ../../../IAM_Words/words/a01/a01-000u/a01-000u...  \n",
       "1          MOVE  ../../../IAM_Words/words/a01/a01-000u/a01-000u...  \n",
       "2            to  ../../../IAM_Words/words/a01/a01-000u/a01-000u...  \n",
       "3          stop  ../../../IAM_Words/words/a01/a01-000u/a01-000u...  \n",
       "4           Mr.  ../../../IAM_Words/words/a01/a01-000u/a01-000u...  "
      ]
     },
     "metadata": {},
     "output_type": "display_data"
    }
   ],
   "source": [
    "dataset_path = 'YOUR_PATH/IAM_Words/words'\n",
    "data = []\n",
    "words = open(\"../ascii/words.txt\", \"r\").readlines()  # Update the path as necessary\n",
    "\n",
    "for line in tqdm(words):\n",
    "    if line.startswith(\"#\"):\n",
    "        continue\n",
    "    parts = line.strip().split()\n",
    "    fixed_part = parts[:8]\n",
    "    transcription_part = ' '.join(parts[8:])\n",
    "\n",
    "    line_split = line.split(\" \")\n",
    "    folder1, folder2 = line_split[0][:3], line_split[0][:8]\n",
    "    file_name = line_split[0] + \".png\"\n",
    "    label = line_split[-1].rstrip('\\n')\n",
    "    rel_path = os.path.join(dataset_path, folder1, folder2, file_name)\n",
    "\n",
    "    if not os.path.exists(rel_path):\n",
    "        continue\n",
    "\n",
    "    data.append(fixed_part + [transcription_part, rel_path])\n",
    "\n",
    "df = pd.DataFrame(data, columns=['line_id', 'result', 'graylevel', 'x', 'y', 'w', 'h', 'annotation', 'transcription', 'image_path'])\n",
    "display(df.head())"
   ]
  },
  {
   "cell_type": "markdown",
   "metadata": {},
   "source": [
    "* check transcription distribution and remove transcriptions with fewer than 2 samples "
   ]
  },
  {
   "cell_type": "code",
   "execution_count": 11,
   "metadata": {},
   "outputs": [
    {
     "name": "stdout",
     "output_type": "stream",
     "text": [
      "Transcription distribution before filtering:\n",
      "transcription\n",
      ",             1425\n",
      "the           1227\n",
      ".              857\n",
      "of             786\n",
      "to             582\n",
      "              ... \n",
      "PRETENDS         1\n",
      "FOUND            1\n",
      "EVERYTHING       1\n",
      "UTTERMOST        1\n",
      "eyes             1\n",
      "Name: count, Length: 2589, dtype: int64\n",
      "Transcription distribution after filtering:\n",
      "transcription\n",
      ",                1425\n",
      "the              1227\n",
      ".                 857\n",
      "of                786\n",
      "to                582\n",
      "                 ... \n",
      "Rossetti            2\n",
      "simple              2\n",
      "tastes              2\n",
      "Investigation       2\n",
      "broth               2\n",
      "Name: count, Length: 1627, dtype: int64\n"
     ]
    }
   ],
   "source": [
    "# Check transcription distribution\n",
    "print(\"Transcription distribution before filtering:\")\n",
    "print(df['transcription'].value_counts())\n",
    "\n",
    "# Remove transcription with fewer than 2 samples\n",
    "min_samples = 2\n",
    "class_counts = df['transcription'].value_counts()\n",
    "classes_to_keep = class_counts[class_counts >= min_samples].index\n",
    "df_filtered = df[df['transcription'].isin(classes_to_keep)]\n",
    "\n",
    "# Check transcription distribution after filtering\n",
    "print(\"Transcription distribution after filtering:\")\n",
    "print(df_filtered['transcription'].value_counts())"
   ]
  },
  {
   "cell_type": "markdown",
   "metadata": {},
   "source": [
    "* preparing image data"
   ]
  },
  {
   "cell_type": "code",
   "execution_count": 12,
   "metadata": {},
   "outputs": [
    {
     "name": "stdout",
     "output_type": "stream",
     "text": [
      "Min: 0.000, Max: 1.000\n",
      "X and Y have the same length  True\n"
     ]
    }
   ],
   "source": [
    "X, Y = [], []\n",
    "width, height = 28, 28  # Resize to 28x28\n",
    "\n",
    "for index, row in df_filtered.iterrows():\n",
    "    image = Image.open(row['image_path']).convert('RGB').resize((width, height))\n",
    "    X.append(np.array(image))\n",
    "    Y.append(row['transcription'])\n",
    "\n",
    "X = np.array(X) / 255.0  # Normalize images\n",
    "print('Min: %.3f, Max: %.3f' % (X.min(), X.max()))\n",
    "Y = np.array(Y)\n",
    "\n",
    "print('X and Y have the same length ',len(X) == len(Y))\n"
   ]
  },
  {
   "cell_type": "markdown",
   "metadata": {},
   "source": [
    "* Train and testing split (70/30)"
   ]
  },
  {
   "cell_type": "code",
   "execution_count": 13,
   "metadata": {},
   "outputs": [],
   "source": [
    "\n",
    "X_train, X_test, Y_train, Y_test = train_test_split(X, Y, test_size=0.3, random_state=42, stratify=Y)\n"
   ]
  },
  {
   "cell_type": "code",
   "execution_count": 14,
   "metadata": {},
   "outputs": [
    {
     "name": "stdout",
     "output_type": "stream",
     "text": [
      "translation = Samuel\n"
     ]
    },
    {
     "data": {
      "image/png": "[encoded data removed]",
      "text/plain": [
       "<Figure size 640x480 with 1 Axes>"
      ]
     },
     "metadata": {},
     "output_type": "display_data"
    }
   ],
   "source": [
    "#Display a random image from the dataset (take any number from the random state)\n",
    "\n",
    "print('translation =',Y_train[1])\n",
    "plt.imshow(X_train[1])\n",
    "plt.show()"
   ]
  },
  {
   "cell_type": "markdown",
   "metadata": {},
   "source": [
    "* transforming data into 4-dimensional array (images, width, height, depth)\n",
    "* One-hot encoding for labels"
   ]
  },
  {
   "cell_type": "code",
   "execution_count": 15,
   "metadata": {},
   "outputs": [
    {
     "data": {
      "text/plain": [
       "(7075, 28, 28, 3)"
      ]
     },
     "metadata": {},
     "output_type": "display_data"
    },
    {
     "data": {
      "text/plain": [
       "(16506, 28, 28, 3)"
      ]
     },
     "metadata": {},
     "output_type": "display_data"
    }
   ],
   "source": [
    "# Reshape for CNN\n",
    "X_train = X_train.reshape((-1, 28, 28, 3))  # Adjust channels to 3 for RGB\n",
    "X_test = X_test.reshape((-1, 28, 28, 3))\n",
    "\n",
    "# One-hot encoding for labels\n",
    "y_train = pd.get_dummies(Y_train).values\n",
    "y_test = pd.get_dummies(Y_test).values\n",
    "\n",
    "display(X_test.shape)\n",
    "display(X_train.shape)"
   ]
  },
  {
   "cell_type": "markdown",
   "metadata": {},
   "source": [
    "* CNN Architecture\n",
    "\n",
    "* Creating and Training the model"
   ]
  },
  {
   "cell_type": "code",
   "execution_count": 16,
   "metadata": {},
   "outputs": [
    {
     "name": "stdout",
     "output_type": "stream",
     "text": [
      "Epoch 1/16\n",
      "\u001b[1m67/67\u001b[0m \u001b[32m━━━━━━━━━━━━━━━━━━━━\u001b[0m\u001b[37m\u001b[0m \u001b[1m3s\u001b[0m 33ms/step - accuracy: 0.0687 - loss: 6.5234 - val_accuracy: 0.1357 - val_loss: 5.7945\n",
      "Epoch 2/16\n",
      "\u001b[1m67/67\u001b[0m \u001b[32m━━━━━━━━━━━━━━━━━━━━\u001b[0m\u001b[37m\u001b[0m \u001b[1m2s\u001b[0m 27ms/step - accuracy: 0.1755 - loss: 5.4250 - val_accuracy: 0.2171 - val_loss: 5.1522\n",
      "Epoch 3/16\n",
      "\u001b[1m67/67\u001b[0m \u001b[32m━━━━━━━━━━━━━━━━━━━━\u001b[0m\u001b[37m\u001b[0m \u001b[1m2s\u001b[0m 32ms/step - accuracy: 0.2158 - loss: 4.9124 - val_accuracy: 0.2659 - val_loss: 4.6815\n",
      "Epoch 4/16\n",
      "\u001b[1m67/67\u001b[0m \u001b[32m━━━━━━━━━━━━━━━━━━━━\u001b[0m\u001b[37m\u001b[0m \u001b[1m2s\u001b[0m 33ms/step - accuracy: 0.2625 - loss: 4.4011 - val_accuracy: 0.2983 - val_loss: 4.3418\n",
      "Epoch 5/16\n",
      "\u001b[1m67/67\u001b[0m \u001b[32m━━━━━━━━━━━━━━━━━━━━\u001b[0m\u001b[37m\u001b[0m \u001b[1m2s\u001b[0m 33ms/step - accuracy: 0.3108 - loss: 3.9496 - val_accuracy: 0.3280 - val_loss: 4.0909\n",
      "Epoch 6/16\n",
      "\u001b[1m67/67\u001b[0m \u001b[32m━━━━━━━━━━━━━━━━━━━━\u001b[0m\u001b[37m\u001b[0m \u001b[1m2s\u001b[0m 31ms/step - accuracy: 0.3501 - loss: 3.5446 - val_accuracy: 0.3604 - val_loss: 3.9123\n",
      "Epoch 7/16\n",
      "\u001b[1m67/67\u001b[0m \u001b[32m━━━━━━━━━━━━━━━━━━━━\u001b[0m\u001b[37m\u001b[0m \u001b[1m2s\u001b[0m 32ms/step - accuracy: 0.3835 - loss: 3.2149 - val_accuracy: 0.3604 - val_loss: 3.8951\n",
      "Epoch 8/16\n",
      "\u001b[1m67/67\u001b[0m \u001b[32m━━━━━━━━━━━━━━━━━━━━\u001b[0m\u001b[37m\u001b[0m \u001b[1m2s\u001b[0m 32ms/step - accuracy: 0.4362 - loss: 2.7819 - val_accuracy: 0.3882 - val_loss: 3.6831\n",
      "Epoch 9/16\n",
      "\u001b[1m67/67\u001b[0m \u001b[32m━━━━━━━━━━━━━━━━━━━━\u001b[0m\u001b[37m\u001b[0m \u001b[1m2s\u001b[0m 33ms/step - accuracy: 0.4674 - loss: 2.5057 - val_accuracy: 0.4167 - val_loss: 3.6142\n",
      "Epoch 10/16\n",
      "\u001b[1m67/67\u001b[0m \u001b[32m━━━━━━━━━━━━━━━━━━━━\u001b[0m\u001b[37m\u001b[0m \u001b[1m2s\u001b[0m 31ms/step - accuracy: 0.5118 - loss: 2.1917 - val_accuracy: 0.4331 - val_loss: 3.5972\n",
      "Epoch 11/16\n",
      "\u001b[1m67/67\u001b[0m \u001b[32m━━━━━━━━━━━━━━━━━━━━\u001b[0m\u001b[37m\u001b[0m \u001b[1m2s\u001b[0m 30ms/step - accuracy: 0.5657 - loss: 1.9009 - val_accuracy: 0.4264 - val_loss: 3.6956\n",
      "Epoch 12/16\n",
      "\u001b[1m67/67\u001b[0m \u001b[32m━━━━━━━━━━━━━━━━━━━━\u001b[0m\u001b[37m\u001b[0m \u001b[1m2s\u001b[0m 32ms/step - accuracy: 0.5844 - loss: 1.7784 - val_accuracy: 0.4497 - val_loss: 3.5786\n",
      "Epoch 13/16\n",
      "\u001b[1m67/67\u001b[0m \u001b[32m━━━━━━━━━━━━━━━━━━━━\u001b[0m\u001b[37m\u001b[0m \u001b[1m2s\u001b[0m 29ms/step - accuracy: 0.6423 - loss: 1.5209 - val_accuracy: 0.4331 - val_loss: 3.7772\n",
      "Epoch 14/16\n",
      "\u001b[1m67/67\u001b[0m \u001b[32m━━━━━━━━━━━━━━━━━━━━\u001b[0m\u001b[37m\u001b[0m \u001b[1m2s\u001b[0m 29ms/step - accuracy: 0.6620 - loss: 1.4428 - val_accuracy: 0.4637 - val_loss: 3.6231\n",
      "Epoch 15/16\n",
      "\u001b[1m67/67\u001b[0m \u001b[32m━━━━━━━━━━━━━━━━━━━━\u001b[0m\u001b[37m\u001b[0m \u001b[1m2s\u001b[0m 31ms/step - accuracy: 0.7114 - loss: 1.2178 - val_accuracy: 0.4543 - val_loss: 3.8777\n",
      "Epoch 16/16\n",
      "\u001b[1m67/67\u001b[0m \u001b[32m━━━━━━━━━━━━━━━━━━━━\u001b[0m\u001b[37m\u001b[0m \u001b[1m2s\u001b[0m 34ms/step - accuracy: 0.7285 - loss: 1.1524 - val_accuracy: 0.4737 - val_loss: 3.7643\n"
     ]
    }
   ],
   "source": [
    "# CNN Model\n",
    "inputs_cnn = Input(shape=(28, 28, 3))  # Adjust shape for RGB\n",
    "x = Conv2D(32, (5, 5), activation='relu')(inputs_cnn)\n",
    "x = MaxPooling2D(pool_size=(2, 2))(x)\n",
    "x = Dropout(0.2)(x)\n",
    "x = Flatten()(x)\n",
    "x = Dense(128, activation='relu')(x)\n",
    "num_classes = y_train.shape[1]  # Number of classes\n",
    "outputs_cnn = Dense(num_classes, activation='softmax')(x)\n",
    "\n",
    "# Compile model\n",
    "model_cnn = Model(inputs=inputs_cnn, outputs=outputs_cnn)\n",
    "model_cnn.compile(loss='categorical_crossentropy', optimizer='adam', metrics=['accuracy'])\n",
    "\n",
    "# Train model\n",
    "training_history_cnn = model_cnn.fit(X_train, y_train, validation_split=0.2, epochs=16, batch_size=200, verbose=1)\n"
   ]
  },
  {
   "cell_type": "markdown",
   "metadata": {},
   "source": [
    "* Performance of the CNN model\n",
    "\n",
    "* Plot of evolution of accuracies throughout the training"
   ]
  },
  {
   "cell_type": "code",
   "execution_count": 17,
   "metadata": {},
   "outputs": [
    {
     "data": {
      "image/png": "[encoded data removed]",
      "text/plain": [
       "<Figure size 640x480 with 1 Axes>"
      ]
     },
     "metadata": {},
     "output_type": "display_data"
    }
   ],
   "source": [
    "train_acc_cnn = training_history_cnn.history['accuracy']\n",
    "val_acc_cnn = training_history_cnn.history['val_accuracy']\n",
    "\n",
    "# Training sample accuracy curve\n",
    "plt.plot(train_acc_cnn, label='Training Accuracy')\n",
    "# Test sample accuracy curve\n",
    "plt.plot(val_acc_cnn, label='Validation Accuracy')\n",
    "# Axis labels\n",
    "plt.xlabel('Epochs')\n",
    "plt.ylabel('Accuracy')\n",
    "plt.legend()\n",
    "plt.show()"
   ]
  },
  {
   "cell_type": "markdown",
   "metadata": {},
   "source": [
    "* displaying detailed evaluative report of model's performance"
   ]
  },
  {
   "cell_type": "code",
   "execution_count": 18,
   "metadata": {},
   "outputs": [
    {
     "name": "stdout",
     "output_type": "stream",
     "text": [
      "\u001b[1m222/222\u001b[0m \u001b[32m━━━━━━━━━━━━━━━━━━━━\u001b[0m\u001b[37m\u001b[0m \u001b[1m1s\u001b[0m 4ms/step\n",
      "Mean Precision: 0.09\n",
      "Mean Recall: 0.09\n",
      "Mean F1-Score: 0.09\n"
     ]
    },
    {
     "name": "stderr",
     "output_type": "stream",
     "text": [
      "/home/cloud/Documents/MachineLearningEngineer_Datascientest/project/OCR/OCR2/OCR_handwriting/OCR2_env/lib64/python3.12/site-packages/sklearn/metrics/_classification.py:1531: UndefinedMetricWarning: Precision is ill-defined and being set to 0.0 in labels with no predicted samples. Use `zero_division` parameter to control this behavior.\n",
      "  _warn_prf(average, modifier, f\"{metric.capitalize()} is\", len(result))\n",
      "/home/cloud/Documents/MachineLearningEngineer_Datascientest/project/OCR/OCR2/OCR_handwriting/OCR2_env/lib64/python3.12/site-packages/sklearn/metrics/_classification.py:1531: UndefinedMetricWarning: Recall is ill-defined and being set to 0.0 in labels with no true samples. Use `zero_division` parameter to control this behavior.\n",
      "  _warn_prf(average, modifier, f\"{metric.capitalize()} is\", len(result))\n",
      "/home/cloud/Documents/MachineLearningEngineer_Datascientest/project/OCR/OCR2/OCR_handwriting/OCR2_env/lib64/python3.12/site-packages/sklearn/metrics/_classification.py:1531: UndefinedMetricWarning: Precision is ill-defined and being set to 0.0 in labels with no predicted samples. Use `zero_division` parameter to control this behavior.\n",
      "  _warn_prf(average, modifier, f\"{metric.capitalize()} is\", len(result))\n",
      "/home/cloud/Documents/MachineLearningEngineer_Datascientest/project/OCR/OCR2/OCR_handwriting/OCR2_env/lib64/python3.12/site-packages/sklearn/metrics/_classification.py:1531: UndefinedMetricWarning: Recall is ill-defined and being set to 0.0 in labels with no true samples. Use `zero_division` parameter to control this behavior.\n",
      "  _warn_prf(average, modifier, f\"{metric.capitalize()} is\", len(result))\n",
      "/home/cloud/Documents/MachineLearningEngineer_Datascientest/project/OCR/OCR2/OCR_handwriting/OCR2_env/lib64/python3.12/site-packages/sklearn/metrics/_classification.py:1531: UndefinedMetricWarning: Precision is ill-defined and being set to 0.0 in labels with no predicted samples. Use `zero_division` parameter to control this behavior.\n",
      "  _warn_prf(average, modifier, f\"{metric.capitalize()} is\", len(result))\n",
      "/home/cloud/Documents/MachineLearningEngineer_Datascientest/project/OCR/OCR2/OCR_handwriting/OCR2_env/lib64/python3.12/site-packages/sklearn/metrics/_classification.py:1531: UndefinedMetricWarning: Recall is ill-defined and being set to 0.0 in labels with no true samples. Use `zero_division` parameter to control this behavior.\n",
      "  _warn_prf(average, modifier, f\"{metric.capitalize()} is\", len(result))\n"
     ]
    }
   ],
   "source": [
    "test_pred = model_cnn.predict(X_test)\n",
    "test_pred_class = test_pred.argmax(axis = 1)\n",
    "y_test_class = y_test.argmax(axis = 1)\n",
    "\n",
    "#print(metrics.classification_report(y_test_class, test_pred_class))\n",
    "report = metrics.classification_report(y_test_class, test_pred_class, output_dict=True)\n",
    "\n",
    "# Extracting mean values\n",
    "mean_precision = report['weighted avg']['precision']\n",
    "mean_recall = report['weighted avg']['recall']\n",
    "mean_f1_score = report['weighted avg']['f1-score']\n",
    "\n",
    "# Output the mean values\n",
    "print(f'Mean Precision: {mean_precision:.2f}')\n",
    "print(f'Mean Recall: {mean_recall:.2f}')\n",
    "print(f'Mean F1-Score: {mean_f1_score:.2f}')"
   ]
  },
  {
   "cell_type": "markdown",
   "metadata": {},
   "source": [
    "* displaying confusion matrix between y_test_class and test_pred_class"
   ]
  },
  {
   "cell_type": "code",
   "execution_count": 19,
   "metadata": {},
   "outputs": [
    {
     "name": "stdout",
     "output_type": "stream",
     "text": [
      "[[24  0  0 ...  0  0  0]\n",
      " [ 0 11  1 ...  0  0  0]\n",
      " [ 0  1  3 ...  0  0  0]\n",
      " ...\n",
      " [ 0  0  0 ...  0  0  0]\n",
      " [ 0  0  0 ...  0  0  0]\n",
      " [ 0  0  0 ...  0  0  0]]\n"
     ]
    }
   ],
   "source": [
    "cnf_matrix = metrics.confusion_matrix(y_test_class, test_pred_class)\n",
    "print(cnf_matrix)"
   ]
  },
  {
   "cell_type": "markdown",
   "metadata": {},
   "source": [
    "* displaying random images that the model got wrong"
   ]
  },
  {
   "cell_type": "code",
   "execution_count": 20,
   "metadata": {},
   "outputs": [
    {
     "data": {
      "image/png": "[encoded data removed]",
      "text/plain": [
       "<Figure size 640x480 with 3 Axes>"
      ]
     },
     "metadata": {},
     "output_type": "display_data"
    }
   ],
   "source": [
    "# Create mapping from class indices to transcriptions\n",
    "class_mapping = {index: transcription for index, transcription in enumerate(pd.Series(Y).unique())}\n",
    "\n",
    "# Handling error indexes\n",
    "error_indexes = [i for i in range(len(test_pred)) if test_pred_class[i] != y_test_class[i]]\n",
    "\n",
    "if len(error_indexes) > 0:\n",
    "    j = 1\n",
    "    for i in np.random.choice(error_indexes, size=min(3, len(error_indexes)), replace=False):\n",
    "        img = X_test[i]\n",
    "        plt.subplot(1, 3, j)\n",
    "        plt.axis('off')\n",
    "        plt.imshow(img, cmap=cm.binary)\n",
    "\n",
    "        true_transcription = Y_test[i]  # Get true transcription directly from the original labels\n",
    "        predicted_transcription = class_mapping[test_pred_class[i]]  # Get predicted transcription\n",
    "\n",
    "        plt.title(f'True: {true_transcription}\\nPred: {predicted_transcription}')\n",
    "        j += 1\n",
    "    plt.show()\n",
    "else:\n",
    "    print(\"No errors in predictions.\")"
   ]
  }
 ],
 "metadata": {
  "kernelspec": {
   "display_name": "OCR2_kernel",
   "language": "python",
   "name": "ocr2_kernel"
  },
  "language_info": {
   "codemirror_mode": {
    "name": "ipython",
    "version": 3
   },
   "file_extension": ".py",
   "mimetype": "text/x-python",
   "name": "python",
   "nbconvert_exporter": "python",
   "pygments_lexer": "ipython3",
   "version": "3.12.6"
  }
 },
 "nbformat": 4,
 "nbformat_minor": 2
}
