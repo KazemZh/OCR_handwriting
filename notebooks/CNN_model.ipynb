{
 "cells": [
  {
   "cell_type": "markdown",
   "metadata": {},
   "source": [
    "# Training a Convolutional Neural Network (CNN) for Handwriting Word Recognition\n",
    "\n",
    "## Overview\n",
    "This Jupyter notebook demonstrates how to train a simple **Convolutional Neural Network (CNN)** to recognize handwritten words. The goal is to utilize fundamental deep learning techniques to classify handwritten words accurately.\n",
    "\n",
    "### The scheme to implement a model with keras:\n",
    "\n",
    "* Architecture of the model\n",
    "* Compiling the model\n",
    "* Training of the model Diagnosis of the training\n",
    "* Evaluation of predictions\n"
   ]
  },
  {
   "cell_type": "markdown",
   "metadata": {},
   "source": [
    "## Importing Required Libraries\n",
    "\n",
    "In this section, we import all the necessary libraries and modules. These libraries are used for tasks like data manipulation, image processing, deep learning model creation, and evaluation. The imports are organized based on their functionality.\n"
   ]
  },
  {
   "cell_type": "code",
   "execution_count": 2,
   "metadata": {},
   "outputs": [
    {
     "name": "stdout",
     "output_type": "stream",
     "text": [
      "WARNING:tensorflow:From C:\\Users\\Besitzer\\AppData\\Local\\Packages\\PythonSoftwareFoundation.Python.3.11_qbz5n2kfra8p0\\LocalCache\\local-packages\\Python311\\site-packages\\keras\\src\\losses.py:2976: The name tf.losses.sparse_softmax_cross_entropy is deprecated. Please use tf.compat.v1.losses.sparse_softmax_cross_entropy instead.\n",
      "\n"
     ]
    }
   ],
   "source": [
    "# Data Handling\n",
    "import pandas as pd\n",
    "import numpy as np\n",
    "import os\n",
    "\n",
    "# Image Processing\n",
    "import cv2\n",
    "from PIL import Image\n",
    "\n",
    "# Deep Learning Frameworks (TensorFlow & Keras)\n",
    "from tensorflow.keras.layers import Input, Dense, Dropout, Flatten, Conv2D, MaxPooling2D\n",
    "from tensorflow.keras.models import Sequential\n",
    "from tensorflow.keras.optimizers import Adam\n",
    "from tensorflow.keras.utils import to_categorical\n",
    "from tensorflow.keras.callbacks import EarlyStopping, ModelCheckpoint\n",
    "from tensorflow.keras.preprocessing.image import ImageDataGenerator\n",
    "from tensorflow.keras.preprocessing import image\n",
    "from tensorflow.keras.models import Model\n",
    "\n",
    "# Machine Learning Utilities\n",
    "from sklearn.model_selection import train_test_split\n",
    "from sklearn.preprocessing import LabelEncoder\n",
    "from sklearn import metrics\n",
    "from sklearn.utils.class_weight import compute_class_weight\n",
    "\n",
    "# Plotting and Visualization\n",
    "import matplotlib.pyplot as plt\n",
    "import matplotlib.cm as cm\n",
    "import seaborn as sns\n",
    "import plotly.express as px\n",
    "import plotly.graph_objects as go\n",
    "from plotly.subplots import make_subplots\n",
    "import itertools\n",
    "\n",
    "# Progress Bar\n",
    "from tqdm import tqdm\n",
    "\n",
    "# NLP Utility to Import Stopwords Listimport nltk\n",
    "import nltk\n",
    "from nltk.corpus import stopwords"
   ]
  },
  {
   "cell_type": "markdown",
   "metadata": {},
   "source": [
    "## Loading and Preprocessing Dataset\n",
    "\n",
    "In this section, we load the handwritten text dataset from a specified directory and create a structured dataset that combines image paths with their corresponding transcription labels. We also verify the availability of image files to filter out corrupted or missing entries.\n",
    "\n",
    "- **Dataset Path**: We define the root path to the image dataset.\n",
    "- **Word Transcriptions**: We read the `words.txt` file, which contains metadata about the handwritten samples, including file names and corresponding transcriptions.\n",
    "- **Data Integrity Check**: We ensure that all referenced images exist and are not corrupted. Invalid entries are counted."
   ]
  },
  {
   "cell_type": "code",
   "execution_count": 87,
   "metadata": {},
   "outputs": [
    {
     "name": "stderr",
     "output_type": "stream",
     "text": [
      "100%|██████████| 115338/115338 [00:20<00:00, 5648.98it/s]\n"
     ]
    },
    {
     "name": "stdout",
     "output_type": "stream",
     "text": [
      "Number of inexistent or corrupted files: 2\n"
     ]
    },
    {
     "data": {
      "text/html": [
       "<div>\n",
       "<style scoped>\n",
       "    .dataframe tbody tr th:only-of-type {\n",
       "        vertical-align: middle;\n",
       "    }\n",
       "\n",
       "    .dataframe tbody tr th {\n",
       "        vertical-align: top;\n",
       "    }\n",
       "\n",
       "    .dataframe thead th {\n",
       "        text-align: right;\n",
       "    }\n",
       "</style>\n",
       "<table border=\"1\" class=\"dataframe\">\n",
       "  <thead>\n",
       "    <tr style=\"text-align: right;\">\n",
       "      <th></th>\n",
       "      <th>line_id</th>\n",
       "      <th>result</th>\n",
       "      <th>graylevel</th>\n",
       "      <th>x</th>\n",
       "      <th>y</th>\n",
       "      <th>w</th>\n",
       "      <th>h</th>\n",
       "      <th>annotation</th>\n",
       "      <th>transcription</th>\n",
       "      <th>image_path</th>\n",
       "    </tr>\n",
       "  </thead>\n",
       "  <tbody>\n",
       "    <tr>\n",
       "      <th>0</th>\n",
       "      <td>a01-000u-00-00</td>\n",
       "      <td>ok</td>\n",
       "      <td>154</td>\n",
       "      <td>408</td>\n",
       "      <td>768</td>\n",
       "      <td>27</td>\n",
       "      <td>51</td>\n",
       "      <td>AT</td>\n",
       "      <td>A</td>\n",
       "      <td>../../words\\a01\\a01-000u\\a01-000u-00-00.png</td>\n",
       "    </tr>\n",
       "    <tr>\n",
       "      <th>1</th>\n",
       "      <td>a01-000u-00-01</td>\n",
       "      <td>ok</td>\n",
       "      <td>154</td>\n",
       "      <td>507</td>\n",
       "      <td>766</td>\n",
       "      <td>213</td>\n",
       "      <td>48</td>\n",
       "      <td>NN</td>\n",
       "      <td>MOVE</td>\n",
       "      <td>../../words\\a01\\a01-000u\\a01-000u-00-01.png</td>\n",
       "    </tr>\n",
       "    <tr>\n",
       "      <th>2</th>\n",
       "      <td>a01-000u-00-02</td>\n",
       "      <td>ok</td>\n",
       "      <td>154</td>\n",
       "      <td>796</td>\n",
       "      <td>764</td>\n",
       "      <td>70</td>\n",
       "      <td>50</td>\n",
       "      <td>TO</td>\n",
       "      <td>to</td>\n",
       "      <td>../../words\\a01\\a01-000u\\a01-000u-00-02.png</td>\n",
       "    </tr>\n",
       "    <tr>\n",
       "      <th>3</th>\n",
       "      <td>a01-000u-00-03</td>\n",
       "      <td>ok</td>\n",
       "      <td>154</td>\n",
       "      <td>919</td>\n",
       "      <td>757</td>\n",
       "      <td>166</td>\n",
       "      <td>78</td>\n",
       "      <td>VB</td>\n",
       "      <td>stop</td>\n",
       "      <td>../../words\\a01\\a01-000u\\a01-000u-00-03.png</td>\n",
       "    </tr>\n",
       "    <tr>\n",
       "      <th>4</th>\n",
       "      <td>a01-000u-00-04</td>\n",
       "      <td>ok</td>\n",
       "      <td>154</td>\n",
       "      <td>1185</td>\n",
       "      <td>754</td>\n",
       "      <td>126</td>\n",
       "      <td>61</td>\n",
       "      <td>NPT</td>\n",
       "      <td>Mr.</td>\n",
       "      <td>../../words\\a01\\a01-000u\\a01-000u-00-04.png</td>\n",
       "    </tr>\n",
       "  </tbody>\n",
       "</table>\n",
       "</div>"
      ],
      "text/plain": [
       "          line_id result graylevel     x    y    w   h annotation  \\\n",
       "0  a01-000u-00-00     ok       154   408  768   27  51         AT   \n",
       "1  a01-000u-00-01     ok       154   507  766  213  48         NN   \n",
       "2  a01-000u-00-02     ok       154   796  764   70  50         TO   \n",
       "3  a01-000u-00-03     ok       154   919  757  166  78         VB   \n",
       "4  a01-000u-00-04     ok       154  1185  754  126  61        NPT   \n",
       "\n",
       "  transcription                                   image_path  \n",
       "0             A  ../../words\\a01\\a01-000u\\a01-000u-00-00.png  \n",
       "1          MOVE  ../../words\\a01\\a01-000u\\a01-000u-00-01.png  \n",
       "2            to  ../../words\\a01\\a01-000u\\a01-000u-00-02.png  \n",
       "3          stop  ../../words\\a01\\a01-000u\\a01-000u-00-03.png  \n",
       "4           Mr.  ../../words\\a01\\a01-000u\\a01-000u-00-04.png  "
      ]
     },
     "metadata": {},
     "output_type": "display_data"
    }
   ],
   "source": [
    "# Define the dataset path\n",
    "dataset_path = '../../words'  # Update this path based on your specific directory structure\n",
    "\n",
    "# Initialize data list and load transcription file\n",
    "data = []  # List to store dataset information\n",
    "words = open(\"../ascii/words.txt\", \"r\").readlines()  # Read the words.txt file which contains metadata for each image\n",
    "inexistent_or_corrupted = 0  # Counter for inexistent or corrupted image files\n",
    "\n",
    "# Iterate over each line of the metadata file\n",
    "for line in tqdm(words):\n",
    "    if line.startswith(\"#\"):  # Skip header lines that start with '#'\n",
    "        continue\n",
    "\n",
    "    # Split the line into different components\n",
    "    parts = line.strip().split()\n",
    "    fixed_part = parts[:8]  # Extract fixed part of the metadata (e.g., ID, coordinates, etc.)\n",
    "    transcription_part = ' '.join(parts[8:])  # Extract the transcription part (actual word)\n",
    "\n",
    "    # Construct folder paths and image file names\n",
    "    line_split = line.split(\" \")\n",
    "    folder_parts = line_split[0].split('-')\n",
    "    folder1 = folder_parts[0]\n",
    "    folder2 = folder_parts[0] + '-' + folder_parts[1]\n",
    "    file_name = line_split[0] + \".png\"\n",
    "    label = line_split[-1].rstrip('\\n')\n",
    "\n",
    "    # Construct the relative path for the image\n",
    "    rel_path = os.path.join(dataset_path, folder1, folder2, file_name)\n",
    "\n",
    "    # Check if the image exists and is not corrupted (file size > 0)\n",
    "    if os.path.exists(rel_path) and os.path.getsize(rel_path) > 0:\n",
    "        # Append metadata and image path to data list\n",
    "        data.append(fixed_part + [transcription_part, rel_path])\n",
    "    else:\n",
    "        # Increment counter if image is missing or corrupted\n",
    "        inexistent_or_corrupted += 1\n",
    "\n",
    "# Print the count of inexistent or corrupted images\n",
    "print('Number of inexistent or corrupted files:', inexistent_or_corrupted)\n",
    "\n",
    "# Create a DataFrame from the collected data\n",
    "df = pd.DataFrame(data, columns=['line_id', 'result', 'graylevel', 'x', 'y', 'w', 'h', 'annotation', 'transcription', 'image_path'])\n",
    "display(df.head())  # Display the first few rows of the DataFrame\n"
   ]
  },
  {
   "cell_type": "markdown",
   "metadata": {},
   "source": [
    "## Interactive Visualization of Transcription Frequency Distribution\n",
    "\n",
    "Before applying any filtering, it is helpful to visualize the distribution of transcription frequencies. This plot provides insights into the number of times each transcription appears in the dataset, helping us understand which classes might be overrepresented or underrepresented.\n",
    "\n",
    "This plot includes several interactive features:\n",
    "- **Hover Tooltips**: Hover over the data points to see detailed information.\n",
    "- **Zoom Options**: Use mouse controls to zoom in and out of specific areas of the plot.\n",
    "- **Toggle Axis Type**: The plot has buttons to toggle between linear and log scales for both axes, making it easier to explore the distribution."
   ]
  },
  {
   "cell_type": "code",
   "execution_count": 88,
   "metadata": {},
   "outputs": [
    {
     "data": {
      "application/vnd.plotly.v1+json": {
       "config": {
        "plotlyServerURL": "https://plot.ly"
       },
       "data": [
        {
         "hoverinfo": "x+y",
         "marker": {
          "color": "red",
          "size": 6
         },
         "mode": "markers+lines",
         "name": "Frequency of Transcriptions",
         "type": "scatter",
         "x": [
          1,
          2,
          3,
          4,
          5,
          6,
          7,
          8,
          9,
          10,
          11,
          12,
          13,
          14,
          15,
          16,
          17,
          18,
          19,
          20,
          21,
          22,
          23,
          24,
          25,
          26,
          27,
          28,
          29,
          30,
          31,
          32,
          33,
          34,
          35,
          36,
          37,
          38,
          39,
          40,
          41,
          42,
          43,
          44,
          45,
          46,
          47,
          48,
          49,
          50,
          51,
          52,
          53,
          54,
          55,
          56,
          57,
          58,
          59,
          61,
          63,
          64,
          65,
          66,
          67,
          68,
          70,
          71,
          72,
          74,
          75,
          76,
          78,
          79,
          80,
          82,
          83,
          84,
          85,
          86,
          87,
          89,
          91,
          92,
          93,
          94,
          96,
          97,
          98,
          100,
          102,
          105,
          108,
          112,
          113,
          116,
          119,
          120,
          121,
          122,
          123,
          133,
          135,
          138,
          139,
          140,
          141,
          143,
          144,
          145,
          149,
          151,
          153,
          154,
          161,
          162,
          163,
          165,
          166,
          170,
          173,
          174,
          178,
          181,
          188,
          200,
          203,
          204,
          207,
          212,
          214,
          226,
          244,
          248,
          253,
          256,
          258,
          259,
          260,
          263,
          268,
          269,
          270,
          276,
          306,
          321,
          333,
          346,
          352,
          353,
          367,
          373,
          383,
          384,
          401,
          410,
          419,
          422,
          425,
          479,
          490,
          563,
          626,
          697,
          702,
          703,
          709,
          723,
          733,
          743,
          837,
          840,
          885,
          982,
          1127,
          1135,
          1599,
          1802,
          2264,
          2475,
          2651,
          3192,
          4984,
          5570,
          5826
         ],
         "y": [
          7190,
          2103,
          1076,
          608,
          396,
          323,
          240,
          187,
          139,
          109,
          87,
          85,
          76,
          52,
          60,
          58,
          72,
          42,
          42,
          37,
          34,
          22,
          24,
          24,
          14,
          21,
          18,
          14,
          11,
          9,
          17,
          12,
          12,
          10,
          9,
          11,
          5,
          7,
          7,
          8,
          5,
          3,
          3,
          10,
          8,
          5,
          13,
          7,
          8,
          2,
          6,
          3,
          6,
          4,
          3,
          7,
          4,
          3,
          4,
          1,
          4,
          2,
          1,
          2,
          1,
          1,
          2,
          2,
          3,
          1,
          5,
          2,
          3,
          2,
          3,
          2,
          1,
          1,
          1,
          5,
          2,
          1,
          1,
          1,
          1,
          4,
          3,
          3,
          4,
          2,
          1,
          2,
          1,
          1,
          1,
          1,
          1,
          2,
          2,
          1,
          2,
          1,
          1,
          1,
          1,
          1,
          1,
          3,
          2,
          2,
          1,
          1,
          1,
          1,
          1,
          1,
          1,
          1,
          1,
          2,
          1,
          1,
          1,
          1,
          1,
          1,
          1,
          2,
          2,
          1,
          1,
          1,
          2,
          1,
          1,
          1,
          1,
          1,
          1,
          1,
          1,
          1,
          1,
          1,
          1,
          1,
          1,
          1,
          1,
          1,
          1,
          1,
          1,
          1,
          1,
          1,
          1,
          1,
          1,
          1,
          1,
          1,
          1,
          1,
          1,
          1,
          1,
          1,
          1,
          2,
          1,
          1,
          1,
          1,
          1,
          1,
          1,
          1,
          1,
          1,
          1,
          1,
          1,
          1,
          1
         ]
        }
       ],
       "layout": {
        "hovermode": "closest",
        "template": {
         "data": {
          "bar": [
           {
            "error_x": {
             "color": "#2a3f5f"
            },
            "error_y": {
             "color": "#2a3f5f"
            },
            "marker": {
             "line": {
              "color": "#E5ECF6",
              "width": 0.5
             },
             "pattern": {
              "fillmode": "overlay",
              "size": 10,
              "solidity": 0.2
             }
            },
            "type": "bar"
           }
          ],
          "barpolar": [
           {
            "marker": {
             "line": {
              "color": "#E5ECF6",
              "width": 0.5
             },
             "pattern": {
              "fillmode": "overlay",
              "size": 10,
              "solidity": 0.2
             }
            },
            "type": "barpolar"
           }
          ],
          "carpet": [
           {
            "aaxis": {
             "endlinecolor": "#2a3f5f",
             "gridcolor": "white",
             "linecolor": "white",
             "minorgridcolor": "white",
             "startlinecolor": "#2a3f5f"
            },
            "baxis": {
             "endlinecolor": "#2a3f5f",
             "gridcolor": "white",
             "linecolor": "white",
             "minorgridcolor": "white",
             "startlinecolor": "#2a3f5f"
            },
            "type": "carpet"
           }
          ],
          "choropleth": [
           {
            "colorbar": {
             "outlinewidth": 0,
             "ticks": ""
            },
            "type": "choropleth"
           }
          ],
          "contour": [
           {
            "colorbar": {
             "outlinewidth": 0,
             "ticks": ""
            },
            "colorscale": [
             [
              0,
              "#0d0887"
             ],
             [
              0.1111111111111111,
              "#46039f"
             ],
             [
              0.2222222222222222,
              "#7201a8"
             ],
             [
              0.3333333333333333,
              "#9c179e"
             ],
             [
              0.4444444444444444,
              "#bd3786"
             ],
             [
              0.5555555555555556,
              "#d8576b"
             ],
             [
              0.6666666666666666,
              "#ed7953"
             ],
             [
              0.7777777777777778,
              "#fb9f3a"
             ],
             [
              0.8888888888888888,
              "#fdca26"
             ],
             [
              1,
              "#f0f921"
             ]
            ],
            "type": "contour"
           }
          ],
          "contourcarpet": [
           {
            "colorbar": {
             "outlinewidth": 0,
             "ticks": ""
            },
            "type": "contourcarpet"
           }
          ],
          "heatmap": [
           {
            "colorbar": {
             "outlinewidth": 0,
             "ticks": ""
            },
            "colorscale": [
             [
              0,
              "#0d0887"
             ],
             [
              0.1111111111111111,
              "#46039f"
             ],
             [
              0.2222222222222222,
              "#7201a8"
             ],
             [
              0.3333333333333333,
              "#9c179e"
             ],
             [
              0.4444444444444444,
              "#bd3786"
             ],
             [
              0.5555555555555556,
              "#d8576b"
             ],
             [
              0.6666666666666666,
              "#ed7953"
             ],
             [
              0.7777777777777778,
              "#fb9f3a"
             ],
             [
              0.8888888888888888,
              "#fdca26"
             ],
             [
              1,
              "#f0f921"
             ]
            ],
            "type": "heatmap"
           }
          ],
          "heatmapgl": [
           {
            "colorbar": {
             "outlinewidth": 0,
             "ticks": ""
            },
            "colorscale": [
             [
              0,
              "#0d0887"
             ],
             [
              0.1111111111111111,
              "#46039f"
             ],
             [
              0.2222222222222222,
              "#7201a8"
             ],
             [
              0.3333333333333333,
              "#9c179e"
             ],
             [
              0.4444444444444444,
              "#bd3786"
             ],
             [
              0.5555555555555556,
              "#d8576b"
             ],
             [
              0.6666666666666666,
              "#ed7953"
             ],
             [
              0.7777777777777778,
              "#fb9f3a"
             ],
             [
              0.8888888888888888,
              "#fdca26"
             ],
             [
              1,
              "#f0f921"
             ]
            ],
            "type": "heatmapgl"
           }
          ],
          "histogram": [
           {
            "marker": {
             "pattern": {
              "fillmode": "overlay",
              "size": 10,
              "solidity": 0.2
             }
            },
            "type": "histogram"
           }
          ],
          "histogram2d": [
           {
            "colorbar": {
             "outlinewidth": 0,
             "ticks": ""
            },
            "colorscale": [
             [
              0,
              "#0d0887"
             ],
             [
              0.1111111111111111,
              "#46039f"
             ],
             [
              0.2222222222222222,
              "#7201a8"
             ],
             [
              0.3333333333333333,
              "#9c179e"
             ],
             [
              0.4444444444444444,
              "#bd3786"
             ],
             [
              0.5555555555555556,
              "#d8576b"
             ],
             [
              0.6666666666666666,
              "#ed7953"
             ],
             [
              0.7777777777777778,
              "#fb9f3a"
             ],
             [
              0.8888888888888888,
              "#fdca26"
             ],
             [
              1,
              "#f0f921"
             ]
            ],
            "type": "histogram2d"
           }
          ],
          "histogram2dcontour": [
           {
            "colorbar": {
             "outlinewidth": 0,
             "ticks": ""
            },
            "colorscale": [
             [
              0,
              "#0d0887"
             ],
             [
              0.1111111111111111,
              "#46039f"
             ],
             [
              0.2222222222222222,
              "#7201a8"
             ],
             [
              0.3333333333333333,
              "#9c179e"
             ],
             [
              0.4444444444444444,
              "#bd3786"
             ],
             [
              0.5555555555555556,
              "#d8576b"
             ],
             [
              0.6666666666666666,
              "#ed7953"
             ],
             [
              0.7777777777777778,
              "#fb9f3a"
             ],
             [
              0.8888888888888888,
              "#fdca26"
             ],
             [
              1,
              "#f0f921"
             ]
            ],
            "type": "histogram2dcontour"
           }
          ],
          "mesh3d": [
           {
            "colorbar": {
             "outlinewidth": 0,
             "ticks": ""
            },
            "type": "mesh3d"
           }
          ],
          "parcoords": [
           {
            "line": {
             "colorbar": {
              "outlinewidth": 0,
              "ticks": ""
             }
            },
            "type": "parcoords"
           }
          ],
          "pie": [
           {
            "automargin": true,
            "type": "pie"
           }
          ],
          "scatter": [
           {
            "fillpattern": {
             "fillmode": "overlay",
             "size": 10,
             "solidity": 0.2
            },
            "type": "scatter"
           }
          ],
          "scatter3d": [
           {
            "line": {
             "colorbar": {
              "outlinewidth": 0,
              "ticks": ""
             }
            },
            "marker": {
             "colorbar": {
              "outlinewidth": 0,
              "ticks": ""
             }
            },
            "type": "scatter3d"
           }
          ],
          "scattercarpet": [
           {
            "marker": {
             "colorbar": {
              "outlinewidth": 0,
              "ticks": ""
             }
            },
            "type": "scattercarpet"
           }
          ],
          "scattergeo": [
           {
            "marker": {
             "colorbar": {
              "outlinewidth": 0,
              "ticks": ""
             }
            },
            "type": "scattergeo"
           }
          ],
          "scattergl": [
           {
            "marker": {
             "colorbar": {
              "outlinewidth": 0,
              "ticks": ""
             }
            },
            "type": "scattergl"
           }
          ],
          "scattermapbox": [
           {
            "marker": {
             "colorbar": {
              "outlinewidth": 0,
              "ticks": ""
             }
            },
            "type": "scattermapbox"
           }
          ],
          "scatterpolar": [
           {
            "marker": {
             "colorbar": {
              "outlinewidth": 0,
              "ticks": ""
             }
            },
            "type": "scatterpolar"
           }
          ],
          "scatterpolargl": [
           {
            "marker": {
             "colorbar": {
              "outlinewidth": 0,
              "ticks": ""
             }
            },
            "type": "scatterpolargl"
           }
          ],
          "scatterternary": [
           {
            "marker": {
             "colorbar": {
              "outlinewidth": 0,
              "ticks": ""
             }
            },
            "type": "scatterternary"
           }
          ],
          "surface": [
           {
            "colorbar": {
             "outlinewidth": 0,
             "ticks": ""
            },
            "colorscale": [
             [
              0,
              "#0d0887"
             ],
             [
              0.1111111111111111,
              "#46039f"
             ],
             [
              0.2222222222222222,
              "#7201a8"
             ],
             [
              0.3333333333333333,
              "#9c179e"
             ],
             [
              0.4444444444444444,
              "#bd3786"
             ],
             [
              0.5555555555555556,
              "#d8576b"
             ],
             [
              0.6666666666666666,
              "#ed7953"
             ],
             [
              0.7777777777777778,
              "#fb9f3a"
             ],
             [
              0.8888888888888888,
              "#fdca26"
             ],
             [
              1,
              "#f0f921"
             ]
            ],
            "type": "surface"
           }
          ],
          "table": [
           {
            "cells": {
             "fill": {
              "color": "#EBF0F8"
             },
             "line": {
              "color": "white"
             }
            },
            "header": {
             "fill": {
              "color": "#C8D4E3"
             },
             "line": {
              "color": "white"
             }
            },
            "type": "table"
           }
          ]
         },
         "layout": {
          "annotationdefaults": {
           "arrowcolor": "#2a3f5f",
           "arrowhead": 0,
           "arrowwidth": 1
          },
          "autotypenumbers": "strict",
          "coloraxis": {
           "colorbar": {
            "outlinewidth": 0,
            "ticks": ""
           }
          },
          "colorscale": {
           "diverging": [
            [
             0,
             "#8e0152"
            ],
            [
             0.1,
             "#c51b7d"
            ],
            [
             0.2,
             "#de77ae"
            ],
            [
             0.3,
             "#f1b6da"
            ],
            [
             0.4,
             "#fde0ef"
            ],
            [
             0.5,
             "#f7f7f7"
            ],
            [
             0.6,
             "#e6f5d0"
            ],
            [
             0.7,
             "#b8e186"
            ],
            [
             0.8,
             "#7fbc41"
            ],
            [
             0.9,
             "#4d9221"
            ],
            [
             1,
             "#276419"
            ]
           ],
           "sequential": [
            [
             0,
             "#0d0887"
            ],
            [
             0.1111111111111111,
             "#46039f"
            ],
            [
             0.2222222222222222,
             "#7201a8"
            ],
            [
             0.3333333333333333,
             "#9c179e"
            ],
            [
             0.4444444444444444,
             "#bd3786"
            ],
            [
             0.5555555555555556,
             "#d8576b"
            ],
            [
             0.6666666666666666,
             "#ed7953"
            ],
            [
             0.7777777777777778,
             "#fb9f3a"
            ],
            [
             0.8888888888888888,
             "#fdca26"
            ],
            [
             1,
             "#f0f921"
            ]
           ],
           "sequentialminus": [
            [
             0,
             "#0d0887"
            ],
            [
             0.1111111111111111,
             "#46039f"
            ],
            [
             0.2222222222222222,
             "#7201a8"
            ],
            [
             0.3333333333333333,
             "#9c179e"
            ],
            [
             0.4444444444444444,
             "#bd3786"
            ],
            [
             0.5555555555555556,
             "#d8576b"
            ],
            [
             0.6666666666666666,
             "#ed7953"
            ],
            [
             0.7777777777777778,
             "#fb9f3a"
            ],
            [
             0.8888888888888888,
             "#fdca26"
            ],
            [
             1,
             "#f0f921"
            ]
           ]
          },
          "colorway": [
           "#636efa",
           "#EF553B",
           "#00cc96",
           "#ab63fa",
           "#FFA15A",
           "#19d3f3",
           "#FF6692",
           "#B6E880",
           "#FF97FF",
           "#FECB52"
          ],
          "font": {
           "color": "#2a3f5f"
          },
          "geo": {
           "bgcolor": "white",
           "lakecolor": "white",
           "landcolor": "#E5ECF6",
           "showlakes": true,
           "showland": true,
           "subunitcolor": "white"
          },
          "hoverlabel": {
           "align": "left"
          },
          "hovermode": "closest",
          "mapbox": {
           "style": "light"
          },
          "paper_bgcolor": "white",
          "plot_bgcolor": "#E5ECF6",
          "polar": {
           "angularaxis": {
            "gridcolor": "white",
            "linecolor": "white",
            "ticks": ""
           },
           "bgcolor": "#E5ECF6",
           "radialaxis": {
            "gridcolor": "white",
            "linecolor": "white",
            "ticks": ""
           }
          },
          "scene": {
           "xaxis": {
            "backgroundcolor": "#E5ECF6",
            "gridcolor": "white",
            "gridwidth": 2,
            "linecolor": "white",
            "showbackground": true,
            "ticks": "",
            "zerolinecolor": "white"
           },
           "yaxis": {
            "backgroundcolor": "#E5ECF6",
            "gridcolor": "white",
            "gridwidth": 2,
            "linecolor": "white",
            "showbackground": true,
            "ticks": "",
            "zerolinecolor": "white"
           },
           "zaxis": {
            "backgroundcolor": "#E5ECF6",
            "gridcolor": "white",
            "gridwidth": 2,
            "linecolor": "white",
            "showbackground": true,
            "ticks": "",
            "zerolinecolor": "white"
           }
          },
          "shapedefaults": {
           "line": {
            "color": "#2a3f5f"
           }
          },
          "ternary": {
           "aaxis": {
            "gridcolor": "white",
            "linecolor": "white",
            "ticks": ""
           },
           "baxis": {
            "gridcolor": "white",
            "linecolor": "white",
            "ticks": ""
           },
           "bgcolor": "#E5ECF6",
           "caxis": {
            "gridcolor": "white",
            "linecolor": "white",
            "ticks": ""
           }
          },
          "title": {
           "x": 0.05
          },
          "xaxis": {
           "automargin": true,
           "gridcolor": "white",
           "linecolor": "white",
           "ticks": "",
           "title": {
            "standoff": 15
           },
           "zerolinecolor": "white",
           "zerolinewidth": 2
          },
          "yaxis": {
           "automargin": true,
           "gridcolor": "white",
           "linecolor": "white",
           "ticks": "",
           "title": {
            "standoff": 15
           },
           "zerolinecolor": "white",
           "zerolinewidth": 2
          }
         }
        },
        "title": {
         "text": "Frequency of Repetitions of Transcriptions"
        },
        "updatemenus": [
         {
          "buttons": [
           {
            "args": [
             {
              "xaxis.type": "log",
              "yaxis.type": "log"
             }
            ],
            "label": "Log-Log Scale",
            "method": "relayout"
           },
           {
            "args": [
             {
              "xaxis.type": "linear",
              "yaxis.type": "linear"
             }
            ],
            "label": "Linear Scale",
            "method": "relayout"
           },
           {
            "args": [
             {
              "xaxis.type": "log",
              "yaxis.type": "linear"
             }
            ],
            "label": "Log X - Linear Y",
            "method": "relayout"
           },
           {
            "args": [
             {
              "xaxis.type": "linear",
              "yaxis.type": "log"
             }
            ],
            "label": "Linear X - Log Y",
            "method": "relayout"
           }
          ],
          "direction": "left",
          "pad": {
           "r": 10,
           "t": 10
          },
          "showactive": true,
          "type": "buttons",
          "x": 0.11,
          "xanchor": "left",
          "y": 1.15,
          "yanchor": "top"
         }
        ],
        "xaxis": {
         "title": {
          "text": "Number of Occurrences of Transcription"
         },
         "type": "log"
        },
        "yaxis": {
         "title": {
          "text": "Frequency (Count of Transcriptions)"
         },
         "type": "log"
        }
       }
      }
     },
     "metadata": {},
     "output_type": "display_data"
    }
   ],
   "source": [
    "# Prepare the data for Plotly\n",
    "transcription_counts = df['transcription'].value_counts()\n",
    "frequency_counts = transcription_counts.value_counts().sort_index()\n",
    "\n",
    "# Create a figure using Plotly\n",
    "fig = go.Figure()\n",
    "\n",
    "# Add scatter trace for the data points\n",
    "fig.add_trace(go.Scatter(\n",
    "    x=frequency_counts.index, \n",
    "    y=frequency_counts.values, \n",
    "    mode='markers+lines',\n",
    "    marker=dict(size=6, color='red'),\n",
    "    name='Frequency of Transcriptions',\n",
    "    hoverinfo='x+y'\n",
    "))\n",
    "\n",
    "# Update axis labels and title\n",
    "fig.update_layout(\n",
    "    title='Frequency of Repetitions of Transcriptions',\n",
    "    xaxis=dict(\n",
    "        title='Number of Occurrences of Transcription',\n",
    "        type='log',  # Initially set to log scale\n",
    "    ),\n",
    "    yaxis=dict(\n",
    "        title='Frequency (Count of Transcriptions)',\n",
    "        type='log',  # Initially set to log scale\n",
    "    ),\n",
    "    xaxis_title='Number of Occurrences of Transcription',\n",
    "    yaxis_title='Frequency (Count of Transcriptions)',\n",
    "    hovermode='closest'\n",
    ")\n",
    "\n",
    "# Add buttons to switch between log and linear scales\n",
    "fig.update_layout(\n",
    "    updatemenus=[\n",
    "        dict(\n",
    "            type=\"buttons\",\n",
    "            direction=\"left\",\n",
    "            buttons=list([\n",
    "                dict(\n",
    "                    args=[{\"xaxis.type\": \"log\", \"yaxis.type\": \"log\"}],\n",
    "                    label=\"Log-Log Scale\",\n",
    "                    method=\"relayout\"\n",
    "                ),\n",
    "                dict(\n",
    "                    args=[{\"xaxis.type\": \"linear\", \"yaxis.type\": \"linear\"}],\n",
    "                    label=\"Linear Scale\",\n",
    "                    method=\"relayout\"\n",
    "                ),\n",
    "                dict(\n",
    "                    args=[{\"xaxis.type\": \"log\", \"yaxis.type\": \"linear\"}],\n",
    "                    label=\"Log X - Linear Y\",\n",
    "                    method=\"relayout\"\n",
    "                ),\n",
    "                dict(\n",
    "                    args=[{\"xaxis.type\": \"linear\", \"yaxis.type\": \"log\"}],\n",
    "                    label=\"Linear X - Log Y\",\n",
    "                    method=\"relayout\"\n",
    "                )\n",
    "            ]),\n",
    "            pad={\"r\": 10, \"t\": 10},\n",
    "            showactive=True,\n",
    "            x=0.11,\n",
    "            xanchor=\"left\",\n",
    "            y=1.15,\n",
    "            yanchor=\"top\"\n",
    "        ),\n",
    "    ]\n",
    ")\n",
    "\n",
    "# Show the plot\n",
    "fig.show()\n"
   ]
  },
  {
   "cell_type": "markdown",
   "metadata": {},
   "source": [
    "## Filtering Transcriptions by Frequency\n",
    "\n",
    "To improve the quality and balance of the dataset, we filter the transcriptions based on their frequency. Transcriptions that occur either too frequently or too rarely can lead to imbalance or overfitting during model training. In this section, we:\n",
    "\n",
    "1. Set a range for transcription frequency.\n",
    "2. Filter the dataset to keep only transcriptions that fall within the desired range.\n",
    "3. Reset the index to ensure the filtered DataFrame has a clean, continuous index.\n",
    "4. Print the unique transcriptions in the filtered dataset to verify the diversity."
   ]
  },
  {
   "cell_type": "code",
   "execution_count": 89,
   "metadata": {},
   "outputs": [
    {
     "name": "stdout",
     "output_type": "stream",
     "text": [
      "['A' 'any' 'made' 'may' 'some' 'into' 'now' 'up' 'two' ')' ':' 'We' 'what'\n",
      " 'do' 'if' 'them' 'But' 'told' 'no' 'about' 'these' 'can' 'over' 'And'\n",
      " 'than' 'new' 'This' 'other' 'first' 'people' 'my' 'when' 'In' 'much'\n",
      " 'could' 'being' 'time' 'man' 'very' 'its' 'like' 'only' 'well' 'You'\n",
      " '...' \"'s\" 'me']\n"
     ]
    }
   ],
   "source": [
    "# Set the minimum and maximum sample counts for filtering transcriptions\n",
    "min_samples = 100  # Minimum number of occurrences for a transcription to be included\n",
    "max_samples = 200  # Maximum number of occurrences for a transcription to be included\n",
    "\n",
    "# Filter transcriptions based on the specified count thresholds\n",
    "class_counts = df['transcription'].value_counts()  # Get the count of each transcription\n",
    "classes_to_keep = class_counts[(class_counts >= min_samples) & (class_counts <= max_samples)].index  # Identify transcriptions to retain\n",
    "df_filtered = df[df['transcription'].isin(classes_to_keep)].copy()  # Create a filtered DataFrame containing only the selected transcriptions\n",
    "\n",
    "# Reset index after filtering to ensure a clean, continuous index\n",
    "df_filtered.reset_index(drop=True, inplace=True)\n",
    "\n",
    "# Print unique transcriptions remaining in the filtered dataset\n",
    "print(df_filtered['transcription'].unique())  # Helps to verify the diversity of retained transcriptions"
   ]
  },
  {
   "cell_type": "markdown",
   "metadata": {},
   "source": [
    "## Removing Stopwords and Specific Unwanted Transcriptions\n",
    "\n",
    "To further clean the dataset, we remove common stopwords and specific unwanted symbols or suffixes. Stopwords are words that carry little meaning, such as 'and', 'the', or 'of', which can add noise to the model training process. Additionally, certain symbols or suffixes are removed to make the data more consistent and useful for training.\n",
    "\n",
    "### Steps:\n",
    "1. **Download Stopwords**:  \n",
    "   Use NLTK to download the standard list of English stopwords, which are words that are generally not useful for model training.\n",
    "2. **Remove Specific Unwanted Transcriptions**:  \n",
    "   Update the set of stopwords with specific unwanted symbols, such as `')'`, `':'`, `'...'`, and `\"'s\"`, to further clean the dataset.\n",
    "3. **Filter Out Unwanted Transcriptions**:  \n",
    "   Remove all transcriptions from the dataset that match any of the stopwords or unwanted symbols. This step helps ensure that only meaningful transcriptions are retained."
   ]
  },
  {
   "cell_type": "code",
   "execution_count": 90,
   "metadata": {},
   "outputs": [
    {
     "name": "stdout",
     "output_type": "stream",
     "text": [
      "Number of remained unique values:  20\n",
      "Remained unique values:  ['A' 'made' 'may' 'two' 'We' 'But' 'told' 'And' 'new' 'This' 'first'\n",
      " 'people' 'In' 'much' 'could' 'time' 'man' 'like' 'well' 'You']\n"
     ]
    },
    {
     "name": "stderr",
     "output_type": "stream",
     "text": [
      "[nltk_data] Downloading package stopwords to\n",
      "[nltk_data]     C:\\Users\\Besitzer\\AppData\\Roaming\\nltk_data...\n",
      "[nltk_data]   Package stopwords is already up-to-date!\n"
     ]
    }
   ],
   "source": [
    "# Download stopwords list from NLTK\n",
    "nltk.download('stopwords')\n",
    "\n",
    "# Create a set of English stopwords\n",
    "stop_words = set(stopwords.words('english'))\n",
    "\n",
    "# Remove specific unwanted transcriptions by adding symbols to the stopwords set\n",
    "stop_words.update([')', ':', '...', \"'s\"])  # Adding symbols and suffixes to the stopwords set for further cleaning\n",
    "\n",
    "# Filter out transcriptions that are in the stopwords list\n",
    "df_filtered = df_filtered[~df_filtered['transcription'].isin(stop_words)]  # Remove transcriptions that match stopwords\n",
    "\n",
    "# Print the number of unique transcriptions remaining in the filtered dataset\n",
    "print('Number of remained unique values: ', df_filtered['transcription'].nunique())  # Display the count of unique values to verify filtering\n",
    "\n",
    "# Print the unique transcriptions remaining in the dataset\n",
    "print('Remained unique values: ', df_filtered['transcription'].unique())  # Display the remaining unique transcriptions for verification"
   ]
  },
  {
   "cell_type": "markdown",
   "metadata": {},
   "source": [
    "## Interactive Visualization of Transcription Counts\n",
    "\n",
    "In this section, we create a bar plot to visualize the distribution of transcriptions in the filtered dataset. Understanding the frequency of each transcription helps us identify any remaining imbalance in the dataset and assess the need for further processing.\n",
    "\n",
    "- **Plotting Frequency Distribution**: We plot the count of each transcription using a bar chart to observe the frequency distribution. This allows us to visually confirm that the dataset is reasonably balanced."
   ]
  },
  {
   "cell_type": "code",
   "execution_count": 91,
   "metadata": {},
   "outputs": [
    {
     "data": {
      "application/vnd.plotly.v1+json": {
       "config": {
        "plotlyServerURL": "https://plot.ly"
       },
       "data": [
        {
         "alignmentgroup": "True",
         "hovertemplate": "Transcription=%{x}<br>Count=%{y}<extra></extra>",
         "legendgroup": "",
         "marker": {
          "color": "#636efa",
          "pattern": {
           "shape": ""
          }
         },
         "name": "",
         "offsetgroup": "",
         "orientation": "v",
         "showlegend": false,
         "textposition": "auto",
         "type": "bar",
         "x": [
          "But",
          "In",
          "A",
          "may",
          "first",
          "man",
          "could",
          "time",
          "new",
          "like",
          "two",
          "This",
          "much",
          "made",
          "And",
          "people",
          "You",
          "well",
          "We",
          "told"
         ],
         "xaxis": "x",
         "y": [
          174,
          173,
          166,
          162,
          153,
          151,
          144,
          143,
          139,
          135,
          133,
          123,
          122,
          121,
          120,
          113,
          105,
          102,
          100,
          100
         ],
         "yaxis": "y"
        }
       ],
       "layout": {
        "barmode": "relative",
        "legend": {
         "tracegroupgap": 0
        },
        "template": {
         "data": {
          "bar": [
           {
            "error_x": {
             "color": "#2a3f5f"
            },
            "error_y": {
             "color": "#2a3f5f"
            },
            "marker": {
             "line": {
              "color": "white",
              "width": 0.5
             },
             "pattern": {
              "fillmode": "overlay",
              "size": 10,
              "solidity": 0.2
             }
            },
            "type": "bar"
           }
          ],
          "barpolar": [
           {
            "marker": {
             "line": {
              "color": "white",
              "width": 0.5
             },
             "pattern": {
              "fillmode": "overlay",
              "size": 10,
              "solidity": 0.2
             }
            },
            "type": "barpolar"
           }
          ],
          "carpet": [
           {
            "aaxis": {
             "endlinecolor": "#2a3f5f",
             "gridcolor": "#C8D4E3",
             "linecolor": "#C8D4E3",
             "minorgridcolor": "#C8D4E3",
             "startlinecolor": "#2a3f5f"
            },
            "baxis": {
             "endlinecolor": "#2a3f5f",
             "gridcolor": "#C8D4E3",
             "linecolor": "#C8D4E3",
             "minorgridcolor": "#C8D4E3",
             "startlinecolor": "#2a3f5f"
            },
            "type": "carpet"
           }
          ],
          "choropleth": [
           {
            "colorbar": {
             "outlinewidth": 0,
             "ticks": ""
            },
            "type": "choropleth"
           }
          ],
          "contour": [
           {
            "colorbar": {
             "outlinewidth": 0,
             "ticks": ""
            },
            "colorscale": [
             [
              0,
              "#0d0887"
             ],
             [
              0.1111111111111111,
              "#46039f"
             ],
             [
              0.2222222222222222,
              "#7201a8"
             ],
             [
              0.3333333333333333,
              "#9c179e"
             ],
             [
              0.4444444444444444,
              "#bd3786"
             ],
             [
              0.5555555555555556,
              "#d8576b"
             ],
             [
              0.6666666666666666,
              "#ed7953"
             ],
             [
              0.7777777777777778,
              "#fb9f3a"
             ],
             [
              0.8888888888888888,
              "#fdca26"
             ],
             [
              1,
              "#f0f921"
             ]
            ],
            "type": "contour"
           }
          ],
          "contourcarpet": [
           {
            "colorbar": {
             "outlinewidth": 0,
             "ticks": ""
            },
            "type": "contourcarpet"
           }
          ],
          "heatmap": [
           {
            "colorbar": {
             "outlinewidth": 0,
             "ticks": ""
            },
            "colorscale": [
             [
              0,
              "#0d0887"
             ],
             [
              0.1111111111111111,
              "#46039f"
             ],
             [
              0.2222222222222222,
              "#7201a8"
             ],
             [
              0.3333333333333333,
              "#9c179e"
             ],
             [
              0.4444444444444444,
              "#bd3786"
             ],
             [
              0.5555555555555556,
              "#d8576b"
             ],
             [
              0.6666666666666666,
              "#ed7953"
             ],
             [
              0.7777777777777778,
              "#fb9f3a"
             ],
             [
              0.8888888888888888,
              "#fdca26"
             ],
             [
              1,
              "#f0f921"
             ]
            ],
            "type": "heatmap"
           }
          ],
          "heatmapgl": [
           {
            "colorbar": {
             "outlinewidth": 0,
             "ticks": ""
            },
            "colorscale": [
             [
              0,
              "#0d0887"
             ],
             [
              0.1111111111111111,
              "#46039f"
             ],
             [
              0.2222222222222222,
              "#7201a8"
             ],
             [
              0.3333333333333333,
              "#9c179e"
             ],
             [
              0.4444444444444444,
              "#bd3786"
             ],
             [
              0.5555555555555556,
              "#d8576b"
             ],
             [
              0.6666666666666666,
              "#ed7953"
             ],
             [
              0.7777777777777778,
              "#fb9f3a"
             ],
             [
              0.8888888888888888,
              "#fdca26"
             ],
             [
              1,
              "#f0f921"
             ]
            ],
            "type": "heatmapgl"
           }
          ],
          "histogram": [
           {
            "marker": {
             "pattern": {
              "fillmode": "overlay",
              "size": 10,
              "solidity": 0.2
             }
            },
            "type": "histogram"
           }
          ],
          "histogram2d": [
           {
            "colorbar": {
             "outlinewidth": 0,
             "ticks": ""
            },
            "colorscale": [
             [
              0,
              "#0d0887"
             ],
             [
              0.1111111111111111,
              "#46039f"
             ],
             [
              0.2222222222222222,
              "#7201a8"
             ],
             [
              0.3333333333333333,
              "#9c179e"
             ],
             [
              0.4444444444444444,
              "#bd3786"
             ],
             [
              0.5555555555555556,
              "#d8576b"
             ],
             [
              0.6666666666666666,
              "#ed7953"
             ],
             [
              0.7777777777777778,
              "#fb9f3a"
             ],
             [
              0.8888888888888888,
              "#fdca26"
             ],
             [
              1,
              "#f0f921"
             ]
            ],
            "type": "histogram2d"
           }
          ],
          "histogram2dcontour": [
           {
            "colorbar": {
             "outlinewidth": 0,
             "ticks": ""
            },
            "colorscale": [
             [
              0,
              "#0d0887"
             ],
             [
              0.1111111111111111,
              "#46039f"
             ],
             [
              0.2222222222222222,
              "#7201a8"
             ],
             [
              0.3333333333333333,
              "#9c179e"
             ],
             [
              0.4444444444444444,
              "#bd3786"
             ],
             [
              0.5555555555555556,
              "#d8576b"
             ],
             [
              0.6666666666666666,
              "#ed7953"
             ],
             [
              0.7777777777777778,
              "#fb9f3a"
             ],
             [
              0.8888888888888888,
              "#fdca26"
             ],
             [
              1,
              "#f0f921"
             ]
            ],
            "type": "histogram2dcontour"
           }
          ],
          "mesh3d": [
           {
            "colorbar": {
             "outlinewidth": 0,
             "ticks": ""
            },
            "type": "mesh3d"
           }
          ],
          "parcoords": [
           {
            "line": {
             "colorbar": {
              "outlinewidth": 0,
              "ticks": ""
             }
            },
            "type": "parcoords"
           }
          ],
          "pie": [
           {
            "automargin": true,
            "type": "pie"
           }
          ],
          "scatter": [
           {
            "fillpattern": {
             "fillmode": "overlay",
             "size": 10,
             "solidity": 0.2
            },
            "type": "scatter"
           }
          ],
          "scatter3d": [
           {
            "line": {
             "colorbar": {
              "outlinewidth": 0,
              "ticks": ""
             }
            },
            "marker": {
             "colorbar": {
              "outlinewidth": 0,
              "ticks": ""
             }
            },
            "type": "scatter3d"
           }
          ],
          "scattercarpet": [
           {
            "marker": {
             "colorbar": {
              "outlinewidth": 0,
              "ticks": ""
             }
            },
            "type": "scattercarpet"
           }
          ],
          "scattergeo": [
           {
            "marker": {
             "colorbar": {
              "outlinewidth": 0,
              "ticks": ""
             }
            },
            "type": "scattergeo"
           }
          ],
          "scattergl": [
           {
            "marker": {
             "colorbar": {
              "outlinewidth": 0,
              "ticks": ""
             }
            },
            "type": "scattergl"
           }
          ],
          "scattermapbox": [
           {
            "marker": {
             "colorbar": {
              "outlinewidth": 0,
              "ticks": ""
             }
            },
            "type": "scattermapbox"
           }
          ],
          "scatterpolar": [
           {
            "marker": {
             "colorbar": {
              "outlinewidth": 0,
              "ticks": ""
             }
            },
            "type": "scatterpolar"
           }
          ],
          "scatterpolargl": [
           {
            "marker": {
             "colorbar": {
              "outlinewidth": 0,
              "ticks": ""
             }
            },
            "type": "scatterpolargl"
           }
          ],
          "scatterternary": [
           {
            "marker": {
             "colorbar": {
              "outlinewidth": 0,
              "ticks": ""
             }
            },
            "type": "scatterternary"
           }
          ],
          "surface": [
           {
            "colorbar": {
             "outlinewidth": 0,
             "ticks": ""
            },
            "colorscale": [
             [
              0,
              "#0d0887"
             ],
             [
              0.1111111111111111,
              "#46039f"
             ],
             [
              0.2222222222222222,
              "#7201a8"
             ],
             [
              0.3333333333333333,
              "#9c179e"
             ],
             [
              0.4444444444444444,
              "#bd3786"
             ],
             [
              0.5555555555555556,
              "#d8576b"
             ],
             [
              0.6666666666666666,
              "#ed7953"
             ],
             [
              0.7777777777777778,
              "#fb9f3a"
             ],
             [
              0.8888888888888888,
              "#fdca26"
             ],
             [
              1,
              "#f0f921"
             ]
            ],
            "type": "surface"
           }
          ],
          "table": [
           {
            "cells": {
             "fill": {
              "color": "#EBF0F8"
             },
             "line": {
              "color": "white"
             }
            },
            "header": {
             "fill": {
              "color": "#C8D4E3"
             },
             "line": {
              "color": "white"
             }
            },
            "type": "table"
           }
          ]
         },
         "layout": {
          "annotationdefaults": {
           "arrowcolor": "#2a3f5f",
           "arrowhead": 0,
           "arrowwidth": 1
          },
          "autotypenumbers": "strict",
          "coloraxis": {
           "colorbar": {
            "outlinewidth": 0,
            "ticks": ""
           }
          },
          "colorscale": {
           "diverging": [
            [
             0,
             "#8e0152"
            ],
            [
             0.1,
             "#c51b7d"
            ],
            [
             0.2,
             "#de77ae"
            ],
            [
             0.3,
             "#f1b6da"
            ],
            [
             0.4,
             "#fde0ef"
            ],
            [
             0.5,
             "#f7f7f7"
            ],
            [
             0.6,
             "#e6f5d0"
            ],
            [
             0.7,
             "#b8e186"
            ],
            [
             0.8,
             "#7fbc41"
            ],
            [
             0.9,
             "#4d9221"
            ],
            [
             1,
             "#276419"
            ]
           ],
           "sequential": [
            [
             0,
             "#0d0887"
            ],
            [
             0.1111111111111111,
             "#46039f"
            ],
            [
             0.2222222222222222,
             "#7201a8"
            ],
            [
             0.3333333333333333,
             "#9c179e"
            ],
            [
             0.4444444444444444,
             "#bd3786"
            ],
            [
             0.5555555555555556,
             "#d8576b"
            ],
            [
             0.6666666666666666,
             "#ed7953"
            ],
            [
             0.7777777777777778,
             "#fb9f3a"
            ],
            [
             0.8888888888888888,
             "#fdca26"
            ],
            [
             1,
             "#f0f921"
            ]
           ],
           "sequentialminus": [
            [
             0,
             "#0d0887"
            ],
            [
             0.1111111111111111,
             "#46039f"
            ],
            [
             0.2222222222222222,
             "#7201a8"
            ],
            [
             0.3333333333333333,
             "#9c179e"
            ],
            [
             0.4444444444444444,
             "#bd3786"
            ],
            [
             0.5555555555555556,
             "#d8576b"
            ],
            [
             0.6666666666666666,
             "#ed7953"
            ],
            [
             0.7777777777777778,
             "#fb9f3a"
            ],
            [
             0.8888888888888888,
             "#fdca26"
            ],
            [
             1,
             "#f0f921"
            ]
           ]
          },
          "colorway": [
           "#636efa",
           "#EF553B",
           "#00cc96",
           "#ab63fa",
           "#FFA15A",
           "#19d3f3",
           "#FF6692",
           "#B6E880",
           "#FF97FF",
           "#FECB52"
          ],
          "font": {
           "color": "#2a3f5f"
          },
          "geo": {
           "bgcolor": "white",
           "lakecolor": "white",
           "landcolor": "white",
           "showlakes": true,
           "showland": true,
           "subunitcolor": "#C8D4E3"
          },
          "hoverlabel": {
           "align": "left"
          },
          "hovermode": "closest",
          "mapbox": {
           "style": "light"
          },
          "paper_bgcolor": "white",
          "plot_bgcolor": "white",
          "polar": {
           "angularaxis": {
            "gridcolor": "#EBF0F8",
            "linecolor": "#EBF0F8",
            "ticks": ""
           },
           "bgcolor": "white",
           "radialaxis": {
            "gridcolor": "#EBF0F8",
            "linecolor": "#EBF0F8",
            "ticks": ""
           }
          },
          "scene": {
           "xaxis": {
            "backgroundcolor": "white",
            "gridcolor": "#DFE8F3",
            "gridwidth": 2,
            "linecolor": "#EBF0F8",
            "showbackground": true,
            "ticks": "",
            "zerolinecolor": "#EBF0F8"
           },
           "yaxis": {
            "backgroundcolor": "white",
            "gridcolor": "#DFE8F3",
            "gridwidth": 2,
            "linecolor": "#EBF0F8",
            "showbackground": true,
            "ticks": "",
            "zerolinecolor": "#EBF0F8"
           },
           "zaxis": {
            "backgroundcolor": "white",
            "gridcolor": "#DFE8F3",
            "gridwidth": 2,
            "linecolor": "#EBF0F8",
            "showbackground": true,
            "ticks": "",
            "zerolinecolor": "#EBF0F8"
           }
          },
          "shapedefaults": {
           "line": {
            "color": "#2a3f5f"
           }
          },
          "ternary": {
           "aaxis": {
            "gridcolor": "#DFE8F3",
            "linecolor": "#A2B1C6",
            "ticks": ""
           },
           "baxis": {
            "gridcolor": "#DFE8F3",
            "linecolor": "#A2B1C6",
            "ticks": ""
           },
           "bgcolor": "white",
           "caxis": {
            "gridcolor": "#DFE8F3",
            "linecolor": "#A2B1C6",
            "ticks": ""
           }
          },
          "title": {
           "x": 0.05
          },
          "xaxis": {
           "automargin": true,
           "gridcolor": "#EBF0F8",
           "linecolor": "#EBF0F8",
           "ticks": "",
           "title": {
            "standoff": 15
           },
           "zerolinecolor": "#EBF0F8",
           "zerolinewidth": 2
          },
          "yaxis": {
           "automargin": true,
           "gridcolor": "#EBF0F8",
           "linecolor": "#EBF0F8",
           "ticks": "",
           "title": {
            "standoff": 15
           },
           "zerolinecolor": "#EBF0F8",
           "zerolinewidth": 2
          }
         }
        },
        "title": {
         "font": {
          "size": 20
         },
         "text": "Counts of Each Transcription",
         "x": 0.5
        },
        "xaxis": {
         "anchor": "y",
         "domain": [
          0,
          1
         ],
         "tickangle": -45,
         "title": {
          "font": {
           "size": 16
          },
          "text": "Transcription"
         }
        },
        "yaxis": {
         "anchor": "x",
         "domain": [
          0,
          1
         ],
         "title": {
          "font": {
           "size": 16
          },
          "text": "Count"
         }
        }
       }
      }
     },
     "metadata": {},
     "output_type": "display_data"
    }
   ],
   "source": [
    "# Create a DataFrame for plotting purposes\n",
    "transcription_counts = df_filtered['transcription'].value_counts().reset_index()\n",
    "transcription_counts.columns = ['Transcription', 'Count']\n",
    "\n",
    "# Create an interactive bar plot using Plotly\n",
    "fig = px.bar(\n",
    "    transcription_counts, \n",
    "    x='Transcription', \n",
    "    y='Count', \n",
    "    title='Counts of Each Transcription',\n",
    "    labels={'Transcription': 'Transcription', 'Count': 'Count'},\n",
    "    hover_data=['Count'],  # Show the count on hover\n",
    "    template='plotly_white'  # Use a clean style for better visuals\n",
    ")\n",
    "\n",
    "# Customize the layout for better visibility\n",
    "fig.update_layout(\n",
    "    xaxis_tickangle=-45,  # Rotate x-axis labels for better readability\n",
    "    title_x=0.5,  # Center the title\n",
    "    title_font_size=20,  # Increase the title font size\n",
    "    xaxis_title_font_size=16,  # Increase x-axis label font size\n",
    "    yaxis_title_font_size=16  # Increase y-axis label font size\n",
    ")\n",
    "\n",
    "# Show the interactive plot\n",
    "fig.show()"
   ]
  },
  {
   "cell_type": "markdown",
   "metadata": {},
   "source": [
    "## Encoding Labels for Model Training\n",
    "\n",
    "In this step, we encode the handwritten transcriptions into numeric labels. This is done using **Label Encoding** so that the transcriptions can be used as targets during model training.\n"
   ]
  },
  {
   "cell_type": "code",
   "execution_count": 92,
   "metadata": {},
   "outputs": [
    {
     "data": {
      "text/html": [
       "<div>\n",
       "<style scoped>\n",
       "    .dataframe tbody tr th:only-of-type {\n",
       "        vertical-align: middle;\n",
       "    }\n",
       "\n",
       "    .dataframe tbody tr th {\n",
       "        vertical-align: top;\n",
       "    }\n",
       "\n",
       "    .dataframe thead th {\n",
       "        text-align: right;\n",
       "    }\n",
       "</style>\n",
       "<table border=\"1\" class=\"dataframe\">\n",
       "  <thead>\n",
       "    <tr style=\"text-align: right;\">\n",
       "      <th></th>\n",
       "      <th>line_id</th>\n",
       "      <th>result</th>\n",
       "      <th>graylevel</th>\n",
       "      <th>x</th>\n",
       "      <th>y</th>\n",
       "      <th>w</th>\n",
       "      <th>h</th>\n",
       "      <th>annotation</th>\n",
       "      <th>transcription</th>\n",
       "      <th>image_path</th>\n",
       "      <th>transcription_encoded</th>\n",
       "    </tr>\n",
       "  </thead>\n",
       "  <tbody>\n",
       "    <tr>\n",
       "      <th>0</th>\n",
       "      <td>a01-000u-00-00</td>\n",
       "      <td>ok</td>\n",
       "      <td>154</td>\n",
       "      <td>408</td>\n",
       "      <td>768</td>\n",
       "      <td>27</td>\n",
       "      <td>51</td>\n",
       "      <td>AT</td>\n",
       "      <td>A</td>\n",
       "      <td>../../words\\a01\\a01-000u\\a01-000u-00-00.png</td>\n",
       "      <td>0</td>\n",
       "    </tr>\n",
       "    <tr>\n",
       "      <th>2</th>\n",
       "      <td>a01-000u-02-03</td>\n",
       "      <td>ok</td>\n",
       "      <td>157</td>\n",
       "      <td>916</td>\n",
       "      <td>1136</td>\n",
       "      <td>281</td>\n",
       "      <td>46</td>\n",
       "      <td>VBN</td>\n",
       "      <td>made</td>\n",
       "      <td>../../words\\a01\\a01-000u\\a01-000u-02-03.png</td>\n",
       "      <td>10</td>\n",
       "    </tr>\n",
       "    <tr>\n",
       "      <th>3</th>\n",
       "      <td>a01-000x-00-00</td>\n",
       "      <td>ok</td>\n",
       "      <td>182</td>\n",
       "      <td>375</td>\n",
       "      <td>767</td>\n",
       "      <td>35</td>\n",
       "      <td>67</td>\n",
       "      <td>AT</td>\n",
       "      <td>A</td>\n",
       "      <td>../../words\\a01\\a01-000x\\a01-000x-00-00.png</td>\n",
       "      <td>0</td>\n",
       "    </tr>\n",
       "    <tr>\n",
       "      <th>5</th>\n",
       "      <td>a01-000x-01-08</td>\n",
       "      <td>ok</td>\n",
       "      <td>181</td>\n",
       "      <td>1649</td>\n",
       "      <td>931</td>\n",
       "      <td>125</td>\n",
       "      <td>77</td>\n",
       "      <td>VBN</td>\n",
       "      <td>made</td>\n",
       "      <td>../../words\\a01\\a01-000x\\a01-000x-01-08.png</td>\n",
       "      <td>10</td>\n",
       "    </tr>\n",
       "    <tr>\n",
       "      <th>6</th>\n",
       "      <td>a01-003-00-02</td>\n",
       "      <td>ok</td>\n",
       "      <td>176</td>\n",
       "      <td>749</td>\n",
       "      <td>945</td>\n",
       "      <td>127</td>\n",
       "      <td>56</td>\n",
       "      <td>MD</td>\n",
       "      <td>may</td>\n",
       "      <td>../../words\\a01\\a01-003\\a01-003-00-02.png</td>\n",
       "      <td>12</td>\n",
       "    </tr>\n",
       "  </tbody>\n",
       "</table>\n",
       "</div>"
      ],
      "text/plain": [
       "          line_id result graylevel     x     y    w   h annotation  \\\n",
       "0  a01-000u-00-00     ok       154   408   768   27  51         AT   \n",
       "2  a01-000u-02-03     ok       157   916  1136  281  46        VBN   \n",
       "3  a01-000x-00-00     ok       182   375   767   35  67         AT   \n",
       "5  a01-000x-01-08     ok       181  1649   931  125  77        VBN   \n",
       "6   a01-003-00-02     ok       176   749   945  127  56         MD   \n",
       "\n",
       "  transcription                                   image_path  \\\n",
       "0             A  ../../words\\a01\\a01-000u\\a01-000u-00-00.png   \n",
       "2          made  ../../words\\a01\\a01-000u\\a01-000u-02-03.png   \n",
       "3             A  ../../words\\a01\\a01-000x\\a01-000x-00-00.png   \n",
       "5          made  ../../words\\a01\\a01-000x\\a01-000x-01-08.png   \n",
       "6           may    ../../words\\a01\\a01-003\\a01-003-00-02.png   \n",
       "\n",
       "   transcription_encoded  \n",
       "0                      0  \n",
       "2                     10  \n",
       "3                      0  \n",
       "5                     10  \n",
       "6                     12  "
      ]
     },
     "metadata": {},
     "output_type": "display_data"
    },
    {
     "name": "stdout",
     "output_type": "stream",
     "text": [
      "Transcription Encoding Mapping:\n",
      "'A' : 0\n",
      "'And' : 1\n",
      "'But' : 2\n",
      "'In' : 3\n",
      "'This' : 4\n",
      "'We' : 5\n",
      "'You' : 6\n",
      "'could' : 7\n",
      "'first' : 8\n",
      "'like' : 9\n",
      "'made' : 10\n",
      "'man' : 11\n",
      "'may' : 12\n",
      "'much' : 13\n",
      "'new' : 14\n",
      "'people' : 15\n",
      "'time' : 16\n",
      "'told' : 17\n",
      "'two' : 18\n",
      "'well' : 19\n"
     ]
    }
   ],
   "source": [
    "# Encode transcriptions into numerical labels\n",
    "le = LabelEncoder()\n",
    "df_filtered['transcription_encoded'] = le.fit_transform(df_filtered['transcription'])\n",
    "\n",
    "# Display the first few rows of the updated DataFrame to verify encoding\n",
    "display(df_filtered.head())\n",
    "\n",
    "# Create a mapping between transcriptions and their encoded labels\n",
    "transcription_mapping = dict(zip(le.classes_, le.transform(le.classes_)))\n",
    "print(\"Transcription Encoding Mapping:\")\n",
    "for transcription, code in transcription_mapping.items():\n",
    "    print(f\"'{transcription}' : {code}\")"
   ]
  },
  {
   "cell_type": "markdown",
   "metadata": {},
   "source": [
    "## Preparing Input Features and Labels\n",
    "\n",
    "In this step, we prepare the feature set `X` and the target labels `Y` for model training. We:\n",
    "1. **Resize Images**: Resize each image to 28x28 pixels for the CNN input.\n",
    "2. **Convert Images to Grayscale**: Convert the images to grayscale to reduce complexity.\n",
    "3. **Normalize the Image Data**: Normalize pixel values to a range between 0 and 1.\n",
    "\n",
    "These steps ensure that all images are consistent in terms of size and data type, which is essential for training a CNN effectively.\n"
   ]
  },
  {
   "cell_type": "code",
   "execution_count": 93,
   "metadata": {},
   "outputs": [],
   "source": [
    "# Preparing Input Features (X) and Labels (Y)\n",
    "X, Y = [], []\n",
    "width, height = 28, 28  # Resize to 28x28 to reduce complexity for simple CNN\n",
    "\n",
    "# Loop through each row in the DataFrame to process images\n",
    "for index, row in df_filtered.iterrows():\n",
    "    # print(image.mode)\n",
    "    image = Image.open(row['image_path']).convert('L').resize((width, height))\n",
    "    X.append(np.array(image))\n",
    "    Y.append(row['transcription_encoded'])\n"
   ]
  },
  {
   "cell_type": "markdown",
   "metadata": {},
   "source": [
    "## Normalizing Image Data\n",
    "\n",
    "We now normalize the images and convert both `X` and `Y` into numpy arrays to make them ready for training. Normalization scales pixel values to the range [0, 1], which helps the model converge more efficiently.\n"
   ]
  },
  {
   "cell_type": "code",
   "execution_count": 94,
   "metadata": {},
   "outputs": [
    {
     "name": "stdout",
     "output_type": "stream",
     "text": [
      "Min pixel value in X: 0.012, Max pixel value in X: 1.000\n",
      "X and Y have the same length: True\n"
     ]
    }
   ],
   "source": [
    "# Convert to numpy arrays\n",
    "X = np.array(X) / 255.0  # Normalize images to the range [0, 1]\n",
    "Y = np.array(Y)  # Convert labels to numpy array\n",
    "\n",
    "# Print details for verification\n",
    "print('Min pixel value in X: %.3f, Max pixel value in X: %.3f' % (X.min(), X.max()))\n",
    "print('X and Y have the same length:', len(X) == len(Y))"
   ]
  },
  {
   "cell_type": "markdown",
   "metadata": {},
   "source": [
    "## Splitting the Data into Training and Testing Sets\n",
    "\n",
    "After preprocessing and encoding, we need to split the dataset into training and testing sets to train our model and evaluate its performance. In this step, we use `train_test_split` from Scikit-learn:\n",
    "\n",
    "- **Training Set**: Used to train the deep learning model.\n",
    "- **Testing Set**: Used to evaluate how well the model generalizes to unseen data.\n",
    "\n",
    "We also use stratification to ensure that the class distribution in the training and testing sets is similar, which helps maintain balance between different classes.\n"
   ]
  },
  {
   "cell_type": "code",
   "execution_count": 95,
   "metadata": {},
   "outputs": [],
   "source": [
    "# Split the dataset into training and testing sets\n",
    "X_train, X_test, Y_train, Y_test = train_test_split(\n",
    "    X, Y, \n",
    "    test_size=0.2,  # 20% of the data will be used for testing\n",
    "    random_state=42,  # Set random seed for reproducibility\n",
    "    stratify=Y  # Ensure class distribution remains balanced between train and test sets\n",
    ")\n",
    "\n",
    "# X_train, X_test: Feature sets for training and testing\n",
    "# Y_train, Y_test: Corresponding labels for training and testing"
   ]
  },
  {
   "cell_type": "markdown",
   "metadata": {},
   "source": [
    "## Visualizing a Random Sample Image with its Transcription\n",
    "\n",
    "In this step, we visualize a random sample image from the training set along with its corresponding original transcription. This random selection helps in verifying that our preprocessing, encoding, and data preparation steps are working correctly across different samples.\n",
    "\n",
    "### Steps:\n",
    "1. **Select a Random Image**: Randomly select an index from the training set.\n",
    "2. **Find the Original Transcription**: Use the selected index to look up the corresponding transcription from the DataFrame.\n",
    "3. **Display the Image**: Display the randomly selected image and its transcription.\n"
   ]
  },
  {
   "cell_type": "code",
   "execution_count": 96,
   "metadata": {},
   "outputs": [
    {
     "name": "stdout",
     "output_type": "stream",
     "text": [
      "Translation = This\n"
     ]
    },
    {
     "data": {
      "image/png": "[encoded data removed]",
      "text/plain": [
       "<Figure size 640x480 with 1 Axes>"
      ]
     },
     "metadata": {},
     "output_type": "display_data"
    }
   ],
   "source": [
    "# Display a random sample from the training set\n",
    "random_idx = np.random.randint(len(Y_train))  # Randomly select an index from the training set\n",
    "\n",
    "# Find the corresponding original transcription using the encoded value\n",
    "idx = np.where(df_filtered['transcription_encoded'].values == Y_train[random_idx])[0][0]  # Find the index in the DataFrame corresponding to the encoded label\n",
    "print('Translation =', df_filtered['transcription'].iloc[idx])  # Print the original transcription\n",
    "\n",
    "# Display the randomly selected sample image from the training set\n",
    "plt.imshow(X_train[random_idx], cmap='gray')  # Display the image in grayscale\n",
    "plt.title('Random Sample Image from Training Set')\n",
    "plt.axis('off')  # Hide the axis for better visualization\n",
    "plt.show()\n"
   ]
  },
  {
   "cell_type": "markdown",
   "metadata": {},
   "source": [
    "* transforming data into 4-dimensional array (images, width, height, depth)\n",
    "* One-hot encoding for labels"
   ]
  },
  {
   "cell_type": "markdown",
   "metadata": {},
   "source": [
    "## Reshaping Data for CNN Input\n",
    "\n",
    "In this step, we reshape the input images to ensure they are in the correct format for a Convolutional Neural Network (CNN). We reshape the data from `(28, 28)` to `(28, 28, 1)` to explicitly indicate that the images are grayscale with one channel. This is important for the CNN to correctly process the input.\n"
   ]
  },
  {
   "cell_type": "code",
   "execution_count": 97,
   "metadata": {},
   "outputs": [],
   "source": [
    "# Reshape for CNN\n",
    "# Reshape the input data to (28, 28, 1) where '1' represents the grayscale channel\n",
    "X_train = X_train.reshape((-1, 28, 28, 1))\n",
    "X_test = X_test.reshape((-1, 28, 28, 1))\n"
   ]
  },
  {
   "cell_type": "markdown",
   "metadata": {},
   "source": [
    "## Calculating Class Weights to Handle Class Imbalance\n",
    "\n",
    "To deal with potential class imbalances in our training dataset, we calculate **class weights**. This step ensures that underrepresented classes are given more attention during training, thus improving overall performance and reducing bias towards majority classes.\n"
   ]
  },
  {
   "cell_type": "code",
   "execution_count": 98,
   "metadata": {},
   "outputs": [
    {
     "name": "stdout",
     "output_type": "stream",
     "text": [
      "Class Weights:  {0: 0.0620625135166647, 1: 0.04479702028198023, 2: 0.0648623232303973, 3: 0.06439568827810854, 4: 0.04573029018655776, 5: 0.03733086104535992, 6: 0.039197400854515, 7: 0.053663084375466845, 8: 0.05692952904148823, 9: 0.05039663970944547, 10: 0.045263655234269, 11: 0.05646289408919947, 12: 0.06066260865979838, 13: 0.04573029018655776, 14: 0.05179654456631177, 15: 0.042463845520536385, 16: 0.053196449423178076, 17: 0.03733086104535992, 18: 0.04946336980486792, 19: 0.038264130949937455}\n"
     ]
    }
   ],
   "source": [
    "# Calculate class weights manually based on class distribution\n",
    "class_counts = np.unique(Y_train, return_counts=True)[1] # Count occurrences of each class\n",
    "max_count = np.max(class_counts)\n",
    "smooth_factor = 1e-6  # Small value to avoid division errors\n",
    "\n",
    "# Calculate class weights to penalize majority classes and give minority classes more weight\n",
    "class_weights_manual = class_counts / max_count\n",
    "class_weights_manual += smooth_factor\n",
    "\n",
    "# Create a dictionary mapping class labels to their respective weights\n",
    "class_weights_dict_manual = {label: weight / np.sum(class_weights_manual) for label, weight in zip(np.unique(Y_train), class_weights_manual)}\n",
    "print(\"Class Weights: \", class_weights_dict_manual)\n"
   ]
  },
  {
   "cell_type": "markdown",
   "metadata": {},
   "source": [
    "## One-Hot Encoding Labels\n",
    "\n",
    "For training the CNN, we need to **one-hot encode** the target labels. One-hot encoding transforms the class labels into binary matrices, making it easier for the model to compute losses and predictions correctly. This is a common practice for multi-class classification tasks.\n"
   ]
  },
  {
   "cell_type": "code",
   "execution_count": 99,
   "metadata": {},
   "outputs": [
    {
     "name": "stdout",
     "output_type": "stream",
     "text": [
      "Shape of unique Y_train: (20,)\n",
      "Shape of one-hot encoded y_train: (2143, 20)\n",
      "Example of class label in y_train: 2\n",
      "Number of unique classes in Y_train: 20\n"
     ]
    }
   ],
   "source": [
    "# One-hot encoding the labels for training and testing sets\n",
    "num_classes = max(len(np.unique(Y_train)), len(np.unique(Y_test)))  # Number of unique classes\n",
    "y_train = to_categorical(Y_train, num_classes=num_classes)\n",
    "y_test = to_categorical(Y_test, num_classes=num_classes)\n",
    "\n",
    "# Verify the results of one-hot encoding\n",
    "print(\"Shape of unique Y_train:\", np.unique(Y_train).shape)  # Number of unique classes in Y_train\n",
    "print(\"Shape of one-hot encoded y_train:\", y_train.shape)  # Should have the same number of examples as X_train and columns equal to number of classes\n",
    "print(\"Example of class label in y_train:\", np.argmax(y_train[0]))  # Print the label of the first sample in y_train to check the one-hot encoding\n",
    "print(\"Number of unique classes in Y_train:\", len(np.unique(Y_train)))  # Should match the number of classes in one-hot encoded y_train\n"
   ]
  },
  {
   "cell_type": "markdown",
   "metadata": {},
   "source": [
    "## Data Augmentation with ImageDataGenerator\n",
    "\n",
    "To improve the generalization ability of the model, we apply data augmentation to the training images using `ImageDataGenerator`. Data augmentation helps the model become more robust by introducing variations that make it less likely to overfit the training data.\n",
    "\n",
    "- **Training Data Augmentation**: We apply random transformations, such as width and height shifts, and rotations, to create a more diverse training set.\n",
    "- **Testing Data**: The testing data is not augmented to ensure consistency during model evaluation.\n",
    "\n",
    "### Parameters:\n",
    "- **`width_shift_range`**: Randomly shift images horizontally by up to 10% of their width.\n",
    "- **`height_shift_range`**: Randomly shift images vertically by up to 10% of their height.\n",
    "- **`rotation_range`**: Randomly rotate images within a range of 5 degrees.\n",
    "\n",
    "This step helps create augmented versions of the training data in real-time during model training.\n"
   ]
  },
  {
   "cell_type": "code",
   "execution_count": 111,
   "metadata": {},
   "outputs": [],
   "source": [
    "train_datagen = ImageDataGenerator(\n",
    "    width_shift_range = 0.1,\n",
    "    height_shift_range = 0.1,\n",
    "    rotation_range = 5)\n",
    "\n",
    "test_datagen = ImageDataGenerator()\n",
    "\n",
    "train_dataset = train_datagen.flow(X_train,y_train, batch_size = 64)\n",
    "test_dataset = test_datagen.flow(X_test, y_test, batch_size = 64)"
   ]
  },
  {
   "cell_type": "markdown",
   "metadata": {},
   "source": [
    "## Setting Up Early Stopping and Model Checkpoint Callbacks\n",
    "\n",
    "In this step, we define two key callbacks to ensure efficient training of our deep learning model:\n",
    "\n",
    "1. **Early Stopping**: Helps prevent overfitting by stopping the training process when the validation accuracy stops improving after a set number of epochs.\n",
    "2. **Model Checkpoint**: Saves the model with the best performance on the validation set. This allows us to restore the best version of the model during training.\n",
    "\n",
    "### Callback Parameters:\n",
    "- **`patience`**: Defines how many epochs to wait for an improvement before stopping.\n",
    "- **`min_delta`**: Minimum change required in the monitored metric to qualify as an improvement.\n",
    "- **`mode` and `monitor`**: Define whether to monitor for increasing or decreasing values and which metric to track.\n",
    "- **`save_best_only`**: If true, only saves the model when there is an improvement in the monitored metric.\n",
    "\n",
    "Using these callbacks, we can ensure that the model stops training at the optimal point and that the best-performing version of the model is saved."
   ]
  },
  {
   "cell_type": "code",
   "execution_count": 112,
   "metadata": {},
   "outputs": [],
   "source": [
    "# Early Stopping and Model Checkpoint Callbacks\n",
    "\n",
    "# Define EarlyStopping to prevent overfitting\n",
    "early_stopping = EarlyStopping(\n",
    "    patience=30,  # Wait 30 epochs for an improvement in the monitored metric before stopping\n",
    "    min_delta=0.01,  # Minimum change in the monitored metric to be considered an improvement (1% change)\n",
    "    verbose=1,  # Verbose mode to print messages about when training stops\n",
    "    mode='min',  # Mode to minimize the monitored metric ('val_loss' or other decreasing metrics)\n",
    "    monitor='val_accuracy'  # Monitor validation accuracy for early stopping\n",
    ")\n",
    "\n",
    "# Define ModelCheckpoint to save the best version of the model during training\n",
    "model_checkpoint = ModelCheckpoint(\n",
    "    filepath=\"../model_checkpoint/CNN.keras\",  # Filepath to save the model checkpoint\n",
    "    monitor=\"val_accuracy\",  # Monitor validation accuracy to determine the best model\n",
    "    save_best_only=\"True\",  # Save the model only when there is an improvement in validation accuracy\n",
    "    mode=\"max\"  # Mode to maximize the monitored metric\n",
    ")"
   ]
  },
  {
   "cell_type": "markdown",
   "metadata": {},
   "source": [
    "## Building the Convolutional Neural Network (CNN)\n",
    "\n",
    "In this step, we define a simple **Convolutional Neural Network (CNN)** model to recognize handwritten words. This architecture includes:\n",
    "- **Convolutional Layer**: To extract features such as edges and textures.\n",
    "- **Pooling Layer**: To reduce dimensionality and make the model more efficient.\n",
    "- **Dropout Layer**: To prevent overfitting.\n",
    "- **Fully Connected Layer**: To learn complex features and relationships.\n",
    "- **Output Layer**: Using softmax activation for multi-class classification.\n"
   ]
  },
  {
   "cell_type": "code",
   "execution_count": 113,
   "metadata": {},
   "outputs": [],
   "source": [
    "# Step 11: Define the CNN Model Architecture\n",
    "inputs_cnn = Input(shape=(28, 28, 1))  # Input layer for grayscale images of size 28x28\n",
    "\n",
    "# Convolutional Layer: Apply 32 filters of size 5x5 with ReLU activation\n",
    "x = Conv2D(32, (5, 5), activation='relu')(inputs_cnn)\n",
    "\n",
    "# Pooling Layer: Apply MaxPooling with a 2x2 window\n",
    "x = MaxPooling2D(pool_size=(2, 2))(x)\n",
    "\n",
    "# Dropout Layer: Apply dropout with rate 0.2 to reduce overfitting\n",
    "x = Dropout(0.2)(x)\n",
    "\n",
    "# Flatten the feature maps to prepare for the fully connected layer\n",
    "x = Flatten()(x)\n",
    "\n",
    "# Fully Connected Layer: 128 neurons with ReLU activation\n",
    "x = Dense(128, activation='relu')(x)\n",
    "\n",
    "# Output Layer: Apply softmax activation to predict the class\n",
    "num_classes = y_train.shape[1]  # Number of unique classes in the dataset\n",
    "outputs_cnn = Dense(num_classes, activation='softmax')(x)\n"
   ]
  },
  {
   "cell_type": "markdown",
   "metadata": {},
   "source": [
    "## Compiling and Summarizing the CNN Model\n",
    "\n",
    "In this step, we compile the CNN model and display a summary of its architecture. We use:\n",
    "- **Loss Function**: Categorical cross-entropy, which is well-suited for multi-class classification problems.\n",
    "- **Optimizer**: Adam optimizer, known for its adaptive learning rate, which helps in fast convergence.\n",
    "- **Metrics**: Accuracy to evaluate the model's performance during training and validation.\n",
    "\n",
    "We also display the model summary to verify the layers, output shapes, and the number of trainable parameters before proceeding with the training phase.\n"
   ]
  },
  {
   "cell_type": "code",
   "execution_count": 114,
   "metadata": {},
   "outputs": [
    {
     "name": "stdout",
     "output_type": "stream",
     "text": [
      "Model: \"model_13\"\n",
      "_________________________________________________________________\n",
      " Layer (type)                Output Shape              Param #   \n",
      "=================================================================\n",
      " input_15 (InputLayer)       [(None, 28, 28, 1)]       0         \n",
      "                                                                 \n",
      " conv2d_14 (Conv2D)          (None, 24, 24, 32)        832       \n",
      "                                                                 \n",
      " max_pooling2d_14 (MaxPooli  (None, 12, 12, 32)        0         \n",
      " ng2D)                                                           \n",
      "                                                                 \n",
      " dropout_14 (Dropout)        (None, 12, 12, 32)        0         \n",
      "                                                                 \n",
      " flatten_14 (Flatten)        (None, 4608)              0         \n",
      "                                                                 \n",
      " dense_28 (Dense)            (None, 128)               589952    \n",
      "                                                                 \n",
      " dense_29 (Dense)            (None, 20)                2580      \n",
      "                                                                 \n",
      "=================================================================\n",
      "Total params: 593364 (2.26 MB)\n",
      "Trainable params: 593364 (2.26 MB)\n",
      "Non-trainable params: 0 (0.00 Byte)\n",
      "_________________________________________________________________\n"
     ]
    }
   ],
   "source": [
    "# Step 12: Compile the CNN Model\n",
    "model_cnn = Model(inputs=inputs_cnn, outputs=outputs_cnn)\n",
    "model_cnn.compile(loss='categorical_crossentropy', optimizer='adam', metrics=['accuracy'])\n",
    "\n",
    "# Display the CNN Model Summary\n",
    "model_cnn.summary()\n"
   ]
  },
  {
   "cell_type": "markdown",
   "metadata": {},
   "source": [
    "## Training the CNN Model\n",
    "\n",
    "In this step, we train the CNN model using the prepared training dataset. During training:\n",
    "- We use **early stopping** to prevent overfitting by stopping training if validation performance stops improving.\n",
    "- **Model checkpoint** is used to save the best-performing model during training.\n",
    "- **Class weights** are applied to handle class imbalance and ensure that underrepresented classes get appropriate focus.\n"
   ]
  },
  {
   "cell_type": "code",
   "execution_count": 115,
   "metadata": {},
   "outputs": [
    {
     "name": "stdout",
     "output_type": "stream",
     "text": [
      "Epoch 1/100\n",
      "34/34 [==============================] - 5s 63ms/step - loss: 0.1486 - accuracy: 0.1265 - val_loss: 2.7903 - val_accuracy: 0.2295\n",
      "Epoch 2/100\n",
      "34/34 [==============================] - 2s 57ms/step - loss: 0.1312 - accuracy: 0.2478 - val_loss: 2.3104 - val_accuracy: 0.3116\n",
      "Epoch 3/100\n",
      "34/34 [==============================] - 2s 67ms/step - loss: 0.1095 - accuracy: 0.3346 - val_loss: 1.8334 - val_accuracy: 0.4981\n",
      "Epoch 4/100\n",
      "34/34 [==============================] - 3s 74ms/step - loss: 0.0933 - accuracy: 0.4410 - val_loss: 1.6301 - val_accuracy: 0.5634\n",
      "Epoch 5/100\n",
      "34/34 [==============================] - 2s 65ms/step - loss: 0.0827 - accuracy: 0.5021 - val_loss: 1.4417 - val_accuracy: 0.5951\n",
      "Epoch 6/100\n",
      "34/34 [==============================] - 2s 55ms/step - loss: 0.0758 - accuracy: 0.5408 - val_loss: 1.3254 - val_accuracy: 0.6418\n",
      "Epoch 7/100\n",
      "34/34 [==============================] - 2s 58ms/step - loss: 0.0707 - accuracy: 0.5758 - val_loss: 1.2145 - val_accuracy: 0.6604\n",
      "Epoch 8/100\n",
      "34/34 [==============================] - 2s 52ms/step - loss: 0.0672 - accuracy: 0.5968 - val_loss: 1.1589 - val_accuracy: 0.6828\n",
      "Epoch 9/100\n",
      "34/34 [==============================] - 2s 54ms/step - loss: 0.0629 - accuracy: 0.6286 - val_loss: 1.0880 - val_accuracy: 0.7276\n",
      "Epoch 10/100\n",
      "34/34 [==============================] - 2s 52ms/step - loss: 0.0594 - accuracy: 0.6580 - val_loss: 1.0474 - val_accuracy: 0.7295\n",
      "Epoch 11/100\n",
      "34/34 [==============================] - 2s 52ms/step - loss: 0.0573 - accuracy: 0.6673 - val_loss: 0.9780 - val_accuracy: 0.7649\n",
      "Epoch 12/100\n",
      "34/34 [==============================] - 2s 48ms/step - loss: 0.0571 - accuracy: 0.6612 - val_loss: 0.9598 - val_accuracy: 0.7612\n",
      "Epoch 13/100\n",
      "34/34 [==============================] - 2s 49ms/step - loss: 0.0535 - accuracy: 0.6916 - val_loss: 0.9464 - val_accuracy: 0.7705\n",
      "Epoch 14/100\n",
      "34/34 [==============================] - 2s 52ms/step - loss: 0.0512 - accuracy: 0.7098 - val_loss: 0.8774 - val_accuracy: 0.7836\n",
      "Epoch 15/100\n",
      "34/34 [==============================] - 2s 63ms/step - loss: 0.0513 - accuracy: 0.7032 - val_loss: 0.8495 - val_accuracy: 0.8097\n",
      "Epoch 16/100\n",
      "34/34 [==============================] - 2s 47ms/step - loss: 0.0494 - accuracy: 0.7051 - val_loss: 0.8583 - val_accuracy: 0.7836\n",
      "Epoch 17/100\n",
      "34/34 [==============================] - 2s 54ms/step - loss: 0.0482 - accuracy: 0.7280 - val_loss: 0.8169 - val_accuracy: 0.8153\n",
      "Epoch 18/100\n",
      "34/34 [==============================] - 2s 46ms/step - loss: 0.0453 - accuracy: 0.7494 - val_loss: 0.8308 - val_accuracy: 0.8134\n",
      "Epoch 19/100\n",
      "34/34 [==============================] - 1s 42ms/step - loss: 0.0448 - accuracy: 0.7462 - val_loss: 0.8143 - val_accuracy: 0.8116\n",
      "Epoch 20/100\n",
      "34/34 [==============================] - 1s 42ms/step - loss: 0.0438 - accuracy: 0.7541 - val_loss: 0.8115 - val_accuracy: 0.8078\n",
      "Epoch 21/100\n",
      "34/34 [==============================] - 2s 43ms/step - loss: 0.0416 - accuracy: 0.7606 - val_loss: 0.8435 - val_accuracy: 0.7892\n",
      "Epoch 22/100\n",
      "34/34 [==============================] - 2s 48ms/step - loss: 0.0425 - accuracy: 0.7615 - val_loss: 0.7411 - val_accuracy: 0.8340\n",
      "Epoch 23/100\n",
      "34/34 [==============================] - 2s 44ms/step - loss: 0.0410 - accuracy: 0.7541 - val_loss: 0.7230 - val_accuracy: 0.8358\n",
      "Epoch 24/100\n",
      "34/34 [==============================] - 1s 42ms/step - loss: 0.0428 - accuracy: 0.7564 - val_loss: 0.8113 - val_accuracy: 0.8097\n",
      "Epoch 25/100\n",
      "34/34 [==============================] - 2s 53ms/step - loss: 0.0402 - accuracy: 0.7732 - val_loss: 0.7191 - val_accuracy: 0.8507\n",
      "Epoch 26/100\n",
      "34/34 [==============================] - 2s 46ms/step - loss: 0.0380 - accuracy: 0.7732 - val_loss: 0.7428 - val_accuracy: 0.8228\n",
      "Epoch 27/100\n",
      "34/34 [==============================] - 2s 45ms/step - loss: 0.0376 - accuracy: 0.7765 - val_loss: 0.7143 - val_accuracy: 0.8526\n",
      "Epoch 28/100\n",
      "34/34 [==============================] - 2s 47ms/step - loss: 0.0360 - accuracy: 0.7900 - val_loss: 0.7644 - val_accuracy: 0.8340\n",
      "Epoch 29/100\n",
      "34/34 [==============================] - 2s 45ms/step - loss: 0.0362 - accuracy: 0.7839 - val_loss: 0.7252 - val_accuracy: 0.8358\n",
      "Epoch 30/100\n",
      "34/34 [==============================] - 2s 46ms/step - loss: 0.0346 - accuracy: 0.7886 - val_loss: 0.7074 - val_accuracy: 0.8507\n",
      "Epoch 31/100\n",
      "34/34 [==============================] - 2s 54ms/step - loss: 0.0367 - accuracy: 0.7881 - val_loss: 0.7735 - val_accuracy: 0.8302\n",
      "Epoch 31: early stopping\n"
     ]
    }
   ],
   "source": [
    "# Train the CNN Model with Corrected Labels\n",
    "training_history_cnn = model_cnn.fit(\n",
    "    train_dataset, \n",
    "    epochs=100,  # Maximum number of epochs\n",
    "    verbose=1,  # Verbosity mode\n",
    "    class_weight=class_weights_dict_manual,  # Adjust class imbalance using class weights\n",
    "    validation_data=test_dataset,  # Validation data\n",
    "    callbacks=[early_stopping, model_checkpoint]  # Early stopping and model checkpoint callbacks\n",
    ")\n"
   ]
  },
  {
   "cell_type": "markdown",
   "metadata": {},
   "source": [
    "## Saving and Reloading the Trained Model\n",
    "\n",
    "In this step, we save the trained VGG16 model to a file so that it can be easily reloaded in the future without the need to retrain. This is particularly useful when you want to use the model for inference or continue training at a later point.\n",
    "\n",
    "### Steps:\n",
    "1. **Save the Model**: Save the model, including its architecture, weights, and training configuration, using the `.h5` format.\n",
    "2. **Reload the Model (Optional)**: If you want to load the saved model directly instead of training it from scratch, use the `load_model()` function."
   ]
  },
  {
   "cell_type": "code",
   "execution_count": null,
   "metadata": {},
   "outputs": [],
   "source": [
    "# Saving and Reloading the Trained Model\n",
    "\n",
    "# Save the trained model to an H5 file\n",
    "# This allows you to store the model's architecture, weights, and optimizer state in a single file\n",
    "model_cnn.save(\"CNN.h5\")\n",
    "print(\"Model saved successfully.\")\n",
    "\n",
    "# OPTIONAL: Uncomment the following line to load the trained model without retraining\n",
    "# This is useful for resuming training or for making predictions without retraining from scratch\n",
    "#model_cnn = load_model(\"CNN.h5\")\n",
    "#print(\"Model loaded successfully.\")"
   ]
  },
  {
   "cell_type": "markdown",
   "metadata": {},
   "source": [
    "## Saving Training History as CSV\n",
    "\n",
    "One convenient way to save the training history is by storing it in a CSV file."
   ]
  },
  {
   "cell_type": "code",
   "execution_count": null,
   "metadata": {},
   "outputs": [],
   "source": [
    "# Get the training history dictionary from the returned history object\n",
    "history_dict = training_history_cnn.history\n",
    "\n",
    "# Convert the dictionary to a DataFrame\n",
    "history_df = pd.DataFrame(history_dict)\n",
    "\n",
    "# Add the Epoch column (starting from 1 to the total number of epochs)\n",
    "history_df.insert(0, 'Epoch', range(1, len(history_df) + 1))\n",
    "\n",
    "# Save the DataFrame to a CSV file\n",
    "csv_file_path = 'CNN_training_history.csv'\n",
    "history_df.to_csv(csv_file_path, index=False)"
   ]
  },
  {
   "cell_type": "markdown",
   "metadata": {},
   "source": [
    "## Plotting Training and Validation Accuracy Curves\n",
    "\n",
    "In this step, we visualize the **training** and **validation accuracy** over the course of training. This helps in understanding how well the model is learning and whether it is overfitting or underfitting:\n",
    "- **Training Accuracy**: Measures how well the model is fitting to the training data.\n",
    "- **Validation Accuracy**: Measures the model's performance on unseen validation data, which helps in understanding its generalization ability.\n",
    "\n",
    "If training accuracy keeps improving while validation accuracy plateaus or declines, it may indicate **overfitting**."
   ]
  },
  {
   "cell_type": "code",
   "execution_count": 117,
   "metadata": {},
   "outputs": [
    {
     "data": {
      "image/png": "[encoded data removed]",
      "text/plain": [
       "<Figure size 1000x600 with 1 Axes>"
      ]
     },
     "metadata": {},
     "output_type": "display_data"
    }
   ],
   "source": [
    "# Extract training and validation accuracy from the training history\n",
    "train_acc_cnn = training_history_cnn.history['accuracy']\n",
    "val_acc_cnn = training_history_cnn.history['val_accuracy']\n",
    "\n",
    "# Plot training and validation accuracy\n",
    "plt.figure(figsize=(10, 6))  # Set the figure size for better visualization\n",
    "plt.plot(train_acc_cnn, label='Training Accuracy', color='blue', linewidth=2)  # Training accuracy in blue\n",
    "plt.plot(val_acc_cnn, label='Validation Accuracy', color='orange', linestyle='--', linewidth=2)  # Validation accuracy in dashed orange\n",
    "\n",
    "# Add axis labels and title\n",
    "plt.xlabel('Epochs', fontsize=12)\n",
    "plt.ylabel('Accuracy', fontsize=12)\n",
    "plt.title('Training vs Validation Accuracy Over Epochs', fontsize=14, fontweight='bold')\n",
    "\n",
    "# Add legend to differentiate between training and validation curves\n",
    "plt.legend(loc='best')\n",
    "\n",
    "# Add grid for better readability\n",
    "plt.grid(True, linestyle='--', alpha=0.7)\n",
    "\n",
    "# Show the plot\n",
    "plt.show()\n"
   ]
  },
  {
   "cell_type": "markdown",
   "metadata": {},
   "source": [
    "## Step 16: Evaluating Model Performance with Classification Report\n",
    "\n",
    "In this step, we evaluate the **performance of the trained CNN model** on the test set. We use the **classification report** from scikit-learn to compute the following metrics:\n",
    "- **Precision**: Measures how many of the predicted positive instances are actually positive.\n",
    "- **Recall**: Measures how many of the actual positive instances are correctly predicted.\n",
    "- **F1-Score**: The harmonic mean of precision and recall, providing a single measure of model quality.\n",
    "\n",
    "These metrics provide an overall assessment of how well the model is generalizing to new, unseen data."
   ]
  },
  {
   "cell_type": "code",
   "execution_count": 118,
   "metadata": {},
   "outputs": [
    {
     "name": "stdout",
     "output_type": "stream",
     "text": [
      "17/17 [==============================] - 0s 4ms/step\n",
      "Classification Report Summary:\n",
      "Mean Precision: 0.84\n",
      "Mean Recall: 0.83\n",
      "Mean F1-Score: 0.83\n"
     ]
    }
   ],
   "source": [
    "# Step 16: Predicting on the Test Set and Evaluating Performance\n",
    "# Get model predictions for the test set\n",
    "test_pred = model_cnn.predict(X_test)\n",
    "\n",
    "# Convert predicted probabilities to class labels\n",
    "test_pred_class = test_pred.argmax(axis=1)\n",
    "y_test_class = y_test.argmax(axis=1)\n",
    "\n",
    "# Generate the classification report as a dictionary\n",
    "report = metrics.classification_report(y_test_class, test_pred_class, output_dict=True)\n",
    "\n",
    "# Extract mean values for weighted average metrics\n",
    "mean_precision = report['weighted avg']['precision']\n",
    "mean_recall = report['weighted avg']['recall']\n",
    "mean_f1_score = report['weighted avg']['f1-score']\n",
    "\n",
    "# Print the extracted metrics in a well-formatted manner\n",
    "print(\"Classification Report Summary:\")\n",
    "print(f\"Mean Precision: {mean_precision:.2f}\")\n",
    "print(f\"Mean Recall: {mean_recall:.2f}\")\n",
    "print(f\"Mean F1-Score: {mean_f1_score:.2f}\")\n"
   ]
  },
  {
   "cell_type": "markdown",
   "metadata": {},
   "source": [
    "## Save Predicted Data"
   ]
  },
  {
   "cell_type": "code",
   "execution_count": null,
   "metadata": {},
   "outputs": [],
   "source": [
    "# Flatten X_test if it is a 3D image data (height, width, channel) for saving as CSV\n",
    "X_test_flattened = X_test.reshape(len(X_test), -1)\n",
    "\n",
    "\n",
    "# Create DataFrame and save\n",
    "df_X_test = pd.DataFrame(X_test_flattened)\n",
    "df_y_test = pd.DataFrame(y_test_class, columns=['label'])\n",
    "\n",
    "# Save as CSV\n",
    "df_X_test.to_csv('CNN_X_test.csv', index=False)\n",
    "df_y_test.to_csv('CNN_y_test.csv', index=False)\n",
    "'''\n",
    "# Load X_test and y_test from CSV files\n",
    "df_X_test = pd.read_csv('CNN_X_test.csv')\n",
    "df_y_test = pd.read_csv('CNN_y_test.csv')\n",
    "\n",
    "# Convert back to NumPy arrays if needed\n",
    "X_test = df_X_test.values.reshape(-1, 28, 28, 1)  # Adjust shape as necessary\n",
    "y_test_class = df_y_test['label'].values\n",
    "'''"
   ]
  },
  {
   "cell_type": "markdown",
   "metadata": {},
   "source": [
    "## Visualizing the Confusion Matrix with Seaborn\n",
    "\n",
    "To better understand the classification results, we visualize the confusion matrix using Seaborn's heatmap. The confusion matrix shows how well the model performed for each class by displaying the counts of true vs. predicted labels.\n",
    "\n",
    "Using Seaborn, we can:\n",
    "- **Visualize Counts with Color Gradient**: The intensity of the color in each cell helps us quickly see where the model is performing well and where it may need improvement.\n",
    "- **Display Annotations**: Each cell displays the exact count, making it easier to interpret the results.\n",
    "\n",
    "The confusion matrix allows us to identify specific classes that the model finds challenging to distinguish."
   ]
  },
  {
   "cell_type": "code",
   "execution_count": 119,
   "metadata": {},
   "outputs": [
    {
     "data": {
      "image/png": "[encoded data removed]",
      "text/plain": [
       "<Figure size 1200x1000 with 2 Axes>"
      ]
     },
     "metadata": {},
     "output_type": "display_data"
    }
   ],
   "source": [
    "# Visualizing the Confusion Matrix with Original Transcriptions\n",
    "\n",
    "# Generate the confusion matrix\n",
    "cnf_matrix = metrics.confusion_matrix(y_test_class, test_pred_class)\n",
    "\n",
    "# Retrieve the original transcriptions for the labels using the LabelEncoder\n",
    "original_labels = le.classes_\n",
    "\n",
    "# Plot the confusion matrix using Seaborn heatmap with original transcription labels\n",
    "plt.figure(figsize=(12, 10))  # Set the figure size for better readability\n",
    "sns.heatmap(cnf_matrix, annot=True, fmt='d', cmap='Blues', \n",
    "            xticklabels=original_labels, yticklabels=original_labels)  # Use original labels for better interpretability\n",
    "\n",
    "# Add labels, title, and layout adjustments\n",
    "plt.xlabel('Predicted Labels', fontsize=12)  # Label for x-axis\n",
    "plt.ylabel('True Labels', fontsize=12)  # Label for y-axis\n",
    "plt.title('Confusion Matrix with Original Transcriptions', fontsize=14)  # Add a title\n",
    "plt.xticks(rotation=45, ha='right')  # Rotate x-axis labels for better readability\n",
    "plt.tight_layout()  # Ensure all elements are visible without overlap\n",
    "\n",
    "# Show the plot\n",
    "plt.show()\n"
   ]
  },
  {
   "cell_type": "markdown",
   "metadata": {},
   "source": [
    "## Visualization of Misclassified Images\n",
    "\n",
    "To gain insights into model performance, we visualize some of the misclassified images from the test dataset. This enhanced visualization allows us to:\n",
    "- **Understand Model Errors**: Identify common errors and which transcriptions the model tends to misclassify.\n",
    "- **Evaluate Confidence**: See how confident the model was when it made incorrect predictions.\n",
    "\n",
    "### Visualization Elements:\n",
    "1. **True vs. Predicted Transcription**: For each misclassified image, we display the true and predicted labels.\n",
    "2. **Confidence Score**: The confidence level of the incorrect prediction is displayed, helping us understand if the model was overconfident about the wrong answer."
   ]
  },
  {
   "cell_type": "code",
   "execution_count": 120,
   "metadata": {},
   "outputs": [
    {
     "data": {
      "image/png": "[encoded data removed]",
      "text/plain": [
       "<Figure size 1500x1000 with 6 Axes>"
      ]
     },
     "metadata": {},
     "output_type": "display_data"
    }
   ],
   "source": [
    "# Enhanced Visualization of Misclassified Images\n",
    "\n",
    "# Create a mapping from class indices to original transcriptions\n",
    "class_mapping = {index: transcription for index, transcription in enumerate(pd.Series(Y).unique())}\n",
    "\n",
    "# Identify indexes where the model made incorrect predictions\n",
    "error_indexes = [i for i in range(len(test_pred)) if test_pred_class[i] != y_test_class[i]]\n",
    "\n",
    "# Check if there are any misclassifications\n",
    "if len(error_indexes) > 0:\n",
    "    # Determine the number of misclassified images to display (up to 6)\n",
    "    num_images = min(6, len(error_indexes))\n",
    "    \n",
    "    # Set up the plot for displaying misclassified images in a grid layout\n",
    "    plt.figure(figsize=(15, 10))  # Set figure size for better visibility\n",
    "    grid_cols = 3  # Number of columns in the grid\n",
    "    grid_rows = (num_images + grid_cols - 1) // grid_cols  # Number of rows in the grid\n",
    "\n",
    "    for j, i in enumerate(np.random.choice(error_indexes, size=num_images, replace=False)):\n",
    "        img = X_test[i]  # Extract the misclassified image\n",
    "\n",
    "        # Create subplot to display the image in the grid layout\n",
    "        plt.subplot(grid_rows, grid_cols, j + 1)\n",
    "        plt.axis('off')  # Hide axes for better visualization\n",
    "        plt.imshow(img, cmap=cm.binary)  # Display the image in grayscale\n",
    "\n",
    "        # Get the true and predicted transcriptions for the misclassified image\n",
    "        true_transcription = df_filtered.loc[df_filtered['transcription_encoded'] == Y_test[i], 'transcription'].iloc[0]\n",
    "        predicted_transcription = df_filtered.loc[df_filtered['transcription_encoded'] == test_pred_class[i], 'transcription'].iloc[0]\n",
    "        confidence = str(round(test_pred[i][test_pred_class[i]], 2))  # Get the confidence score for the predicted class\n",
    "\n",
    "        # Add a title to each subplot with True label, Predicted label, and Confidence score\n",
    "        plt.title(f'True: {true_transcription}\\nPred: {predicted_transcription}\\nConf: {confidence}',\n",
    "                  fontsize=20, color='darkred')  # Use red color to highlight misclassification\n",
    "    \n",
    "    # Adjust layout to make sure everything is clearly visible\n",
    "    plt.subplots_adjust(hspace=0.5, wspace=0.5)  # Add spacing between images to avoid overlap\n",
    "    plt.suptitle('Misclassified Images - True vs Predicted Labels', fontsize=20, color='black', weight='bold')  # Add a title to the whole plot\n",
    "    plt.tight_layout(rect=[0, 0, 1, 0.95])  # Adjust layout to avoid overlap with the super title\n",
    "    plt.show()\n",
    "else:\n",
    "    print(\"No errors in predictions.\")  # Print if no errors in predictions\n"
   ]
  },
  {
   "cell_type": "markdown",
   "metadata": {},
   "source": [
    "## Predicting on Custom Handwritten Images\n",
    "\n",
    "In this step, we use the trained model to predict handwritten images from a custom folder (`my_handwriting`). We loop through each image, preprocess it, and use the model to predict the transcription.\n",
    "\n",
    "### Steps:\n",
    "1. **Load Images from Folder**: Load each image from the specified folder containing custom handwritten images.\n",
    "2. **Preprocess Images**: Resize and prepare each image for input to the model.\n",
    "3. **Model Prediction**: Predict the transcription for each image and calculate the confidence of the prediction.\n",
    "4. **Store Results**: Store the true label, predicted label, and confidence for each image in a DataFrame for easy visualization.\n",
    "\n",
    "This helps evaluate how well the model performs on new, unseen handwritten images."
   ]
  },
  {
   "cell_type": "code",
   "execution_count": 122,
   "metadata": {},
   "outputs": [
    {
     "name": "stdout",
     "output_type": "stream",
     "text": [
      "1/1 [==============================] - 0s 114ms/step\n",
      "1/1 [==============================] - 0s 120ms/step\n",
      "1/1 [==============================] - 0s 118ms/step\n",
      "1/1 [==============================] - 0s 108ms/step\n",
      "1/1 [==============================] - 0s 63ms/step\n",
      "1/1 [==============================] - 0s 55ms/step\n",
      "1/1 [==============================] - 0s 51ms/step\n",
      "1/1 [==============================] - 0s 52ms/step\n",
      "1/1 [==============================] - 0s 67ms/step\n",
      "1/1 [==============================] - 0s 70ms/step\n",
      "1/1 [==============================] - 0s 57ms/step\n",
      "1/1 [==============================] - 0s 68ms/step\n",
      "1/1 [==============================] - 0s 63ms/step\n",
      "1/1 [==============================] - 0s 73ms/step\n",
      "1/1 [==============================] - 0s 57ms/step\n",
      "1/1 [==============================] - 0s 58ms/step\n",
      "1/1 [==============================] - 0s 71ms/step\n",
      "1/1 [==============================] - 0s 57ms/step\n",
      "1/1 [==============================] - 0s 55ms/step\n",
      "1/1 [==============================] - 0s 55ms/step\n",
      "         Image True Label Predicted Label  Confidence (%)\n",
      "0        A.jpg          A             man           28.52\n",
      "1      And.jpg        And             man           13.89\n",
      "2      But.jpg        But             man           30.51\n",
      "3    could.jpg      could             man           38.67\n",
      "4    first.jpg      first           first           45.61\n",
      "5       In.jpg         In             But           25.99\n",
      "6     like.jpg       like            like           26.17\n",
      "7     made.jpg       made            made           18.68\n",
      "8      man.jpg        man             man           80.55\n",
      "9      may.jpg        may             may           84.83\n",
      "10    much.jpg       much            much           14.69\n",
      "11     new.jpg        new            made           18.65\n",
      "12  people.jpg     people          people           57.52\n",
      "13    This.jpg       This             man           28.16\n",
      "14    time.jpg       time            time           31.67\n",
      "15    told.jpg       told             man           54.87\n",
      "16     two.jpg        two            This           26.69\n",
      "17      We.jpg         We             new           23.70\n",
      "18    well.jpg       well           could           37.37\n",
      "19     you.jpg        you             But           19.85\n"
     ]
    }
   ],
   "source": [
    "\n",
    "# Folder with handwritten images\n",
    "folder_path = '../../my_handwriting' # adjust the path to your own hand written words here\n",
    "results = []\n",
    "\n",
    "# Loop through each image in the folder\n",
    "for img_name in os.listdir(folder_path):\n",
    "    img_path = os.path.join(folder_path, img_name)\n",
    "    \n",
    "    # Load and preprocess image to match the CNN input (grayscale, 28x28)\n",
    "    img = image.load_img(img_path, color_mode='grayscale', target_size=(28, 28))\n",
    "    img_array = image.img_to_array(img)\n",
    "    img_array = img_array / 255.0  # Normalize if needed\n",
    "    img_array = np.expand_dims(img_array, axis=0)  # Add batch dimension\n",
    "    \n",
    "    # Predict\n",
    "    predictions = model_cnn.predict(img_array)\n",
    "    predicted_class = np.argmax(predictions)\n",
    "    confidence = round(np.max(predictions) * 100, 2)  # Confidence as percentage\n",
    "    \n",
    "    # Get predicted and true labels\n",
    "    predicted_label = le.inverse_transform([predicted_class])[0]\n",
    "    true_label = img_name.split('.')[0]  # Assuming filename is the word\n",
    "    \n",
    "    # Append result to list\n",
    "    results.append({\n",
    "        'Image': img_name,\n",
    "        'True Label': true_label,\n",
    "        'Predicted Label': predicted_label,\n",
    "        'Confidence (%)': confidence\n",
    "    })\n",
    "\n",
    "# Convert results to DataFrame\n",
    "results_df = pd.DataFrame(results)\n",
    "print(results_df)\n"
   ]
  },
  {
   "cell_type": "markdown",
   "metadata": {},
   "source": [
    "## Visualizing Prediction Confidence for Each Handwritten Image\n",
    "\n",
    "To gain further insights into the model's predictions, we plot the confidence level for each handwritten image from the custom dataset. This visualization helps in:\n",
    "\n",
    "1. **Understanding Model Confidence**: See how confident the model was in its predictions for each image.\n",
    "2. **Identifying Correct vs. Incorrect Predictions**: Correct predictions are shown in green, while incorrect ones are shown in red, making it easy to visually distinguish the two.\n",
    "\n",
    "This can help identify images that the model was unsure of and may benefit from further improvements or retraining.\n"
   ]
  },
  {
   "cell_type": "code",
   "execution_count": 123,
   "metadata": {},
   "outputs": [
    {
     "data": {
      "application/vnd.plotly.v1+json": {
       "config": {
        "plotlyServerURL": "https://plot.ly"
       },
       "data": [
        {
         "hoverinfo": "text",
         "marker": {
          "color": [
           "green",
           "green",
           "green",
           "red",
           "green",
           "red",
           "red",
           "green",
           "red",
           "red",
           "red",
           "red",
           "green",
           "red",
           "red",
           "red",
           "green",
           "red",
           "green",
           "red"
          ]
         },
         "orientation": "h",
         "text": [
          "Pred: may",
          "Pred: man",
          "Pred: people",
          "Pred: man<br>True: told",
          "Pred: first",
          "Pred: man<br>True: could",
          "Pred: could<br>True: well",
          "Pred: time",
          "Pred: man<br>True: But",
          "Pred: man<br>True: A",
          "Pred: man<br>True: This",
          "Pred: This<br>True: two",
          "Pred: like",
          "Pred: But<br>True: In",
          "Pred: new<br>True: We",
          "Pred: But<br>True: you",
          "Pred: made",
          "Pred: made<br>True: new",
          "Pred: much",
          "Pred: man<br>True: And"
         ],
         "type": "bar",
         "x": [
          84.83,
          80.55,
          57.52,
          54.87,
          45.61,
          38.67,
          37.37,
          31.67,
          30.51,
          28.52,
          28.16,
          26.69,
          26.17,
          25.99,
          23.7,
          19.85,
          18.68,
          18.65,
          14.69,
          13.89
         ],
         "y": [
          "may.jpg",
          "man.jpg",
          "people.jpg",
          "told.jpg",
          "first.jpg",
          "could.jpg",
          "well.jpg",
          "time.jpg",
          "But.jpg",
          "A.jpg",
          "This.jpg",
          "two.jpg",
          "like.jpg",
          "In.jpg",
          "We.jpg",
          "you.jpg",
          "made.jpg",
          "new.jpg",
          "much.jpg",
          "And.jpg"
         ]
        }
       ],
       "layout": {
        "height": 800,
        "legend": {
         "x": 0.85,
         "y": 1.15
        },
        "template": {
         "data": {
          "bar": [
           {
            "error_x": {
             "color": "#2a3f5f"
            },
            "error_y": {
             "color": "#2a3f5f"
            },
            "marker": {
             "line": {
              "color": "white",
              "width": 0.5
             },
             "pattern": {
              "fillmode": "overlay",
              "size": 10,
              "solidity": 0.2
             }
            },
            "type": "bar"
           }
          ],
          "barpolar": [
           {
            "marker": {
             "line": {
              "color": "white",
              "width": 0.5
             },
             "pattern": {
              "fillmode": "overlay",
              "size": 10,
              "solidity": 0.2
             }
            },
            "type": "barpolar"
           }
          ],
          "carpet": [
           {
            "aaxis": {
             "endlinecolor": "#2a3f5f",
             "gridcolor": "#C8D4E3",
             "linecolor": "#C8D4E3",
             "minorgridcolor": "#C8D4E3",
             "startlinecolor": "#2a3f5f"
            },
            "baxis": {
             "endlinecolor": "#2a3f5f",
             "gridcolor": "#C8D4E3",
             "linecolor": "#C8D4E3",
             "minorgridcolor": "#C8D4E3",
             "startlinecolor": "#2a3f5f"
            },
            "type": "carpet"
           }
          ],
          "choropleth": [
           {
            "colorbar": {
             "outlinewidth": 0,
             "ticks": ""
            },
            "type": "choropleth"
           }
          ],
          "contour": [
           {
            "colorbar": {
             "outlinewidth": 0,
             "ticks": ""
            },
            "colorscale": [
             [
              0,
              "#0d0887"
             ],
             [
              0.1111111111111111,
              "#46039f"
             ],
             [
              0.2222222222222222,
              "#7201a8"
             ],
             [
              0.3333333333333333,
              "#9c179e"
             ],
             [
              0.4444444444444444,
              "#bd3786"
             ],
             [
              0.5555555555555556,
              "#d8576b"
             ],
             [
              0.6666666666666666,
              "#ed7953"
             ],
             [
              0.7777777777777778,
              "#fb9f3a"
             ],
             [
              0.8888888888888888,
              "#fdca26"
             ],
             [
              1,
              "#f0f921"
             ]
            ],
            "type": "contour"
           }
          ],
          "contourcarpet": [
           {
            "colorbar": {
             "outlinewidth": 0,
             "ticks": ""
            },
            "type": "contourcarpet"
           }
          ],
          "heatmap": [
           {
            "colorbar": {
             "outlinewidth": 0,
             "ticks": ""
            },
            "colorscale": [
             [
              0,
              "#0d0887"
             ],
             [
              0.1111111111111111,
              "#46039f"
             ],
             [
              0.2222222222222222,
              "#7201a8"
             ],
             [
              0.3333333333333333,
              "#9c179e"
             ],
             [
              0.4444444444444444,
              "#bd3786"
             ],
             [
              0.5555555555555556,
              "#d8576b"
             ],
             [
              0.6666666666666666,
              "#ed7953"
             ],
             [
              0.7777777777777778,
              "#fb9f3a"
             ],
             [
              0.8888888888888888,
              "#fdca26"
             ],
             [
              1,
              "#f0f921"
             ]
            ],
            "type": "heatmap"
           }
          ],
          "heatmapgl": [
           {
            "colorbar": {
             "outlinewidth": 0,
             "ticks": ""
            },
            "colorscale": [
             [
              0,
              "#0d0887"
             ],
             [
              0.1111111111111111,
              "#46039f"
             ],
             [
              0.2222222222222222,
              "#7201a8"
             ],
             [
              0.3333333333333333,
              "#9c179e"
             ],
             [
              0.4444444444444444,
              "#bd3786"
             ],
             [
              0.5555555555555556,
              "#d8576b"
             ],
             [
              0.6666666666666666,
              "#ed7953"
             ],
             [
              0.7777777777777778,
              "#fb9f3a"
             ],
             [
              0.8888888888888888,
              "#fdca26"
             ],
             [
              1,
              "#f0f921"
             ]
            ],
            "type": "heatmapgl"
           }
          ],
          "histogram": [
           {
            "marker": {
             "pattern": {
              "fillmode": "overlay",
              "size": 10,
              "solidity": 0.2
             }
            },
            "type": "histogram"
           }
          ],
          "histogram2d": [
           {
            "colorbar": {
             "outlinewidth": 0,
             "ticks": ""
            },
            "colorscale": [
             [
              0,
              "#0d0887"
             ],
             [
              0.1111111111111111,
              "#46039f"
             ],
             [
              0.2222222222222222,
              "#7201a8"
             ],
             [
              0.3333333333333333,
              "#9c179e"
             ],
             [
              0.4444444444444444,
              "#bd3786"
             ],
             [
              0.5555555555555556,
              "#d8576b"
             ],
             [
              0.6666666666666666,
              "#ed7953"
             ],
             [
              0.7777777777777778,
              "#fb9f3a"
             ],
             [
              0.8888888888888888,
              "#fdca26"
             ],
             [
              1,
              "#f0f921"
             ]
            ],
            "type": "histogram2d"
           }
          ],
          "histogram2dcontour": [
           {
            "colorbar": {
             "outlinewidth": 0,
             "ticks": ""
            },
            "colorscale": [
             [
              0,
              "#0d0887"
             ],
             [
              0.1111111111111111,
              "#46039f"
             ],
             [
              0.2222222222222222,
              "#7201a8"
             ],
             [
              0.3333333333333333,
              "#9c179e"
             ],
             [
              0.4444444444444444,
              "#bd3786"
             ],
             [
              0.5555555555555556,
              "#d8576b"
             ],
             [
              0.6666666666666666,
              "#ed7953"
             ],
             [
              0.7777777777777778,
              "#fb9f3a"
             ],
             [
              0.8888888888888888,
              "#fdca26"
             ],
             [
              1,
              "#f0f921"
             ]
            ],
            "type": "histogram2dcontour"
           }
          ],
          "mesh3d": [
           {
            "colorbar": {
             "outlinewidth": 0,
             "ticks": ""
            },
            "type": "mesh3d"
           }
          ],
          "parcoords": [
           {
            "line": {
             "colorbar": {
              "outlinewidth": 0,
              "ticks": ""
             }
            },
            "type": "parcoords"
           }
          ],
          "pie": [
           {
            "automargin": true,
            "type": "pie"
           }
          ],
          "scatter": [
           {
            "fillpattern": {
             "fillmode": "overlay",
             "size": 10,
             "solidity": 0.2
            },
            "type": "scatter"
           }
          ],
          "scatter3d": [
           {
            "line": {
             "colorbar": {
              "outlinewidth": 0,
              "ticks": ""
             }
            },
            "marker": {
             "colorbar": {
              "outlinewidth": 0,
              "ticks": ""
             }
            },
            "type": "scatter3d"
           }
          ],
          "scattercarpet": [
           {
            "marker": {
             "colorbar": {
              "outlinewidth": 0,
              "ticks": ""
             }
            },
            "type": "scattercarpet"
           }
          ],
          "scattergeo": [
           {
            "marker": {
             "colorbar": {
              "outlinewidth": 0,
              "ticks": ""
             }
            },
            "type": "scattergeo"
           }
          ],
          "scattergl": [
           {
            "marker": {
             "colorbar": {
              "outlinewidth": 0,
              "ticks": ""
             }
            },
            "type": "scattergl"
           }
          ],
          "scattermapbox": [
           {
            "marker": {
             "colorbar": {
              "outlinewidth": 0,
              "ticks": ""
             }
            },
            "type": "scattermapbox"
           }
          ],
          "scatterpolar": [
           {
            "marker": {
             "colorbar": {
              "outlinewidth": 0,
              "ticks": ""
             }
            },
            "type": "scatterpolar"
           }
          ],
          "scatterpolargl": [
           {
            "marker": {
             "colorbar": {
              "outlinewidth": 0,
              "ticks": ""
             }
            },
            "type": "scatterpolargl"
           }
          ],
          "scatterternary": [
           {
            "marker": {
             "colorbar": {
              "outlinewidth": 0,
              "ticks": ""
             }
            },
            "type": "scatterternary"
           }
          ],
          "surface": [
           {
            "colorbar": {
             "outlinewidth": 0,
             "ticks": ""
            },
            "colorscale": [
             [
              0,
              "#0d0887"
             ],
             [
              0.1111111111111111,
              "#46039f"
             ],
             [
              0.2222222222222222,
              "#7201a8"
             ],
             [
              0.3333333333333333,
              "#9c179e"
             ],
             [
              0.4444444444444444,
              "#bd3786"
             ],
             [
              0.5555555555555556,
              "#d8576b"
             ],
             [
              0.6666666666666666,
              "#ed7953"
             ],
             [
              0.7777777777777778,
              "#fb9f3a"
             ],
             [
              0.8888888888888888,
              "#fdca26"
             ],
             [
              1,
              "#f0f921"
             ]
            ],
            "type": "surface"
           }
          ],
          "table": [
           {
            "cells": {
             "fill": {
              "color": "#EBF0F8"
             },
             "line": {
              "color": "white"
             }
            },
            "header": {
             "fill": {
              "color": "#C8D4E3"
             },
             "line": {
              "color": "white"
             }
            },
            "type": "table"
           }
          ]
         },
         "layout": {
          "annotationdefaults": {
           "arrowcolor": "#2a3f5f",
           "arrowhead": 0,
           "arrowwidth": 1
          },
          "autotypenumbers": "strict",
          "coloraxis": {
           "colorbar": {
            "outlinewidth": 0,
            "ticks": ""
           }
          },
          "colorscale": {
           "diverging": [
            [
             0,
             "#8e0152"
            ],
            [
             0.1,
             "#c51b7d"
            ],
            [
             0.2,
             "#de77ae"
            ],
            [
             0.3,
             "#f1b6da"
            ],
            [
             0.4,
             "#fde0ef"
            ],
            [
             0.5,
             "#f7f7f7"
            ],
            [
             0.6,
             "#e6f5d0"
            ],
            [
             0.7,
             "#b8e186"
            ],
            [
             0.8,
             "#7fbc41"
            ],
            [
             0.9,
             "#4d9221"
            ],
            [
             1,
             "#276419"
            ]
           ],
           "sequential": [
            [
             0,
             "#0d0887"
            ],
            [
             0.1111111111111111,
             "#46039f"
            ],
            [
             0.2222222222222222,
             "#7201a8"
            ],
            [
             0.3333333333333333,
             "#9c179e"
            ],
            [
             0.4444444444444444,
             "#bd3786"
            ],
            [
             0.5555555555555556,
             "#d8576b"
            ],
            [
             0.6666666666666666,
             "#ed7953"
            ],
            [
             0.7777777777777778,
             "#fb9f3a"
            ],
            [
             0.8888888888888888,
             "#fdca26"
            ],
            [
             1,
             "#f0f921"
            ]
           ],
           "sequentialminus": [
            [
             0,
             "#0d0887"
            ],
            [
             0.1111111111111111,
             "#46039f"
            ],
            [
             0.2222222222222222,
             "#7201a8"
            ],
            [
             0.3333333333333333,
             "#9c179e"
            ],
            [
             0.4444444444444444,
             "#bd3786"
            ],
            [
             0.5555555555555556,
             "#d8576b"
            ],
            [
             0.6666666666666666,
             "#ed7953"
            ],
            [
             0.7777777777777778,
             "#fb9f3a"
            ],
            [
             0.8888888888888888,
             "#fdca26"
            ],
            [
             1,
             "#f0f921"
            ]
           ]
          },
          "colorway": [
           "#636efa",
           "#EF553B",
           "#00cc96",
           "#ab63fa",
           "#FFA15A",
           "#19d3f3",
           "#FF6692",
           "#B6E880",
           "#FF97FF",
           "#FECB52"
          ],
          "font": {
           "color": "#2a3f5f"
          },
          "geo": {
           "bgcolor": "white",
           "lakecolor": "white",
           "landcolor": "white",
           "showlakes": true,
           "showland": true,
           "subunitcolor": "#C8D4E3"
          },
          "hoverlabel": {
           "align": "left"
          },
          "hovermode": "closest",
          "mapbox": {
           "style": "light"
          },
          "paper_bgcolor": "white",
          "plot_bgcolor": "white",
          "polar": {
           "angularaxis": {
            "gridcolor": "#EBF0F8",
            "linecolor": "#EBF0F8",
            "ticks": ""
           },
           "bgcolor": "white",
           "radialaxis": {
            "gridcolor": "#EBF0F8",
            "linecolor": "#EBF0F8",
            "ticks": ""
           }
          },
          "scene": {
           "xaxis": {
            "backgroundcolor": "white",
            "gridcolor": "#DFE8F3",
            "gridwidth": 2,
            "linecolor": "#EBF0F8",
            "showbackground": true,
            "ticks": "",
            "zerolinecolor": "#EBF0F8"
           },
           "yaxis": {
            "backgroundcolor": "white",
            "gridcolor": "#DFE8F3",
            "gridwidth": 2,
            "linecolor": "#EBF0F8",
            "showbackground": true,
            "ticks": "",
            "zerolinecolor": "#EBF0F8"
           },
           "zaxis": {
            "backgroundcolor": "white",
            "gridcolor": "#DFE8F3",
            "gridwidth": 2,
            "linecolor": "#EBF0F8",
            "showbackground": true,
            "ticks": "",
            "zerolinecolor": "#EBF0F8"
           }
          },
          "shapedefaults": {
           "line": {
            "color": "#2a3f5f"
           }
          },
          "ternary": {
           "aaxis": {
            "gridcolor": "#DFE8F3",
            "linecolor": "#A2B1C6",
            "ticks": ""
           },
           "baxis": {
            "gridcolor": "#DFE8F3",
            "linecolor": "#A2B1C6",
            "ticks": ""
           },
           "bgcolor": "white",
           "caxis": {
            "gridcolor": "#DFE8F3",
            "linecolor": "#A2B1C6",
            "ticks": ""
           }
          },
          "title": {
           "x": 0.05
          },
          "xaxis": {
           "automargin": true,
           "gridcolor": "#EBF0F8",
           "linecolor": "#EBF0F8",
           "ticks": "",
           "title": {
            "standoff": 15
           },
           "zerolinecolor": "#EBF0F8",
           "zerolinewidth": 2
          },
          "yaxis": {
           "automargin": true,
           "gridcolor": "#EBF0F8",
           "linecolor": "#EBF0F8",
           "ticks": "",
           "title": {
            "standoff": 15
           },
           "zerolinecolor": "#EBF0F8",
           "zerolinewidth": 2
          }
         }
        },
        "title": {
         "text": "Prediction Confidence for Each Image"
        },
        "width": 1000,
        "xaxis": {
         "title": {
          "text": "Confidence (%)"
         }
        },
        "yaxis": {
         "autorange": "reversed",
         "title": {
          "text": "Image"
         }
        }
       }
      }
     },
     "metadata": {},
     "output_type": "display_data"
    }
   ],
   "source": [
    "# Assuming results_df is already defined and contains prediction results\n",
    "\n",
    "# Sort results by confidence for better visualization\n",
    "results_df = results_df.sort_values(by=\"Confidence (%)\", ascending=False)\n",
    "\n",
    "# Determine colors for each bar based on whether the prediction was correct\n",
    "colors = ['green' if row['True Label'] == row['Predicted Label'] else 'red' for index, row in results_df.iterrows()]\n",
    "\n",
    "# Create a Plotly figure for better interactive visualization\n",
    "fig = go.Figure()\n",
    "\n",
    "# Add horizontal bar chart with color-coding based on prediction correctness\n",
    "fig.add_trace(go.Bar(\n",
    "    y=results_df['Image'],\n",
    "    x=results_df['Confidence (%)'],\n",
    "    orientation='h',\n",
    "    marker=dict(color=colors),\n",
    "    text=[\n",
    "        f\"Pred: {row['Predicted Label']}<br>True: {row['True Label']}\"\n",
    "        if row['True Label'] != row['Predicted Label']\n",
    "        else f\"Pred: {row['Predicted Label']}\"\n",
    "        for _, row in results_df.iterrows()\n",
    "    ],\n",
    "    hoverinfo='text'\n",
    "))\n",
    "\n",
    "# Update layout for better visibility\n",
    "fig.update_layout(\n",
    "    title=\"Prediction Confidence for Each Image\",\n",
    "    xaxis_title=\"Confidence (%)\",\n",
    "    yaxis_title=\"Image\",\n",
    "    yaxis=dict(autorange=\"reversed\"),  # Invert y-axis (highest confidence at the top)\n",
    "    height=800,  # Set figure height for better visibility\n",
    "    width=1000,\n",
    "    template='plotly_white',\n",
    "    legend=dict(x=0.85, y=1.15),\n",
    ")\n",
    "\n",
    "# Display the figure\n",
    "fig.show()\n"
   ]
  },
  {
   "cell_type": "code",
   "execution_count": null,
   "metadata": {},
   "outputs": [],
   "source": []
  }
 ],
 "metadata": {
  "kernelspec": {
   "display_name": "Python 3",
   "language": "python",
   "name": "python3"
  },
  "language_info": {
   "codemirror_mode": {
    "name": "ipython",
    "version": 3
   },
   "file_extension": ".py",
   "mimetype": "text/x-python",
   "name": "python",
   "nbconvert_exporter": "python",
   "pygments_lexer": "ipython3",
   "version": "3.11.9"
  }
 },
 "nbformat": 4,
 "nbformat_minor": 2
}
